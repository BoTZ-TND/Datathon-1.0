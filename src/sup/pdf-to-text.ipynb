{
 "cells": [
  {
   "cell_type": "markdown",
   "metadata": {
    "collapsed": true,
    "pycharm": {
     "name": "#%% md\n"
    }
   },
   "source": [
    "Extract data from the .pdf file"
   ]
  },
  {
   "cell_type": "code",
   "execution_count": 1,
   "outputs": [
    {
     "name": "stdout",
     "output_type": "stream",
     "text": [
      "\" \\n\\n \\n\\n \\n\\n \\n\\n \\n \\n1000\\n \\n \\n\\n \\n\\n500\\n\\nEpidemiology Unit \\nMinistry of Health  \\n231, De Saram Place, Colombo 10, Sri Lanka \\nTele: (+94 11) 2695112, 2681548, 4740490, 4740491, 4740492  Fax: (+94 11) 2696583  E-mail: chepid@sltnet.lk, epidunit@sltnet.lk Web: www.epid.gov.lk  \\n\\nCoronavirus disease 2019 (COVID-19) - Situation Report – 30.10.2020 – 10 a.m. \\n\\nAn outbreak of pneumonia of unknown reason was first reported on \\n31st December 2019 from Wuhan City in Hubei Province of China. On \\n7th  Jan  2020,  it  was  diagnosed  as  “Novel  Corona  Virus”.  On  30/01, \\nWHO has declared  it as a  Public Health Emergency of International \\nConcern (PHEIC). On 11/02/2020 the WHO  renamed the disease as \\nCOVID-19 and on 11/03/2020 declared as pandemic. The incubation \\nperiod is reported as 2-14 days. \\n\\n \\n\\n \\n\\n \\nHospital distribution of COVID 19 diagnosed patients \\n\\nInward Today 10am \\nForeign \\n4 \\n0 \\n5 \\n0 \\n0 \\n\\nTotal \\n172 \\n133 \\n138 \\n49 \\n89 \\n\\nSL \\n168 \\n133 \\n133 \\n49 \\n89 \\n\\nDischarged during last 24H \\nTotal  \\n18 \\n0 \\n3 \\n1 \\n0 \\n\\nForeign \\n0 \\n0 \\n0 \\n0 \\n0 \\n\\nSL \\n18 \\n0 \\n3 \\n1 \\n0 \\n\\nPatients identified in last 24H \\nTotal Confirmed \\nReturnees (+ close contacts) \\nfrom other countries  \\nKandakadu Rehab. Center detainees and their contacts \\n\\nSri Lankans \\nForeigners \\n\\nHospital samples (admitted with clinical signs/symptoms) \\nMinuwangoda/Peliyagoda cluster \\n\\n586 \\n 1 \\n 3 \\n 0 \\n\\n 0 \\n582 \\n\\nDetails of COVID 19 diagnosed patients – Last 24H \\n\\nNumber \\ninward as at \\nyesterday-10 \\nam \\n5044 \\n\\nCOVID 19 \\nPositive - \\nlast 24H \\n\\n586 \\n\\nDischarged \\nfrom the \\nhospital - last \\n24H \\n          140 \\n\\nNumber \\nof deaths - \\nlast 24H \\n \\n\\n0 \\n\\nNumber \\ninward as \\nat today-\\n10 am \\n5490** \\n\\n \\n \\n\\nLocal Situation  \\nTotal Number Confirmed \\nForeigners \\nImported Cases \\n(Returnees from other countries) \\nSri Lankans \\n\\nLocal Cases \\n \\n\\nNavy & their close contacts \\nKandakadu cluster & their close contacts \\nMinuwangoda/Peliyagoda cluster \\nOthers \\n\\nTotal Number Confirmed \\nTotal Number Recovered \\nTotal Number of Deaths \\n\\nConfirmed and hospitalized - today 10 am \\n \\nSuspected and hospitalized - today 10 am \\n\\n9791* \\n    100 \\n\\n1465 \\n\\n  950 \\n  651 \\n 6312 \\n   313 \\n\\n \\n\\n9791* \\n4282 \\n    19 \\n5490** \\n\\n \\n\\n444# \\n\\nNIID \\nBH Welikanda \\nIranawila Hospital \\nBH Minuwangoda \\nColombo East Base \\nHospital \\nTH Anuradhapura \\nDGH Hambanthota \\nDH Rambukkana \\nKamburugamuwa  \\nKathankudy hospital \\nNeville F’do hospital \\nBH Theldeniya  \\nBH Homagama \\nLaggala Pallegama  \\nBH Galgamuwa \\nDH Abanpola \\nDH Lunawa \\nDH Ingiriya \\nDH Kosgama \\nDH Dankotuwa \\nDH Divulapitiya \\nDH Muruthankerny \\nDH Dompe \\nDH Pimbura \\nDH Karadiyanaru \\nDH Radawana \\nIchchilampattu \\nHospital \\nGallela treatment \\ncentre \\nDH Padiyathalawa \\nAmbilipitiya \\ntreatment centre \\nNHRD (Welisaa) \\nKahagolla treat. \\ncentre \\nKandakadu treatment \\ncentre \\nDH Palamune \\nDH Undugoda \\nRehabilitation centre \\nAmpara \\nPunani treatment \\ncentre \\nDH Bandaragama \\nBH Kahawatta \\nIn the process of \\nsending to hospitals \\nTotal \\n\\n69 \\n195 \\n77 \\n232 \\n144 \\n531 \\n114 \\n118 \\n109 \\n29 \\n49 \\n98 \\n39 \\n41 \\n41 \\n99 \\n50 \\n42 \\n61 \\n87 \\n51 \\n92 \\n\\n442 \\n\\n68 \\n171 \\n\\n32 \\n179 \\n\\n342 \\n\\n75 \\n62 \\n93 \\n\\n625 \\n\\n28 \\n61 \\n360 \\n\\n0 \\n3 \\n0 \\n0 \\n0 \\n0 \\n0 \\n0 \\n0 \\n0 \\n0 \\n0 \\n0 \\n0 \\n0 \\n0 \\n0 \\n0 \\n0 \\n0 \\n0 \\n0 \\n\\n0 \\n\\n0 \\n0 \\n\\n0 \\n0 \\n\\n0 \\n\\n0 \\n0 \\n0 \\n\\n0 \\n\\n0 \\n0 \\n0 \\n\\n69 \\n198 \\n77 \\n232 \\n144 \\n531 \\n114 \\n118 \\n109 \\n29 \\n49 \\n98 \\n39 \\n41 \\n41 \\n99 \\n50 \\n42 \\n61 \\n87 \\n51 \\n92 \\n\\n442 \\n\\n68 \\n171 \\n\\n32 \\n179 \\n\\n342 \\n\\n75 \\n62 \\n93 \\n\\n625 \\n\\n28 \\n61 \\n360 \\n\\n0 \\n0 \\n3 \\n0 \\n19 \\n78 \\n8 \\n0 \\n0 \\n3 \\n0 \\n0 \\n0 \\n4 \\n3 \\n0 \\n0 \\n0 \\n0 \\n0 \\n0 \\n0 \\n\\n0 \\n\\n0 \\n0 \\n\\n0 \\n0 \\n\\n0 \\n\\n0 \\n0 \\n0 \\n\\n0 \\n\\n0 \\n0 \\n0 \\n\\n0 \\n0 \\n3 \\n0 \\n19 \\n78 \\n8 \\n0 \\n0 \\n3 \\n0 \\n0 \\n0 \\n4 \\n3 \\n0 \\n0 \\n0 \\n0 \\n0 \\n0 \\n0 \\n\\n0 \\n\\n0 \\n0 \\n\\n0 \\n0 \\n\\n0 \\n\\n0 \\n0 \\n0 \\n\\n0 \\n\\n0 \\n0 \\n0 \\n\\n0 \\n0 \\n0 \\n0 \\n0 \\n0 \\n0 \\n0 \\n0 \\n0 \\n0 \\n0 \\n0 \\n0 \\n0 \\n0 \\n0 \\n0 \\n0 \\n0 \\n0 \\n0 \\n\\n0 \\n\\n0 \\n0 \\n\\n0 \\n0 \\n\\n0 \\n\\n0 \\n0 \\n0 \\n\\n0 \\n\\n0 \\n0 \\n0 \\n\\n0 \\n\\n5478 \\n\\n12 \\n\\n5490** \\n\\n140 \\n\\n140 \\n\\nEpigraph of COVID-19 cases\\n(based on symptomatic or asymptomatic at the time of sample collection)\\n\\nAsymptomatic\\n\\nSymptomatic\\n\\n0\\n\\n4\\n1\\n\\n1\\n1\\n\\n2\\n1\\n\\n0\\n6691\\n\\n0\\n122581\\nr\\na\\nM\\n-\\n1\\n1\\n\\nr\\na\\nM\\n-\\n8\\n1\\n\\n5\\n81\\n\\n6\\n4691\\n\\n5\\n31\\n8\\n213531 1 1 4321\\n4\\n9\\n6\\n5\\n1\\n3\\n44924\\n325271741711\\n61\\n1 11\\n2\\nr\\np\\nA\\n-\\n1\\n0\\n\\nr\\np\\nA\\n-\\n5\\n1\\n\\nr\\np\\nA\\n-\\n8\\n0\\n\\nr\\np\\nA\\n-\\n2\\n2\\n\\n7\\n2\\n\\nr\\na\\nM\\n-\\n5\\n2\\n\\n6\\n1\\n9\\n4\\n\\n08\\n6\\n0\\n1\\n5\\n3\\n\\n6\\n5\\n1\\n1\\n\\n3\\n7\\n1\\n1\\n\\n0\\n1511\\n5\\n4\\n2\\n2\\n1\\n1\\n1\\n\\n5\\n8\\n2\\n\\n143\\n5\\n4\\n6\\n2\\n2\\n1\\n\\n3\\n4\\n3\\n0\\n162581\\n61\\n1\\n1\\n\\n2\\n11\\n\\n3\\n2\\n671\\n431\\n\\n7\\n8\\n2\\n971\\n41\\n1\\n\\n0\\n7\\n11\\n01\\n\\n6\\n31\\n2\\n4\\n4\\n3\\n1\\n1\\n8\\n31\\n3\\n\\n5\\n7\\n01\\n1\\n61\\n3\\n71\\n\\n1\\n\\n2\\n2\\n\\n9\\n2\\n5\\n\\n6\\n0\\n0\\n3741\\n1\\n2\\n0\\n8\\n6\\n1\\n5\\n35\\n033\\n5\\n3\\n2\\n1\\n\\n1\\n\\n221\\n4\\n2\\n883331\\n\\n99\\n\\n81\\n\\n3\\n0\\n1\\n\\n34\\n81\\n1\\n\\nr\\np\\nA\\n-\\n9\\n2\\n\\ny\\na\\nM\\n-\\n6\\n0\\n\\ny\\na\\nM\\n-\\n3\\n1\\n\\ny\\na\\nM\\n-\\n0\\n2\\n\\ny\\na\\nM\\n-\\n7\\n2\\n\\nn\\nu\\nJ\\n-\\n3\\n0\\n\\nn\\nu\\nJ\\n-\\n0\\n1\\n\\n2\\n8\\n4\\n3\\n93001\\n1\\nn\\nu\\nJ\\n-\\n7\\n1\\n\\nn\\nu\\nJ\\n-\\n4\\n2\\n\\n2\\n1\\n\\nl\\n\\nu\\nJ\\n-\\n1\\n0\\n\\n7\\n47\\n8\\n6\\n2\\n4221 12 133\\n1\\n2\\n1\\n5\\n7\\n5\\n12\\n9\\n8\\n7\\n5\\n3\\n1\\n3\\n21\\n099411\\n5\\n4165 961\\n35301\\n97\\n1\\n1\\n1\\n2347\\n2\\n501\\n11\\n2\\n1\\n1\\n1\\n\\n9\\n75\\n5\\n7\\n0\\n0\\n191\\n3\\n13111 3 1 100121 1131103\\n2361\\n78\\n111022\\n46201\\n89350563\\n1261\\n3\\n2\\n\\n3\\n62\\n0\\n113554415563002148114425192\\n\\n3\\n0 1 22\\n\\n0 437201\\n\\n3\\n232131\\n\\n2\\n1\\n6661\\n4151\\n\\n3\\n1\\n\\n9\\n3\\n\\n9\\n2\\n\\n6\\n2\\n\\n4\\n1\\n\\n4\\n1\\n\\n1\\n1\\n\\n2\\n91\\n\\n1\\n41\\n\\n1\\n31\\n\\n6268\\n\\nl\\n\\nu\\nJ\\n-\\n8\\n0\\n\\nl\\n\\nu\\nJ\\n-\\n5\\n1\\n\\nl\\n\\nu\\nJ\\n-\\n2\\n2\\n\\nl\\n\\nu\\nJ\\n-\\n9\\n2\\n\\ng\\nu\\nA\\n-\\n5\\n0\\n\\ng\\nu\\nA\\n-\\n2\\n1\\n\\ng\\nu\\nA\\n-\\n9\\n1\\n\\ng\\nu\\nA\\n-\\n6\\n2\\n\\np\\ne\\nS\\n-\\n2\\n0\\n\\np\\ne\\nS\\n-\\n9\\n0\\n\\n2\\n8055241\\np\\ne\\nS\\n-\\n6\\n1\\n\\np\\ne\\nS\\n-\\n3\\n2\\n\\np\\ne\\nS\\n-\\n0\\n3\\n\\nt\\nc\\nO\\n-\\n7\\n0\\n\\nt\\nc\\nO\\n-\\n4\\n1\\n\\nt\\nc\\nO\\n-\\n1\\n2\\n\\nt\\nc\\nO\\n-\\n8\\n2\\n\\n6\\n6\\n8\\n\\n6\\n8\\n5\\n\\n1\\n4\\n5\\n\\n7\\n5\\n4\\n\\n8\\n6\\n3\\n\\n1\\n5\\n3\\n\\n9\\n0\\n3\\n\\n5\\n3\\n3\\n\\n9\\n1\\n5\\n\\n2\\n6\\n2\\n\\n7\\n0\\n2\\n\\n5\\n7\\n\\n4\\n9\\n21\\n9\\n\\n2\\n3\\n1\\n\\n4\\n2\\n1\\n\\n7\\n6\\n1\\n\\n1\\n2\\n1\\n\\n0\\n1\\n1\\n\\n0\\n1\\n1\\n\\n0\\n0\\n1\\n\\n6\\n2\\n1\\n\\n4\\n7\\n\\n5\\n0\\n51\\n3\\n\\n9\\n2\\n\\n \\n\\n4\\n8\\n2\\n\\n\\x0c \\n\\nNumber of COVID -19 suspected patients – 444# \\nToday 10am \\nTotal suspected up to \\nnow \\n\\nHospital \\n\\nSL \\n\\nForei. \\n\\nTotal \\n\\nSL \\n\\nForei.  Total \\n\\n \\n\\nDistrict Distribution of Confirmed Patients \\n\\nHEALTH DISTRICT \\n\\nCount \\n\\n160 \\n\\n38 \\n\\n35 \\n\\n34 \\n\\n20 \\n\\n16 \\n\\n11 \\n\\n13 \\n\\n7 \\n\\n6 \\n\\n4 \\n\\n4 \\n2 \\n\\n2 \\n\\n2 \\n\\n2 \\n\\n1 \\n\\n1 \\n\\n1 \\n\\n1 \\n0 \\n\\n0 \\n\\n0 \\n\\n0 \\n\\n0 \\n\\n0 \\n\\nCOLOMBO \\n\\nGAMPAHA  \\n\\nPUTTALAM \\n\\nKALUTARA \\n\\nANURADHAPURA \\n\\nKANDY \\n\\nKURUNEGALA \\nPOLONNARUWA \\n\\nJAFFNA  \\n\\nRATNAPURA \\n\\nKEGALLE \\nMONERAGALA \\n\\nKALMUNAI  \\nMATALE \\n\\nGALLE \\n\\nAMPARA  \\nBADULLA \\n\\nMATARA  \\n\\nBATTICOLOA \\nHAMBANTOTA \\nVAVUNIA \\nTRINCOMALEE \\n\\nNUWARAELIYA \\n\\nKILINOCHCHI \\n\\nMANNAR \\n\\nMULLATIVU \\n\\nDGH Negombo \\n\\n1465 \\n\\n15 \\n\\n1480 \\n\\n30 \\n\\nNIID \\nNHSL \\n\\nTH Ragama \\nTH Karapitiya \\nTH A'pura \\nTH Kurun. \\n\\nTH Jaffna \\nNH Kandy \\nTH Batti. \\nDGH Gampaha \\n\\nTH Rathn. \\nPGH Badulla \\nLRH \\nDMH \\nDGH Polon’wa \\n\\nTH Kalubowila \\n\\nCastle St TH \\n\\nBH Ham’thota \\n\\nBH Mona’gala \\n\\nBH Welikanda \\n\\nDGH Kaluthara \\n\\nChest H. Welisara \\nColombo East Base \\nHospital \\nG.H. Chilaw \\n\\nG.H. Matara \\n\\nKDU Hospital \\n\\nG.H. Vavunia \\n\\nB.H. Marawila \\n\\nS.J.Pura TH \\n\\nBH Theldeniya \\n\\nBH Tangalle \\n\\nTotal \\n\\n1120 \\n1467 \\n\\n1593 \\n521 \\n1365 \\n883 \\n\\n217 \\n248 \\n300 \\n560 \\n\\n468 \\n151 \\n 220 \\n550 \\n657 \\n\\n568 \\n\\n574 \\n\\n382 \\n\\n225 \\n\\n69 \\n\\n806 \\n\\n600 \\n70 \\n\\n3136 \\n\\n158 \\n\\n2009 \\n\\n201 \\n\\n237 \\n\\n3392 \\n\\n37 \\n\\n15 \\n\\n76 \\n16 \\n\\n5 \\n26 \\n2 \\n1 \\n\\n2 \\n6 \\n0 \\n4 \\n\\n0 \\n2 \\n0 \\n1 \\n6 \\n\\n5 \\n\\n0 \\n\\n2 \\n\\n0 \\n\\n1 \\n\\n2 \\n\\n2 \\n0 \\n\\n1 \\n\\n2 \\n\\n0 \\n\\n0 \\n\\n1 \\n\\n2 \\n\\n0 \\n\\n0 \\n\\n1184 \\n1481 \\n\\n1598 \\n547 \\n1367 \\n884 \\n\\n219 \\n254 \\n300 \\n564 \\n\\n468 \\n153 \\n220 \\n551 \\n663 \\n\\n573 \\n\\n574 \\n\\n384 \\n\\n225 \\n\\n70 \\n\\n808 \\n\\n602 \\n70 \\n\\n3137 \\n\\n160 \\n\\n2009 \\n\\n201 \\n\\n238 \\n\\n3394 \\n\\n37 \\n\\n15 \\n\\n16 \\n48 \\n\\n35 \\n12 \\n16 \\n12 \\n\\n5 \\n0 \\n4 \\n27 \\n\\n30 \\n\\n6 \\n6 \\n9 \\n11 \\n6 \\n\\n19 \\n\\n7 \\n\\n0 \\n\\n5 \\n\\n0 \\n\\n10 \\n\\n28 \\n30 \\n\\n24 \\n\\n0 \\n\\n2 \\n\\n1 \\n\\n3 \\n\\n58 \\n\\n12 \\n\\n2 \\n\\n444 \\n\\n0 \\n0 \\n\\n0 \\n0 \\n0 \\n0 \\n\\n0 \\n0 \\n0 \\n0 \\n\\n0 \\n\\n0 \\n0 \\n0 \\n0 \\n0 \\n\\n0 \\n\\n0 \\n\\n0 \\n\\n0 \\n\\n0 \\n\\n0 \\n\\n0 \\n0 \\n\\n0 \\n\\n0 \\n\\n0 \\n\\n0 \\n\\n0 \\n\\n0 \\n\\n0 \\n\\n0 \\n\\n0 \\n\\n16 \\n48 \\n\\n35 \\n12 \\n16 \\n12 \\n\\n5 \\n0 \\n4 \\n27 \\n\\n6 \\n6 \\n9 \\n11 \\n6 \\n\\n19 \\n\\n7 \\n\\n0 \\n\\n5 \\n\\n0 \\n\\n10 \\n\\n28 \\n30 \\n\\n24 \\n\\n0 \\n\\n   2 \\n\\n1 \\n\\n3 \\n\\n58 \\n\\n12 \\n\\n2 \\n\\n444# \\n\\nSource: Epidemiology Unit, Disease Surveillance System \\n\\nIncorrect to total as transfers \\ncounts in both the institutions \\n\\n \\n\\n \\nQUARANTINE CENTERS (Overseas Arrivals) \\n\\n000 \\n\\n      1420 \\n\\nQUARANTINE CENTERS (Local Communities) \\n\\nNAVY \\n\\nOTHER FORCES \\n\\nFOREIGNERS \\n\\nKandakadu Rehab. Center \\n\\nWelikada Prison \\n\\nMinuwangoda/Peliyagoda cluster \\n\\nTotal \\n\\n  78 \\n\\n906 \\n\\n   17 \\n\\n   100 \\n\\n 597 \\n\\n      1 \\n\\n6312 \\n    9791* \\n\\nNote:  District categorization has been done considering the past 7 days \\nof patient’s residence / QC by the time of diagnosis.  \\n\\n\\x0c\"\n"
     ]
    }
   ],
   "source": [
    "from pdfminer.high_level import extract_text\n",
    "text = extract_text('../../data/test.pdf')\n",
    "print(repr(text))"
   ],
   "metadata": {
    "collapsed": false,
    "pycharm": {
     "name": "#%%\n"
    }
   }
  },
  {
   "cell_type": "code",
   "execution_count": 14,
   "outputs": [
    {
     "name": "stdout",
     "output_type": "stream",
     "text": [
      "['1000', '500', 'Epidemiology Unit ', 'Ministry of Health  ', '231, De Saram Place, Colombo 10, Sri Lanka ', 'Tele: (+94 11) 2695112, 2681548, 4740490, 4740491, 4740492  Fax: (+94 11) 2696583  E-mail: chepid@sltnet.lk, epidunit@sltnet.lk Web: www.epid.gov.lk  ', 'Coronavirus disease 2019 (COVID-19) - Situation Report – 30.10.2020 – 10 a.m. ', 'An outbreak of pneumonia of unknown reason was first reported on ', '31st December 2019 from Wuhan City in Hubei Province of China. On ', '7th  Jan  2020,  it  was  diagnosed  as  “Novel  Corona  Virus”.  On  30/01, ', 'WHO has declared  it as a  Public Health Emergency of International ', 'Concern (PHEIC). On 11/02/2020 the WHO  renamed the disease as ', 'COVID-19 and on 11/03/2020 declared as pandemic. The incubation ', 'period is reported as 2-14 days. ', 'Hospital distribution of COVID 19 diagnosed patients ', 'Inward Today 10am ', 'Foreign ', '4 ', '0 ', '5 ', '0 ', '0 ', 'Total ', '172 ', '133 ', '138 ', '49 ', '89 ', 'SL ', '168 ', '133 ', '133 ', '49 ', '89 ', 'Discharged during last 24H ', 'Total  ', '18 ', '0 ', '3 ', '1 ', '0 ', 'Foreign ', '0 ', '0 ', '0 ', '0 ', '0 ', 'SL ', '18 ', '0 ', '3 ', '1 ', '0 ', 'Patients identified in last 24H ', 'Total Confirmed ', 'Returnees (+ close contacts) ', 'from other countries  ', 'Kandakadu Rehab. Center detainees and their contacts ', 'Sri Lankans ', 'Foreigners ', 'Hospital samples (admitted with clinical signs/symptoms) ', 'Minuwangoda/Peliyagoda cluster ', '586 ', ' 1 ', ' 3 ', ' 0 ', ' 0 ', '582 ', 'Details of COVID 19 diagnosed patients – Last 24H ', 'Number ', 'inward as at ', 'yesterday-10 ', 'am ', '5044 ', 'COVID 19 ', 'Positive - ', 'last 24H ', '586 ', 'Discharged ', 'from the ', 'hospital - last ', '24H ', '          140 ', 'Number ', 'of deaths - ', 'last 24H ', '0 ', 'Number ', 'inward as ', 'at today-', '10 am ', '5490** ', 'Local Situation  ', 'Total Number Confirmed ', 'Foreigners ', 'Imported Cases ', '(Returnees from other countries) ', 'Sri Lankans ', 'Local Cases ', 'Navy & their close contacts ', 'Kandakadu cluster & their close contacts ', 'Minuwangoda/Peliyagoda cluster ', 'Others ', 'Total Number Confirmed ', 'Total Number Recovered ', 'Total Number of Deaths ', 'Confirmed and hospitalized - today 10 am ', 'Suspected and hospitalized - today 10 am ', '9791* ', '    100 ', '1465 ', '  950 ', '  651 ', ' 6312 ', '   313 ', '9791* ', '4282 ', '    19 ', '5490** ', '444# ', 'NIID ', 'BH Welikanda ', 'Iranawila Hospital ', 'BH Minuwangoda ', 'Colombo East Base ', 'Hospital ', 'TH Anuradhapura ', 'DGH Hambanthota ', 'DH Rambukkana ', 'Kamburugamuwa  ', 'Kathankudy hospital ', 'Neville F’do hospital ', 'BH Theldeniya  ', 'BH Homagama ', 'Laggala Pallegama  ', 'BH Galgamuwa ', 'DH Abanpola ', 'DH Lunawa ', 'DH Ingiriya ', 'DH Kosgama ', 'DH Dankotuwa ', 'DH Divulapitiya ', 'DH Muruthankerny ', 'DH Dompe ', 'DH Pimbura ', 'DH Karadiyanaru ', 'DH Radawana ', 'Ichchilampattu ', 'Hospital ', 'Gallela treatment ', 'centre ', 'DH Padiyathalawa ', 'Ambilipitiya ', 'treatment centre ', 'NHRD (Welisaa) ', 'Kahagolla treat. ', 'centre ', 'Kandakadu treatment ', 'centre ', 'DH Palamune ', 'DH Undugoda ', 'Rehabilitation centre ', 'Ampara ', 'Punani treatment ', 'centre ', 'DH Bandaragama ', 'BH Kahawatta ', 'In the process of ', 'sending to hospitals ', 'Total ', '69 ', '195 ', '77 ', '232 ', '144 ', '531 ', '114 ', '118 ', '109 ', '29 ', '49 ', '98 ', '39 ', '41 ', '41 ', '99 ', '50 ', '42 ', '61 ', '87 ', '51 ', '92 ', '442 ', '68 ', '171 ', '32 ', '179 ', '342 ', '75 ', '62 ', '93 ', '625 ', '28 ', '61 ', '360 ', '0 ', '3 ', '0 ', '0 ', '0 ', '0 ', '0 ', '0 ', '0 ', '0 ', '0 ', '0 ', '0 ', '0 ', '0 ', '0 ', '0 ', '0 ', '0 ', '0 ', '0 ', '0 ', '0 ', '0 ', '0 ', '0 ', '0 ', '0 ', '0 ', '0 ', '0 ', '0 ', '0 ', '0 ', '0 ', '69 ', '198 ', '77 ', '232 ', '144 ', '531 ', '114 ', '118 ', '109 ', '29 ', '49 ', '98 ', '39 ', '41 ', '41 ', '99 ', '50 ', '42 ', '61 ', '87 ', '51 ', '92 ', '442 ', '68 ', '171 ', '32 ', '179 ', '342 ', '75 ', '62 ', '93 ', '625 ', '28 ', '61 ', '360 ', '0 ', '0 ', '3 ', '0 ', '19 ', '78 ', '8 ', '0 ', '0 ', '3 ', '0 ', '0 ', '0 ', '4 ', '3 ', '0 ', '0 ', '0 ', '0 ', '0 ', '0 ', '0 ', '0 ', '0 ', '0 ', '0 ', '0 ', '0 ', '0 ', '0 ', '0 ', '0 ', '0 ', '0 ', '0 ', '0 ', '0 ', '3 ', '0 ', '19 ', '78 ', '8 ', '0 ', '0 ', '3 ', '0 ', '0 ', '0 ', '4 ', '3 ', '0 ', '0 ', '0 ', '0 ', '0 ', '0 ', '0 ', '0 ', '0 ', '0 ', '0 ', '0 ', '0 ', '0 ', '0 ', '0 ', '0 ', '0 ', '0 ', '0 ', '0 ', '0 ', '0 ', '0 ', '0 ', '0 ', '0 ', '0 ', '0 ', '0 ', '0 ', '0 ', '0 ', '0 ', '0 ', '0 ', '0 ', '0 ', '0 ', '0 ', '0 ', '0 ', '0 ', '0 ', '0 ', '0 ', '0 ', '0 ', '0 ', '0 ', '0 ', '0 ', '0 ', '0 ', '0 ', '0 ', '5478 ', '12 ', '5490** ', '140 ', '140 ', 'Epigraph of COVID-19 cases', '(based on symptomatic or asymptomatic at the time of sample collection)', 'Asymptomatic', 'Symptomatic', '0', '4', '1', '1', '1', '2', '1', '0', '6691', '0', '122581', 'r', 'a', 'M', '-', '1', '1', 'r', 'a', 'M', '-', '8', '1', '5', '81', '6', '4691', '5', '31', '8', '213531 1 1 4321', '4', '9', '6', '5', '1', '3', '44924', '325271741711', '61', '1 11', '2', 'r', 'p', 'A', '-', '1', '0', 'r', 'p', 'A', '-', '5', '1', 'r', 'p', 'A', '-', '8', '0', 'r', 'p', 'A', '-', '2', '2', '7', '2', 'r', 'a', 'M', '-', '5', '2', '6', '1', '9', '4', '08', '6', '0', '1', '5', '3', '6', '5', '1', '1', '3', '7', '1', '1', '0', '1511', '5', '4', '2', '2', '1', '1', '1', '5', '8', '2', '143', '5', '4', '6', '2', '2', '1', '3', '4', '3', '0', '162581', '61', '1', '1', '2', '11', '3', '2', '671', '431', '7', '8', '2', '971', '41', '1', '0', '7', '11', '01', '6', '31', '2', '4', '4', '3', '1', '1', '8', '31', '3', '5', '7', '01', '1', '61', '3', '71', '1', '2', '2', '9', '2', '5', '6', '0', '0', '3741', '1', '2', '0', '8', '6', '1', '5', '35', '033', '5', '3', '2', '1', '1', '221', '4', '2', '883331', '99', '81', '3', '0', '1', '34', '81', '1', 'r', 'p', 'A', '-', '9', '2', 'y', 'a', 'M', '-', '6', '0', 'y', 'a', 'M', '-', '3', '1', 'y', 'a', 'M', '-', '0', '2', 'y', 'a', 'M', '-', '7', '2', 'n', 'u', 'J', '-', '3', '0', 'n', 'u', 'J', '-', '0', '1', '2', '8', '4', '3', '93001', '1', 'n', 'u', 'J', '-', '7', '1', 'n', 'u', 'J', '-', '4', '2', '2', '1', 'l', 'u', 'J', '-', '1', '0', '7', '47', '8', '6', '2', '4221 12 133', '1', '2', '1', '5', '7', '5', '12', '9', '8', '7', '5', '3', '1', '3', '21', '099411', '5', '4165 961', '35301', '97', '1', '1', '1', '2347', '2', '501', '11', '2', '1', '1', '1', '9', '75', '5', '7', '0', '0', '191', '3', '13111 3 1 100121 1131103', '2361', '78', '111022', '46201', '89350563', '1261', '3', '2', '3', '62', '0', '113554415563002148114425192', '3', '0 1 22', '0 437201', '3', '232131', '2', '1', '6661', '4151', '3', '1', '9', '3', '9', '2', '6', '2', '4', '1', '4', '1', '1', '1', '2', '91', '1', '41', '1', '31', '6268', 'l', 'u', 'J', '-', '8', '0', 'l', 'u', 'J', '-', '5', '1', 'l', 'u', 'J', '-', '2', '2', 'l', 'u', 'J', '-', '9', '2', 'g', 'u', 'A', '-', '5', '0', 'g', 'u', 'A', '-', '2', '1', 'g', 'u', 'A', '-', '9', '1', 'g', 'u', 'A', '-', '6', '2', 'p', 'e', 'S', '-', '2', '0', 'p', 'e', 'S', '-', '9', '0', '2', '8055241', 'p', 'e', 'S', '-', '6', '1', 'p', 'e', 'S', '-', '3', '2', 'p', 'e', 'S', '-', '0', '3', 't', 'c', 'O', '-', '7', '0', 't', 'c', 'O', '-', '4', '1', 't', 'c', 'O', '-', '1', '2', 't', 'c', 'O', '-', '8', '2', '6', '6', '8', '6', '8', '5', '1', '4', '5', '7', '5', '4', '8', '6', '3', '1', '5', '3', '9', '0', '3', '5', '3', '3', '9', '1', '5', '2', '6', '2', '7', '0', '2', '5', '7', '4', '9', '21', '9', '2', '3', '1', '4', '2', '1', '7', '6', '1', '1', '2', '1', '0', '1', '1', '0', '1', '1', '0', '0', '1', '6', '2', '1', '4', '7', '5', '0', '51', '3', '9', '2', '4', '8', '2', '\\x0c ', 'Number of COVID -19 suspected patients – 444# ', 'Today 10am ', 'Total suspected up to ', 'now ', 'Hospital ', 'SL ', 'Forei. ', 'Total ', 'SL ', 'Forei.  Total ', 'District Distribution of Confirmed Patients ', 'HEALTH DISTRICT ', 'Count ', '160 ', '38 ', '35 ', '34 ', '20 ', '16 ', '11 ', '13 ', '7 ', '6 ', '4 ', '4 ', '2 ', '2 ', '2 ', '2 ', '1 ', '1 ', '1 ', '1 ', '0 ', '0 ', '0 ', '0 ', '0 ', '0 ', 'COLOMBO ', 'GAMPAHA  ', 'PUTTALAM ', 'KALUTARA ', 'ANURADHAPURA ', 'KANDY ', 'KURUNEGALA ', 'POLONNARUWA ', 'JAFFNA  ', 'RATNAPURA ', 'KEGALLE ', 'MONERAGALA ', 'KALMUNAI  ', 'MATALE ', 'GALLE ', 'AMPARA  ', 'BADULLA ', 'MATARA  ', 'BATTICOLOA ', 'HAMBANTOTA ', 'VAVUNIA ', 'TRINCOMALEE ', 'NUWARAELIYA ', 'KILINOCHCHI ', 'MANNAR ', 'MULLATIVU ', 'DGH Negombo ', '1465 ', '15 ', '1480 ', '30 ', 'NIID ', 'NHSL ', 'TH Ragama ', 'TH Karapitiya ', \"TH A'pura \", 'TH Kurun. ', 'TH Jaffna ', 'NH Kandy ', 'TH Batti. ', 'DGH Gampaha ', 'TH Rathn. ', 'PGH Badulla ', 'LRH ', 'DMH ', 'DGH Polon’wa ', 'TH Kalubowila ', 'Castle St TH ', 'BH Ham’thota ', 'BH Mona’gala ', 'BH Welikanda ', 'DGH Kaluthara ', 'Chest H. Welisara ', 'Colombo East Base ', 'Hospital ', 'G.H. Chilaw ', 'G.H. Matara ', 'KDU Hospital ', 'G.H. Vavunia ', 'B.H. Marawila ', 'S.J.Pura TH ', 'BH Theldeniya ', 'BH Tangalle ', 'Total ', '1120 ', '1467 ', '1593 ', '521 ', '1365 ', '883 ', '217 ', '248 ', '300 ', '560 ', '468 ', '151 ', ' 220 ', '550 ', '657 ', '568 ', '574 ', '382 ', '225 ', '69 ', '806 ', '600 ', '70 ', '3136 ', '158 ', '2009 ', '201 ', '237 ', '3392 ', '37 ', '15 ', '76 ', '16 ', '5 ', '26 ', '2 ', '1 ', '2 ', '6 ', '0 ', '4 ', '0 ', '2 ', '0 ', '1 ', '6 ', '5 ', '0 ', '2 ', '0 ', '1 ', '2 ', '2 ', '0 ', '1 ', '2 ', '0 ', '0 ', '1 ', '2 ', '0 ', '0 ', '1184 ', '1481 ', '1598 ', '547 ', '1367 ', '884 ', '219 ', '254 ', '300 ', '564 ', '468 ', '153 ', '220 ', '551 ', '663 ', '573 ', '574 ', '384 ', '225 ', '70 ', '808 ', '602 ', '70 ', '3137 ', '160 ', '2009 ', '201 ', '238 ', '3394 ', '37 ', '15 ', '16 ', '48 ', '35 ', '12 ', '16 ', '12 ', '5 ', '0 ', '4 ', '27 ', '30 ', '6 ', '6 ', '9 ', '11 ', '6 ', '19 ', '7 ', '0 ', '5 ', '0 ', '10 ', '28 ', '30 ', '24 ', '0 ', '2 ', '1 ', '3 ', '58 ', '12 ', '2 ', '444 ', '0 ', '0 ', '0 ', '0 ', '0 ', '0 ', '0 ', '0 ', '0 ', '0 ', '0 ', '0 ', '0 ', '0 ', '0 ', '0 ', '0 ', '0 ', '0 ', '0 ', '0 ', '0 ', '0 ', '0 ', '0 ', '0 ', '0 ', '0 ', '0 ', '0 ', '0 ', '0 ', '0 ', '16 ', '48 ', '35 ', '12 ', '16 ', '12 ', '5 ', '0 ', '4 ', '27 ', '6 ', '6 ', '9 ', '11 ', '6 ', '19 ', '7 ', '0 ', '5 ', '0 ', '10 ', '28 ', '30 ', '24 ', '0 ', '   2 ', '1 ', '3 ', '58 ', '12 ', '2 ', '444# ', 'Source: Epidemiology Unit, Disease Surveillance System ', 'Incorrect to total as transfers ', 'counts in both the institutions ', 'QUARANTINE CENTERS (Overseas Arrivals) ', '000 ', '      1420 ', 'QUARANTINE CENTERS (Local Communities) ', 'NAVY ', 'OTHER FORCES ', 'FOREIGNERS ', 'Kandakadu Rehab. Center ', 'Welikada Prison ', 'Minuwangoda/Peliyagoda cluster ', 'Total ', '  78 ', '906 ', '   17 ', '   100 ', ' 597 ', '      1 ', '6312 ', '    9791* ', 'Note:  District categorization has been done considering the past 7 days ', 'of patient’s residence / QC by the time of diagnosis.  ', '\\x0c']\n"
     ]
    }
   ],
   "source": [
    "text_lis = [i for i in text.split('\\n') if (i.strip(' ') != '' )]\n",
    "print(text_lis)"
   ],
   "metadata": {
    "collapsed": false,
    "pycharm": {
     "name": "#%%\n"
    }
   }
  },
  {
   "cell_type": "code",
   "execution_count": 15,
   "outputs": [],
   "source": [
    "text1 = extract_text('../../data/test1.pdf')\n",
    "text_lis_1 = [i for i in text.split('\\n') if (i.strip(' ') != '' )]"
   ],
   "metadata": {
    "collapsed": false,
    "pycharm": {
     "name": "#%%\n"
    }
   }
  },
  {
   "cell_type": "code",
   "execution_count": 1,
   "outputs": [],
   "source": [
    "import tabula\n",
    "\n",
    "file = '../../data/test.pdf'\n",
    "# tables = tabula.read_pdf(file,pages=2)"
   ],
   "metadata": {
    "collapsed": false,
    "pycharm": {
     "name": "#%%\n"
    }
   }
  },
  {
   "cell_type": "code",
   "execution_count": 7,
   "outputs": [],
   "source": [
    "import pandas as pd\n",
    "# tables[1].to_csv('./test.csv',index=False)"
   ],
   "metadata": {
    "collapsed": false,
    "pycharm": {
     "name": "#%%\n"
    }
   }
  },
  {
   "cell_type": "code",
   "execution_count": 14,
   "outputs": [],
   "source": [
    "dist_table = tabula.read_pdf(file, pages=2, area=(57,338,655,570))"
   ],
   "metadata": {
    "collapsed": false,
    "pycharm": {
     "name": "#%%\n"
    }
   }
  },
  {
   "cell_type": "code",
   "execution_count": 15,
   "outputs": [],
   "source": [
    "dist_table[0].to_csv('../../data/dist_table.csv',index=False)"
   ],
   "metadata": {
    "collapsed": false,
    "pycharm": {
     "name": "#%%\n"
    }
   }
  },
  {
   "cell_type": "code",
   "execution_count": 11,
   "outputs": [],
   "source": [
    "#next level\n",
    "nl_table = tabula.read_pdf(file, pages=2, area=(98,36,545,312))\n",
    "nl_table[0].to_csv('../../data/next_level.csv',index=False)"
   ],
   "metadata": {
    "collapsed": false,
    "pycharm": {
     "name": "#%%\n"
    }
   }
  }
 ],
 "metadata": {
  "kernelspec": {
   "display_name": "Python 3",
   "language": "python",
   "name": "python3"
  },
  "language_info": {
   "codemirror_mode": {
    "name": "ipython",
    "version": 2
   },
   "file_extension": ".py",
   "mimetype": "text/x-python",
   "name": "python",
   "nbconvert_exporter": "python",
   "pygments_lexer": "ipython2",
   "version": "2.7.6"
  }
 },
 "nbformat": 4,
 "nbformat_minor": 0
}