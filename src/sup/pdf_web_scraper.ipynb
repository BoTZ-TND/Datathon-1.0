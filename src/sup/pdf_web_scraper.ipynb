{
 "cells": [
  {
   "cell_type": "code",
   "execution_count": 1,
   "metadata": {
    "collapsed": true
   },
   "outputs": [
    {
     "data": {
      "text/plain": "('../../data/daily_pdf/10-30.pdf', <http.client.HTTPMessage at 0x1388f384d08>)"
     },
     "execution_count": 1,
     "metadata": {},
     "output_type": "execute_result"
    },
    {
     "data": {
      "text/plain": "('../../data/daily_pdf/10-29.pdf', <http.client.HTTPMessage at 0x1388eb85508>)"
     },
     "execution_count": 1,
     "metadata": {},
     "output_type": "execute_result"
    },
    {
     "data": {
      "text/plain": "('../../data/daily_pdf/10-28.pdf', <http.client.HTTPMessage at 0x1388eb89c88>)"
     },
     "execution_count": 1,
     "metadata": {},
     "output_type": "execute_result"
    },
    {
     "data": {
      "text/plain": "('../../data/daily_pdf/10-27.pdf', <http.client.HTTPMessage at 0x1388eb8ad88>)"
     },
     "execution_count": 1,
     "metadata": {},
     "output_type": "execute_result"
    },
    {
     "data": {
      "text/plain": "('../../data/daily_pdf/10-26.pdf', <http.client.HTTPMessage at 0x1388f384d48>)"
     },
     "execution_count": 1,
     "metadata": {},
     "output_type": "execute_result"
    },
    {
     "data": {
      "text/plain": "('../../data/daily_pdf/10-25.pdf', <http.client.HTTPMessage at 0x1388f38dcc8>)"
     },
     "execution_count": 1,
     "metadata": {},
     "output_type": "execute_result"
    },
    {
     "data": {
      "text/plain": "('../../data/daily_pdf/10-24.pdf', <http.client.HTTPMessage at 0x1388eb874c8>)"
     },
     "execution_count": 1,
     "metadata": {},
     "output_type": "execute_result"
    },
    {
     "data": {
      "text/plain": "('../../data/daily_pdf/10-23.pdf', <http.client.HTTPMessage at 0x1388eb82888>)"
     },
     "execution_count": 1,
     "metadata": {},
     "output_type": "execute_result"
    },
    {
     "data": {
      "text/plain": "('../../data/daily_pdf/10-22.pdf', <http.client.HTTPMessage at 0x1388eb8ab88>)"
     },
     "execution_count": 1,
     "metadata": {},
     "output_type": "execute_result"
    },
    {
     "data": {
      "text/plain": "('../../data/daily_pdf/10-21.pdf', <http.client.HTTPMessage at 0x1388f384f48>)"
     },
     "execution_count": 1,
     "metadata": {},
     "output_type": "execute_result"
    },
    {
     "data": {
      "text/plain": "('../../data/daily_pdf/10-20.pdf', <http.client.HTTPMessage at 0x1388e817688>)"
     },
     "execution_count": 1,
     "metadata": {},
     "output_type": "execute_result"
    },
    {
     "data": {
      "text/plain": "('../../data/daily_pdf/10-19.pdf', <http.client.HTTPMessage at 0x1388f384508>)"
     },
     "execution_count": 1,
     "metadata": {},
     "output_type": "execute_result"
    },
    {
     "data": {
      "text/plain": "('../../data/daily_pdf/10-18.pdf', <http.client.HTTPMessage at 0x1388f38d088>)"
     },
     "execution_count": 1,
     "metadata": {},
     "output_type": "execute_result"
    },
    {
     "data": {
      "text/plain": "('../../data/daily_pdf/10-17.pdf', <http.client.HTTPMessage at 0x1388eb858c8>)"
     },
     "execution_count": 1,
     "metadata": {},
     "output_type": "execute_result"
    },
    {
     "data": {
      "text/plain": "('../../data/daily_pdf/10-16.pdf', <http.client.HTTPMessage at 0x1388f384f48>)"
     },
     "execution_count": 1,
     "metadata": {},
     "output_type": "execute_result"
    },
    {
     "data": {
      "text/plain": "('../../data/daily_pdf/10-15.pdf', <http.client.HTTPMessage at 0x1388f384448>)"
     },
     "execution_count": 1,
     "metadata": {},
     "output_type": "execute_result"
    },
    {
     "data": {
      "text/plain": "('../../data/daily_pdf/10-14.pdf', <http.client.HTTPMessage at 0x1388eb8afc8>)"
     },
     "execution_count": 1,
     "metadata": {},
     "output_type": "execute_result"
    },
    {
     "data": {
      "text/plain": "('../../data/daily_pdf/10-13.pdf', <http.client.HTTPMessage at 0x1388f38d088>)"
     },
     "execution_count": 1,
     "metadata": {},
     "output_type": "execute_result"
    },
    {
     "data": {
      "text/plain": "('../../data/daily_pdf/10-12.pdf', <http.client.HTTPMessage at 0x1388f38d108>)"
     },
     "execution_count": 1,
     "metadata": {},
     "output_type": "execute_result"
    },
    {
     "data": {
      "text/plain": "('../../data/daily_pdf/10-11.pdf', <http.client.HTTPMessage at 0x1388eb8a8c8>)"
     },
     "execution_count": 1,
     "metadata": {},
     "output_type": "execute_result"
    },
    {
     "data": {
      "text/plain": "('../../data/daily_pdf/10-10.pdf', <http.client.HTTPMessage at 0x1388eb8ae88>)"
     },
     "execution_count": 1,
     "metadata": {},
     "output_type": "execute_result"
    },
    {
     "data": {
      "text/plain": "('../../data/daily_pdf/10-09.pdf', <http.client.HTTPMessage at 0x1388f384e88>)"
     },
     "execution_count": 1,
     "metadata": {},
     "output_type": "execute_result"
    },
    {
     "data": {
      "text/plain": "('../../data/daily_pdf/10-08.pdf', <http.client.HTTPMessage at 0x1388eb874c8>)"
     },
     "execution_count": 1,
     "metadata": {},
     "output_type": "execute_result"
    },
    {
     "data": {
      "text/plain": "('../../data/daily_pdf/10-07.pdf', <http.client.HTTPMessage at 0x1388f38d188>)"
     },
     "execution_count": 1,
     "metadata": {},
     "output_type": "execute_result"
    },
    {
     "data": {
      "text/plain": "('../../data/daily_pdf/10-06.pdf', <http.client.HTTPMessage at 0x1388f38d248>)"
     },
     "execution_count": 1,
     "metadata": {},
     "output_type": "execute_result"
    },
    {
     "data": {
      "text/plain": "('../../data/daily_pdf/10-05.pdf', <http.client.HTTPMessage at 0x1388eb8ad48>)"
     },
     "execution_count": 1,
     "metadata": {},
     "output_type": "execute_result"
    },
    {
     "data": {
      "text/plain": "('../../data/daily_pdf/10-04.pdf', <http.client.HTTPMessage at 0x1388eb8ad08>)"
     },
     "execution_count": 1,
     "metadata": {},
     "output_type": "execute_result"
    },
    {
     "data": {
      "text/plain": "('../../data/daily_pdf/10-03.pdf', <http.client.HTTPMessage at 0x1388f384488>)"
     },
     "execution_count": 1,
     "metadata": {},
     "output_type": "execute_result"
    },
    {
     "data": {
      "text/plain": "('../../data/daily_pdf/10-02.pdf', <http.client.HTTPMessage at 0x1388eb85ac8>)"
     },
     "execution_count": 1,
     "metadata": {},
     "output_type": "execute_result"
    },
    {
     "data": {
      "text/plain": "('../../data/daily_pdf/10-01.pdf', <http.client.HTTPMessage at 0x1388eb87d08>)"
     },
     "execution_count": 1,
     "metadata": {},
     "output_type": "execute_result"
    },
    {
     "data": {
      "text/plain": "('../../data/daily_pdf/09-30.pdf', <http.client.HTTPMessage at 0x1388f38df48>)"
     },
     "execution_count": 1,
     "metadata": {},
     "output_type": "execute_result"
    },
    {
     "data": {
      "text/plain": "('../../data/daily_pdf/09-29.pdf', <http.client.HTTPMessage at 0x1388eb8af08>)"
     },
     "execution_count": 1,
     "metadata": {},
     "output_type": "execute_result"
    },
    {
     "data": {
      "text/plain": "('../../data/daily_pdf/09-27.pdf', <http.client.HTTPMessage at 0x1388f384d88>)"
     },
     "execution_count": 1,
     "metadata": {},
     "output_type": "execute_result"
    },
    {
     "data": {
      "text/plain": "('../../data/daily_pdf/09-26.pdf', <http.client.HTTPMessage at 0x1388f384208>)"
     },
     "execution_count": 1,
     "metadata": {},
     "output_type": "execute_result"
    },
    {
     "data": {
      "text/plain": "('../../data/daily_pdf/09-25.pdf', <http.client.HTTPMessage at 0x1388eb82b08>)"
     },
     "execution_count": 1,
     "metadata": {},
     "output_type": "execute_result"
    },
    {
     "data": {
      "text/plain": "('../../data/daily_pdf/09-24.pdf', <http.client.HTTPMessage at 0x1388f38d148>)"
     },
     "execution_count": 1,
     "metadata": {},
     "output_type": "execute_result"
    },
    {
     "data": {
      "text/plain": "('../../data/daily_pdf/09-23.pdf', <http.client.HTTPMessage at 0x1388eb84d88>)"
     },
     "execution_count": 1,
     "metadata": {},
     "output_type": "execute_result"
    },
    {
     "data": {
      "text/plain": "('../../data/daily_pdf/09-22.pdf', <http.client.HTTPMessage at 0x1388eb8ad48>)"
     },
     "execution_count": 1,
     "metadata": {},
     "output_type": "execute_result"
    },
    {
     "data": {
      "text/plain": "('../../data/daily_pdf/09-21.pdf', <http.client.HTTPMessage at 0x1388f384488>)"
     },
     "execution_count": 1,
     "metadata": {},
     "output_type": "execute_result"
    },
    {
     "data": {
      "text/plain": "('../../data/daily_pdf/09-20.pdf', <http.client.HTTPMessage at 0x1388f3845c8>)"
     },
     "execution_count": 1,
     "metadata": {},
     "output_type": "execute_result"
    },
    {
     "data": {
      "text/plain": "('../../data/daily_pdf/09-19.pdf', <http.client.HTTPMessage at 0x1388eb87988>)"
     },
     "execution_count": 1,
     "metadata": {},
     "output_type": "execute_result"
    },
    {
     "data": {
      "text/plain": "('../../data/daily_pdf/09-18.pdf', <http.client.HTTPMessage at 0x1388f38d348>)"
     },
     "execution_count": 1,
     "metadata": {},
     "output_type": "execute_result"
    },
    {
     "data": {
      "text/plain": "('../../data/daily_pdf/09-17.pdf', <http.client.HTTPMessage at 0x1388eb8a948>)"
     },
     "execution_count": 1,
     "metadata": {},
     "output_type": "execute_result"
    },
    {
     "data": {
      "text/plain": "('../../data/daily_pdf/09-16.pdf', <http.client.HTTPMessage at 0x1388eb8ac88>)"
     },
     "execution_count": 1,
     "metadata": {},
     "output_type": "execute_result"
    },
    {
     "data": {
      "text/plain": "('../../data/daily_pdf/09-15.pdf', <http.client.HTTPMessage at 0x1388f384488>)"
     },
     "execution_count": 1,
     "metadata": {},
     "output_type": "execute_result"
    },
    {
     "data": {
      "text/plain": "('../../data/daily_pdf/09-14.pdf', <http.client.HTTPMessage at 0x1388f38d208>)"
     },
     "execution_count": 1,
     "metadata": {},
     "output_type": "execute_result"
    },
    {
     "data": {
      "text/plain": "('../../data/daily_pdf/09-13.pdf', <http.client.HTTPMessage at 0x1388eb84ec8>)"
     },
     "execution_count": 1,
     "metadata": {},
     "output_type": "execute_result"
    },
    {
     "data": {
      "text/plain": "('../../data/daily_pdf/09-12.pdf', <http.client.HTTPMessage at 0x1388eb8a8c8>)"
     },
     "execution_count": 1,
     "metadata": {},
     "output_type": "execute_result"
    },
    {
     "data": {
      "text/plain": "('../../data/daily_pdf/09-11.pdf', <http.client.HTTPMessage at 0x1388eb8a848>)"
     },
     "execution_count": 1,
     "metadata": {},
     "output_type": "execute_result"
    },
    {
     "data": {
      "text/plain": "('../../data/daily_pdf/09-10.pdf', <http.client.HTTPMessage at 0x1388eb87108>)"
     },
     "execution_count": 1,
     "metadata": {},
     "output_type": "execute_result"
    },
    {
     "data": {
      "text/plain": "('../../data/daily_pdf/09-09.pdf', <http.client.HTTPMessage at 0x1388f384208>)"
     },
     "execution_count": 1,
     "metadata": {},
     "output_type": "execute_result"
    },
    {
     "data": {
      "text/plain": "('../../data/daily_pdf/09-08.pdf', <http.client.HTTPMessage at 0x1388f38d188>)"
     },
     "execution_count": 1,
     "metadata": {},
     "output_type": "execute_result"
    },
    {
     "data": {
      "text/plain": "('../../data/daily_pdf/09-07.pdf', <http.client.HTTPMessage at 0x1388eb87708>)"
     },
     "execution_count": 1,
     "metadata": {},
     "output_type": "execute_result"
    },
    {
     "data": {
      "text/plain": "('../../data/daily_pdf/09-06.pdf', <http.client.HTTPMessage at 0x1388eb8af08>)"
     },
     "execution_count": 1,
     "metadata": {},
     "output_type": "execute_result"
    },
    {
     "data": {
      "text/plain": "('../../data/daily_pdf/09-05.pdf', <http.client.HTTPMessage at 0x1388eb8afc8>)"
     },
     "execution_count": 1,
     "metadata": {},
     "output_type": "execute_result"
    },
    {
     "data": {
      "text/plain": "('../../data/daily_pdf/09-04.pdf', <http.client.HTTPMessage at 0x1388f384f48>)"
     },
     "execution_count": 1,
     "metadata": {},
     "output_type": "execute_result"
    },
    {
     "data": {
      "text/plain": "('../../data/daily_pdf/09-03.pdf', <http.client.HTTPMessage at 0x1388f38d1c8>)"
     },
     "execution_count": 1,
     "metadata": {},
     "output_type": "execute_result"
    },
    {
     "data": {
      "text/plain": "('../../data/daily_pdf/09-02.pdf', <http.client.HTTPMessage at 0x1388eb85948>)"
     },
     "execution_count": 1,
     "metadata": {},
     "output_type": "execute_result"
    },
    {
     "data": {
      "text/plain": "('../../data/daily_pdf/09-01.pdf', <http.client.HTTPMessage at 0x1388eb84808>)"
     },
     "execution_count": 1,
     "metadata": {},
     "output_type": "execute_result"
    },
    {
     "data": {
      "text/plain": "('../../data/daily_pdf/08-31.pdf', <http.client.HTTPMessage at 0x1388eb87408>)"
     },
     "execution_count": 1,
     "metadata": {},
     "output_type": "execute_result"
    },
    {
     "data": {
      "text/plain": "('../../data/daily_pdf/08-29.pdf', <http.client.HTTPMessage at 0x1388eb8ad08>)"
     },
     "execution_count": 1,
     "metadata": {},
     "output_type": "execute_result"
    },
    {
     "data": {
      "text/plain": "('../../data/daily_pdf/08-28.pdf', <http.client.HTTPMessage at 0x1388eb8a908>)"
     },
     "execution_count": 1,
     "metadata": {},
     "output_type": "execute_result"
    },
    {
     "data": {
      "text/plain": "('../../data/daily_pdf/08-27.pdf', <http.client.HTTPMessage at 0x1388f38d608>)"
     },
     "execution_count": 1,
     "metadata": {},
     "output_type": "execute_result"
    },
    {
     "data": {
      "text/plain": "('../../data/daily_pdf/08-26.pdf', <http.client.HTTPMessage at 0x1388eb845c8>)"
     },
     "execution_count": 1,
     "metadata": {},
     "output_type": "execute_result"
    },
    {
     "data": {
      "text/plain": "('../../data/daily_pdf/08-25.pdf', <http.client.HTTPMessage at 0x1388eb82b08>)"
     },
     "execution_count": 1,
     "metadata": {},
     "output_type": "execute_result"
    },
    {
     "data": {
      "text/plain": "('../../data/daily_pdf/08-24.pdf', <http.client.HTTPMessage at 0x1388f384e88>)"
     },
     "execution_count": 1,
     "metadata": {},
     "output_type": "execute_result"
    },
    {
     "data": {
      "text/plain": "('../../data/daily_pdf/08-23.pdf', <http.client.HTTPMessage at 0x1388eb8aa48>)"
     },
     "execution_count": 1,
     "metadata": {},
     "output_type": "execute_result"
    },
    {
     "data": {
      "text/plain": "('../../data/daily_pdf/08-22.pdf', <http.client.HTTPMessage at 0x1388eb8ab88>)"
     },
     "execution_count": 1,
     "metadata": {},
     "output_type": "execute_result"
    },
    {
     "data": {
      "text/plain": "('../../data/daily_pdf/08-21.pdf', <http.client.HTTPMessage at 0x1388f38d0c8>)"
     },
     "execution_count": 1,
     "metadata": {},
     "output_type": "execute_result"
    },
    {
     "data": {
      "text/plain": "('../../data/daily_pdf/08-20.pdf', <http.client.HTTPMessage at 0x1388eb853c8>)"
     },
     "execution_count": 1,
     "metadata": {},
     "output_type": "execute_result"
    },
    {
     "data": {
      "text/plain": "('../../data/daily_pdf/08-19.pdf', <http.client.HTTPMessage at 0x1388f384e08>)"
     },
     "execution_count": 1,
     "metadata": {},
     "output_type": "execute_result"
    },
    {
     "data": {
      "text/plain": "('../../data/daily_pdf/08-18.pdf', <http.client.HTTPMessage at 0x1388f384f48>)"
     },
     "execution_count": 1,
     "metadata": {},
     "output_type": "execute_result"
    },
    {
     "data": {
      "text/plain": "('../../data/daily_pdf/08-17.pdf', <http.client.HTTPMessage at 0x1388eb8ad48>)"
     },
     "execution_count": 1,
     "metadata": {},
     "output_type": "execute_result"
    },
    {
     "data": {
      "text/plain": "('../../data/daily_pdf/08-16.pdf', <http.client.HTTPMessage at 0x1388f38d488>)"
     },
     "execution_count": 1,
     "metadata": {},
     "output_type": "execute_result"
    },
    {
     "data": {
      "text/plain": "('../../data/daily_pdf/08-15.pdf', <http.client.HTTPMessage at 0x1388f38d0c8>)"
     },
     "execution_count": 1,
     "metadata": {},
     "output_type": "execute_result"
    },
    {
     "data": {
      "text/plain": "('../../data/daily_pdf/08-14.pdf', <http.client.HTTPMessage at 0x1388eb87108>)"
     },
     "execution_count": 1,
     "metadata": {},
     "output_type": "execute_result"
    },
    {
     "data": {
      "text/plain": "('../../data/daily_pdf/08-13.pdf', <http.client.HTTPMessage at 0x1388f384348>)"
     },
     "execution_count": 1,
     "metadata": {},
     "output_type": "execute_result"
    },
    {
     "data": {
      "text/plain": "('../../data/daily_pdf/08-12.pdf', <http.client.HTTPMessage at 0x1388f384e48>)"
     },
     "execution_count": 1,
     "metadata": {},
     "output_type": "execute_result"
    },
    {
     "data": {
      "text/plain": "('../../data/daily_pdf/08-11.pdf', <http.client.HTTPMessage at 0x1388eb8ac88>)"
     },
     "execution_count": 1,
     "metadata": {},
     "output_type": "execute_result"
    },
    {
     "data": {
      "text/plain": "('../../data/daily_pdf/08-10.pdf', <http.client.HTTPMessage at 0x1388eb8ad08>)"
     },
     "execution_count": 1,
     "metadata": {},
     "output_type": "execute_result"
    },
    {
     "data": {
      "text/plain": "('../../data/daily_pdf/08-09.pdf', <http.client.HTTPMessage at 0x1388f38d608>)"
     },
     "execution_count": 1,
     "metadata": {},
     "output_type": "execute_result"
    },
    {
     "data": {
      "text/plain": "('../../data/daily_pdf/08-08.pdf', <http.client.HTTPMessage at 0x1388eb85948>)"
     },
     "execution_count": 1,
     "metadata": {},
     "output_type": "execute_result"
    },
    {
     "data": {
      "text/plain": "('../../data/daily_pdf/08-07.pdf', <http.client.HTTPMessage at 0x1388f384e48>)"
     },
     "execution_count": 1,
     "metadata": {},
     "output_type": "execute_result"
    },
    {
     "data": {
      "text/plain": "('../../data/daily_pdf/08-06.pdf', <http.client.HTTPMessage at 0x1388eb820c8>)"
     },
     "execution_count": 1,
     "metadata": {},
     "output_type": "execute_result"
    },
    {
     "data": {
      "text/plain": "('../../data/daily_pdf/08-03.pdf', <http.client.HTTPMessage at 0x1388eb8a988>)"
     },
     "execution_count": 1,
     "metadata": {},
     "output_type": "execute_result"
    },
    {
     "data": {
      "text/plain": "('../../data/daily_pdf/08-02.pdf', <http.client.HTTPMessage at 0x1388f38d1c8>)"
     },
     "execution_count": 1,
     "metadata": {},
     "output_type": "execute_result"
    },
    {
     "data": {
      "text/plain": "('../../data/daily_pdf/08-01.pdf', <http.client.HTTPMessage at 0x1388f38d488>)"
     },
     "execution_count": 1,
     "metadata": {},
     "output_type": "execute_result"
    },
    {
     "data": {
      "text/plain": "('../../data/daily_pdf/07-31.pdf', <http.client.HTTPMessage at 0x1388eb857c8>)"
     },
     "execution_count": 1,
     "metadata": {},
     "output_type": "execute_result"
    },
    {
     "data": {
      "text/plain": "('../../data/daily_pdf/07-30.pdf', <http.client.HTTPMessage at 0x1388f38d288>)"
     },
     "execution_count": 1,
     "metadata": {},
     "output_type": "execute_result"
    },
    {
     "data": {
      "text/plain": "('../../data/daily_pdf/07-29.pdf', <http.client.HTTPMessage at 0x1388eb84948>)"
     },
     "execution_count": 1,
     "metadata": {},
     "output_type": "execute_result"
    },
    {
     "data": {
      "text/plain": "('../../data/daily_pdf/07-28.pdf', <http.client.HTTPMessage at 0x1388eb8a988>)"
     },
     "execution_count": 1,
     "metadata": {},
     "output_type": "execute_result"
    },
    {
     "data": {
      "text/plain": "('../../data/daily_pdf/07-27.pdf', <http.client.HTTPMessage at 0x1388eb8ac48>)"
     },
     "execution_count": 1,
     "metadata": {},
     "output_type": "execute_result"
    },
    {
     "data": {
      "text/plain": "('../../data/daily_pdf/07-26.pdf', <http.client.HTTPMessage at 0x1388f38d148>)"
     },
     "execution_count": 1,
     "metadata": {},
     "output_type": "execute_result"
    },
    {
     "data": {
      "text/plain": "('../../data/daily_pdf/07-25.pdf', <http.client.HTTPMessage at 0x1388f384fc8>)"
     },
     "execution_count": 1,
     "metadata": {},
     "output_type": "execute_result"
    },
    {
     "data": {
      "text/plain": "('../../data/daily_pdf/07-24.pdf', <http.client.HTTPMessage at 0x1388eb845c8>)"
     },
     "execution_count": 1,
     "metadata": {},
     "output_type": "execute_result"
    },
    {
     "data": {
      "text/plain": "('../../data/daily_pdf/07-23.pdf', <http.client.HTTPMessage at 0x1388eb82508>)"
     },
     "execution_count": 1,
     "metadata": {},
     "output_type": "execute_result"
    },
    {
     "data": {
      "text/plain": "('../../data/daily_pdf/07-22.pdf', <http.client.HTTPMessage at 0x1388eb8ad88>)"
     },
     "execution_count": 1,
     "metadata": {},
     "output_type": "execute_result"
    },
    {
     "data": {
      "text/plain": "('../../data/daily_pdf/07-21.pdf', <http.client.HTTPMessage at 0x1388f38d408>)"
     },
     "execution_count": 1,
     "metadata": {},
     "output_type": "execute_result"
    },
    {
     "data": {
      "text/plain": "('../../data/daily_pdf/07-20.pdf', <http.client.HTTPMessage at 0x1388f3842c8>)"
     },
     "execution_count": 1,
     "metadata": {},
     "output_type": "execute_result"
    },
    {
     "data": {
      "text/plain": "('../../data/daily_pdf/07-19.pdf', <http.client.HTTPMessage at 0x1388eb84148>)"
     },
     "execution_count": 1,
     "metadata": {},
     "output_type": "execute_result"
    },
    {
     "data": {
      "text/plain": "('../../data/daily_pdf/07-18.pdf', <http.client.HTTPMessage at 0x1388eb87048>)"
     },
     "execution_count": 1,
     "metadata": {},
     "output_type": "execute_result"
    },
    {
     "data": {
      "text/plain": "('../../data/daily_pdf/07-17.pdf', <http.client.HTTPMessage at 0x1388eb8ae08>)"
     },
     "execution_count": 1,
     "metadata": {},
     "output_type": "execute_result"
    },
    {
     "data": {
      "text/plain": "('../../data/daily_pdf/07-16.pdf', <http.client.HTTPMessage at 0x1388eb8ab08>)"
     },
     "execution_count": 1,
     "metadata": {},
     "output_type": "execute_result"
    },
    {
     "data": {
      "text/plain": "('../../data/daily_pdf/07-15.pdf', <http.client.HTTPMessage at 0x1388e817908>)"
     },
     "execution_count": 1,
     "metadata": {},
     "output_type": "execute_result"
    },
    {
     "data": {
      "text/plain": "('../../data/daily_pdf/07-14.pdf', <http.client.HTTPMessage at 0x1388f3844c8>)"
     },
     "execution_count": 1,
     "metadata": {},
     "output_type": "execute_result"
    },
    {
     "data": {
      "text/plain": "('../../data/daily_pdf/07-13.pdf', <http.client.HTTPMessage at 0x1388f384488>)"
     },
     "execution_count": 1,
     "metadata": {},
     "output_type": "execute_result"
    },
    {
     "data": {
      "text/plain": "('../../data/daily_pdf/07-12.pdf', <http.client.HTTPMessage at 0x1388eb82208>)"
     },
     "execution_count": 1,
     "metadata": {},
     "output_type": "execute_result"
    },
    {
     "data": {
      "text/plain": "('../../data/daily_pdf/07-11.pdf', <http.client.HTTPMessage at 0x1388eb8ad88>)"
     },
     "execution_count": 1,
     "metadata": {},
     "output_type": "execute_result"
    },
    {
     "data": {
      "text/plain": "('../../data/daily_pdf/07-10.pdf', <http.client.HTTPMessage at 0x1388eb89208>)"
     },
     "execution_count": 1,
     "metadata": {},
     "output_type": "execute_result"
    },
    {
     "data": {
      "text/plain": "('../../data/daily_pdf/07-09.pdf', <http.client.HTTPMessage at 0x1388e817908>)"
     },
     "execution_count": 1,
     "metadata": {},
     "output_type": "execute_result"
    },
    {
     "data": {
      "text/plain": "('../../data/daily_pdf/07-08.pdf', <http.client.HTTPMessage at 0x1388f38d2c8>)"
     },
     "execution_count": 1,
     "metadata": {},
     "output_type": "execute_result"
    },
    {
     "data": {
      "text/plain": "('../../data/daily_pdf/07-07.pdf', <http.client.HTTPMessage at 0x1388f384d08>)"
     },
     "execution_count": 1,
     "metadata": {},
     "output_type": "execute_result"
    },
    {
     "data": {
      "text/plain": "('../../data/daily_pdf/07-06.pdf', <http.client.HTTPMessage at 0x1388eb84208>)"
     },
     "execution_count": 1,
     "metadata": {},
     "output_type": "execute_result"
    },
    {
     "data": {
      "text/plain": "('../../data/daily_pdf/07-05.pdf', <http.client.HTTPMessage at 0x1388eb8aec8>)"
     },
     "execution_count": 1,
     "metadata": {},
     "output_type": "execute_result"
    },
    {
     "data": {
      "text/plain": "('../../data/daily_pdf/07-04.pdf', <http.client.HTTPMessage at 0x1388f384fc8>)"
     },
     "execution_count": 1,
     "metadata": {},
     "output_type": "execute_result"
    },
    {
     "data": {
      "text/plain": "('../../data/daily_pdf/07-03.pdf', <http.client.HTTPMessage at 0x1388eb89588>)"
     },
     "execution_count": 1,
     "metadata": {},
     "output_type": "execute_result"
    },
    {
     "data": {
      "text/plain": "('../../data/daily_pdf/07-02.pdf', <http.client.HTTPMessage at 0x1388f38df48>)"
     },
     "execution_count": 1,
     "metadata": {},
     "output_type": "execute_result"
    },
    {
     "data": {
      "text/plain": "('../../data/daily_pdf/07-01.pdf', <http.client.HTTPMessage at 0x1388f38d348>)"
     },
     "execution_count": 1,
     "metadata": {},
     "output_type": "execute_result"
    },
    {
     "data": {
      "text/plain": "('../../data/daily_pdf/06-30.pdf', <http.client.HTTPMessage at 0x1388eb82b08>)"
     },
     "execution_count": 1,
     "metadata": {},
     "output_type": "execute_result"
    },
    {
     "data": {
      "text/plain": "('../../data/daily_pdf/06-29.pdf', <http.client.HTTPMessage at 0x1388eb8ab48>)"
     },
     "execution_count": 1,
     "metadata": {},
     "output_type": "execute_result"
    },
    {
     "data": {
      "text/plain": "('../../data/daily_pdf/06-28.pdf', <http.client.HTTPMessage at 0x1388eb8ac48>)"
     },
     "execution_count": 1,
     "metadata": {},
     "output_type": "execute_result"
    },
    {
     "data": {
      "text/plain": "('../../data/daily_pdf/06-27.pdf', <http.client.HTTPMessage at 0x1388eb89448>)"
     },
     "execution_count": 1,
     "metadata": {},
     "output_type": "execute_result"
    },
    {
     "data": {
      "text/plain": "('../../data/daily_pdf/06-26.pdf', <http.client.HTTPMessage at 0x1388eb85ac8>)"
     },
     "execution_count": 1,
     "metadata": {},
     "output_type": "execute_result"
    },
    {
     "data": {
      "text/plain": "('../../data/daily_pdf/06-25.pdf', <http.client.HTTPMessage at 0x1388f38d188>)"
     },
     "execution_count": 1,
     "metadata": {},
     "output_type": "execute_result"
    },
    {
     "data": {
      "text/plain": "('../../data/daily_pdf/06-24.pdf', <http.client.HTTPMessage at 0x1388eb8a908>)"
     },
     "execution_count": 1,
     "metadata": {},
     "output_type": "execute_result"
    },
    {
     "data": {
      "text/plain": "('../../data/daily_pdf/06-23.pdf', <http.client.HTTPMessage at 0x1388f38d2c8>)"
     },
     "execution_count": 1,
     "metadata": {},
     "output_type": "execute_result"
    },
    {
     "data": {
      "text/plain": "('../../data/daily_pdf/06-22.pdf', <http.client.HTTPMessage at 0x1388e817688>)"
     },
     "execution_count": 1,
     "metadata": {},
     "output_type": "execute_result"
    },
    {
     "data": {
      "text/plain": "('../../data/daily_pdf/06-21.pdf', <http.client.HTTPMessage at 0x1388eb874c8>)"
     },
     "execution_count": 1,
     "metadata": {},
     "output_type": "execute_result"
    },
    {
     "data": {
      "text/plain": "('../../data/daily_pdf/06-20.pdf', <http.client.HTTPMessage at 0x1388f38da48>)"
     },
     "execution_count": 1,
     "metadata": {},
     "output_type": "execute_result"
    },
    {
     "data": {
      "text/plain": "('../../data/daily_pdf/06-19.pdf', <http.client.HTTPMessage at 0x1388f38d2c8>)"
     },
     "execution_count": 1,
     "metadata": {},
     "output_type": "execute_result"
    },
    {
     "data": {
      "text/plain": "('../../data/daily_pdf/06-18.pdf', <http.client.HTTPMessage at 0x1388eb8afc8>)"
     },
     "execution_count": 1,
     "metadata": {},
     "output_type": "execute_result"
    },
    {
     "name": "stdout",
     "output_type": "stream",
     "text": [
      "failed to download\n"
     ]
    },
    {
     "data": {
      "text/plain": "('../../data/daily_pdf/06-16.pdf', <http.client.HTTPMessage at 0x1388f38d408>)"
     },
     "execution_count": 1,
     "metadata": {},
     "output_type": "execute_result"
    },
    {
     "data": {
      "text/plain": "('../../data/daily_pdf/06-15.pdf', <http.client.HTTPMessage at 0x1388f384348>)"
     },
     "execution_count": 1,
     "metadata": {},
     "output_type": "execute_result"
    },
    {
     "data": {
      "text/plain": "('../../data/daily_pdf/06-14.pdf', <http.client.HTTPMessage at 0x1388f38d188>)"
     },
     "execution_count": 1,
     "metadata": {},
     "output_type": "execute_result"
    },
    {
     "data": {
      "text/plain": "('../../data/daily_pdf/06-13.pdf', <http.client.HTTPMessage at 0x1388eb89448>)"
     },
     "execution_count": 1,
     "metadata": {},
     "output_type": "execute_result"
    },
    {
     "data": {
      "text/plain": "('../../data/daily_pdf/06-12.pdf', <http.client.HTTPMessage at 0x1388eb8adc8>)"
     },
     "execution_count": 1,
     "metadata": {},
     "output_type": "execute_result"
    },
    {
     "data": {
      "text/plain": "('../../data/daily_pdf/06-11.pdf', <http.client.HTTPMessage at 0x1388eb714c8>)"
     },
     "execution_count": 1,
     "metadata": {},
     "output_type": "execute_result"
    },
    {
     "data": {
      "text/plain": "('../../data/daily_pdf/06-10.pdf', <http.client.HTTPMessage at 0x1388ead1288>)"
     },
     "execution_count": 1,
     "metadata": {},
     "output_type": "execute_result"
    },
    {
     "data": {
      "text/plain": "('../../data/daily_pdf/06-09.pdf', <http.client.HTTPMessage at 0x1388f384dc8>)"
     },
     "execution_count": 1,
     "metadata": {},
     "output_type": "execute_result"
    },
    {
     "data": {
      "text/plain": "('../../data/daily_pdf/06-08.pdf', <http.client.HTTPMessage at 0x1388f38d048>)"
     },
     "execution_count": 1,
     "metadata": {},
     "output_type": "execute_result"
    },
    {
     "data": {
      "text/plain": "('../../data/daily_pdf/06-07.pdf', <http.client.HTTPMessage at 0x1388eb874c8>)"
     },
     "execution_count": 1,
     "metadata": {},
     "output_type": "execute_result"
    },
    {
     "data": {
      "text/plain": "('../../data/daily_pdf/06-06.pdf', <http.client.HTTPMessage at 0x1388eb8a848>)"
     },
     "execution_count": 1,
     "metadata": {},
     "output_type": "execute_result"
    },
    {
     "data": {
      "text/plain": "('../../data/daily_pdf/06-05.pdf', <http.client.HTTPMessage at 0x1388eb8ab48>)"
     },
     "execution_count": 1,
     "metadata": {},
     "output_type": "execute_result"
    },
    {
     "data": {
      "text/plain": "('../../data/daily_pdf/06-04.pdf', <http.client.HTTPMessage at 0x1388eb84ec8>)"
     },
     "execution_count": 1,
     "metadata": {},
     "output_type": "execute_result"
    },
    {
     "data": {
      "text/plain": "('../../data/daily_pdf/06-03.pdf', <http.client.HTTPMessage at 0x1388eb853c8>)"
     },
     "execution_count": 1,
     "metadata": {},
     "output_type": "execute_result"
    },
    {
     "data": {
      "text/plain": "('../../data/daily_pdf/06-02.pdf', <http.client.HTTPMessage at 0x1388f38df48>)"
     },
     "execution_count": 1,
     "metadata": {},
     "output_type": "execute_result"
    },
    {
     "data": {
      "text/plain": "('../../data/daily_pdf/06-01.pdf', <http.client.HTTPMessage at 0x1388eb87bc8>)"
     },
     "execution_count": 1,
     "metadata": {},
     "output_type": "execute_result"
    },
    {
     "data": {
      "text/plain": "('../../data/daily_pdf/05-31.pdf', <http.client.HTTPMessage at 0x1388eb8abc8>)"
     },
     "execution_count": 1,
     "metadata": {},
     "output_type": "execute_result"
    },
    {
     "data": {
      "text/plain": "('../../data/daily_pdf/05-30.pdf', <http.client.HTTPMessage at 0x1388eb8ab48>)"
     },
     "execution_count": 1,
     "metadata": {},
     "output_type": "execute_result"
    },
    {
     "data": {
      "text/plain": "('../../data/daily_pdf/05-29.pdf', <http.client.HTTPMessage at 0x1388f384348>)"
     },
     "execution_count": 1,
     "metadata": {},
     "output_type": "execute_result"
    },
    {
     "data": {
      "text/plain": "('../../data/daily_pdf/05-28.pdf', <http.client.HTTPMessage at 0x1388eb84d88>)"
     },
     "execution_count": 1,
     "metadata": {},
     "output_type": "execute_result"
    },
    {
     "data": {
      "text/plain": "('../../data/daily_pdf/05-27.pdf', <http.client.HTTPMessage at 0x1388f38d808>)"
     },
     "execution_count": 1,
     "metadata": {},
     "output_type": "execute_result"
    },
    {
     "data": {
      "text/plain": "('../../data/daily_pdf/05-26.pdf', <http.client.HTTPMessage at 0x1388eb897c8>)"
     },
     "execution_count": 1,
     "metadata": {},
     "output_type": "execute_result"
    },
    {
     "data": {
      "text/plain": "('../../data/daily_pdf/05-25.pdf', <http.client.HTTPMessage at 0x1388ead1288>)"
     },
     "execution_count": 1,
     "metadata": {},
     "output_type": "execute_result"
    },
    {
     "data": {
      "text/plain": "('../../data/daily_pdf/05-24.pdf', <http.client.HTTPMessage at 0x1388f384788>)"
     },
     "execution_count": 1,
     "metadata": {},
     "output_type": "execute_result"
    },
    {
     "data": {
      "text/plain": "('../../data/daily_pdf/05-23.pdf', <http.client.HTTPMessage at 0x1388eb8aec8>)"
     },
     "execution_count": 1,
     "metadata": {},
     "output_type": "execute_result"
    },
    {
     "data": {
      "text/plain": "('../../data/daily_pdf/05-22.pdf', <http.client.HTTPMessage at 0x1388f38d388>)"
     },
     "execution_count": 1,
     "metadata": {},
     "output_type": "execute_result"
    },
    {
     "data": {
      "text/plain": "('../../data/daily_pdf/05-21.pdf', <http.client.HTTPMessage at 0x1388f38d148>)"
     },
     "execution_count": 1,
     "metadata": {},
     "output_type": "execute_result"
    },
    {
     "data": {
      "text/plain": "('../../data/daily_pdf/05-20.pdf', <http.client.HTTPMessage at 0x1388eb82508>)"
     },
     "execution_count": 1,
     "metadata": {},
     "output_type": "execute_result"
    },
    {
     "data": {
      "text/plain": "('../../data/daily_pdf/05-19.pdf', <http.client.HTTPMessage at 0x1388f384ec8>)"
     },
     "execution_count": 1,
     "metadata": {},
     "output_type": "execute_result"
    },
    {
     "data": {
      "text/plain": "('../../data/daily_pdf/05-18.pdf', <http.client.HTTPMessage at 0x1388eb8ac08>)"
     },
     "execution_count": 1,
     "metadata": {},
     "output_type": "execute_result"
    },
    {
     "data": {
      "text/plain": "('../../data/daily_pdf/05-17.pdf', <http.client.HTTPMessage at 0x1388eb8adc8>)"
     },
     "execution_count": 1,
     "metadata": {},
     "output_type": "execute_result"
    },
    {
     "data": {
      "text/plain": "('../../data/daily_pdf/05-16.pdf', <http.client.HTTPMessage at 0x1388eb84948>)"
     },
     "execution_count": 1,
     "metadata": {},
     "output_type": "execute_result"
    },
    {
     "data": {
      "text/plain": "('../../data/daily_pdf/05-15.pdf', <http.client.HTTPMessage at 0x1388f38da48>)"
     },
     "execution_count": 1,
     "metadata": {},
     "output_type": "execute_result"
    },
    {
     "data": {
      "text/plain": "('../../data/daily_pdf/05-14.pdf', <http.client.HTTPMessage at 0x1388f384d88>)"
     },
     "execution_count": 1,
     "metadata": {},
     "output_type": "execute_result"
    },
    {
     "data": {
      "text/plain": "('../../data/daily_pdf/05-13.pdf', <http.client.HTTPMessage at 0x1388eb89a08>)"
     },
     "execution_count": 1,
     "metadata": {},
     "output_type": "execute_result"
    },
    {
     "data": {
      "text/plain": "('../../data/daily_pdf/05-12.pdf', <http.client.HTTPMessage at 0x1388eb8a888>)"
     },
     "execution_count": 1,
     "metadata": {},
     "output_type": "execute_result"
    },
    {
     "data": {
      "text/plain": "('../../data/daily_pdf/05-11.pdf', <http.client.HTTPMessage at 0x1388eb87408>)"
     },
     "execution_count": 1,
     "metadata": {},
     "output_type": "execute_result"
    },
    {
     "data": {
      "text/plain": "('../../data/daily_pdf/05-10.pdf', <http.client.HTTPMessage at 0x1388f38d808>)"
     },
     "execution_count": 1,
     "metadata": {},
     "output_type": "execute_result"
    },
    {
     "data": {
      "text/plain": "('../../data/daily_pdf/05-09.pdf', <http.client.HTTPMessage at 0x1388eb84208>)"
     },
     "execution_count": 1,
     "metadata": {},
     "output_type": "execute_result"
    },
    {
     "data": {
      "text/plain": "('../../data/daily_pdf/05-08.pdf', <http.client.HTTPMessage at 0x1388f384e08>)"
     },
     "execution_count": 1,
     "metadata": {},
     "output_type": "execute_result"
    },
    {
     "data": {
      "text/plain": "('../../data/daily_pdf/05-07.pdf', <http.client.HTTPMessage at 0x1388e817808>)"
     },
     "execution_count": 1,
     "metadata": {},
     "output_type": "execute_result"
    },
    {
     "data": {
      "text/plain": "('../../data/daily_pdf/05-06.pdf', <http.client.HTTPMessage at 0x1388eb82508>)"
     },
     "execution_count": 1,
     "metadata": {},
     "output_type": "execute_result"
    },
    {
     "data": {
      "text/plain": "('../../data/daily_pdf/05-05.pdf', <http.client.HTTPMessage at 0x1388eb8ac48>)"
     },
     "execution_count": 1,
     "metadata": {},
     "output_type": "execute_result"
    },
    {
     "data": {
      "text/plain": "('../../data/daily_pdf/05-04.pdf', <http.client.HTTPMessage at 0x1388f38dcc8>)"
     },
     "execution_count": 1,
     "metadata": {},
     "output_type": "execute_result"
    },
    {
     "data": {
      "text/plain": "('../../data/daily_pdf/05-03.pdf', <http.client.HTTPMessage at 0x1388f38d808>)"
     },
     "execution_count": 1,
     "metadata": {},
     "output_type": "execute_result"
    },
    {
     "data": {
      "text/plain": "('../../data/daily_pdf/05-02.pdf', <http.client.HTTPMessage at 0x1388f384448>)"
     },
     "execution_count": 1,
     "metadata": {},
     "output_type": "execute_result"
    },
    {
     "data": {
      "text/plain": "('../../data/daily_pdf/05-01.pdf', <http.client.HTTPMessage at 0x1388eb84488>)"
     },
     "execution_count": 1,
     "metadata": {},
     "output_type": "execute_result"
    },
    {
     "data": {
      "text/plain": "('../../data/daily_pdf/04-30.pdf', <http.client.HTTPMessage at 0x1388eb829c8>)"
     },
     "execution_count": 1,
     "metadata": {},
     "output_type": "execute_result"
    },
    {
     "data": {
      "text/plain": "('../../data/daily_pdf/04-29.pdf', <http.client.HTTPMessage at 0x1388eb8ad08>)"
     },
     "execution_count": 1,
     "metadata": {},
     "output_type": "execute_result"
    },
    {
     "data": {
      "text/plain": "('../../data/daily_pdf/04-28.pdf', <http.client.HTTPMessage at 0x1388eb71688>)"
     },
     "execution_count": 1,
     "metadata": {},
     "output_type": "execute_result"
    },
    {
     "data": {
      "text/plain": "('../../data/daily_pdf/04-27.pdf', <http.client.HTTPMessage at 0x1388f384508>)"
     },
     "execution_count": 1,
     "metadata": {},
     "output_type": "execute_result"
    },
    {
     "data": {
      "text/plain": "('../../data/daily_pdf/04-26.pdf', <http.client.HTTPMessage at 0x1388f38d188>)"
     },
     "execution_count": 1,
     "metadata": {},
     "output_type": "execute_result"
    },
    {
     "data": {
      "text/plain": "('../../data/daily_pdf/04-25.pdf', <http.client.HTTPMessage at 0x1388eb87588>)"
     },
     "execution_count": 1,
     "metadata": {},
     "output_type": "execute_result"
    },
    {
     "data": {
      "text/plain": "('../../data/daily_pdf/04-24.pdf', <http.client.HTTPMessage at 0x1388eb82208>)"
     },
     "execution_count": 1,
     "metadata": {},
     "output_type": "execute_result"
    },
    {
     "data": {
      "text/plain": "('../../data/daily_pdf/04-23.pdf', <http.client.HTTPMessage at 0x1388eb8af48>)"
     },
     "execution_count": 1,
     "metadata": {},
     "output_type": "execute_result"
    },
    {
     "data": {
      "text/plain": "('../../data/daily_pdf/04-22.pdf', <http.client.HTTPMessage at 0x1388f38da48>)"
     },
     "execution_count": 1,
     "metadata": {},
     "output_type": "execute_result"
    },
    {
     "data": {
      "text/plain": "('../../data/daily_pdf/04-21.pdf', <http.client.HTTPMessage at 0x1388e817688>)"
     },
     "execution_count": 1,
     "metadata": {},
     "output_type": "execute_result"
    },
    {
     "data": {
      "text/plain": "('../../data/daily_pdf/04-20.pdf', <http.client.HTTPMessage at 0x1388eb857c8>)"
     },
     "execution_count": 1,
     "metadata": {},
     "output_type": "execute_result"
    },
    {
     "data": {
      "text/plain": "('../../data/daily_pdf/04-19.pdf', <http.client.HTTPMessage at 0x1388f384e48>)"
     },
     "execution_count": 1,
     "metadata": {},
     "output_type": "execute_result"
    },
    {
     "data": {
      "text/plain": "('../../data/daily_pdf/04-18.pdf', <http.client.HTTPMessage at 0x1388eb87988>)"
     },
     "execution_count": 1,
     "metadata": {},
     "output_type": "execute_result"
    },
    {
     "data": {
      "text/plain": "('../../data/daily_pdf/04-17.pdf', <http.client.HTTPMessage at 0x1388eb8abc8>)"
     },
     "execution_count": 1,
     "metadata": {},
     "output_type": "execute_result"
    },
    {
     "data": {
      "text/plain": "('../../data/daily_pdf/04-16.pdf', <http.client.HTTPMessage at 0x1388eb8ac48>)"
     },
     "execution_count": 1,
     "metadata": {},
     "output_type": "execute_result"
    },
    {
     "data": {
      "text/plain": "('../../data/daily_pdf/04-15.pdf', <http.client.HTTPMessage at 0x1388eb89c88>)"
     },
     "execution_count": 1,
     "metadata": {},
     "output_type": "execute_result"
    },
    {
     "data": {
      "text/plain": "('../../data/daily_pdf/04-14.pdf', <http.client.HTTPMessage at 0x1388e817908>)"
     },
     "execution_count": 1,
     "metadata": {},
     "output_type": "execute_result"
    },
    {
     "data": {
      "text/plain": "('../../data/daily_pdf/04-13.pdf', <http.client.HTTPMessage at 0x1388eb87d08>)"
     },
     "execution_count": 1,
     "metadata": {},
     "output_type": "execute_result"
    },
    {
     "data": {
      "text/plain": "('../../data/daily_pdf/04-12.pdf', <http.client.HTTPMessage at 0x1388eb8a888>)"
     },
     "execution_count": 1,
     "metadata": {},
     "output_type": "execute_result"
    },
    {
     "data": {
      "text/plain": "('../../data/daily_pdf/04-11.pdf', <http.client.HTTPMessage at 0x1388eb8ab88>)"
     },
     "execution_count": 1,
     "metadata": {},
     "output_type": "execute_result"
    },
    {
     "data": {
      "text/plain": "('../../data/daily_pdf/04-10.pdf', <http.client.HTTPMessage at 0x1388f38d088>)"
     },
     "execution_count": 1,
     "metadata": {},
     "output_type": "execute_result"
    },
    {
     "data": {
      "text/plain": "('../../data/daily_pdf/04-09.pdf', <http.client.HTTPMessage at 0x1388eb87708>)"
     },
     "execution_count": 1,
     "metadata": {},
     "output_type": "execute_result"
    },
    {
     "data": {
      "text/plain": "('../../data/daily_pdf/04-08.pdf', <http.client.HTTPMessage at 0x1388eb43c08>)"
     },
     "execution_count": 1,
     "metadata": {},
     "output_type": "execute_result"
    },
    {
     "data": {
      "text/plain": "('../../data/daily_pdf/04-07.pdf', <http.client.HTTPMessage at 0x1388f3842c8>)"
     },
     "execution_count": 1,
     "metadata": {},
     "output_type": "execute_result"
    },
    {
     "data": {
      "text/plain": "('../../data/daily_pdf/04-06.pdf', <http.client.HTTPMessage at 0x1388eb8a948>)"
     },
     "execution_count": 1,
     "metadata": {},
     "output_type": "execute_result"
    },
    {
     "data": {
      "text/plain": "('../../data/daily_pdf/04-05.pdf', <http.client.HTTPMessage at 0x1388eb84948>)"
     },
     "execution_count": 1,
     "metadata": {},
     "output_type": "execute_result"
    },
    {
     "data": {
      "text/plain": "('../../data/daily_pdf/04-04.pdf', <http.client.HTTPMessage at 0x1388eb897c8>)"
     },
     "execution_count": 1,
     "metadata": {},
     "output_type": "execute_result"
    },
    {
     "data": {
      "text/plain": "('../../data/daily_pdf/04-03.pdf', <http.client.HTTPMessage at 0x1388f38d4c8>)"
     },
     "execution_count": 1,
     "metadata": {},
     "output_type": "execute_result"
    },
    {
     "data": {
      "text/plain": "('../../data/daily_pdf/04-02.pdf', <http.client.HTTPMessage at 0x1388eb858c8>)"
     },
     "execution_count": 1,
     "metadata": {},
     "output_type": "execute_result"
    },
    {
     "data": {
      "text/plain": "('../../data/daily_pdf/04-01.pdf', <http.client.HTTPMessage at 0x1388eb8af88>)"
     },
     "execution_count": 1,
     "metadata": {},
     "output_type": "execute_result"
    },
    {
     "data": {
      "text/plain": "('../../data/daily_pdf/03-31.pdf', <http.client.HTTPMessage at 0x1388eb8a408>)"
     },
     "execution_count": 1,
     "metadata": {},
     "output_type": "execute_result"
    }
   ],
   "source": [
    "from urllib.request import urlopen, urlretrieve\n",
    "from urllib.parse import urljoin, quote\n",
    "\n",
    "from bs4 import BeautifulSoup\n",
    "\n",
    "url = 'http://www.epid.gov.lk/web/index.php?option=com_content&view=article&id=225&Itemid=518&lang=en'\n",
    "u = urlopen(url)\n",
    "try:\n",
    "    html = u.read().decode('utf-8')\n",
    "finally:\n",
    "    u.close()\n",
    "\n",
    "soup = BeautifulSoup(html)\n",
    "for link in soup.select('p a'):\n",
    "    href = link.get('href')\n",
    "    if href.startswith('javascript:'):\n",
    "        continue\n",
    "\n",
    "    filename = href.rsplit('/', 1)[-1]\n",
    "    if (filename == 'sitrep-sl-en-30-03_10.pdf'):\n",
    "        break\n",
    "\n",
    "    parts = filename.split('-')\n",
    "    dw_name = parts[4][:2]+'-'+parts[3]+'.pdf'\n",
    "    try:\n",
    "        if (parts[1] == 'sl' and parts[2] == 'en' and filename != 'dailyreportcoronavirussin.pdf'):\n",
    "            href = urljoin(url, quote(href))\n",
    "            try:\n",
    "                urlretrieve(href, '../../data/daily_pdf/'+dw_name)\n",
    "            except:\n",
    "                 print('failed to download')\n",
    "\n",
    "    except:\n",
    "        print(filename)"
   ]
  }
 ],
 "metadata": {
  "kernelspec": {
   "display_name": "Python 3",
   "language": "python",
   "name": "python3"
  },
  "language_info": {
   "codemirror_mode": {
    "name": "ipython",
    "version": 2
   },
   "file_extension": ".py",
   "mimetype": "text/x-python",
   "name": "python",
   "nbconvert_exporter": "python",
   "pygments_lexer": "ipython2",
   "version": "2.7.6"
  }
 },
 "nbformat": 4,
 "nbformat_minor": 0
}