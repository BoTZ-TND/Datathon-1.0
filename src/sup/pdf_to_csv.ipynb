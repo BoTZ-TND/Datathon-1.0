{
 "cells": [
  {
   "cell_type": "code",
   "execution_count": null,
   "metadata": {
    "collapsed": true,
    "pycharm": {
     "is_executing": true
    }
   },
   "outputs": [],
   "source": [
    "import tabula\n",
    "import pandas as pd\n",
    "from os import path"
   ]
  },
  {
   "cell_type": "code",
   "execution_count": 2,
   "outputs": [],
   "source": [
    "def to_csv(f_name):\n",
    "    root = '../../data/daily_pdf/'\n",
    "\n",
    "    dist_table = tabula.read_pdf(root+f_name+'.pdf', pages = 2, area = (57,338,655,570))\n",
    "    hosp_table = tabula.read_pdf(root+f_name+'.pdf', pages = 2, area = (98,36,545,312))\n",
    "    dist_table[0].to_csv('../../data/daily_csv_dist/'+f_name+'.csv',index=False)\n",
    "    hosp_table[0].to_csv('../../data/daily_csv_hos/'+f_name+'.csv',index=False)"
   ],
   "metadata": {
    "collapsed": false,
    "pycharm": {
     "name": "#%%\n"
    }
   }
  },
  {
   "cell_type": "code",
   "execution_count": 3,
   "outputs": [],
   "source": [
    "for i in range(4,11):\n",
    "    for j in range(1,32):\n",
    "        file_name = '{:02d}-{:02d}'.format(i,j)\n",
    "        if (path.exists('../../data/daily_pdf/'+file_name+'.pdf')):\n",
    "            to_csv(file_name)"
   ],
   "metadata": {
    "collapsed": false,
    "pycharm": {
     "name": "#%%\n"
    }
   }
  }
 ],
 "metadata": {
  "kernelspec": {
   "display_name": "Python 3",
   "language": "python",
   "name": "python3"
  },
  "language_info": {
   "codemirror_mode": {
    "name": "ipython",
    "version": 2
   },
   "file_extension": ".py",
   "mimetype": "text/x-python",
   "name": "python",
   "nbconvert_exporter": "python",
   "pygments_lexer": "ipython2",
   "version": "2.7.6"
  }
 },
 "nbformat": 4,
 "nbformat_minor": 0
}