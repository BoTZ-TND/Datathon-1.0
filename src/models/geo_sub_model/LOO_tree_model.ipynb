{
 "cells": [
  {
   "cell_type": "markdown",
   "metadata": {
    "collapsed": true,
    "pycharm": {
     "name": "#%% md\n"
    }
   },
   "source": [
    "Random forrest regressor with leave one out cross validation schema."
   ]
  },
  {
   "cell_type": "code",
   "execution_count": 1,
   "outputs": [],
   "source": [
    "import numpy as np\n",
    "import pandas as pd\n",
    "from sklearn.ensemble import RandomForestRegressor\n",
    "from sklearn.model_selection import GridSearchCV"
   ],
   "metadata": {
    "collapsed": false,
    "pycharm": {
     "name": "#%%\n"
    }
   }
  },
  {
   "cell_type": "code",
   "execution_count": 2,
   "outputs": [
    {
     "data": {
      "text/plain": "   continent  gdp_per_capita  hospital_beds_per_thousand  \\\n0          1        1803.987                         0.5   \n1          1        1803.987                         0.5   \n2          1        1803.987                         0.5   \n3          1        1803.987                         0.5   \n4          1        1803.987                         0.5   \n\n   human_development_index  life_expectancy  population  population_density  \\\n0                    0.498            64.83  38928341.0              54.422   \n1                    0.498            64.83  38928341.0              54.422   \n2                    0.498            64.83  38928341.0              54.422   \n3                    0.498            64.83  38928341.0              54.422   \n4                    0.498            64.83  38928341.0              54.422   \n\n   gradient  \n0       0.0  \n1       0.0  \n2       0.0  \n3       0.0  \n4       0.0  ",
      "text/html": "<div>\n<style scoped>\n    .dataframe tbody tr th:only-of-type {\n        vertical-align: middle;\n    }\n\n    .dataframe tbody tr th {\n        vertical-align: top;\n    }\n\n    .dataframe thead th {\n        text-align: right;\n    }\n</style>\n<table border=\"1\" class=\"dataframe\">\n  <thead>\n    <tr style=\"text-align: right;\">\n      <th></th>\n      <th>continent</th>\n      <th>gdp_per_capita</th>\n      <th>hospital_beds_per_thousand</th>\n      <th>human_development_index</th>\n      <th>life_expectancy</th>\n      <th>population</th>\n      <th>population_density</th>\n      <th>gradient</th>\n    </tr>\n  </thead>\n  <tbody>\n    <tr>\n      <th>0</th>\n      <td>1</td>\n      <td>1803.987</td>\n      <td>0.5</td>\n      <td>0.498</td>\n      <td>64.83</td>\n      <td>38928341.0</td>\n      <td>54.422</td>\n      <td>0.0</td>\n    </tr>\n    <tr>\n      <th>1</th>\n      <td>1</td>\n      <td>1803.987</td>\n      <td>0.5</td>\n      <td>0.498</td>\n      <td>64.83</td>\n      <td>38928341.0</td>\n      <td>54.422</td>\n      <td>0.0</td>\n    </tr>\n    <tr>\n      <th>2</th>\n      <td>1</td>\n      <td>1803.987</td>\n      <td>0.5</td>\n      <td>0.498</td>\n      <td>64.83</td>\n      <td>38928341.0</td>\n      <td>54.422</td>\n      <td>0.0</td>\n    </tr>\n    <tr>\n      <th>3</th>\n      <td>1</td>\n      <td>1803.987</td>\n      <td>0.5</td>\n      <td>0.498</td>\n      <td>64.83</td>\n      <td>38928341.0</td>\n      <td>54.422</td>\n      <td>0.0</td>\n    </tr>\n    <tr>\n      <th>4</th>\n      <td>1</td>\n      <td>1803.987</td>\n      <td>0.5</td>\n      <td>0.498</td>\n      <td>64.83</td>\n      <td>38928341.0</td>\n      <td>54.422</td>\n      <td>0.0</td>\n    </tr>\n  </tbody>\n</table>\n</div>"
     },
     "execution_count": 2,
     "metadata": {},
     "output_type": "execute_result"
    }
   ],
   "source": [
    "init_df = pd.read_csv('../../../data/geo_mode_data/final.csv')\n",
    "init_df.head()"
   ],
   "metadata": {
    "collapsed": false,
    "pycharm": {
     "name": "#%%\n"
    }
   }
  },
  {
   "cell_type": "code",
   "execution_count": 4,
   "outputs": [],
   "source": [
    "train_y = init_df['gradient']\n",
    "train_X = init_df.drop(['gradient'],axis=1)"
   ],
   "metadata": {
    "collapsed": false,
    "pycharm": {
     "name": "#%%\n"
    }
   }
  },
  {
   "cell_type": "code",
   "execution_count": 5,
   "outputs": [],
   "source": [
    "params = [\n",
    "    {'bootstrap': [False, True],\n",
    "     'n_estimators': [80,90, 100, 110, 130],\n",
    "     'max_features': [0.6, 0.65, 0.7, 0.73, 0.7500000000000001, 0.78, 0.8],\n",
    "     'min_samples_leaf': [10, 12, 14],\n",
    "     'min_samples_split': [3, 5, 7]\n",
    "    },\n",
    "]"
   ],
   "metadata": {
    "collapsed": false,
    "pycharm": {
     "name": "#%%\n"
    }
   }
  },
  {
   "cell_type": "code",
   "execution_count": 6,
   "outputs": [
    {
     "data": {
      "text/plain": "GridSearchCV(cv=10, estimator=RandomForestRegressor(),\n             param_grid=[{'bootstrap': [False, True],\n                          'max_features': [0.6, 0.65, 0.7, 0.73,\n                                           0.7500000000000001, 0.78, 0.8],\n                          'min_samples_leaf': [10, 12, 14],\n                          'min_samples_split': [3, 5, 7],\n                          'n_estimators': [80, 90, 100, 110, 130]}],\n             return_train_score=True, scoring='neg_mean_squared_error')"
     },
     "execution_count": 6,
     "metadata": {},
     "output_type": "execute_result"
    }
   ],
   "source": [
    "rnd_frr_reg = RandomForestRegressor()\n",
    "rnd_frr_grid = GridSearchCV(rnd_frr_reg,params,\n",
    "                            scoring = 'neg_mean_squared_error', cv = 10,\n",
    "                            return_train_score = True)\n",
    "rnd_frr_grid.fit(train_X,train_y)\n"
   ],
   "metadata": {
    "collapsed": false,
    "pycharm": {
     "name": "#%%\n"
    }
   }
  },
  {
   "cell_type": "code",
   "execution_count": 7,
   "outputs": [
    {
     "name": "stdout",
     "output_type": "stream",
     "text": [
      "-4487271.035369985\n",
      "{'bootstrap': False, 'max_features': 0.7, 'min_samples_leaf': 14, 'min_samples_split': 5, 'n_estimators': 80}\n",
      "125\n"
     ]
    }
   ],
   "source": [
    "print(rnd_frr_grid.best_score_)\n",
    "print(rnd_frr_grid.best_params_)\n",
    "print(rnd_frr_grid.best_index_)\n",
    "opt_model = rnd_frr_grid.best_estimator_"
   ],
   "metadata": {
    "collapsed": false,
    "pycharm": {
     "name": "#%%\n"
    }
   }
  },
  {
   "cell_type": "code",
   "execution_count": 10,
   "outputs": [
    {
     "data": {
      "text/plain": "   continent  gdp_per_capita  hospital_beds_per_thousand  \\\n0          1         5743.47                        5.51   \n1          1         5725.22                        2.35   \n2          1         5725.22                        2.17   \n3          1         3383.03                        3.59   \n4          1         3383.03                        2.68   \n\n   human_development_index  life_expectancy  Population  population_density  \n0                    0.710             73.0     2448000                3502  \n1                    0.752             73.2     2417000                1743  \n2                    0.733             73.2     1284000                 804  \n3                    0.688             73.1     1130000                 684  \n4                    0.690             73.9      863000                 673  ",
      "text/html": "<div>\n<style scoped>\n    .dataframe tbody tr th:only-of-type {\n        vertical-align: middle;\n    }\n\n    .dataframe tbody tr th {\n        vertical-align: top;\n    }\n\n    .dataframe thead th {\n        text-align: right;\n    }\n</style>\n<table border=\"1\" class=\"dataframe\">\n  <thead>\n    <tr style=\"text-align: right;\">\n      <th></th>\n      <th>continent</th>\n      <th>gdp_per_capita</th>\n      <th>hospital_beds_per_thousand</th>\n      <th>human_development_index</th>\n      <th>life_expectancy</th>\n      <th>Population</th>\n      <th>population_density</th>\n    </tr>\n  </thead>\n  <tbody>\n    <tr>\n      <th>0</th>\n      <td>1</td>\n      <td>5743.47</td>\n      <td>5.51</td>\n      <td>0.710</td>\n      <td>73.0</td>\n      <td>2448000</td>\n      <td>3502</td>\n    </tr>\n    <tr>\n      <th>1</th>\n      <td>1</td>\n      <td>5725.22</td>\n      <td>2.35</td>\n      <td>0.752</td>\n      <td>73.2</td>\n      <td>2417000</td>\n      <td>1743</td>\n    </tr>\n    <tr>\n      <th>2</th>\n      <td>1</td>\n      <td>5725.22</td>\n      <td>2.17</td>\n      <td>0.733</td>\n      <td>73.2</td>\n      <td>1284000</td>\n      <td>804</td>\n    </tr>\n    <tr>\n      <th>3</th>\n      <td>1</td>\n      <td>3383.03</td>\n      <td>3.59</td>\n      <td>0.688</td>\n      <td>73.1</td>\n      <td>1130000</td>\n      <td>684</td>\n    </tr>\n    <tr>\n      <th>4</th>\n      <td>1</td>\n      <td>3383.03</td>\n      <td>2.68</td>\n      <td>0.690</td>\n      <td>73.9</td>\n      <td>863000</td>\n      <td>673</td>\n    </tr>\n  </tbody>\n</table>\n</div>"
     },
     "execution_count": 10,
     "metadata": {},
     "output_type": "execute_result"
    }
   ],
   "source": [
    "df = pd.read_csv('../../../data/geo_mode_data/test.csv')\n",
    "test_df=df.drop('index',axis=1)\n",
    "test_df.head()"
   ],
   "metadata": {
    "collapsed": false,
    "pycharm": {
     "name": "#%%\n"
    }
   }
  },
  {
   "cell_type": "code",
   "execution_count": 11,
   "outputs": [],
   "source": [
    "preds = opt_model.predict(test_df)"
   ],
   "metadata": {
    "collapsed": false,
    "pycharm": {
     "name": "#%%\n"
    }
   }
  },
  {
   "cell_type": "code",
   "execution_count": 12,
   "outputs": [
    {
     "name": "stdout",
     "output_type": "stream",
     "text": [
      "[202.83694011 205.94062745  42.21359128  24.19780526  26.03606339\n",
      "  29.91157261  27.27375477  18.39009535 129.19162283  15.22252269\n",
      "  25.05576241  16.18568876  28.33577089  20.90804222  20.14961137\n",
      "  22.56091583 134.25711418  17.95959537  19.08344243  23.10944961\n",
      "  19.81217785  15.97008245  20.12517243  17.13843793  24.85016422]\n"
     ]
    }
   ],
   "source": [
    "print(preds)"
   ],
   "metadata": {
    "collapsed": false,
    "pycharm": {
     "name": "#%%\n"
    }
   }
  },
  {
   "cell_type": "code",
   "execution_count": 13,
   "outputs": [],
   "source": [
    "df['EDA'] = preds\n",
    "df.to_csv('../../../data/main_data/EDA.csv',index=False)"
   ],
   "metadata": {
    "collapsed": false,
    "pycharm": {
     "name": "#%%\n"
    }
   }
  },
  {
   "cell_type": "code",
   "execution_count": null,
   "outputs": [],
   "source": [],
   "metadata": {
    "collapsed": false,
    "pycharm": {
     "name": "#%%\n"
    }
   }
  }
 ],
 "metadata": {
  "kernelspec": {
   "display_name": "Python 3",
   "language": "python",
   "name": "python3"
  },
  "language_info": {
   "codemirror_mode": {
    "name": "ipython",
    "version": 2
   },
   "file_extension": ".py",
   "mimetype": "text/x-python",
   "name": "python",
   "nbconvert_exporter": "python",
   "pygments_lexer": "ipython2",
   "version": "2.7.6"
  }
 },
 "nbformat": 4,
 "nbformat_minor": 0
}