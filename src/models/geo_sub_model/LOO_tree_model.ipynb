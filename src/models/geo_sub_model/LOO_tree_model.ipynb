{
 "cells": [
  {
   "cell_type": "markdown",
   "metadata": {
    "collapsed": true,
    "pycharm": {
     "name": "#%% md\n"
    }
   },
   "source": [
    "Random forrest regressor with leave one out cross validation schema."
   ]
  },
  {
   "cell_type": "code",
   "execution_count": 1,
   "outputs": [],
   "source": [
    "import numpy as np\n",
    "import pandas as pd\n",
    "from sklearn.ensemble import RandomForestRegressor\n",
    "from sklearn.model_selection import GridSearchCV"
   ],
   "metadata": {
    "collapsed": false,
    "pycharm": {
     "name": "#%%\n"
    }
   }
  },
  {
   "cell_type": "code",
   "execution_count": 2,
   "outputs": [
    {
     "data": {
      "text/plain": "      location  grad continent  gdp_per_capita  cardiovasc_death_rate  \\\n0  Afghanistan   0.0      Asia        1803.987                597.029   \n1  Afghanistan   0.0      Asia        1803.987                597.029   \n2  Afghanistan   0.0      Asia        1803.987                597.029   \n3  Afghanistan   0.0      Asia        1803.987                597.029   \n4  Afghanistan   0.0      Asia        1803.987                597.029   \n\n   hospital_beds_per_thousand  life_expectancy  new_cases  \n0                         0.5            64.83    41425.0  \n1                         0.5            64.83    41425.0  \n2                         0.5            64.83    41425.0  \n3                         0.5            64.83    41425.0  \n4                         0.5            64.83    41425.0  ",
      "text/html": "<div>\n<style scoped>\n    .dataframe tbody tr th:only-of-type {\n        vertical-align: middle;\n    }\n\n    .dataframe tbody tr th {\n        vertical-align: top;\n    }\n\n    .dataframe thead th {\n        text-align: right;\n    }\n</style>\n<table border=\"1\" class=\"dataframe\">\n  <thead>\n    <tr style=\"text-align: right;\">\n      <th></th>\n      <th>location</th>\n      <th>grad</th>\n      <th>continent</th>\n      <th>gdp_per_capita</th>\n      <th>cardiovasc_death_rate</th>\n      <th>hospital_beds_per_thousand</th>\n      <th>life_expectancy</th>\n      <th>new_cases</th>\n    </tr>\n  </thead>\n  <tbody>\n    <tr>\n      <th>0</th>\n      <td>Afghanistan</td>\n      <td>0.0</td>\n      <td>Asia</td>\n      <td>1803.987</td>\n      <td>597.029</td>\n      <td>0.5</td>\n      <td>64.83</td>\n      <td>41425.0</td>\n    </tr>\n    <tr>\n      <th>1</th>\n      <td>Afghanistan</td>\n      <td>0.0</td>\n      <td>Asia</td>\n      <td>1803.987</td>\n      <td>597.029</td>\n      <td>0.5</td>\n      <td>64.83</td>\n      <td>41425.0</td>\n    </tr>\n    <tr>\n      <th>2</th>\n      <td>Afghanistan</td>\n      <td>0.0</td>\n      <td>Asia</td>\n      <td>1803.987</td>\n      <td>597.029</td>\n      <td>0.5</td>\n      <td>64.83</td>\n      <td>41425.0</td>\n    </tr>\n    <tr>\n      <th>3</th>\n      <td>Afghanistan</td>\n      <td>0.0</td>\n      <td>Asia</td>\n      <td>1803.987</td>\n      <td>597.029</td>\n      <td>0.5</td>\n      <td>64.83</td>\n      <td>41425.0</td>\n    </tr>\n    <tr>\n      <th>4</th>\n      <td>Afghanistan</td>\n      <td>0.0</td>\n      <td>Asia</td>\n      <td>1803.987</td>\n      <td>597.029</td>\n      <td>0.5</td>\n      <td>64.83</td>\n      <td>41425.0</td>\n    </tr>\n  </tbody>\n</table>\n</div>"
     },
     "execution_count": 2,
     "metadata": {},
     "output_type": "execute_result"
    }
   ],
   "source": [
    "init_df = pd.read_csv('../../../data/geo_mode_data/final.csv')\n",
    "init_df.head()"
   ],
   "metadata": {
    "collapsed": false,
    "pycharm": {
     "name": "#%%\n"
    }
   }
  },
  {
   "cell_type": "code",
   "execution_count": 6,
   "outputs": [],
   "source": [
    "filt_df = init_df.drop(['location','new_cases'],axis=1)"
   ],
   "metadata": {
    "collapsed": false,
    "pycharm": {
     "name": "#%%\n"
    }
   }
  },
  {
   "cell_type": "code",
   "execution_count": 7,
   "outputs": [],
   "source": [
    "continent_target_mean = filt_df.groupby('continent').grad.mean()\n",
    "\n",
    "filt_df['continent_enc'] = filt_df['continent'].map(continent_target_mean)"
   ],
   "metadata": {
    "collapsed": false,
    "pycharm": {
     "name": "#%%\n"
    }
   }
  },
  {
   "cell_type": "code",
   "execution_count": 9,
   "outputs": [
    {
     "data": {
      "text/plain": "   grad continent  gdp_per_capita  cardiovasc_death_rate  \\\n0   0.0      Asia        1803.987                597.029   \n1   0.0      Asia        1803.987                597.029   \n2   0.0      Asia        1803.987                597.029   \n3   0.0      Asia        1803.987                597.029   \n4   0.0      Asia        1803.987                597.029   \n\n   hospital_beds_per_thousand  life_expectancy  continent_enc  \n0                         0.5            64.83     152.461823  \n1                         0.5            64.83     152.461823  \n2                         0.5            64.83     152.461823  \n3                         0.5            64.83     152.461823  \n4                         0.5            64.83     152.461823  ",
      "text/html": "<div>\n<style scoped>\n    .dataframe tbody tr th:only-of-type {\n        vertical-align: middle;\n    }\n\n    .dataframe tbody tr th {\n        vertical-align: top;\n    }\n\n    .dataframe thead th {\n        text-align: right;\n    }\n</style>\n<table border=\"1\" class=\"dataframe\">\n  <thead>\n    <tr style=\"text-align: right;\">\n      <th></th>\n      <th>grad</th>\n      <th>continent</th>\n      <th>gdp_per_capita</th>\n      <th>cardiovasc_death_rate</th>\n      <th>hospital_beds_per_thousand</th>\n      <th>life_expectancy</th>\n      <th>continent_enc</th>\n    </tr>\n  </thead>\n  <tbody>\n    <tr>\n      <th>0</th>\n      <td>0.0</td>\n      <td>Asia</td>\n      <td>1803.987</td>\n      <td>597.029</td>\n      <td>0.5</td>\n      <td>64.83</td>\n      <td>152.461823</td>\n    </tr>\n    <tr>\n      <th>1</th>\n      <td>0.0</td>\n      <td>Asia</td>\n      <td>1803.987</td>\n      <td>597.029</td>\n      <td>0.5</td>\n      <td>64.83</td>\n      <td>152.461823</td>\n    </tr>\n    <tr>\n      <th>2</th>\n      <td>0.0</td>\n      <td>Asia</td>\n      <td>1803.987</td>\n      <td>597.029</td>\n      <td>0.5</td>\n      <td>64.83</td>\n      <td>152.461823</td>\n    </tr>\n    <tr>\n      <th>3</th>\n      <td>0.0</td>\n      <td>Asia</td>\n      <td>1803.987</td>\n      <td>597.029</td>\n      <td>0.5</td>\n      <td>64.83</td>\n      <td>152.461823</td>\n    </tr>\n    <tr>\n      <th>4</th>\n      <td>0.0</td>\n      <td>Asia</td>\n      <td>1803.987</td>\n      <td>597.029</td>\n      <td>0.5</td>\n      <td>64.83</td>\n      <td>152.461823</td>\n    </tr>\n  </tbody>\n</table>\n</div>"
     },
     "execution_count": 9,
     "metadata": {},
     "output_type": "execute_result"
    }
   ],
   "source": [
    "filt_df.head()"
   ],
   "metadata": {
    "collapsed": false,
    "pycharm": {
     "name": "#%%\n"
    }
   }
  },
  {
   "cell_type": "code",
   "execution_count": 10,
   "outputs": [],
   "source": [
    "train_y = filt_df['grad']\n",
    "train_X = filt_df.drop(['grad','continent'],axis=1)"
   ],
   "metadata": {
    "collapsed": false,
    "pycharm": {
     "name": "#%%\n"
    }
   }
  },
  {
   "cell_type": "code",
   "execution_count": 11,
   "outputs": [],
   "source": [
    "params = [\n",
    "    {\n",
    "        'n_estimators' : [30,40],\n",
    "        'max_features' : [2,4],\n",
    "    }\n",
    "]"
   ],
   "metadata": {
    "collapsed": false,
    "pycharm": {
     "name": "#%%\n"
    }
   }
  },
  {
   "cell_type": "code",
   "execution_count": 12,
   "outputs": [
    {
     "data": {
      "text/plain": "GridSearchCV(cv=10, estimator=RandomForestRegressor(),\n             param_grid=[{'max_features': [2, 4], 'n_estimators': [30, 40]}],\n             return_train_score=True, scoring='neg_mean_squared_error')"
     },
     "execution_count": 12,
     "metadata": {},
     "output_type": "execute_result"
    }
   ],
   "source": [
    "rnd_frr_reg = RandomForestRegressor()\n",
    "rnd_frr_grid = GridSearchCV(rnd_frr_reg,params,\n",
    "                            scoring = 'neg_mean_squared_error', cv = 10,\n",
    "                            return_train_score = True)\n",
    "rnd_frr_grid.fit(train_X,train_y)\n"
   ],
   "metadata": {
    "collapsed": false,
    "pycharm": {
     "name": "#%%\n"
    }
   }
  },
  {
   "cell_type": "code",
   "execution_count": 13,
   "outputs": [
    {
     "data": {
      "text/plain": "-4327783.135322614"
     },
     "execution_count": 13,
     "metadata": {},
     "output_type": "execute_result"
    }
   ],
   "source": [
    "rnd_frr_grid.best_score_"
   ],
   "metadata": {
    "collapsed": false,
    "pycharm": {
     "name": "#%%\n"
    }
   }
  },
  {
   "cell_type": "code",
   "execution_count": null,
   "outputs": [],
   "source": [],
   "metadata": {
    "collapsed": false,
    "pycharm": {
     "name": "#%%\n"
    }
   }
  }
 ],
 "metadata": {
  "kernelspec": {
   "display_name": "Python 3",
   "language": "python",
   "name": "python3"
  },
  "language_info": {
   "codemirror_mode": {
    "name": "ipython",
    "version": 2
   },
   "file_extension": ".py",
   "mimetype": "text/x-python",
   "name": "python",
   "nbconvert_exporter": "python",
   "pygments_lexer": "ipython2",
   "version": "2.7.6"
  }
 },
 "nbformat": 4,
 "nbformat_minor": 0
}