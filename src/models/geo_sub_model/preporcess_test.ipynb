{
 "cells": [
  {
   "cell_type": "code",
   "execution_count": 2,
   "metadata": {
    "collapsed": true
   },
   "outputs": [],
   "source": [
    "import numpy as np\n",
    "import pandas as pd"
   ]
  },
  {
   "cell_type": "code",
   "execution_count": 3,
   "outputs": [
    {
     "data": {
      "text/plain": "  iso_code continent     location        date  total_cases  new_cases  \\\n0      AFG      Asia  Afghanistan  12/31/2019          NaN        0.0   \n1      AFG      Asia  Afghanistan    1/1/2020          NaN        0.0   \n2      AFG      Asia  Afghanistan    1/2/2020          NaN        0.0   \n3      AFG      Asia  Afghanistan    1/3/2020          NaN        0.0   \n4      AFG      Asia  Afghanistan    1/4/2020          NaN        0.0   \n5      AFG      Asia  Afghanistan    1/5/2020          NaN        0.0   \n6      AFG      Asia  Afghanistan    1/6/2020          NaN        0.0   \n7      AFG      Asia  Afghanistan    1/7/2020          NaN        0.0   \n8      AFG      Asia  Afghanistan    1/8/2020          NaN        0.0   \n9      AFG      Asia  Afghanistan    1/9/2020          NaN        0.0   \n\n   new_cases_smoothed  total_deaths  new_deaths  new_deaths_smoothed  ...  \\\n0                 NaN           NaN         0.0                  NaN  ...   \n1                 NaN           NaN         0.0                  NaN  ...   \n2                 NaN           NaN         0.0                  NaN  ...   \n3                 NaN           NaN         0.0                  NaN  ...   \n4                 NaN           NaN         0.0                  NaN  ...   \n5                 NaN           NaN         0.0                  NaN  ...   \n6                 0.0           NaN         0.0                  0.0  ...   \n7                 0.0           NaN         0.0                  0.0  ...   \n8                 0.0           NaN         0.0                  0.0  ...   \n9                 0.0           NaN         0.0                  0.0  ...   \n\n   gdp_per_capita  extreme_poverty  cardiovasc_death_rate  \\\n0        1803.987              NaN                597.029   \n1        1803.987              NaN                597.029   \n2        1803.987              NaN                597.029   \n3        1803.987              NaN                597.029   \n4        1803.987              NaN                597.029   \n5        1803.987              NaN                597.029   \n6        1803.987              NaN                597.029   \n7        1803.987              NaN                597.029   \n8        1803.987              NaN                597.029   \n9        1803.987              NaN                597.029   \n\n   diabetes_prevalence  female_smokers  male_smokers  handwashing_facilities  \\\n0                 9.59             NaN           NaN                  37.746   \n1                 9.59             NaN           NaN                  37.746   \n2                 9.59             NaN           NaN                  37.746   \n3                 9.59             NaN           NaN                  37.746   \n4                 9.59             NaN           NaN                  37.746   \n5                 9.59             NaN           NaN                  37.746   \n6                 9.59             NaN           NaN                  37.746   \n7                 9.59             NaN           NaN                  37.746   \n8                 9.59             NaN           NaN                  37.746   \n9                 9.59             NaN           NaN                  37.746   \n\n   hospital_beds_per_thousand  life_expectancy  human_development_index  \n0                         0.5            64.83                    0.498  \n1                         0.5            64.83                    0.498  \n2                         0.5            64.83                    0.498  \n3                         0.5            64.83                    0.498  \n4                         0.5            64.83                    0.498  \n5                         0.5            64.83                    0.498  \n6                         0.5            64.83                    0.498  \n7                         0.5            64.83                    0.498  \n8                         0.5            64.83                    0.498  \n9                         0.5            64.83                    0.498  \n\n[10 rows x 49 columns]",
      "text/html": "<div>\n<style scoped>\n    .dataframe tbody tr th:only-of-type {\n        vertical-align: middle;\n    }\n\n    .dataframe tbody tr th {\n        vertical-align: top;\n    }\n\n    .dataframe thead th {\n        text-align: right;\n    }\n</style>\n<table border=\"1\" class=\"dataframe\">\n  <thead>\n    <tr style=\"text-align: right;\">\n      <th></th>\n      <th>iso_code</th>\n      <th>continent</th>\n      <th>location</th>\n      <th>date</th>\n      <th>total_cases</th>\n      <th>new_cases</th>\n      <th>new_cases_smoothed</th>\n      <th>total_deaths</th>\n      <th>new_deaths</th>\n      <th>new_deaths_smoothed</th>\n      <th>...</th>\n      <th>gdp_per_capita</th>\n      <th>extreme_poverty</th>\n      <th>cardiovasc_death_rate</th>\n      <th>diabetes_prevalence</th>\n      <th>female_smokers</th>\n      <th>male_smokers</th>\n      <th>handwashing_facilities</th>\n      <th>hospital_beds_per_thousand</th>\n      <th>life_expectancy</th>\n      <th>human_development_index</th>\n    </tr>\n  </thead>\n  <tbody>\n    <tr>\n      <th>0</th>\n      <td>AFG</td>\n      <td>Asia</td>\n      <td>Afghanistan</td>\n      <td>12/31/2019</td>\n      <td>NaN</td>\n      <td>0.0</td>\n      <td>NaN</td>\n      <td>NaN</td>\n      <td>0.0</td>\n      <td>NaN</td>\n      <td>...</td>\n      <td>1803.987</td>\n      <td>NaN</td>\n      <td>597.029</td>\n      <td>9.59</td>\n      <td>NaN</td>\n      <td>NaN</td>\n      <td>37.746</td>\n      <td>0.5</td>\n      <td>64.83</td>\n      <td>0.498</td>\n    </tr>\n    <tr>\n      <th>1</th>\n      <td>AFG</td>\n      <td>Asia</td>\n      <td>Afghanistan</td>\n      <td>1/1/2020</td>\n      <td>NaN</td>\n      <td>0.0</td>\n      <td>NaN</td>\n      <td>NaN</td>\n      <td>0.0</td>\n      <td>NaN</td>\n      <td>...</td>\n      <td>1803.987</td>\n      <td>NaN</td>\n      <td>597.029</td>\n      <td>9.59</td>\n      <td>NaN</td>\n      <td>NaN</td>\n      <td>37.746</td>\n      <td>0.5</td>\n      <td>64.83</td>\n      <td>0.498</td>\n    </tr>\n    <tr>\n      <th>2</th>\n      <td>AFG</td>\n      <td>Asia</td>\n      <td>Afghanistan</td>\n      <td>1/2/2020</td>\n      <td>NaN</td>\n      <td>0.0</td>\n      <td>NaN</td>\n      <td>NaN</td>\n      <td>0.0</td>\n      <td>NaN</td>\n      <td>...</td>\n      <td>1803.987</td>\n      <td>NaN</td>\n      <td>597.029</td>\n      <td>9.59</td>\n      <td>NaN</td>\n      <td>NaN</td>\n      <td>37.746</td>\n      <td>0.5</td>\n      <td>64.83</td>\n      <td>0.498</td>\n    </tr>\n    <tr>\n      <th>3</th>\n      <td>AFG</td>\n      <td>Asia</td>\n      <td>Afghanistan</td>\n      <td>1/3/2020</td>\n      <td>NaN</td>\n      <td>0.0</td>\n      <td>NaN</td>\n      <td>NaN</td>\n      <td>0.0</td>\n      <td>NaN</td>\n      <td>...</td>\n      <td>1803.987</td>\n      <td>NaN</td>\n      <td>597.029</td>\n      <td>9.59</td>\n      <td>NaN</td>\n      <td>NaN</td>\n      <td>37.746</td>\n      <td>0.5</td>\n      <td>64.83</td>\n      <td>0.498</td>\n    </tr>\n    <tr>\n      <th>4</th>\n      <td>AFG</td>\n      <td>Asia</td>\n      <td>Afghanistan</td>\n      <td>1/4/2020</td>\n      <td>NaN</td>\n      <td>0.0</td>\n      <td>NaN</td>\n      <td>NaN</td>\n      <td>0.0</td>\n      <td>NaN</td>\n      <td>...</td>\n      <td>1803.987</td>\n      <td>NaN</td>\n      <td>597.029</td>\n      <td>9.59</td>\n      <td>NaN</td>\n      <td>NaN</td>\n      <td>37.746</td>\n      <td>0.5</td>\n      <td>64.83</td>\n      <td>0.498</td>\n    </tr>\n    <tr>\n      <th>5</th>\n      <td>AFG</td>\n      <td>Asia</td>\n      <td>Afghanistan</td>\n      <td>1/5/2020</td>\n      <td>NaN</td>\n      <td>0.0</td>\n      <td>NaN</td>\n      <td>NaN</td>\n      <td>0.0</td>\n      <td>NaN</td>\n      <td>...</td>\n      <td>1803.987</td>\n      <td>NaN</td>\n      <td>597.029</td>\n      <td>9.59</td>\n      <td>NaN</td>\n      <td>NaN</td>\n      <td>37.746</td>\n      <td>0.5</td>\n      <td>64.83</td>\n      <td>0.498</td>\n    </tr>\n    <tr>\n      <th>6</th>\n      <td>AFG</td>\n      <td>Asia</td>\n      <td>Afghanistan</td>\n      <td>1/6/2020</td>\n      <td>NaN</td>\n      <td>0.0</td>\n      <td>0.0</td>\n      <td>NaN</td>\n      <td>0.0</td>\n      <td>0.0</td>\n      <td>...</td>\n      <td>1803.987</td>\n      <td>NaN</td>\n      <td>597.029</td>\n      <td>9.59</td>\n      <td>NaN</td>\n      <td>NaN</td>\n      <td>37.746</td>\n      <td>0.5</td>\n      <td>64.83</td>\n      <td>0.498</td>\n    </tr>\n    <tr>\n      <th>7</th>\n      <td>AFG</td>\n      <td>Asia</td>\n      <td>Afghanistan</td>\n      <td>1/7/2020</td>\n      <td>NaN</td>\n      <td>0.0</td>\n      <td>0.0</td>\n      <td>NaN</td>\n      <td>0.0</td>\n      <td>0.0</td>\n      <td>...</td>\n      <td>1803.987</td>\n      <td>NaN</td>\n      <td>597.029</td>\n      <td>9.59</td>\n      <td>NaN</td>\n      <td>NaN</td>\n      <td>37.746</td>\n      <td>0.5</td>\n      <td>64.83</td>\n      <td>0.498</td>\n    </tr>\n    <tr>\n      <th>8</th>\n      <td>AFG</td>\n      <td>Asia</td>\n      <td>Afghanistan</td>\n      <td>1/8/2020</td>\n      <td>NaN</td>\n      <td>0.0</td>\n      <td>0.0</td>\n      <td>NaN</td>\n      <td>0.0</td>\n      <td>0.0</td>\n      <td>...</td>\n      <td>1803.987</td>\n      <td>NaN</td>\n      <td>597.029</td>\n      <td>9.59</td>\n      <td>NaN</td>\n      <td>NaN</td>\n      <td>37.746</td>\n      <td>0.5</td>\n      <td>64.83</td>\n      <td>0.498</td>\n    </tr>\n    <tr>\n      <th>9</th>\n      <td>AFG</td>\n      <td>Asia</td>\n      <td>Afghanistan</td>\n      <td>1/9/2020</td>\n      <td>NaN</td>\n      <td>0.0</td>\n      <td>0.0</td>\n      <td>NaN</td>\n      <td>0.0</td>\n      <td>0.0</td>\n      <td>...</td>\n      <td>1803.987</td>\n      <td>NaN</td>\n      <td>597.029</td>\n      <td>9.59</td>\n      <td>NaN</td>\n      <td>NaN</td>\n      <td>37.746</td>\n      <td>0.5</td>\n      <td>64.83</td>\n      <td>0.498</td>\n    </tr>\n  </tbody>\n</table>\n<p>10 rows × 49 columns</p>\n</div>"
     },
     "execution_count": 3,
     "metadata": {},
     "output_type": "execute_result"
    }
   ],
   "source": [
    "prim_df= pd.read_csv('../../../data/geo_mode_data/corona.csv')\n",
    "prim_df.head(10)"
   ],
   "metadata": {
    "collapsed": false,
    "pycharm": {
     "name": "#%%\n"
    }
   }
  },
  {
   "cell_type": "code",
   "execution_count": 71,
   "outputs": [
    {
     "data": {
      "text/plain": "Index(['iso_code', 'continent', 'location', 'date', 'total_cases', 'new_cases',\n       'new_cases_smoothed', 'total_deaths', 'new_deaths',\n       'new_deaths_smoothed', 'total_cases_per_million',\n       'new_cases_per_million', 'new_cases_smoothed_per_million',\n       'total_deaths_per_million', 'new_deaths_per_million',\n       'new_deaths_smoothed_per_million', 'icu_patients',\n       'icu_patients_per_million', 'hosp_patients',\n       'hosp_patients_per_million', 'weekly_icu_admissions',\n       'weekly_icu_admissions_per_million', 'weekly_hosp_admissions',\n       'weekly_hosp_admissions_per_million', 'total_tests', 'new_tests',\n       'total_tests_per_thousand', 'new_tests_per_thousand',\n       'new_tests_smoothed', 'new_tests_smoothed_per_thousand',\n       'tests_per_case', 'positive_rate', 'tests_units', 'stringency_index',\n       'population', 'population_density', 'median_age', 'aged_65_older',\n       'aged_70_older', 'gdp_per_capita', 'extreme_poverty',\n       'cardiovasc_death_rate', 'diabetes_prevalence', 'female_smokers',\n       'male_smokers', 'handwashing_facilities', 'hospital_beds_per_thousand',\n       'life_expectancy', 'human_development_index'],\n      dtype='object')"
     },
     "execution_count": 71,
     "metadata": {},
     "output_type": "execute_result"
    }
   ],
   "source": [
    "prim_df.columns"
   ],
   "metadata": {
    "collapsed": false,
    "pycharm": {
     "name": "#%%\n"
    }
   }
  },
  {
   "cell_type": "code",
   "execution_count": 4,
   "outputs": [],
   "source": [
    "filtered_df = prim_df.loc[:,\n",
    "            ['date','continent','population','population_density','location','gdp_per_capita','cardiovasc_death_rate',\n",
    "             'hospital_beds_per_thousand','life_expectancy','new_cases']]\n",
    "filtered_df.dropna(inplace=True)"
   ],
   "metadata": {
    "collapsed": false,
    "pycharm": {
     "name": "#%%\n"
    }
   }
  },
  {
   "cell_type": "code",
   "execution_count": 5,
   "outputs": [
    {
     "data": {
      "text/plain": "         date continent     location  gdp_per_capita  cardiovasc_death_rate  \\\n0  12/31/2019      Asia  Afghanistan        1803.987                597.029   \n1    1/1/2020      Asia  Afghanistan        1803.987                597.029   \n2    1/2/2020      Asia  Afghanistan        1803.987                597.029   \n3    1/3/2020      Asia  Afghanistan        1803.987                597.029   \n4    1/4/2020      Asia  Afghanistan        1803.987                597.029   \n5    1/5/2020      Asia  Afghanistan        1803.987                597.029   \n6    1/6/2020      Asia  Afghanistan        1803.987                597.029   \n7    1/7/2020      Asia  Afghanistan        1803.987                597.029   \n8    1/8/2020      Asia  Afghanistan        1803.987                597.029   \n9    1/9/2020      Asia  Afghanistan        1803.987                597.029   \n\n   hospital_beds_per_thousand  life_expectancy  new_cases  \n0                         0.5            64.83        0.0  \n1                         0.5            64.83        0.0  \n2                         0.5            64.83        0.0  \n3                         0.5            64.83        0.0  \n4                         0.5            64.83        0.0  \n5                         0.5            64.83        0.0  \n6                         0.5            64.83        0.0  \n7                         0.5            64.83        0.0  \n8                         0.5            64.83        0.0  \n9                         0.5            64.83        0.0  ",
      "text/html": "<div>\n<style scoped>\n    .dataframe tbody tr th:only-of-type {\n        vertical-align: middle;\n    }\n\n    .dataframe tbody tr th {\n        vertical-align: top;\n    }\n\n    .dataframe thead th {\n        text-align: right;\n    }\n</style>\n<table border=\"1\" class=\"dataframe\">\n  <thead>\n    <tr style=\"text-align: right;\">\n      <th></th>\n      <th>date</th>\n      <th>continent</th>\n      <th>location</th>\n      <th>gdp_per_capita</th>\n      <th>cardiovasc_death_rate</th>\n      <th>hospital_beds_per_thousand</th>\n      <th>life_expectancy</th>\n      <th>new_cases</th>\n    </tr>\n  </thead>\n  <tbody>\n    <tr>\n      <th>0</th>\n      <td>12/31/2019</td>\n      <td>Asia</td>\n      <td>Afghanistan</td>\n      <td>1803.987</td>\n      <td>597.029</td>\n      <td>0.5</td>\n      <td>64.83</td>\n      <td>0.0</td>\n    </tr>\n    <tr>\n      <th>1</th>\n      <td>1/1/2020</td>\n      <td>Asia</td>\n      <td>Afghanistan</td>\n      <td>1803.987</td>\n      <td>597.029</td>\n      <td>0.5</td>\n      <td>64.83</td>\n      <td>0.0</td>\n    </tr>\n    <tr>\n      <th>2</th>\n      <td>1/2/2020</td>\n      <td>Asia</td>\n      <td>Afghanistan</td>\n      <td>1803.987</td>\n      <td>597.029</td>\n      <td>0.5</td>\n      <td>64.83</td>\n      <td>0.0</td>\n    </tr>\n    <tr>\n      <th>3</th>\n      <td>1/3/2020</td>\n      <td>Asia</td>\n      <td>Afghanistan</td>\n      <td>1803.987</td>\n      <td>597.029</td>\n      <td>0.5</td>\n      <td>64.83</td>\n      <td>0.0</td>\n    </tr>\n    <tr>\n      <th>4</th>\n      <td>1/4/2020</td>\n      <td>Asia</td>\n      <td>Afghanistan</td>\n      <td>1803.987</td>\n      <td>597.029</td>\n      <td>0.5</td>\n      <td>64.83</td>\n      <td>0.0</td>\n    </tr>\n    <tr>\n      <th>5</th>\n      <td>1/5/2020</td>\n      <td>Asia</td>\n      <td>Afghanistan</td>\n      <td>1803.987</td>\n      <td>597.029</td>\n      <td>0.5</td>\n      <td>64.83</td>\n      <td>0.0</td>\n    </tr>\n    <tr>\n      <th>6</th>\n      <td>1/6/2020</td>\n      <td>Asia</td>\n      <td>Afghanistan</td>\n      <td>1803.987</td>\n      <td>597.029</td>\n      <td>0.5</td>\n      <td>64.83</td>\n      <td>0.0</td>\n    </tr>\n    <tr>\n      <th>7</th>\n      <td>1/7/2020</td>\n      <td>Asia</td>\n      <td>Afghanistan</td>\n      <td>1803.987</td>\n      <td>597.029</td>\n      <td>0.5</td>\n      <td>64.83</td>\n      <td>0.0</td>\n    </tr>\n    <tr>\n      <th>8</th>\n      <td>1/8/2020</td>\n      <td>Asia</td>\n      <td>Afghanistan</td>\n      <td>1803.987</td>\n      <td>597.029</td>\n      <td>0.5</td>\n      <td>64.83</td>\n      <td>0.0</td>\n    </tr>\n    <tr>\n      <th>9</th>\n      <td>1/9/2020</td>\n      <td>Asia</td>\n      <td>Afghanistan</td>\n      <td>1803.987</td>\n      <td>597.029</td>\n      <td>0.5</td>\n      <td>64.83</td>\n      <td>0.0</td>\n    </tr>\n  </tbody>\n</table>\n</div>"
     },
     "execution_count": 5,
     "metadata": {},
     "output_type": "execute_result"
    }
   ],
   "source": [
    "filtered_df.head(10)"
   ],
   "metadata": {
    "collapsed": false,
    "pycharm": {
     "name": "#%%\n"
    }
   }
  },
  {
   "cell_type": "code",
   "execution_count": 6,
   "outputs": [],
   "source": [
    "filtered_df['ones'] = 1\n",
    "rebuild_df = filtered_df.iloc[:,1:-1].groupby(['continent','location','gdp_per_capita','cardiovasc_death_rate',\n",
    "             'hospital_beds_per_thousand','life_expectancy']).sum().reset_index()\n"
   ],
   "metadata": {
    "collapsed": false,
    "pycharm": {
     "name": "#%%\n"
    }
   }
  },
  {
   "cell_type": "code",
   "execution_count": 29,
   "outputs": [],
   "source": [
    "def sec_grad_std(x):\n",
    "    x = x.values\n",
    "    if (x.size >=3):\n",
    "        first = x[:-1]-x[1:]\n",
    "        second = np.array(first[:-1]-first[1:])\n",
    "        num_of_weeks = second.size//7\n",
    "        weekly_grad = []\n",
    "        for i in range(num_of_weeks):\n",
    "            weekly_grad.append(second[7*i:7*(i+1)].std())\n",
    "        #print(len(weekly_grad))\n",
    "        weekly_grad = np.array(weekly_grad)\n",
    "    else:\n",
    "        weekly_grad = np.array(np.array(x).std())\n",
    "    return weekly_grad"
   ],
   "metadata": {
    "collapsed": false,
    "pycharm": {
     "name": "#%%\n"
    }
   }
  },
  {
   "cell_type": "code",
   "execution_count": 30,
   "outputs": [],
   "source": [
    "std_spread = filtered_df.groupby('location')['new_cases'].apply(sec_grad_std)"
   ],
   "metadata": {
    "collapsed": false,
    "pycharm": {
     "name": "#%%\n"
    }
   }
  },
  {
   "cell_type": "code",
   "execution_count": 48,
   "outputs": [
    {
     "data": {
      "text/plain": "              location                                               nums\n0          Afghanistan  [0.0, 0.0, 0.0, 0.0, 0.0, 0.0, 0.0, 0.83299312...\n1              Albania  [7.907630001770312, 11.096975134821973, 12.645...\n2              Algeria  [0.0, 0.0, 0.0, 0.0, 0.0, 0.0, 0.0, 0.34992710...\n3  Antigua and Barbuda  [4.135461378894322, 1.456862718169367, 5.11101...\n4            Argentina  [9.672177645606148, 15.670067658059528, 47.405...",
      "text/html": "<div>\n<style scoped>\n    .dataframe tbody tr th:only-of-type {\n        vertical-align: middle;\n    }\n\n    .dataframe tbody tr th {\n        vertical-align: top;\n    }\n\n    .dataframe thead th {\n        text-align: right;\n    }\n</style>\n<table border=\"1\" class=\"dataframe\">\n  <thead>\n    <tr style=\"text-align: right;\">\n      <th></th>\n      <th>location</th>\n      <th>nums</th>\n    </tr>\n  </thead>\n  <tbody>\n    <tr>\n      <th>0</th>\n      <td>Afghanistan</td>\n      <td>[0.0, 0.0, 0.0, 0.0, 0.0, 0.0, 0.0, 0.83299312...</td>\n    </tr>\n    <tr>\n      <th>1</th>\n      <td>Albania</td>\n      <td>[7.907630001770312, 11.096975134821973, 12.645...</td>\n    </tr>\n    <tr>\n      <th>2</th>\n      <td>Algeria</td>\n      <td>[0.0, 0.0, 0.0, 0.0, 0.0, 0.0, 0.0, 0.34992710...</td>\n    </tr>\n    <tr>\n      <th>3</th>\n      <td>Antigua and Barbuda</td>\n      <td>[4.135461378894322, 1.456862718169367, 5.11101...</td>\n    </tr>\n    <tr>\n      <th>4</th>\n      <td>Argentina</td>\n      <td>[9.672177645606148, 15.670067658059528, 47.405...</td>\n    </tr>\n  </tbody>\n</table>\n</div>"
     },
     "execution_count": 48,
     "metadata": {},
     "output_type": "execute_result"
    }
   ],
   "source": [
    "std_df = pd.DataFrame()\n",
    "std_df['location'] = std_spread.index\n",
    "std_df['nums'] = std_spread.values\n",
    "std_df.head()"
   ],
   "metadata": {
    "collapsed": false,
    "pycharm": {
     "name": "#%%\n"
    }
   }
  },
  {
   "cell_type": "code",
   "execution_count": 61,
   "outputs": [],
   "source": [
    "\n",
    "\n",
    "def series_builder(x):\n",
    "    #print(type(x.values),x.shape,type(x[0]),type(x[1]))\n",
    "    #print(type(x.location))\n",
    "    # test = np.append(x[1],x[0],axis=1)\n",
    "    lis = list(x[1])\n",
    "    val = x[0]\n",
    "    big_lis = []\n",
    "    for i in range(x[1].shape[0]):\n",
    "        temp = np.array([val,lis[i]])\n",
    "        big_lis.append(temp)\n",
    "    big_arr = np.array(big_lis)\n",
    "    # temp_ser = np.concatenate((x.values,np.array([x.location,]*x.values.shape[0])),axis=1)\n",
    "    # print(temp_ser)\n",
    "    return big_arr\n",
    "\n",
    "new_ser = std_df.apply(series_builder,axis=1)"
   ],
   "metadata": {
    "collapsed": false,
    "pycharm": {
     "name": "#%%\n"
    }
   }
  },
  {
   "cell_type": "code",
   "execution_count": 62,
   "outputs": [],
   "source": [
    "tol_arr = np.vstack(new_ser)"
   ],
   "metadata": {
    "collapsed": false,
    "pycharm": {
     "name": "#%%\n"
    }
   }
  },
  {
   "cell_type": "code",
   "execution_count": 63,
   "outputs": [],
   "source": [
    "fin_df = pd.DataFrame(data=tol_arr,columns=['location','grad'])"
   ],
   "metadata": {
    "collapsed": false,
    "pycharm": {
     "name": "#%%\n"
    }
   }
  },
  {
   "cell_type": "code",
   "execution_count": 67,
   "outputs": [],
   "source": [
    "full_df = fin_df.merge(rebuild_df, on='location')"
   ],
   "metadata": {
    "collapsed": false,
    "pycharm": {
     "name": "#%%\n"
    }
   }
  },
  {
   "cell_type": "code",
   "execution_count": 69,
   "outputs": [
    {
     "data": {
      "text/plain": "     location                grad continent  gdp_per_capita  \\\n1823     Fiji  2.2038926600773587   Oceania        8702.975   \n1824     Fiji  4.6291004988627575   Oceania        8702.975   \n1825     Fiji  0.9258200997725514   Oceania        8702.975   \n1826     Fiji                 0.0   Oceania        8702.975   \n1827     Fiji                 0.0   Oceania        8702.975   \n1828     Fiji                 0.0   Oceania        8702.975   \n1829     Fiji  0.9258200997725514   Oceania        8702.975   \n1830     Fiji                 0.0   Oceania        8702.975   \n1831     Fiji  2.0503857277724746   Oceania        8702.975   \n1832     Fiji  1.1605769149479943   Oceania        8702.975   \n\n      cardiovasc_death_rate  hospital_beds_per_thousand  life_expectancy  \\\n1823                 412.82                         2.3            67.44   \n1824                 412.82                         2.3            67.44   \n1825                 412.82                         2.3            67.44   \n1826                 412.82                         2.3            67.44   \n1827                 412.82                         2.3            67.44   \n1828                 412.82                         2.3            67.44   \n1829                 412.82                         2.3            67.44   \n1830                 412.82                         2.3            67.44   \n1831                 412.82                         2.3            67.44   \n1832                 412.82                         2.3            67.44   \n\n      new_cases  \n1823       32.0  \n1824       32.0  \n1825       32.0  \n1826       32.0  \n1827       32.0  \n1828       32.0  \n1829       32.0  \n1830       32.0  \n1831       32.0  \n1832       32.0  ",
      "text/html": "<div>\n<style scoped>\n    .dataframe tbody tr th:only-of-type {\n        vertical-align: middle;\n    }\n\n    .dataframe tbody tr th {\n        vertical-align: top;\n    }\n\n    .dataframe thead th {\n        text-align: right;\n    }\n</style>\n<table border=\"1\" class=\"dataframe\">\n  <thead>\n    <tr style=\"text-align: right;\">\n      <th></th>\n      <th>location</th>\n      <th>grad</th>\n      <th>continent</th>\n      <th>gdp_per_capita</th>\n      <th>cardiovasc_death_rate</th>\n      <th>hospital_beds_per_thousand</th>\n      <th>life_expectancy</th>\n      <th>new_cases</th>\n    </tr>\n  </thead>\n  <tbody>\n    <tr>\n      <th>1823</th>\n      <td>Fiji</td>\n      <td>2.2038926600773587</td>\n      <td>Oceania</td>\n      <td>8702.975</td>\n      <td>412.82</td>\n      <td>2.3</td>\n      <td>67.44</td>\n      <td>32.0</td>\n    </tr>\n    <tr>\n      <th>1824</th>\n      <td>Fiji</td>\n      <td>4.6291004988627575</td>\n      <td>Oceania</td>\n      <td>8702.975</td>\n      <td>412.82</td>\n      <td>2.3</td>\n      <td>67.44</td>\n      <td>32.0</td>\n    </tr>\n    <tr>\n      <th>1825</th>\n      <td>Fiji</td>\n      <td>0.9258200997725514</td>\n      <td>Oceania</td>\n      <td>8702.975</td>\n      <td>412.82</td>\n      <td>2.3</td>\n      <td>67.44</td>\n      <td>32.0</td>\n    </tr>\n    <tr>\n      <th>1826</th>\n      <td>Fiji</td>\n      <td>0.0</td>\n      <td>Oceania</td>\n      <td>8702.975</td>\n      <td>412.82</td>\n      <td>2.3</td>\n      <td>67.44</td>\n      <td>32.0</td>\n    </tr>\n    <tr>\n      <th>1827</th>\n      <td>Fiji</td>\n      <td>0.0</td>\n      <td>Oceania</td>\n      <td>8702.975</td>\n      <td>412.82</td>\n      <td>2.3</td>\n      <td>67.44</td>\n      <td>32.0</td>\n    </tr>\n    <tr>\n      <th>1828</th>\n      <td>Fiji</td>\n      <td>0.0</td>\n      <td>Oceania</td>\n      <td>8702.975</td>\n      <td>412.82</td>\n      <td>2.3</td>\n      <td>67.44</td>\n      <td>32.0</td>\n    </tr>\n    <tr>\n      <th>1829</th>\n      <td>Fiji</td>\n      <td>0.9258200997725514</td>\n      <td>Oceania</td>\n      <td>8702.975</td>\n      <td>412.82</td>\n      <td>2.3</td>\n      <td>67.44</td>\n      <td>32.0</td>\n    </tr>\n    <tr>\n      <th>1830</th>\n      <td>Fiji</td>\n      <td>0.0</td>\n      <td>Oceania</td>\n      <td>8702.975</td>\n      <td>412.82</td>\n      <td>2.3</td>\n      <td>67.44</td>\n      <td>32.0</td>\n    </tr>\n    <tr>\n      <th>1831</th>\n      <td>Fiji</td>\n      <td>2.0503857277724746</td>\n      <td>Oceania</td>\n      <td>8702.975</td>\n      <td>412.82</td>\n      <td>2.3</td>\n      <td>67.44</td>\n      <td>32.0</td>\n    </tr>\n    <tr>\n      <th>1832</th>\n      <td>Fiji</td>\n      <td>1.1605769149479943</td>\n      <td>Oceania</td>\n      <td>8702.975</td>\n      <td>412.82</td>\n      <td>2.3</td>\n      <td>67.44</td>\n      <td>32.0</td>\n    </tr>\n  </tbody>\n</table>\n</div>"
     },
     "execution_count": 69,
     "metadata": {},
     "output_type": "execute_result"
    }
   ],
   "source": [
    "full_df.tail(10)"
   ],
   "metadata": {
    "collapsed": false,
    "pycharm": {
     "name": "#%%\n"
    }
   }
  },
  {
   "cell_type": "code",
   "execution_count": 70,
   "outputs": [],
   "source": [
    "full_df.to_csv('../../../data/geo_mode_data/final.csv',index=False)"
   ],
   "metadata": {
    "collapsed": false,
    "pycharm": {
     "name": "#%%\n"
    }
   }
  },
  {
   "cell_type": "code",
   "execution_count": 83,
   "outputs": [],
   "source": [
    "def sec_grad_mean(x):\n",
    "    x = x.values\n",
    "    sec_grad = 0\n",
    "    if (x.size >=3):\n",
    "        first = x[:-1]-x[1:]\n",
    "        second = np.array(first[:-1]-first[1:])\n",
    "        sec_grad = second.mean()\n",
    "    else:\n",
    "        sec_grad = np.array(x).mean()\n",
    "    return sec_grad"
   ],
   "metadata": {
    "collapsed": false,
    "pycharm": {
     "name": "#%%\n"
    }
   }
  },
  {
   "cell_type": "code",
   "execution_count": 85,
   "outputs": [],
   "source": [
    "mean_spread = filtered_df.groupby('location')['new_cases'].apply(sec_grad_mean)"
   ],
   "metadata": {
    "collapsed": false,
    "pycharm": {
     "name": "#%%\n"
    }
   }
  }
 ],
 "metadata": {
  "kernelspec": {
   "display_name": "Python 3",
   "language": "python",
   "name": "python3"
  },
  "language_info": {
   "codemirror_mode": {
    "name": "ipython",
    "version": 2
   },
   "file_extension": ".py",
   "mimetype": "text/x-python",
   "name": "python",
   "nbconvert_exporter": "python",
   "pygments_lexer": "ipython2",
   "version": "2.7.6"
  }
 },
 "nbformat": 4,
 "nbformat_minor": 0
}