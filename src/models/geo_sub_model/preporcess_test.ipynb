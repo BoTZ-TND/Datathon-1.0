{
 "cells": [
  {
   "cell_type": "code",
   "execution_count": 1,
   "metadata": {
    "collapsed": true
   },
   "outputs": [],
   "source": [
    "import numpy as np\n",
    "import pandas as pd"
   ]
  },
  {
   "cell_type": "code",
   "execution_count": 2,
   "outputs": [
    {
     "data": {
      "text/plain": "  iso_code continent     location        date  total_cases  new_cases  \\\n0      AFG      Asia  Afghanistan  12/31/2019          NaN        0.0   \n1      AFG      Asia  Afghanistan    1/1/2020          NaN        0.0   \n2      AFG      Asia  Afghanistan    1/2/2020          NaN        0.0   \n3      AFG      Asia  Afghanistan    1/3/2020          NaN        0.0   \n4      AFG      Asia  Afghanistan    1/4/2020          NaN        0.0   \n5      AFG      Asia  Afghanistan    1/5/2020          NaN        0.0   \n6      AFG      Asia  Afghanistan    1/6/2020          NaN        0.0   \n7      AFG      Asia  Afghanistan    1/7/2020          NaN        0.0   \n8      AFG      Asia  Afghanistan    1/8/2020          NaN        0.0   \n9      AFG      Asia  Afghanistan    1/9/2020          NaN        0.0   \n\n   new_cases_smoothed  total_deaths  new_deaths  new_deaths_smoothed  ...  \\\n0                 NaN           NaN         0.0                  NaN  ...   \n1                 NaN           NaN         0.0                  NaN  ...   \n2                 NaN           NaN         0.0                  NaN  ...   \n3                 NaN           NaN         0.0                  NaN  ...   \n4                 NaN           NaN         0.0                  NaN  ...   \n5                 NaN           NaN         0.0                  NaN  ...   \n6                 0.0           NaN         0.0                  0.0  ...   \n7                 0.0           NaN         0.0                  0.0  ...   \n8                 0.0           NaN         0.0                  0.0  ...   \n9                 0.0           NaN         0.0                  0.0  ...   \n\n   gdp_per_capita  extreme_poverty  cardiovasc_death_rate  \\\n0        1803.987              NaN                597.029   \n1        1803.987              NaN                597.029   \n2        1803.987              NaN                597.029   \n3        1803.987              NaN                597.029   \n4        1803.987              NaN                597.029   \n5        1803.987              NaN                597.029   \n6        1803.987              NaN                597.029   \n7        1803.987              NaN                597.029   \n8        1803.987              NaN                597.029   \n9        1803.987              NaN                597.029   \n\n   diabetes_prevalence  female_smokers  male_smokers  handwashing_facilities  \\\n0                 9.59             NaN           NaN                  37.746   \n1                 9.59             NaN           NaN                  37.746   \n2                 9.59             NaN           NaN                  37.746   \n3                 9.59             NaN           NaN                  37.746   \n4                 9.59             NaN           NaN                  37.746   \n5                 9.59             NaN           NaN                  37.746   \n6                 9.59             NaN           NaN                  37.746   \n7                 9.59             NaN           NaN                  37.746   \n8                 9.59             NaN           NaN                  37.746   \n9                 9.59             NaN           NaN                  37.746   \n\n   hospital_beds_per_thousand  life_expectancy  human_development_index  \n0                         0.5            64.83                    0.498  \n1                         0.5            64.83                    0.498  \n2                         0.5            64.83                    0.498  \n3                         0.5            64.83                    0.498  \n4                         0.5            64.83                    0.498  \n5                         0.5            64.83                    0.498  \n6                         0.5            64.83                    0.498  \n7                         0.5            64.83                    0.498  \n8                         0.5            64.83                    0.498  \n9                         0.5            64.83                    0.498  \n\n[10 rows x 49 columns]",
      "text/html": "<div>\n<style scoped>\n    .dataframe tbody tr th:only-of-type {\n        vertical-align: middle;\n    }\n\n    .dataframe tbody tr th {\n        vertical-align: top;\n    }\n\n    .dataframe thead th {\n        text-align: right;\n    }\n</style>\n<table border=\"1\" class=\"dataframe\">\n  <thead>\n    <tr style=\"text-align: right;\">\n      <th></th>\n      <th>iso_code</th>\n      <th>continent</th>\n      <th>location</th>\n      <th>date</th>\n      <th>total_cases</th>\n      <th>new_cases</th>\n      <th>new_cases_smoothed</th>\n      <th>total_deaths</th>\n      <th>new_deaths</th>\n      <th>new_deaths_smoothed</th>\n      <th>...</th>\n      <th>gdp_per_capita</th>\n      <th>extreme_poverty</th>\n      <th>cardiovasc_death_rate</th>\n      <th>diabetes_prevalence</th>\n      <th>female_smokers</th>\n      <th>male_smokers</th>\n      <th>handwashing_facilities</th>\n      <th>hospital_beds_per_thousand</th>\n      <th>life_expectancy</th>\n      <th>human_development_index</th>\n    </tr>\n  </thead>\n  <tbody>\n    <tr>\n      <th>0</th>\n      <td>AFG</td>\n      <td>Asia</td>\n      <td>Afghanistan</td>\n      <td>12/31/2019</td>\n      <td>NaN</td>\n      <td>0.0</td>\n      <td>NaN</td>\n      <td>NaN</td>\n      <td>0.0</td>\n      <td>NaN</td>\n      <td>...</td>\n      <td>1803.987</td>\n      <td>NaN</td>\n      <td>597.029</td>\n      <td>9.59</td>\n      <td>NaN</td>\n      <td>NaN</td>\n      <td>37.746</td>\n      <td>0.5</td>\n      <td>64.83</td>\n      <td>0.498</td>\n    </tr>\n    <tr>\n      <th>1</th>\n      <td>AFG</td>\n      <td>Asia</td>\n      <td>Afghanistan</td>\n      <td>1/1/2020</td>\n      <td>NaN</td>\n      <td>0.0</td>\n      <td>NaN</td>\n      <td>NaN</td>\n      <td>0.0</td>\n      <td>NaN</td>\n      <td>...</td>\n      <td>1803.987</td>\n      <td>NaN</td>\n      <td>597.029</td>\n      <td>9.59</td>\n      <td>NaN</td>\n      <td>NaN</td>\n      <td>37.746</td>\n      <td>0.5</td>\n      <td>64.83</td>\n      <td>0.498</td>\n    </tr>\n    <tr>\n      <th>2</th>\n      <td>AFG</td>\n      <td>Asia</td>\n      <td>Afghanistan</td>\n      <td>1/2/2020</td>\n      <td>NaN</td>\n      <td>0.0</td>\n      <td>NaN</td>\n      <td>NaN</td>\n      <td>0.0</td>\n      <td>NaN</td>\n      <td>...</td>\n      <td>1803.987</td>\n      <td>NaN</td>\n      <td>597.029</td>\n      <td>9.59</td>\n      <td>NaN</td>\n      <td>NaN</td>\n      <td>37.746</td>\n      <td>0.5</td>\n      <td>64.83</td>\n      <td>0.498</td>\n    </tr>\n    <tr>\n      <th>3</th>\n      <td>AFG</td>\n      <td>Asia</td>\n      <td>Afghanistan</td>\n      <td>1/3/2020</td>\n      <td>NaN</td>\n      <td>0.0</td>\n      <td>NaN</td>\n      <td>NaN</td>\n      <td>0.0</td>\n      <td>NaN</td>\n      <td>...</td>\n      <td>1803.987</td>\n      <td>NaN</td>\n      <td>597.029</td>\n      <td>9.59</td>\n      <td>NaN</td>\n      <td>NaN</td>\n      <td>37.746</td>\n      <td>0.5</td>\n      <td>64.83</td>\n      <td>0.498</td>\n    </tr>\n    <tr>\n      <th>4</th>\n      <td>AFG</td>\n      <td>Asia</td>\n      <td>Afghanistan</td>\n      <td>1/4/2020</td>\n      <td>NaN</td>\n      <td>0.0</td>\n      <td>NaN</td>\n      <td>NaN</td>\n      <td>0.0</td>\n      <td>NaN</td>\n      <td>...</td>\n      <td>1803.987</td>\n      <td>NaN</td>\n      <td>597.029</td>\n      <td>9.59</td>\n      <td>NaN</td>\n      <td>NaN</td>\n      <td>37.746</td>\n      <td>0.5</td>\n      <td>64.83</td>\n      <td>0.498</td>\n    </tr>\n    <tr>\n      <th>5</th>\n      <td>AFG</td>\n      <td>Asia</td>\n      <td>Afghanistan</td>\n      <td>1/5/2020</td>\n      <td>NaN</td>\n      <td>0.0</td>\n      <td>NaN</td>\n      <td>NaN</td>\n      <td>0.0</td>\n      <td>NaN</td>\n      <td>...</td>\n      <td>1803.987</td>\n      <td>NaN</td>\n      <td>597.029</td>\n      <td>9.59</td>\n      <td>NaN</td>\n      <td>NaN</td>\n      <td>37.746</td>\n      <td>0.5</td>\n      <td>64.83</td>\n      <td>0.498</td>\n    </tr>\n    <tr>\n      <th>6</th>\n      <td>AFG</td>\n      <td>Asia</td>\n      <td>Afghanistan</td>\n      <td>1/6/2020</td>\n      <td>NaN</td>\n      <td>0.0</td>\n      <td>0.0</td>\n      <td>NaN</td>\n      <td>0.0</td>\n      <td>0.0</td>\n      <td>...</td>\n      <td>1803.987</td>\n      <td>NaN</td>\n      <td>597.029</td>\n      <td>9.59</td>\n      <td>NaN</td>\n      <td>NaN</td>\n      <td>37.746</td>\n      <td>0.5</td>\n      <td>64.83</td>\n      <td>0.498</td>\n    </tr>\n    <tr>\n      <th>7</th>\n      <td>AFG</td>\n      <td>Asia</td>\n      <td>Afghanistan</td>\n      <td>1/7/2020</td>\n      <td>NaN</td>\n      <td>0.0</td>\n      <td>0.0</td>\n      <td>NaN</td>\n      <td>0.0</td>\n      <td>0.0</td>\n      <td>...</td>\n      <td>1803.987</td>\n      <td>NaN</td>\n      <td>597.029</td>\n      <td>9.59</td>\n      <td>NaN</td>\n      <td>NaN</td>\n      <td>37.746</td>\n      <td>0.5</td>\n      <td>64.83</td>\n      <td>0.498</td>\n    </tr>\n    <tr>\n      <th>8</th>\n      <td>AFG</td>\n      <td>Asia</td>\n      <td>Afghanistan</td>\n      <td>1/8/2020</td>\n      <td>NaN</td>\n      <td>0.0</td>\n      <td>0.0</td>\n      <td>NaN</td>\n      <td>0.0</td>\n      <td>0.0</td>\n      <td>...</td>\n      <td>1803.987</td>\n      <td>NaN</td>\n      <td>597.029</td>\n      <td>9.59</td>\n      <td>NaN</td>\n      <td>NaN</td>\n      <td>37.746</td>\n      <td>0.5</td>\n      <td>64.83</td>\n      <td>0.498</td>\n    </tr>\n    <tr>\n      <th>9</th>\n      <td>AFG</td>\n      <td>Asia</td>\n      <td>Afghanistan</td>\n      <td>1/9/2020</td>\n      <td>NaN</td>\n      <td>0.0</td>\n      <td>0.0</td>\n      <td>NaN</td>\n      <td>0.0</td>\n      <td>0.0</td>\n      <td>...</td>\n      <td>1803.987</td>\n      <td>NaN</td>\n      <td>597.029</td>\n      <td>9.59</td>\n      <td>NaN</td>\n      <td>NaN</td>\n      <td>37.746</td>\n      <td>0.5</td>\n      <td>64.83</td>\n      <td>0.498</td>\n    </tr>\n  </tbody>\n</table>\n<p>10 rows × 49 columns</p>\n</div>"
     },
     "execution_count": 2,
     "metadata": {},
     "output_type": "execute_result"
    }
   ],
   "source": [
    "prim_df= pd.read_csv('../../../data/geo_mode_data/corona.csv')\n",
    "test_df = pd.read_csv('../../../data/geo_mode_data/test.csv')\n",
    "prim_df.head(10)"
   ],
   "metadata": {
    "collapsed": false,
    "pycharm": {
     "name": "#%%\n"
    }
   }
  },
  {
   "cell_type": "code",
   "execution_count": 3,
   "outputs": [
    {
     "data": {
      "text/plain": "Index(['iso_code', 'continent', 'location', 'date', 'total_cases', 'new_cases',\n       'new_cases_smoothed', 'total_deaths', 'new_deaths',\n       'new_deaths_smoothed', 'total_cases_per_million',\n       'new_cases_per_million', 'new_cases_smoothed_per_million',\n       'total_deaths_per_million', 'new_deaths_per_million',\n       'new_deaths_smoothed_per_million', 'icu_patients',\n       'icu_patients_per_million', 'hosp_patients',\n       'hosp_patients_per_million', 'weekly_icu_admissions',\n       'weekly_icu_admissions_per_million', 'weekly_hosp_admissions',\n       'weekly_hosp_admissions_per_million', 'total_tests', 'new_tests',\n       'total_tests_per_thousand', 'new_tests_per_thousand',\n       'new_tests_smoothed', 'new_tests_smoothed_per_thousand',\n       'tests_per_case', 'positive_rate', 'tests_units', 'stringency_index',\n       'population', 'population_density', 'median_age', 'aged_65_older',\n       'aged_70_older', 'gdp_per_capita', 'extreme_poverty',\n       'cardiovasc_death_rate', 'diabetes_prevalence', 'female_smokers',\n       'male_smokers', 'handwashing_facilities', 'hospital_beds_per_thousand',\n       'life_expectancy', 'human_development_index'],\n      dtype='object')"
     },
     "execution_count": 3,
     "metadata": {},
     "output_type": "execute_result"
    },
    {
     "data": {
      "text/plain": "Index(['index', 'gdp_per_capita', 'hospital_beds_per_thousand',\n       'human_development_index', 'life_expectancy', 'Population',\n       'population_density'],\n      dtype='object')"
     },
     "execution_count": 3,
     "metadata": {},
     "output_type": "execute_result"
    }
   ],
   "source": [
    "prim_df.columns\n",
    "test_df.columns"
   ],
   "metadata": {
    "collapsed": false,
    "pycharm": {
     "name": "#%%\n"
    }
   }
  },
  {
   "cell_type": "code",
   "execution_count": 7,
   "outputs": [],
   "source": [
    "filtered_df = prim_df.loc[:,\n",
    "            ['date','continent','gdp_per_capita','location','hospital_beds_per_thousand',\n",
    "            'human_development_index', 'life_expectancy', 'population',\n",
    "            'population_density','new_cases']]\n",
    "filtered_df.dropna(inplace=True)\n",
    "filtered_df.to_csv('../../../data/geo_mode_data/new_corona.csv',index=False)"
   ],
   "metadata": {
    "collapsed": false,
    "pycharm": {
     "name": "#%%\n"
    }
   }
  },
  {
   "cell_type": "code",
   "execution_count": 8,
   "outputs": [
    {
     "data": {
      "text/plain": "         date continent  gdp_per_capita     location  \\\n0  12/31/2019      Asia        1803.987  Afghanistan   \n1    1/1/2020      Asia        1803.987  Afghanistan   \n2    1/2/2020      Asia        1803.987  Afghanistan   \n3    1/3/2020      Asia        1803.987  Afghanistan   \n4    1/4/2020      Asia        1803.987  Afghanistan   \n5    1/5/2020      Asia        1803.987  Afghanistan   \n6    1/6/2020      Asia        1803.987  Afghanistan   \n7    1/7/2020      Asia        1803.987  Afghanistan   \n8    1/8/2020      Asia        1803.987  Afghanistan   \n9    1/9/2020      Asia        1803.987  Afghanistan   \n\n   hospital_beds_per_thousand  human_development_index  life_expectancy  \\\n0                         0.5                    0.498            64.83   \n1                         0.5                    0.498            64.83   \n2                         0.5                    0.498            64.83   \n3                         0.5                    0.498            64.83   \n4                         0.5                    0.498            64.83   \n5                         0.5                    0.498            64.83   \n6                         0.5                    0.498            64.83   \n7                         0.5                    0.498            64.83   \n8                         0.5                    0.498            64.83   \n9                         0.5                    0.498            64.83   \n\n   population  population_density  new_cases  \n0  38928341.0              54.422        0.0  \n1  38928341.0              54.422        0.0  \n2  38928341.0              54.422        0.0  \n3  38928341.0              54.422        0.0  \n4  38928341.0              54.422        0.0  \n5  38928341.0              54.422        0.0  \n6  38928341.0              54.422        0.0  \n7  38928341.0              54.422        0.0  \n8  38928341.0              54.422        0.0  \n9  38928341.0              54.422        0.0  ",
      "text/html": "<div>\n<style scoped>\n    .dataframe tbody tr th:only-of-type {\n        vertical-align: middle;\n    }\n\n    .dataframe tbody tr th {\n        vertical-align: top;\n    }\n\n    .dataframe thead th {\n        text-align: right;\n    }\n</style>\n<table border=\"1\" class=\"dataframe\">\n  <thead>\n    <tr style=\"text-align: right;\">\n      <th></th>\n      <th>date</th>\n      <th>continent</th>\n      <th>gdp_per_capita</th>\n      <th>location</th>\n      <th>hospital_beds_per_thousand</th>\n      <th>human_development_index</th>\n      <th>life_expectancy</th>\n      <th>population</th>\n      <th>population_density</th>\n      <th>new_cases</th>\n    </tr>\n  </thead>\n  <tbody>\n    <tr>\n      <th>0</th>\n      <td>12/31/2019</td>\n      <td>Asia</td>\n      <td>1803.987</td>\n      <td>Afghanistan</td>\n      <td>0.5</td>\n      <td>0.498</td>\n      <td>64.83</td>\n      <td>38928341.0</td>\n      <td>54.422</td>\n      <td>0.0</td>\n    </tr>\n    <tr>\n      <th>1</th>\n      <td>1/1/2020</td>\n      <td>Asia</td>\n      <td>1803.987</td>\n      <td>Afghanistan</td>\n      <td>0.5</td>\n      <td>0.498</td>\n      <td>64.83</td>\n      <td>38928341.0</td>\n      <td>54.422</td>\n      <td>0.0</td>\n    </tr>\n    <tr>\n      <th>2</th>\n      <td>1/2/2020</td>\n      <td>Asia</td>\n      <td>1803.987</td>\n      <td>Afghanistan</td>\n      <td>0.5</td>\n      <td>0.498</td>\n      <td>64.83</td>\n      <td>38928341.0</td>\n      <td>54.422</td>\n      <td>0.0</td>\n    </tr>\n    <tr>\n      <th>3</th>\n      <td>1/3/2020</td>\n      <td>Asia</td>\n      <td>1803.987</td>\n      <td>Afghanistan</td>\n      <td>0.5</td>\n      <td>0.498</td>\n      <td>64.83</td>\n      <td>38928341.0</td>\n      <td>54.422</td>\n      <td>0.0</td>\n    </tr>\n    <tr>\n      <th>4</th>\n      <td>1/4/2020</td>\n      <td>Asia</td>\n      <td>1803.987</td>\n      <td>Afghanistan</td>\n      <td>0.5</td>\n      <td>0.498</td>\n      <td>64.83</td>\n      <td>38928341.0</td>\n      <td>54.422</td>\n      <td>0.0</td>\n    </tr>\n    <tr>\n      <th>5</th>\n      <td>1/5/2020</td>\n      <td>Asia</td>\n      <td>1803.987</td>\n      <td>Afghanistan</td>\n      <td>0.5</td>\n      <td>0.498</td>\n      <td>64.83</td>\n      <td>38928341.0</td>\n      <td>54.422</td>\n      <td>0.0</td>\n    </tr>\n    <tr>\n      <th>6</th>\n      <td>1/6/2020</td>\n      <td>Asia</td>\n      <td>1803.987</td>\n      <td>Afghanistan</td>\n      <td>0.5</td>\n      <td>0.498</td>\n      <td>64.83</td>\n      <td>38928341.0</td>\n      <td>54.422</td>\n      <td>0.0</td>\n    </tr>\n    <tr>\n      <th>7</th>\n      <td>1/7/2020</td>\n      <td>Asia</td>\n      <td>1803.987</td>\n      <td>Afghanistan</td>\n      <td>0.5</td>\n      <td>0.498</td>\n      <td>64.83</td>\n      <td>38928341.0</td>\n      <td>54.422</td>\n      <td>0.0</td>\n    </tr>\n    <tr>\n      <th>8</th>\n      <td>1/8/2020</td>\n      <td>Asia</td>\n      <td>1803.987</td>\n      <td>Afghanistan</td>\n      <td>0.5</td>\n      <td>0.498</td>\n      <td>64.83</td>\n      <td>38928341.0</td>\n      <td>54.422</td>\n      <td>0.0</td>\n    </tr>\n    <tr>\n      <th>9</th>\n      <td>1/9/2020</td>\n      <td>Asia</td>\n      <td>1803.987</td>\n      <td>Afghanistan</td>\n      <td>0.5</td>\n      <td>0.498</td>\n      <td>64.83</td>\n      <td>38928341.0</td>\n      <td>54.422</td>\n      <td>0.0</td>\n    </tr>\n  </tbody>\n</table>\n</div>"
     },
     "execution_count": 8,
     "metadata": {},
     "output_type": "execute_result"
    }
   ],
   "source": [
    "filtered_df.head(10)"
   ],
   "metadata": {
    "collapsed": false,
    "pycharm": {
     "name": "#%%\n"
    }
   }
  },
  {
   "cell_type": "code",
   "execution_count": 10,
   "outputs": [],
   "source": [
    "filtered_df['ones'] = 1\n",
    "rebuild_df = filtered_df.iloc[:,1:-1].groupby(['continent','gdp_per_capita','location','hospital_beds_per_thousand',\n",
    "            'human_development_index', 'life_expectancy', 'population',\n",
    "            'population_density',]).sum().reset_index()\n"
   ],
   "metadata": {
    "collapsed": false,
    "pycharm": {
     "name": "#%%\n"
    }
   }
  },
  {
   "cell_type": "code",
   "execution_count": 11,
   "outputs": [],
   "source": [
    "def sec_grad_std(x):\n",
    "    x = x.values\n",
    "    if (x.size >=3):\n",
    "        first = x[:-1]-x[1:]\n",
    "        second = np.array(first[:-1]-first[1:])\n",
    "        num_of_weeks = second.size//7\n",
    "        weekly_grad = []\n",
    "        for i in range(num_of_weeks):\n",
    "            weekly_grad.append(second[7*i:7*(i+1)].std())\n",
    "        #print(len(weekly_grad))\n",
    "        weekly_grad = np.array(weekly_grad)\n",
    "    else:\n",
    "        weekly_grad = np.array(np.array(x).std())\n",
    "    return weekly_grad"
   ],
   "metadata": {
    "collapsed": false,
    "pycharm": {
     "name": "#%%\n"
    }
   }
  },
  {
   "cell_type": "code",
   "execution_count": 12,
   "outputs": [],
   "source": [
    "std_spread = filtered_df.groupby('location')['new_cases'].apply(sec_grad_std)"
   ],
   "metadata": {
    "collapsed": false,
    "pycharm": {
     "name": "#%%\n"
    }
   }
  },
  {
   "cell_type": "code",
   "execution_count": 13,
   "outputs": [
    {
     "data": {
      "text/plain": "              location                                               nums\n0          Afghanistan  [0.0, 0.0, 0.0, 0.0, 0.0, 0.0, 0.0, 0.83299312...\n1              Albania  [7.907630001770312, 11.096975134821973, 12.645...\n2              Algeria  [0.0, 0.0, 0.0, 0.0, 0.0, 0.0, 0.0, 0.34992710...\n3  Antigua and Barbuda  [4.135461378894322, 1.456862718169367, 5.11101...\n4            Argentina  [9.672177645606148, 15.670067658059528, 47.405...",
      "text/html": "<div>\n<style scoped>\n    .dataframe tbody tr th:only-of-type {\n        vertical-align: middle;\n    }\n\n    .dataframe tbody tr th {\n        vertical-align: top;\n    }\n\n    .dataframe thead th {\n        text-align: right;\n    }\n</style>\n<table border=\"1\" class=\"dataframe\">\n  <thead>\n    <tr style=\"text-align: right;\">\n      <th></th>\n      <th>location</th>\n      <th>nums</th>\n    </tr>\n  </thead>\n  <tbody>\n    <tr>\n      <th>0</th>\n      <td>Afghanistan</td>\n      <td>[0.0, 0.0, 0.0, 0.0, 0.0, 0.0, 0.0, 0.83299312...</td>\n    </tr>\n    <tr>\n      <th>1</th>\n      <td>Albania</td>\n      <td>[7.907630001770312, 11.096975134821973, 12.645...</td>\n    </tr>\n    <tr>\n      <th>2</th>\n      <td>Algeria</td>\n      <td>[0.0, 0.0, 0.0, 0.0, 0.0, 0.0, 0.0, 0.34992710...</td>\n    </tr>\n    <tr>\n      <th>3</th>\n      <td>Antigua and Barbuda</td>\n      <td>[4.135461378894322, 1.456862718169367, 5.11101...</td>\n    </tr>\n    <tr>\n      <th>4</th>\n      <td>Argentina</td>\n      <td>[9.672177645606148, 15.670067658059528, 47.405...</td>\n    </tr>\n  </tbody>\n</table>\n</div>"
     },
     "execution_count": 13,
     "metadata": {},
     "output_type": "execute_result"
    }
   ],
   "source": [
    "std_df = pd.DataFrame()\n",
    "std_df['location'] = std_spread.index\n",
    "std_df['nums'] = std_spread.values\n",
    "std_df.head()"
   ],
   "metadata": {
    "collapsed": false,
    "pycharm": {
     "name": "#%%\n"
    }
   }
  },
  {
   "cell_type": "code",
   "execution_count": 14,
   "outputs": [],
   "source": [
    "\n",
    "\n",
    "def series_builder(x):\n",
    "    #print(type(x.values),x.shape,type(x[0]),type(x[1]))\n",
    "    #print(type(x.location))\n",
    "    # test = np.append(x[1],x[0],axis=1)\n",
    "    lis = list(x[1])\n",
    "    val = x[0]\n",
    "    big_lis = []\n",
    "    for i in range(x[1].shape[0]):\n",
    "        temp = np.array([val,lis[i]])\n",
    "        big_lis.append(temp)\n",
    "    big_arr = np.array(big_lis)\n",
    "    # temp_ser = np.concatenate((x.values,np.array([x.location,]*x.values.shape[0])),axis=1)\n",
    "    # print(temp_ser)\n",
    "    return big_arr\n",
    "\n",
    "new_ser = std_df.apply(series_builder,axis=1)"
   ],
   "metadata": {
    "collapsed": false,
    "pycharm": {
     "name": "#%%\n"
    }
   }
  },
  {
   "cell_type": "code",
   "execution_count": 15,
   "outputs": [],
   "source": [
    "tol_arr = np.vstack(new_ser)"
   ],
   "metadata": {
    "collapsed": false,
    "pycharm": {
     "name": "#%%\n"
    }
   }
  },
  {
   "cell_type": "code",
   "execution_count": 16,
   "outputs": [],
   "source": [
    "fin_df = pd.DataFrame(data=tol_arr,columns=['location','grad'])"
   ],
   "metadata": {
    "collapsed": false,
    "pycharm": {
     "name": "#%%\n"
    }
   }
  },
  {
   "cell_type": "code",
   "execution_count": 23,
   "outputs": [],
   "source": [
    "full_df = fin_df.merge(rebuild_df, on='location')\n",
    "full_df['continent'] = full_df['continent'].astype('category')\n",
    "full_df[\"continent\"] = full_df[\"continent\"].cat.codes\n",
    "full_df['gradient'] = full_df['grad']\n",
    "full_df.drop(['location','new_cases','grad'],axis=1,inplace=True)"
   ],
   "metadata": {
    "collapsed": false,
    "pycharm": {
     "name": "#%%\n"
    }
   }
  },
  {
   "cell_type": "code",
   "execution_count": 24,
   "outputs": [
    {
     "data": {
      "text/plain": "      continent  gdp_per_capita  hospital_beds_per_thousand  \\\n1823          4        8702.975                         2.3   \n1824          4        8702.975                         2.3   \n1825          4        8702.975                         2.3   \n1826          4        8702.975                         2.3   \n1827          4        8702.975                         2.3   \n1828          4        8702.975                         2.3   \n1829          4        8702.975                         2.3   \n1830          4        8702.975                         2.3   \n1831          4        8702.975                         2.3   \n1832          4        8702.975                         2.3   \n\n      human_development_index  life_expectancy  population  \\\n1823                    0.741            67.44    896444.0   \n1824                    0.741            67.44    896444.0   \n1825                    0.741            67.44    896444.0   \n1826                    0.741            67.44    896444.0   \n1827                    0.741            67.44    896444.0   \n1828                    0.741            67.44    896444.0   \n1829                    0.741            67.44    896444.0   \n1830                    0.741            67.44    896444.0   \n1831                    0.741            67.44    896444.0   \n1832                    0.741            67.44    896444.0   \n\n      population_density            gradient  \n1823              49.562  2.2038926600773587  \n1824              49.562  4.6291004988627575  \n1825              49.562  0.9258200997725514  \n1826              49.562                 0.0  \n1827              49.562                 0.0  \n1828              49.562                 0.0  \n1829              49.562  0.9258200997725514  \n1830              49.562                 0.0  \n1831              49.562  2.0503857277724746  \n1832              49.562  1.1605769149479943  ",
      "text/html": "<div>\n<style scoped>\n    .dataframe tbody tr th:only-of-type {\n        vertical-align: middle;\n    }\n\n    .dataframe tbody tr th {\n        vertical-align: top;\n    }\n\n    .dataframe thead th {\n        text-align: right;\n    }\n</style>\n<table border=\"1\" class=\"dataframe\">\n  <thead>\n    <tr style=\"text-align: right;\">\n      <th></th>\n      <th>continent</th>\n      <th>gdp_per_capita</th>\n      <th>hospital_beds_per_thousand</th>\n      <th>human_development_index</th>\n      <th>life_expectancy</th>\n      <th>population</th>\n      <th>population_density</th>\n      <th>gradient</th>\n    </tr>\n  </thead>\n  <tbody>\n    <tr>\n      <th>1823</th>\n      <td>4</td>\n      <td>8702.975</td>\n      <td>2.3</td>\n      <td>0.741</td>\n      <td>67.44</td>\n      <td>896444.0</td>\n      <td>49.562</td>\n      <td>2.2038926600773587</td>\n    </tr>\n    <tr>\n      <th>1824</th>\n      <td>4</td>\n      <td>8702.975</td>\n      <td>2.3</td>\n      <td>0.741</td>\n      <td>67.44</td>\n      <td>896444.0</td>\n      <td>49.562</td>\n      <td>4.6291004988627575</td>\n    </tr>\n    <tr>\n      <th>1825</th>\n      <td>4</td>\n      <td>8702.975</td>\n      <td>2.3</td>\n      <td>0.741</td>\n      <td>67.44</td>\n      <td>896444.0</td>\n      <td>49.562</td>\n      <td>0.9258200997725514</td>\n    </tr>\n    <tr>\n      <th>1826</th>\n      <td>4</td>\n      <td>8702.975</td>\n      <td>2.3</td>\n      <td>0.741</td>\n      <td>67.44</td>\n      <td>896444.0</td>\n      <td>49.562</td>\n      <td>0.0</td>\n    </tr>\n    <tr>\n      <th>1827</th>\n      <td>4</td>\n      <td>8702.975</td>\n      <td>2.3</td>\n      <td>0.741</td>\n      <td>67.44</td>\n      <td>896444.0</td>\n      <td>49.562</td>\n      <td>0.0</td>\n    </tr>\n    <tr>\n      <th>1828</th>\n      <td>4</td>\n      <td>8702.975</td>\n      <td>2.3</td>\n      <td>0.741</td>\n      <td>67.44</td>\n      <td>896444.0</td>\n      <td>49.562</td>\n      <td>0.0</td>\n    </tr>\n    <tr>\n      <th>1829</th>\n      <td>4</td>\n      <td>8702.975</td>\n      <td>2.3</td>\n      <td>0.741</td>\n      <td>67.44</td>\n      <td>896444.0</td>\n      <td>49.562</td>\n      <td>0.9258200997725514</td>\n    </tr>\n    <tr>\n      <th>1830</th>\n      <td>4</td>\n      <td>8702.975</td>\n      <td>2.3</td>\n      <td>0.741</td>\n      <td>67.44</td>\n      <td>896444.0</td>\n      <td>49.562</td>\n      <td>0.0</td>\n    </tr>\n    <tr>\n      <th>1831</th>\n      <td>4</td>\n      <td>8702.975</td>\n      <td>2.3</td>\n      <td>0.741</td>\n      <td>67.44</td>\n      <td>896444.0</td>\n      <td>49.562</td>\n      <td>2.0503857277724746</td>\n    </tr>\n    <tr>\n      <th>1832</th>\n      <td>4</td>\n      <td>8702.975</td>\n      <td>2.3</td>\n      <td>0.741</td>\n      <td>67.44</td>\n      <td>896444.0</td>\n      <td>49.562</td>\n      <td>1.1605769149479943</td>\n    </tr>\n  </tbody>\n</table>\n</div>"
     },
     "execution_count": 24,
     "metadata": {},
     "output_type": "execute_result"
    }
   ],
   "source": [
    "full_df.tail(10)"
   ],
   "metadata": {
    "collapsed": false,
    "pycharm": {
     "name": "#%%\n"
    }
   }
  },
  {
   "cell_type": "code",
   "execution_count": 25,
   "outputs": [],
   "source": [
    "full_df.to_csv('../../../data/geo_mode_data/final.csv',index=False)"
   ],
   "metadata": {
    "collapsed": false,
    "pycharm": {
     "name": "#%%\n"
    }
   }
  },
  {
   "cell_type": "code",
   "execution_count": null,
   "outputs": [],
   "source": [
    "def sec_grad_mean(x):\n",
    "    x = x.values\n",
    "    sec_grad = 0\n",
    "    if (x.size >=3):\n",
    "        first = x[:-1]-x[1:]\n",
    "        second = np.array(first[:-1]-first[1:])\n",
    "        sec_grad = second.mean()\n",
    "    else:\n",
    "        sec_grad = np.array(x).mean()\n",
    "    return sec_grad"
   ],
   "metadata": {
    "collapsed": false,
    "pycharm": {
     "name": "#%%\n"
    }
   }
  },
  {
   "cell_type": "code",
   "execution_count": null,
   "outputs": [],
   "source": [
    "mean_spread = filtered_df.groupby('location')['new_cases'].apply(sec_grad_mean)"
   ],
   "metadata": {
    "collapsed": false,
    "pycharm": {
     "name": "#%%\n"
    }
   }
  }
 ],
 "metadata": {
  "kernelspec": {
   "display_name": "Python 3",
   "language": "python",
   "name": "python3"
  },
  "language_info": {
   "codemirror_mode": {
    "name": "ipython",
    "version": 2
   },
   "file_extension": ".py",
   "mimetype": "text/x-python",
   "name": "python",
   "nbconvert_exporter": "python",
   "pygments_lexer": "ipython2",
   "version": "2.7.6"
  }
 },
 "nbformat": 4,
 "nbformat_minor": 0
}