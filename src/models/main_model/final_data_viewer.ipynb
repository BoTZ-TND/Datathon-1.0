{
 "metadata": {
  "language_info": {
   "codemirror_mode": {
    "name": "ipython",
    "version": 3
   },
   "file_extension": ".py",
   "mimetype": "text/x-python",
   "name": "python",
   "nbconvert_exporter": "python",
   "pygments_lexer": "ipython3",
   "version": "3.7.7-final"
  },
  "orig_nbformat": 2,
  "kernelspec": {
   "name": "python3",
   "display_name": "Python 3",
   "language": "python"
  }
 },
 "nbformat": 4,
 "nbformat_minor": 2,
 "cells": [
  {
   "source": [
    "## peek into final results of main pipeline"
   ],
   "cell_type": "markdown",
   "metadata": {}
  },
  {
   "cell_type": "code",
   "execution_count": 1,
   "metadata": {},
   "outputs": [],
   "source": [
    "import numpy as np \n",
    "import pandas as pd "
   ]
  },
  {
   "cell_type": "code",
   "execution_count": 5,
   "metadata": {},
   "outputs": [
    {
     "output_type": "execute_result",
     "data": {
      "text/plain": [
       "   index formal_date  quarter  date  day_of_week  month  Suspected_Local  \\\n",
       "0      1  2020-03-31        1    31            1      3               41   \n",
       "1     25  2020-03-31        1    31            1      3                0   \n",
       "2     24  2020-03-31        1    31            1      3                0   \n",
       "3     23  2020-03-31        1    31            1      3                0   \n",
       "4     22  2020-03-31        1    31            1      3                0   \n",
       "\n",
       "   Suspected_Foreign  temp  humidity  sun_hours  province  \\\n",
       "0                  1  28.5      81.0       7.15         1   \n",
       "1                  0  30.0      78.0       6.15         9   \n",
       "2                  0  29.5      82.0       5.74         9   \n",
       "3                  0  30.0      81.0       4.58         9   \n",
       "4                  0  31.0      81.0       4.87         9   \n",
       "\n",
       "   neir_infected_cases  locked_percn  geo_gradient  TotalInfected  \n",
       "0                   34           1.0      0.541970             11  \n",
       "1                    1           1.0      0.500000              0  \n",
       "2                    1           1.0      0.071094              0  \n",
       "3                    0           1.0      0.071204              0  \n",
       "4                    1           1.0      0.066271              0  "
      ],
      "text/html": "<div>\n<style scoped>\n    .dataframe tbody tr th:only-of-type {\n        vertical-align: middle;\n    }\n\n    .dataframe tbody tr th {\n        vertical-align: top;\n    }\n\n    .dataframe thead th {\n        text-align: right;\n    }\n</style>\n<table border=\"1\" class=\"dataframe\">\n  <thead>\n    <tr style=\"text-align: right;\">\n      <th></th>\n      <th>index</th>\n      <th>formal_date</th>\n      <th>quarter</th>\n      <th>date</th>\n      <th>day_of_week</th>\n      <th>month</th>\n      <th>Suspected_Local</th>\n      <th>Suspected_Foreign</th>\n      <th>temp</th>\n      <th>humidity</th>\n      <th>sun_hours</th>\n      <th>province</th>\n      <th>neir_infected_cases</th>\n      <th>locked_percn</th>\n      <th>geo_gradient</th>\n      <th>TotalInfected</th>\n    </tr>\n  </thead>\n  <tbody>\n    <tr>\n      <th>0</th>\n      <td>1</td>\n      <td>2020-03-31</td>\n      <td>1</td>\n      <td>31</td>\n      <td>1</td>\n      <td>3</td>\n      <td>41</td>\n      <td>1</td>\n      <td>28.5</td>\n      <td>81.0</td>\n      <td>7.15</td>\n      <td>1</td>\n      <td>34</td>\n      <td>1.0</td>\n      <td>0.541970</td>\n      <td>11</td>\n    </tr>\n    <tr>\n      <th>1</th>\n      <td>25</td>\n      <td>2020-03-31</td>\n      <td>1</td>\n      <td>31</td>\n      <td>1</td>\n      <td>3</td>\n      <td>0</td>\n      <td>0</td>\n      <td>30.0</td>\n      <td>78.0</td>\n      <td>6.15</td>\n      <td>9</td>\n      <td>1</td>\n      <td>1.0</td>\n      <td>0.500000</td>\n      <td>0</td>\n    </tr>\n    <tr>\n      <th>2</th>\n      <td>24</td>\n      <td>2020-03-31</td>\n      <td>1</td>\n      <td>31</td>\n      <td>1</td>\n      <td>3</td>\n      <td>0</td>\n      <td>0</td>\n      <td>29.5</td>\n      <td>82.0</td>\n      <td>5.74</td>\n      <td>9</td>\n      <td>1</td>\n      <td>1.0</td>\n      <td>0.071094</td>\n      <td>0</td>\n    </tr>\n    <tr>\n      <th>3</th>\n      <td>23</td>\n      <td>2020-03-31</td>\n      <td>1</td>\n      <td>31</td>\n      <td>1</td>\n      <td>3</td>\n      <td>0</td>\n      <td>0</td>\n      <td>30.0</td>\n      <td>81.0</td>\n      <td>4.58</td>\n      <td>9</td>\n      <td>0</td>\n      <td>1.0</td>\n      <td>0.071204</td>\n      <td>0</td>\n    </tr>\n    <tr>\n      <th>4</th>\n      <td>22</td>\n      <td>2020-03-31</td>\n      <td>1</td>\n      <td>31</td>\n      <td>1</td>\n      <td>3</td>\n      <td>0</td>\n      <td>0</td>\n      <td>31.0</td>\n      <td>81.0</td>\n      <td>4.87</td>\n      <td>9</td>\n      <td>1</td>\n      <td>1.0</td>\n      <td>0.066271</td>\n      <td>0</td>\n    </tr>\n  </tbody>\n</table>\n</div>"
     },
     "metadata": {},
     "execution_count": 5
    },
    {
     "output_type": "stream",
     "name": "stdout",
     "text": [
      "(5250, 16)\nIndex(['index', 'formal_date', 'quarter', 'date', 'day_of_week', 'month',\n       'Suspected_Local', 'Suspected_Foreign', 'temp', 'humidity', 'sun_hours',\n       'province', 'neir_infected_cases', 'locked_percn', 'geo_gradient',\n       'TotalInfected'],\n      dtype='object')\nindex                   25\nformal_date            210\nquarter                  4\ndate                    31\nday_of_week              7\nmonth                    8\nSuspected_Local         70\nSuspected_Foreign        4\ntemp                    21\nhumidity                24\nsun_hours              105\nprovince                 9\nneir_infected_cases    131\nlocked_percn            18\ngeo_gradient            25\nTotalInfected           49\ndtype: int64\n<class 'pandas.core.frame.DataFrame'>\nRangeIndex: 5250 entries, 0 to 5249\nData columns (total 16 columns):\n #   Column               Non-Null Count  Dtype  \n---  ------               --------------  -----  \n 0   index                5250 non-null   int64  \n 1   formal_date          5250 non-null   object \n 2   quarter              5250 non-null   int64  \n 3   date                 5250 non-null   int64  \n 4   day_of_week          5250 non-null   int64  \n 5   month                5250 non-null   int64  \n 6   Suspected_Local      5250 non-null   int64  \n 7   Suspected_Foreign    5250 non-null   int64  \n 8   temp                 5250 non-null   float64\n 9   humidity             5250 non-null   float64\n 10  sun_hours            5250 non-null   float64\n 11  province             5250 non-null   int64  \n 12  neir_infected_cases  5250 non-null   int64  \n 13  locked_percn         5250 non-null   float64\n 14  geo_gradient         5250 non-null   float64\n 15  TotalInfected        5250 non-null   int64  \ndtypes: float64(5), int64(10), object(1)\nmemory usage: 656.4+ KB\nNone\nNull value report\n index                  0\nformal_date            0\nquarter                0\ndate                   0\nday_of_week            0\nmonth                  0\nSuspected_Local        0\nSuspected_Foreign      0\ntemp                   0\nhumidity               0\nsun_hours              0\nprovince               0\nneir_infected_cases    0\nlocked_percn           0\ngeo_gradient           0\nTotalInfected          0\ndtype: int64\n"
     ]
    }
   ],
   "source": [
    "train_df = pd.read_csv('../../../data/main_data/final_train.csv')\n",
    "train_df.head()\n",
    "print(train_df.shape)\n",
    "print(train_df.columns)\n",
    "print(train_df.nunique())\n",
    "print(train_df.info())\n",
    "print(\"Null value report\\n\",train_df.isnull().sum())"
   ]
  },
  {
   "cell_type": "code",
   "execution_count": 2,
   "metadata": {},
   "outputs": [
    {
     "output_type": "execute_result",
     "data": {
      "text/plain": [
       "      index formal_date  quarter  date  day_of_week  month  Suspected_Local  \\\n",
       "5220     21  2020-10-31        4    31            5     10                0   \n",
       "5221     22  2020-10-31        4    31            5     10                0   \n",
       "5222     23  2020-10-31        4    31            5     10                0   \n",
       "5223     24  2020-10-31        4    31            5     10                0   \n",
       "5224     25  2020-10-31        4    31            5     10                0   \n",
       "\n",
       "      Suspected_Foreign  temp  humidity  sun_hours  province  \\\n",
       "5220                  0  26.0       0.5       3.35         9   \n",
       "5221                  0  27.0       0.5       4.47         9   \n",
       "5222                  0  28.0       0.5       4.81         9   \n",
       "5223                  0  27.5       0.5       4.00         9   \n",
       "5224                  0  28.0       0.5       3.35         9   \n",
       "\n",
       "      neir_infected_cases  locked_percn  geo_gradient  TotalInfected  \n",
       "5220                    1           0.0      0.080363              0  \n",
       "5221                   33           0.0      0.066271              0  \n",
       "5222                   31           0.0      0.071204              0  \n",
       "5223                   37           0.0      0.071094              0  \n",
       "5224                    2           0.0      0.500000              0  "
      ],
      "text/html": "<div>\n<style scoped>\n    .dataframe tbody tr th:only-of-type {\n        vertical-align: middle;\n    }\n\n    .dataframe tbody tr th {\n        vertical-align: top;\n    }\n\n    .dataframe thead th {\n        text-align: right;\n    }\n</style>\n<table border=\"1\" class=\"dataframe\">\n  <thead>\n    <tr style=\"text-align: right;\">\n      <th></th>\n      <th>index</th>\n      <th>formal_date</th>\n      <th>quarter</th>\n      <th>date</th>\n      <th>day_of_week</th>\n      <th>month</th>\n      <th>Suspected_Local</th>\n      <th>Suspected_Foreign</th>\n      <th>temp</th>\n      <th>humidity</th>\n      <th>sun_hours</th>\n      <th>province</th>\n      <th>neir_infected_cases</th>\n      <th>locked_percn</th>\n      <th>geo_gradient</th>\n      <th>TotalInfected</th>\n    </tr>\n  </thead>\n  <tbody>\n    <tr>\n      <th>5220</th>\n      <td>21</td>\n      <td>2020-10-31</td>\n      <td>4</td>\n      <td>31</td>\n      <td>5</td>\n      <td>10</td>\n      <td>0</td>\n      <td>0</td>\n      <td>26.0</td>\n      <td>0.5</td>\n      <td>3.35</td>\n      <td>9</td>\n      <td>1</td>\n      <td>0.0</td>\n      <td>0.080363</td>\n      <td>0</td>\n    </tr>\n    <tr>\n      <th>5221</th>\n      <td>22</td>\n      <td>2020-10-31</td>\n      <td>4</td>\n      <td>31</td>\n      <td>5</td>\n      <td>10</td>\n      <td>0</td>\n      <td>0</td>\n      <td>27.0</td>\n      <td>0.5</td>\n      <td>4.47</td>\n      <td>9</td>\n      <td>33</td>\n      <td>0.0</td>\n      <td>0.066271</td>\n      <td>0</td>\n    </tr>\n    <tr>\n      <th>5222</th>\n      <td>23</td>\n      <td>2020-10-31</td>\n      <td>4</td>\n      <td>31</td>\n      <td>5</td>\n      <td>10</td>\n      <td>0</td>\n      <td>0</td>\n      <td>28.0</td>\n      <td>0.5</td>\n      <td>4.81</td>\n      <td>9</td>\n      <td>31</td>\n      <td>0.0</td>\n      <td>0.071204</td>\n      <td>0</td>\n    </tr>\n    <tr>\n      <th>5223</th>\n      <td>24</td>\n      <td>2020-10-31</td>\n      <td>4</td>\n      <td>31</td>\n      <td>5</td>\n      <td>10</td>\n      <td>0</td>\n      <td>0</td>\n      <td>27.5</td>\n      <td>0.5</td>\n      <td>4.00</td>\n      <td>9</td>\n      <td>37</td>\n      <td>0.0</td>\n      <td>0.071094</td>\n      <td>0</td>\n    </tr>\n    <tr>\n      <th>5224</th>\n      <td>25</td>\n      <td>2020-10-31</td>\n      <td>4</td>\n      <td>31</td>\n      <td>5</td>\n      <td>10</td>\n      <td>0</td>\n      <td>0</td>\n      <td>28.0</td>\n      <td>0.5</td>\n      <td>3.35</td>\n      <td>9</td>\n      <td>2</td>\n      <td>0.0</td>\n      <td>0.500000</td>\n      <td>0</td>\n    </tr>\n  </tbody>\n</table>\n</div>"
     },
     "metadata": {},
     "execution_count": 2
    },
    {
     "output_type": "stream",
     "name": "stdout",
     "text": [
      "(5225, 16)\nIndex(['index', 'formal_date', 'quarter', 'date', 'day_of_week', 'month',\n       'Suspected_Local', 'Suspected_Foreign', 'temp', 'humidity', 'sun_hours',\n       'province', 'neir_infected_cases', 'locked_percn', 'geo_gradient',\n       'TotalInfected'],\n      dtype='object')\nindex                   25\nformal_date            209\nquarter                  4\ndate                    31\nday_of_week              7\nmonth                    8\nSuspected_Local         69\nSuspected_Foreign        4\ntemp                    21\nhumidity                24\nsun_hours              105\nprovince                 9\nneir_infected_cases    131\nlocked_percn            18\ngeo_gradient            25\nTotalInfected           49\ndtype: int64\n<class 'pandas.core.frame.DataFrame'>\nRangeIndex: 5225 entries, 0 to 5224\nData columns (total 16 columns):\n #   Column               Non-Null Count  Dtype  \n---  ------               --------------  -----  \n 0   index                5225 non-null   int64  \n 1   formal_date          5225 non-null   object \n 2   quarter              5225 non-null   int64  \n 3   date                 5225 non-null   int64  \n 4   day_of_week          5225 non-null   int64  \n 5   month                5225 non-null   int64  \n 6   Suspected_Local      5225 non-null   int64  \n 7   Suspected_Foreign    5225 non-null   int64  \n 8   temp                 5225 non-null   float64\n 9   humidity             5225 non-null   float64\n 10  sun_hours            5225 non-null   float64\n 11  province             5225 non-null   int64  \n 12  neir_infected_cases  5225 non-null   int64  \n 13  locked_percn         5225 non-null   float64\n 14  geo_gradient         5225 non-null   float64\n 15  TotalInfected        5225 non-null   int64  \ndtypes: float64(5), int64(10), object(1)\nmemory usage: 653.2+ KB\nNone\nindex                  0\nformal_date            0\nquarter                0\ndate                   0\nday_of_week            0\nmonth                  0\nSuspected_Local        0\nSuspected_Foreign      0\ntemp                   0\nhumidity               0\nsun_hours              0\nprovince               0\nneir_infected_cases    0\nlocked_percn           0\ngeo_gradient           0\nTotalInfected          0\ndtype: int64\n"
     ]
    }
   ],
   "source": [
    "test_df = pd.read_csv('../../../data/main_data/final_test.csv')\n",
    "test_df.tail()\n",
    "print(test_df.shape)\n",
    "print(test_df.columns)\n",
    "print(test_df.nunique())\n",
    "print(test_df.info())\n",
    "print(test_df.isnull().sum())"
   ]
  },
  {
   "cell_type": "code",
   "execution_count": null,
   "metadata": {},
   "outputs": [],
   "source": []
  }
 ]
}