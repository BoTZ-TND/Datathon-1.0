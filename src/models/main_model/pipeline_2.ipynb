{
 "cells": [
  {
   "cell_type": "markdown",
   "metadata": {
    "collapsed": true,
    "pycharm": {
     "name": "#%% md\n"
    }
   },
   "source": [
    "District related pre-processing"
   ]
  },
  {
   "cell_type": "code",
   "execution_count": 1,
   "outputs": [],
   "source": [
    "import pandas as pd\n",
    "import numpy as np\n",
    "from datetime import datetime"
   ],
   "metadata": {
    "collapsed": false,
    "pycharm": {
     "name": "#%%\n"
    }
   }
  },
  {
   "cell_type": "code",
   "execution_count": 9,
   "outputs": [],
   "source": [
    "date_dist_df = pd.read_csv('../../../data/main_data/fin_daily.csv')\n",
    "districts_df = pd.read_csv('../../../data/main_data/districts.csv')\n",
    "weather_df = pd.read_csv('../../../data/main_data/weather_pattern.csv')"
   ],
   "metadata": {
    "collapsed": false,
    "pycharm": {
     "name": "#%%\n"
    }
   }
  },
  {
   "cell_type": "code",
   "execution_count": 10,
   "outputs": [
    {
     "name": "stdout",
     "output_type": "stream",
     "text": [
      "date-district-dataset \n",
      "\n",
      "district-feature-dataset\n",
      "weather-pattern-dataset\n"
     ]
    },
    {
     "data": {
      "text/plain": "   index formal_date  quarter  date  day_of_week  month  Suspected_Local  \\\n0      1  2020-03-31        1    31            1      3               41   \n1      2  2020-03-31        1    31            1      3                1   \n2      3  2020-03-31        1    31            1      3                5   \n3      4  2020-03-31        1    31            1      3                2   \n4      5  2020-03-31        1    31            1      3                7   \n\n   Suspected_Foreign  temp  humidity  sun_hours  TotalInfected  \n0                  1  28.5      81.0       7.15             11  \n1                  0  28.5      76.0       8.50             15  \n2                  0  29.0      76.0       8.50             18  \n3                  0  28.5      75.0       8.00              0  \n4                  0  28.5      76.0       8.30              1  ",
      "text/html": "<div>\n<style scoped>\n    .dataframe tbody tr th:only-of-type {\n        vertical-align: middle;\n    }\n\n    .dataframe tbody tr th {\n        vertical-align: top;\n    }\n\n    .dataframe thead th {\n        text-align: right;\n    }\n</style>\n<table border=\"1\" class=\"dataframe\">\n  <thead>\n    <tr style=\"text-align: right;\">\n      <th></th>\n      <th>index</th>\n      <th>formal_date</th>\n      <th>quarter</th>\n      <th>date</th>\n      <th>day_of_week</th>\n      <th>month</th>\n      <th>Suspected_Local</th>\n      <th>Suspected_Foreign</th>\n      <th>temp</th>\n      <th>humidity</th>\n      <th>sun_hours</th>\n      <th>TotalInfected</th>\n    </tr>\n  </thead>\n  <tbody>\n    <tr>\n      <th>0</th>\n      <td>1</td>\n      <td>2020-03-31</td>\n      <td>1</td>\n      <td>31</td>\n      <td>1</td>\n      <td>3</td>\n      <td>41</td>\n      <td>1</td>\n      <td>28.5</td>\n      <td>81.0</td>\n      <td>7.15</td>\n      <td>11</td>\n    </tr>\n    <tr>\n      <th>1</th>\n      <td>2</td>\n      <td>2020-03-31</td>\n      <td>1</td>\n      <td>31</td>\n      <td>1</td>\n      <td>3</td>\n      <td>1</td>\n      <td>0</td>\n      <td>28.5</td>\n      <td>76.0</td>\n      <td>8.50</td>\n      <td>15</td>\n    </tr>\n    <tr>\n      <th>2</th>\n      <td>3</td>\n      <td>2020-03-31</td>\n      <td>1</td>\n      <td>31</td>\n      <td>1</td>\n      <td>3</td>\n      <td>5</td>\n      <td>0</td>\n      <td>29.0</td>\n      <td>76.0</td>\n      <td>8.50</td>\n      <td>18</td>\n    </tr>\n    <tr>\n      <th>3</th>\n      <td>4</td>\n      <td>2020-03-31</td>\n      <td>1</td>\n      <td>31</td>\n      <td>1</td>\n      <td>3</td>\n      <td>2</td>\n      <td>0</td>\n      <td>28.5</td>\n      <td>75.0</td>\n      <td>8.00</td>\n      <td>0</td>\n    </tr>\n    <tr>\n      <th>4</th>\n      <td>5</td>\n      <td>2020-03-31</td>\n      <td>1</td>\n      <td>31</td>\n      <td>1</td>\n      <td>3</td>\n      <td>7</td>\n      <td>0</td>\n      <td>28.5</td>\n      <td>76.0</td>\n      <td>8.30</td>\n      <td>1</td>\n    </tr>\n  </tbody>\n</table>\n</div>"
     },
     "execution_count": 10,
     "metadata": {},
     "output_type": "execute_result"
    },
    {
     "data": {
      "text/plain": "  ProvinceNumber          Province Provincial Population  District Number  \\\n0              1  Western Province             6,149,000              1.0   \n1            NaN               NaN                   NaN              NaN   \n2            NaN               NaN                   NaN              NaN   \n3            NaN               NaN                   NaN              NaN   \n4            NaN               NaN                   NaN              NaN   \n\n           District  Elevation(m)  Neighbour district numbers  \\\n0  Colombo District           5.0                         2.0   \n1               NaN           NaN                         3.0   \n2               NaN           NaN                         7.0   \n3               NaN           NaN                         8.0   \n4               NaN           NaN                         NaN   \n\n  Neighbour District Names District Population Population density /km2  \\\n0                  Gampaha           2,448,000                   3,502   \n1                 Kalutara                 NaN                     NaN   \n2                Ratnapura                 NaN                     NaN   \n3                  Kegalle                 NaN                     NaN   \n4                      NaN                 NaN                     NaN   \n\n   No. of Police Stations     OIC division  Division Population  Unnamed: 13  \\\n0                    48.0  Colombo Central                  NaN          1.0   \n1                     NaN              NaN                  NaN          2.0   \n2                     NaN              NaN                  NaN          3.0   \n3                     NaN              NaN                  NaN          4.0   \n4                     NaN              NaN                  NaN          5.0   \n\n  Police station  Population  \n0         Pettah         NaN  \n1     Keselwatta         NaN  \n2     Dam Street         NaN  \n3     Woulfendal         NaN  \n4           Fort         NaN  ",
      "text/html": "<div>\n<style scoped>\n    .dataframe tbody tr th:only-of-type {\n        vertical-align: middle;\n    }\n\n    .dataframe tbody tr th {\n        vertical-align: top;\n    }\n\n    .dataframe thead th {\n        text-align: right;\n    }\n</style>\n<table border=\"1\" class=\"dataframe\">\n  <thead>\n    <tr style=\"text-align: right;\">\n      <th></th>\n      <th>ProvinceNumber</th>\n      <th>Province</th>\n      <th>Provincial Population</th>\n      <th>District Number</th>\n      <th>District</th>\n      <th>Elevation(m)</th>\n      <th>Neighbour district numbers</th>\n      <th>Neighbour District Names</th>\n      <th>District Population</th>\n      <th>Population density /km2</th>\n      <th>No. of Police Stations</th>\n      <th>OIC division</th>\n      <th>Division Population</th>\n      <th>Unnamed: 13</th>\n      <th>Police station</th>\n      <th>Population</th>\n    </tr>\n  </thead>\n  <tbody>\n    <tr>\n      <th>0</th>\n      <td>1</td>\n      <td>Western Province</td>\n      <td>6,149,000</td>\n      <td>1.0</td>\n      <td>Colombo District</td>\n      <td>5.0</td>\n      <td>2.0</td>\n      <td>Gampaha</td>\n      <td>2,448,000</td>\n      <td>3,502</td>\n      <td>48.0</td>\n      <td>Colombo Central</td>\n      <td>NaN</td>\n      <td>1.0</td>\n      <td>Pettah</td>\n      <td>NaN</td>\n    </tr>\n    <tr>\n      <th>1</th>\n      <td>NaN</td>\n      <td>NaN</td>\n      <td>NaN</td>\n      <td>NaN</td>\n      <td>NaN</td>\n      <td>NaN</td>\n      <td>3.0</td>\n      <td>Kalutara</td>\n      <td>NaN</td>\n      <td>NaN</td>\n      <td>NaN</td>\n      <td>NaN</td>\n      <td>NaN</td>\n      <td>2.0</td>\n      <td>Keselwatta</td>\n      <td>NaN</td>\n    </tr>\n    <tr>\n      <th>2</th>\n      <td>NaN</td>\n      <td>NaN</td>\n      <td>NaN</td>\n      <td>NaN</td>\n      <td>NaN</td>\n      <td>NaN</td>\n      <td>7.0</td>\n      <td>Ratnapura</td>\n      <td>NaN</td>\n      <td>NaN</td>\n      <td>NaN</td>\n      <td>NaN</td>\n      <td>NaN</td>\n      <td>3.0</td>\n      <td>Dam Street</td>\n      <td>NaN</td>\n    </tr>\n    <tr>\n      <th>3</th>\n      <td>NaN</td>\n      <td>NaN</td>\n      <td>NaN</td>\n      <td>NaN</td>\n      <td>NaN</td>\n      <td>NaN</td>\n      <td>8.0</td>\n      <td>Kegalle</td>\n      <td>NaN</td>\n      <td>NaN</td>\n      <td>NaN</td>\n      <td>NaN</td>\n      <td>NaN</td>\n      <td>4.0</td>\n      <td>Woulfendal</td>\n      <td>NaN</td>\n    </tr>\n    <tr>\n      <th>4</th>\n      <td>NaN</td>\n      <td>NaN</td>\n      <td>NaN</td>\n      <td>NaN</td>\n      <td>NaN</td>\n      <td>NaN</td>\n      <td>NaN</td>\n      <td>NaN</td>\n      <td>NaN</td>\n      <td>NaN</td>\n      <td>NaN</td>\n      <td>NaN</td>\n      <td>NaN</td>\n      <td>5.0</td>\n      <td>Fort</td>\n      <td>NaN</td>\n    </tr>\n  </tbody>\n</table>\n</div>"
     },
     "execution_count": 10,
     "metadata": {},
     "output_type": "execute_result"
    },
    {
     "data": {
      "text/plain": "   District Number  Unnamed: 1  District  Elevation to City(m)  Unnamed: 4  \\\n0              1.0         NaN   Colombo                   5.0         NaN   \n1              2.0         NaN   Gampaha                  15.0         NaN   \n2              3.0         NaN  Kalutara                  10.0         NaN   \n3              4.0         NaN     Galle                   8.0         NaN   \n4              5.0         NaN    Matara                  10.0         NaN   \n\n   Unnamed: 5   Jan   Feb  March   Apr   May   Jun   Jul   Aug   Sep   Oct  \\\n0         NaN    27  28.0   28.5  28.5  28.5  28.5  28.0  28.0  27.5  27.5   \n1         NaN    27  28.0   28.5  28.5  29.0  28.5  28.0  27.5  28.0  27.5   \n2         NaN  26.5  27.5   28.0  29.0  29.0  28.5  28.5  27.5  28.0  27.5   \n3         NaN    27  27.0   28.5  28.5  28.0  28.0  27.5  27.5  27.5  27.5   \n4         NaN    26  26.0   28.5  28.5  28.0  28.0  27.5  27.5  27.5  28.5   \n\n    Nov   Dec    Avg  \n0  27.0  27.5  27.88  \n1  28.0  28.0  28.04  \n2  27.0  27.0  27.83  \n3  27.0  27.0  27.58  \n4  27.0  27.0  27.50  ",
      "text/html": "<div>\n<style scoped>\n    .dataframe tbody tr th:only-of-type {\n        vertical-align: middle;\n    }\n\n    .dataframe tbody tr th {\n        vertical-align: top;\n    }\n\n    .dataframe thead th {\n        text-align: right;\n    }\n</style>\n<table border=\"1\" class=\"dataframe\">\n  <thead>\n    <tr style=\"text-align: right;\">\n      <th></th>\n      <th>District Number</th>\n      <th>Unnamed: 1</th>\n      <th>District</th>\n      <th>Elevation to City(m)</th>\n      <th>Unnamed: 4</th>\n      <th>Unnamed: 5</th>\n      <th>Jan</th>\n      <th>Feb</th>\n      <th>March</th>\n      <th>Apr</th>\n      <th>May</th>\n      <th>Jun</th>\n      <th>Jul</th>\n      <th>Aug</th>\n      <th>Sep</th>\n      <th>Oct</th>\n      <th>Nov</th>\n      <th>Dec</th>\n      <th>Avg</th>\n    </tr>\n  </thead>\n  <tbody>\n    <tr>\n      <th>0</th>\n      <td>1.0</td>\n      <td>NaN</td>\n      <td>Colombo</td>\n      <td>5.0</td>\n      <td>NaN</td>\n      <td>NaN</td>\n      <td>27</td>\n      <td>28.0</td>\n      <td>28.5</td>\n      <td>28.5</td>\n      <td>28.5</td>\n      <td>28.5</td>\n      <td>28.0</td>\n      <td>28.0</td>\n      <td>27.5</td>\n      <td>27.5</td>\n      <td>27.0</td>\n      <td>27.5</td>\n      <td>27.88</td>\n    </tr>\n    <tr>\n      <th>1</th>\n      <td>2.0</td>\n      <td>NaN</td>\n      <td>Gampaha</td>\n      <td>15.0</td>\n      <td>NaN</td>\n      <td>NaN</td>\n      <td>27</td>\n      <td>28.0</td>\n      <td>28.5</td>\n      <td>28.5</td>\n      <td>29.0</td>\n      <td>28.5</td>\n      <td>28.0</td>\n      <td>27.5</td>\n      <td>28.0</td>\n      <td>27.5</td>\n      <td>28.0</td>\n      <td>28.0</td>\n      <td>28.04</td>\n    </tr>\n    <tr>\n      <th>2</th>\n      <td>3.0</td>\n      <td>NaN</td>\n      <td>Kalutara</td>\n      <td>10.0</td>\n      <td>NaN</td>\n      <td>NaN</td>\n      <td>26.5</td>\n      <td>27.5</td>\n      <td>28.0</td>\n      <td>29.0</td>\n      <td>29.0</td>\n      <td>28.5</td>\n      <td>28.5</td>\n      <td>27.5</td>\n      <td>28.0</td>\n      <td>27.5</td>\n      <td>27.0</td>\n      <td>27.0</td>\n      <td>27.83</td>\n    </tr>\n    <tr>\n      <th>3</th>\n      <td>4.0</td>\n      <td>NaN</td>\n      <td>Galle</td>\n      <td>8.0</td>\n      <td>NaN</td>\n      <td>NaN</td>\n      <td>27</td>\n      <td>27.0</td>\n      <td>28.5</td>\n      <td>28.5</td>\n      <td>28.0</td>\n      <td>28.0</td>\n      <td>27.5</td>\n      <td>27.5</td>\n      <td>27.5</td>\n      <td>27.5</td>\n      <td>27.0</td>\n      <td>27.0</td>\n      <td>27.58</td>\n    </tr>\n    <tr>\n      <th>4</th>\n      <td>5.0</td>\n      <td>NaN</td>\n      <td>Matara</td>\n      <td>10.0</td>\n      <td>NaN</td>\n      <td>NaN</td>\n      <td>26</td>\n      <td>26.0</td>\n      <td>28.5</td>\n      <td>28.5</td>\n      <td>28.0</td>\n      <td>28.0</td>\n      <td>27.5</td>\n      <td>27.5</td>\n      <td>27.5</td>\n      <td>28.5</td>\n      <td>27.0</td>\n      <td>27.0</td>\n      <td>27.50</td>\n    </tr>\n  </tbody>\n</table>\n</div>"
     },
     "execution_count": 10,
     "metadata": {},
     "output_type": "execute_result"
    }
   ],
   "source": [
    "print(\"date-district-dataset \\n\")\n",
    "date_dist_df.head()\n",
    "print(\"district-feature-dataset\")\n",
    "districts_df.head()\n",
    "print(\"weather-pattern-dataset\")\n",
    "weather_df.head()"
   ],
   "metadata": {
    "collapsed": false,
    "pycharm": {
     "name": "#%%\n"
    }
   }
  },
  {
   "cell_type": "code",
   "execution_count": 11,
   "outputs": [
    {
     "ename": "KeyError",
     "evalue": "\"['Unnamed: 0' 'ID' 'Date' 'District'] not found in axis\"",
     "output_type": "error",
     "traceback": [
      "\u001B[1;31m---------------------------------------------------------------------------\u001B[0m",
      "\u001B[1;31mKeyError\u001B[0m                                  Traceback (most recent call last)",
      "\u001B[1;32m<ipython-input-11-c57eff858e4b>\u001B[0m in \u001B[0;36m<module>\u001B[1;34m()\u001B[0m\n\u001B[0;32m      1\u001B[0m \u001B[1;33m\u001B[0m\u001B[0m\n\u001B[0;32m      2\u001B[0m \u001B[0mdate_dist_df\u001B[0m\u001B[1;33m[\u001B[0m\u001B[1;34m'index'\u001B[0m\u001B[1;33m]\u001B[0m \u001B[1;33m=\u001B[0m \u001B[0mdate_dist_df\u001B[0m\u001B[1;33m.\u001B[0m\u001B[0miloc\u001B[0m\u001B[1;33m[\u001B[0m\u001B[1;33m:\u001B[0m\u001B[1;33m,\u001B[0m\u001B[1;36m0\u001B[0m\u001B[1;33m]\u001B[0m\u001B[1;33m\u001B[0m\u001B[1;33m\u001B[0m\u001B[0m\n\u001B[1;32m----> 3\u001B[1;33m \u001B[0mdate_dist_df\u001B[0m \u001B[1;33m=\u001B[0m \u001B[0mdate_dist_df\u001B[0m\u001B[1;33m.\u001B[0m\u001B[0mdrop\u001B[0m\u001B[1;33m(\u001B[0m\u001B[1;33m[\u001B[0m\u001B[1;34m'Unnamed: 0'\u001B[0m\u001B[1;33m,\u001B[0m \u001B[1;34m'ID'\u001B[0m\u001B[1;33m,\u001B[0m \u001B[1;34m'Date'\u001B[0m\u001B[1;33m,\u001B[0m \u001B[1;34m'District'\u001B[0m\u001B[1;33m]\u001B[0m\u001B[1;33m,\u001B[0m\u001B[0maxis\u001B[0m\u001B[1;33m=\u001B[0m\u001B[1;36m1\u001B[0m\u001B[1;33m)\u001B[0m\u001B[1;33m\u001B[0m\u001B[1;33m\u001B[0m\u001B[0m\n\u001B[0m\u001B[0;32m      4\u001B[0m \u001B[0mdate_dist_df\u001B[0m\u001B[1;33m.\u001B[0m\u001B[0mhead\u001B[0m\u001B[1;33m(\u001B[0m\u001B[1;33m)\u001B[0m\u001B[1;33m\u001B[0m\u001B[1;33m\u001B[0m\u001B[0m\n\u001B[0;32m      5\u001B[0m \u001B[1;33m\u001B[0m\u001B[0m\n",
      "\u001B[1;32mC:\\Users\\deela\\anaconda3\\envs\\Main\\lib\\site-packages\\pandas\\core\\frame.py\u001B[0m in \u001B[0;36mdrop\u001B[1;34m(self, labels, axis, index, columns, level, inplace, errors)\u001B[0m\n\u001B[0;32m   4168\u001B[0m             \u001B[0mlevel\u001B[0m\u001B[1;33m=\u001B[0m\u001B[0mlevel\u001B[0m\u001B[1;33m,\u001B[0m\u001B[1;33m\u001B[0m\u001B[1;33m\u001B[0m\u001B[0m\n\u001B[0;32m   4169\u001B[0m             \u001B[0minplace\u001B[0m\u001B[1;33m=\u001B[0m\u001B[0minplace\u001B[0m\u001B[1;33m,\u001B[0m\u001B[1;33m\u001B[0m\u001B[1;33m\u001B[0m\u001B[0m\n\u001B[1;32m-> 4170\u001B[1;33m             \u001B[0merrors\u001B[0m\u001B[1;33m=\u001B[0m\u001B[0merrors\u001B[0m\u001B[1;33m,\u001B[0m\u001B[1;33m\u001B[0m\u001B[1;33m\u001B[0m\u001B[0m\n\u001B[0m\u001B[0;32m   4171\u001B[0m         )\n\u001B[0;32m   4172\u001B[0m \u001B[1;33m\u001B[0m\u001B[0m\n",
      "\u001B[1;32mC:\\Users\\deela\\anaconda3\\envs\\Main\\lib\\site-packages\\pandas\\core\\generic.py\u001B[0m in \u001B[0;36mdrop\u001B[1;34m(self, labels, axis, index, columns, level, inplace, errors)\u001B[0m\n\u001B[0;32m   3885\u001B[0m         \u001B[1;32mfor\u001B[0m \u001B[0maxis\u001B[0m\u001B[1;33m,\u001B[0m \u001B[0mlabels\u001B[0m \u001B[1;32min\u001B[0m \u001B[0maxes\u001B[0m\u001B[1;33m.\u001B[0m\u001B[0mitems\u001B[0m\u001B[1;33m(\u001B[0m\u001B[1;33m)\u001B[0m\u001B[1;33m:\u001B[0m\u001B[1;33m\u001B[0m\u001B[1;33m\u001B[0m\u001B[0m\n\u001B[0;32m   3886\u001B[0m             \u001B[1;32mif\u001B[0m \u001B[0mlabels\u001B[0m \u001B[1;32mis\u001B[0m \u001B[1;32mnot\u001B[0m \u001B[1;32mNone\u001B[0m\u001B[1;33m:\u001B[0m\u001B[1;33m\u001B[0m\u001B[1;33m\u001B[0m\u001B[0m\n\u001B[1;32m-> 3887\u001B[1;33m                 \u001B[0mobj\u001B[0m \u001B[1;33m=\u001B[0m \u001B[0mobj\u001B[0m\u001B[1;33m.\u001B[0m\u001B[0m_drop_axis\u001B[0m\u001B[1;33m(\u001B[0m\u001B[0mlabels\u001B[0m\u001B[1;33m,\u001B[0m \u001B[0maxis\u001B[0m\u001B[1;33m,\u001B[0m \u001B[0mlevel\u001B[0m\u001B[1;33m=\u001B[0m\u001B[0mlevel\u001B[0m\u001B[1;33m,\u001B[0m \u001B[0merrors\u001B[0m\u001B[1;33m=\u001B[0m\u001B[0merrors\u001B[0m\u001B[1;33m)\u001B[0m\u001B[1;33m\u001B[0m\u001B[1;33m\u001B[0m\u001B[0m\n\u001B[0m\u001B[0;32m   3888\u001B[0m \u001B[1;33m\u001B[0m\u001B[0m\n\u001B[0;32m   3889\u001B[0m         \u001B[1;32mif\u001B[0m \u001B[0minplace\u001B[0m\u001B[1;33m:\u001B[0m\u001B[1;33m\u001B[0m\u001B[1;33m\u001B[0m\u001B[0m\n",
      "\u001B[1;32mC:\\Users\\deela\\anaconda3\\envs\\Main\\lib\\site-packages\\pandas\\core\\generic.py\u001B[0m in \u001B[0;36m_drop_axis\u001B[1;34m(self, labels, axis, level, errors)\u001B[0m\n\u001B[0;32m   3919\u001B[0m                 \u001B[0mnew_axis\u001B[0m \u001B[1;33m=\u001B[0m \u001B[0maxis\u001B[0m\u001B[1;33m.\u001B[0m\u001B[0mdrop\u001B[0m\u001B[1;33m(\u001B[0m\u001B[0mlabels\u001B[0m\u001B[1;33m,\u001B[0m \u001B[0mlevel\u001B[0m\u001B[1;33m=\u001B[0m\u001B[0mlevel\u001B[0m\u001B[1;33m,\u001B[0m \u001B[0merrors\u001B[0m\u001B[1;33m=\u001B[0m\u001B[0merrors\u001B[0m\u001B[1;33m)\u001B[0m\u001B[1;33m\u001B[0m\u001B[1;33m\u001B[0m\u001B[0m\n\u001B[0;32m   3920\u001B[0m             \u001B[1;32melse\u001B[0m\u001B[1;33m:\u001B[0m\u001B[1;33m\u001B[0m\u001B[1;33m\u001B[0m\u001B[0m\n\u001B[1;32m-> 3921\u001B[1;33m                 \u001B[0mnew_axis\u001B[0m \u001B[1;33m=\u001B[0m \u001B[0maxis\u001B[0m\u001B[1;33m.\u001B[0m\u001B[0mdrop\u001B[0m\u001B[1;33m(\u001B[0m\u001B[0mlabels\u001B[0m\u001B[1;33m,\u001B[0m \u001B[0merrors\u001B[0m\u001B[1;33m=\u001B[0m\u001B[0merrors\u001B[0m\u001B[1;33m)\u001B[0m\u001B[1;33m\u001B[0m\u001B[1;33m\u001B[0m\u001B[0m\n\u001B[0m\u001B[0;32m   3922\u001B[0m             \u001B[0mresult\u001B[0m \u001B[1;33m=\u001B[0m \u001B[0mself\u001B[0m\u001B[1;33m.\u001B[0m\u001B[0mreindex\u001B[0m\u001B[1;33m(\u001B[0m\u001B[1;33m**\u001B[0m\u001B[1;33m{\u001B[0m\u001B[0maxis_name\u001B[0m\u001B[1;33m:\u001B[0m \u001B[0mnew_axis\u001B[0m\u001B[1;33m}\u001B[0m\u001B[1;33m)\u001B[0m\u001B[1;33m\u001B[0m\u001B[1;33m\u001B[0m\u001B[0m\n\u001B[0;32m   3923\u001B[0m \u001B[1;33m\u001B[0m\u001B[0m\n",
      "\u001B[1;32mC:\\Users\\deela\\anaconda3\\envs\\Main\\lib\\site-packages\\pandas\\core\\indexes\\base.py\u001B[0m in \u001B[0;36mdrop\u001B[1;34m(self, labels, errors)\u001B[0m\n\u001B[0;32m   5280\u001B[0m         \u001B[1;32mif\u001B[0m \u001B[0mmask\u001B[0m\u001B[1;33m.\u001B[0m\u001B[0many\u001B[0m\u001B[1;33m(\u001B[0m\u001B[1;33m)\u001B[0m\u001B[1;33m:\u001B[0m\u001B[1;33m\u001B[0m\u001B[1;33m\u001B[0m\u001B[0m\n\u001B[0;32m   5281\u001B[0m             \u001B[1;32mif\u001B[0m \u001B[0merrors\u001B[0m \u001B[1;33m!=\u001B[0m \u001B[1;34m\"ignore\"\u001B[0m\u001B[1;33m:\u001B[0m\u001B[1;33m\u001B[0m\u001B[1;33m\u001B[0m\u001B[0m\n\u001B[1;32m-> 5282\u001B[1;33m                 \u001B[1;32mraise\u001B[0m \u001B[0mKeyError\u001B[0m\u001B[1;33m(\u001B[0m\u001B[1;34mf\"{labels[mask]} not found in axis\"\u001B[0m\u001B[1;33m)\u001B[0m\u001B[1;33m\u001B[0m\u001B[1;33m\u001B[0m\u001B[0m\n\u001B[0m\u001B[0;32m   5283\u001B[0m             \u001B[0mindexer\u001B[0m \u001B[1;33m=\u001B[0m \u001B[0mindexer\u001B[0m\u001B[1;33m[\u001B[0m\u001B[1;33m~\u001B[0m\u001B[0mmask\u001B[0m\u001B[1;33m]\u001B[0m\u001B[1;33m\u001B[0m\u001B[1;33m\u001B[0m\u001B[0m\n\u001B[0;32m   5284\u001B[0m         \u001B[1;32mreturn\u001B[0m \u001B[0mself\u001B[0m\u001B[1;33m.\u001B[0m\u001B[0mdelete\u001B[0m\u001B[1;33m(\u001B[0m\u001B[0mindexer\u001B[0m\u001B[1;33m)\u001B[0m\u001B[1;33m\u001B[0m\u001B[1;33m\u001B[0m\u001B[0m\n",
      "\u001B[1;31mKeyError\u001B[0m: \"['Unnamed: 0' 'ID' 'Date' 'District'] not found in axis\""
     ]
    }
   ],
   "source": [
    "date_dist_df['index'] = date_dist_df.iloc[:,0]\n",
    "date_dist_df = date_dist_df.drop(['Unnamed: 0', 'ID', 'Date', 'District'],axis=1)\n",
    "date_dist_df.head()"
   ],
   "metadata": {
    "collapsed": false,
    "pycharm": {
     "name": "#%%\n"
    }
   }
  },
  {
   "cell_type": "markdown",
   "source": [
    "get province of given district\n",
    "\n"
   ],
   "metadata": {
    "collapsed": false,
    "pycharm": {
     "name": "#%% md\n"
    }
   }
  },
  {
   "cell_type": "code",
   "execution_count": 12,
   "outputs": [],
   "source": [
    "def pr_ds_mapper(x):\n",
    "    pr_ds_dict = [1,1,1,2,2,2,3,3,4,4,4,5,5,6,6,6,7,7,8,8,9,9,9,9,9]\n",
    "    return pr_ds_dict[int(x)-1]\n",
    "\n",
    "date_dist_df['province'] = date_dist_df['index'].apply(lambda x: pr_ds_mapper(x))"
   ],
   "metadata": {
    "collapsed": false,
    "pycharm": {
     "name": "#%%\n"
    }
   }
  },
  {
   "cell_type": "markdown",
   "source": [
    "coverted infected count of district\n",
    "[date, district]"
   ],
   "metadata": {
    "collapsed": false,
    "pycharm": {
     "name": "#%% md\n"
    }
   }
  },
  {
   "cell_type": "code",
   "execution_count": 36,
   "outputs": [],
   "source": [
    "def get_date_infected(date):\n",
    "    date_inf = [0]+list(date_dist_df[(date_dist_df.loc[:,'formal_date'] == date)]['TotalInfected'].values)\n",
    "    if (len(date_inf) != 26):\n",
    "        date_inf = [0,]*26\n",
    "    return date_inf\n"
   ],
   "metadata": {
    "collapsed": false,
    "pycharm": {
     "name": "#%%\n"
    }
   }
  },
  {
   "cell_type": "code",
   "execution_count": 37,
   "outputs": [],
   "source": [
    "def coverted_infected(date):\n",
    "\n",
    "    srr = {1:[2,3,7,8],2:[1,3,8,17,18],3:[1,4,7],4:[3,5,7],5:[4,6,7],\n",
    "           6:[5,7,13,15],7:[1,3,4,5,6,8,10,12,13],8:[1,2,7,9,10,17],\n",
    "           9:[8,10,11,12,17],10:[7,8,9,12],11:[9,12,15,17,19,20],\n",
    "           12:[7,9,10,11,15,13],13:[6,7,12,15],14:[15,16,20],15:[6,11,12,13,14,20],\n",
    "           16:[14,19,20,22,25],17:[2,8,9,11,18,19],18:[2,17,19,24],\n",
    "           19:[11,16,17,18,20,22,24],20:[5,14,15,16,19],21:[23],\n",
    "           22:[16,19,24,25],23:[21,24,25],24:[18,19,22,23,25],25:[16,22,23,24]}\n",
    "\n",
    "    infs_day_before = get_date_infected(date)\n",
    "\n",
    "    inf_lis = []\n",
    "    for i in range(1,26):\n",
    "        nei_lis = srr[i]\n",
    "        c = 0\n",
    "        for j in nei_lis:\n",
    "            c += infs_day_before[j]\n",
    "        inf_lis.append(c)\n",
    "    inf_ser = pd.Series(data=inf_lis,index=range(1,26))\n",
    "    return inf_ser"
   ],
   "metadata": {
    "collapsed": false,
    "pycharm": {
     "name": "#%%\n"
    }
   }
  },
  {
   "cell_type": "code",
   "execution_count": 38,
   "outputs": [],
   "source": [
    "res = coverted_infected('2020-03-31')"
   ],
   "metadata": {
    "collapsed": false,
    "pycharm": {
     "name": "#%%\n"
    }
   }
  },
  {
   "cell_type": "code",
   "execution_count": 39,
   "outputs": [],
   "source": [
    "# dates = date_dist_df['formal_date'].unique().apply(lambda x: coverted_infected(x))\n",
    "# res = np.vectorize(coverted_infected)(date_dist_df['formal_date'].unique())\n",
    "def repeater(dates):\n",
    "    for j in range(len(dates)):\n",
    "        if(j == 0):\n",
    "            fin_ser = coverted_infected(dates[j])\n",
    "        else:\n",
    "            fin_ser = pd.concat([fin_ser,coverted_infected(dates[j])])\n",
    "    return fin_ser\n",
    "res = repeater(date_dist_df['formal_date'].unique())"
   ],
   "metadata": {
    "collapsed": false,
    "pycharm": {
     "name": "#%%\n"
    }
   }
  },
  {
   "cell_type": "markdown",
   "source": [
    "lockdown history melting\n"
   ],
   "metadata": {
    "collapsed": false,
    "pycharm": {
     "name": "#%% md\n"
    }
   }
  },
  {
   "cell_type": "code",
   "execution_count": 40,
   "outputs": [
    {
     "data": {
      "text/plain": "   District Number  Unnamed: 1  District  1-Feb  2-Feb  3-Feb  4-Feb  1-Mar  \\\n0                1         NaN   Colombo    0.0    0.0    0.0    0.0    0.0   \n1                2         NaN   Gampaha    0.0    0.0    0.0    0.0    0.0   \n2                3         NaN  Kalutara    0.0    0.0    0.0    0.0    0.0   \n3                4         NaN     Galle    0.0    0.0    0.0    0.0    0.0   \n4                5         NaN    Matara    0.0    0.0    0.0    0.0    0.0   \n\n   2-Mar  20-Mar  ...  22-Oct  23-Oct  24-Oct  25-Oct  26-Oct  27-Oct  28-Oct  \\\n0    0.0     1.0  ...    0.13    0.15    0.29    0.42    0.44    0.44    0.48   \n1    0.0     1.0  ...    1.00    1.00    1.00    1.00    1.00    1.00    1.00   \n2    0.0     1.0  ...    0.00    0.12    0.12    0.12    0.12    0.12    0.19   \n3    0.0     1.0  ...    0.00    0.00    0.00    0.00    0.00    0.00    0.00   \n4    0.0     1.0  ...    0.00    0.00    0.00    0.00    0.00    0.00    0.00   \n\n   29-Oct  30-Oct  31-Oct  \n0    0.48     1.0     1.0  \n1    1.00     1.0     1.0  \n2    0.19     1.0     1.0  \n3    0.00     0.0     0.0  \n4    0.00     0.0     0.0  \n\n[5 rows x 146 columns]",
      "text/html": "<div>\n<style scoped>\n    .dataframe tbody tr th:only-of-type {\n        vertical-align: middle;\n    }\n\n    .dataframe tbody tr th {\n        vertical-align: top;\n    }\n\n    .dataframe thead th {\n        text-align: right;\n    }\n</style>\n<table border=\"1\" class=\"dataframe\">\n  <thead>\n    <tr style=\"text-align: right;\">\n      <th></th>\n      <th>District Number</th>\n      <th>Unnamed: 1</th>\n      <th>District</th>\n      <th>1-Feb</th>\n      <th>2-Feb</th>\n      <th>3-Feb</th>\n      <th>4-Feb</th>\n      <th>1-Mar</th>\n      <th>2-Mar</th>\n      <th>20-Mar</th>\n      <th>...</th>\n      <th>22-Oct</th>\n      <th>23-Oct</th>\n      <th>24-Oct</th>\n      <th>25-Oct</th>\n      <th>26-Oct</th>\n      <th>27-Oct</th>\n      <th>28-Oct</th>\n      <th>29-Oct</th>\n      <th>30-Oct</th>\n      <th>31-Oct</th>\n    </tr>\n  </thead>\n  <tbody>\n    <tr>\n      <th>0</th>\n      <td>1</td>\n      <td>NaN</td>\n      <td>Colombo</td>\n      <td>0.0</td>\n      <td>0.0</td>\n      <td>0.0</td>\n      <td>0.0</td>\n      <td>0.0</td>\n      <td>0.0</td>\n      <td>1.0</td>\n      <td>...</td>\n      <td>0.13</td>\n      <td>0.15</td>\n      <td>0.29</td>\n      <td>0.42</td>\n      <td>0.44</td>\n      <td>0.44</td>\n      <td>0.48</td>\n      <td>0.48</td>\n      <td>1.0</td>\n      <td>1.0</td>\n    </tr>\n    <tr>\n      <th>1</th>\n      <td>2</td>\n      <td>NaN</td>\n      <td>Gampaha</td>\n      <td>0.0</td>\n      <td>0.0</td>\n      <td>0.0</td>\n      <td>0.0</td>\n      <td>0.0</td>\n      <td>0.0</td>\n      <td>1.0</td>\n      <td>...</td>\n      <td>1.00</td>\n      <td>1.00</td>\n      <td>1.00</td>\n      <td>1.00</td>\n      <td>1.00</td>\n      <td>1.00</td>\n      <td>1.00</td>\n      <td>1.00</td>\n      <td>1.0</td>\n      <td>1.0</td>\n    </tr>\n    <tr>\n      <th>2</th>\n      <td>3</td>\n      <td>NaN</td>\n      <td>Kalutara</td>\n      <td>0.0</td>\n      <td>0.0</td>\n      <td>0.0</td>\n      <td>0.0</td>\n      <td>0.0</td>\n      <td>0.0</td>\n      <td>1.0</td>\n      <td>...</td>\n      <td>0.00</td>\n      <td>0.12</td>\n      <td>0.12</td>\n      <td>0.12</td>\n      <td>0.12</td>\n      <td>0.12</td>\n      <td>0.19</td>\n      <td>0.19</td>\n      <td>1.0</td>\n      <td>1.0</td>\n    </tr>\n    <tr>\n      <th>3</th>\n      <td>4</td>\n      <td>NaN</td>\n      <td>Galle</td>\n      <td>0.0</td>\n      <td>0.0</td>\n      <td>0.0</td>\n      <td>0.0</td>\n      <td>0.0</td>\n      <td>0.0</td>\n      <td>1.0</td>\n      <td>...</td>\n      <td>0.00</td>\n      <td>0.00</td>\n      <td>0.00</td>\n      <td>0.00</td>\n      <td>0.00</td>\n      <td>0.00</td>\n      <td>0.00</td>\n      <td>0.00</td>\n      <td>0.0</td>\n      <td>0.0</td>\n    </tr>\n    <tr>\n      <th>4</th>\n      <td>5</td>\n      <td>NaN</td>\n      <td>Matara</td>\n      <td>0.0</td>\n      <td>0.0</td>\n      <td>0.0</td>\n      <td>0.0</td>\n      <td>0.0</td>\n      <td>0.0</td>\n      <td>1.0</td>\n      <td>...</td>\n      <td>0.00</td>\n      <td>0.00</td>\n      <td>0.00</td>\n      <td>0.00</td>\n      <td>0.00</td>\n      <td>0.00</td>\n      <td>0.00</td>\n      <td>0.00</td>\n      <td>0.0</td>\n      <td>0.0</td>\n    </tr>\n  </tbody>\n</table>\n<p>5 rows × 146 columns</p>\n</div>"
     },
     "execution_count": 40,
     "metadata": {},
     "output_type": "execute_result"
    }
   ],
   "source": [
    "lock_df = pd.read_csv('../../../data/main_data/lockdown_history.csv')\n",
    "lock_df.head()"
   ],
   "metadata": {
    "collapsed": false,
    "pycharm": {
     "name": "#%%\n"
    }
   }
  },
  {
   "cell_type": "code",
   "execution_count": null,
   "outputs": [],
   "source": [],
   "metadata": {
    "collapsed": false,
    "pycharm": {
     "name": "#%%\n"
    }
   }
  }
 ],
 "metadata": {
  "kernelspec": {
   "display_name": "Python 3",
   "language": "python",
   "name": "python3"
  },
  "language_info": {
   "codemirror_mode": {
    "name": "ipython",
    "version": 2
   },
   "file_extension": ".py",
   "mimetype": "text/x-python",
   "name": "python",
   "nbconvert_exporter": "python",
   "pygments_lexer": "ipython2",
   "version": "2.7.6"
  }
 },
 "nbformat": 4,
 "nbformat_minor": 0
}