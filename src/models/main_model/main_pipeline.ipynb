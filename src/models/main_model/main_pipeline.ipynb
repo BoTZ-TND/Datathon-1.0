{
 "cells": [
  {
   "cell_type": "markdown",
   "metadata": {
    "collapsed": true,
    "pycharm": {
     "name": "#%% md\n"
    }
   },
   "source": [
    "#Main Fundermentle data pre-processing pipeline"
   ]
  },
  {
   "cell_type": "code",
   "execution_count": 2,
   "outputs": [],
   "source": [
    "import numpy as np\n",
    "import pandas as pd\n",
    "from datetime import datetime,timedelta\n",
    "from sklearn.base import BaseEstimator,TransformerMixin\n",
    "from sklearn.pipeline import  Pipeline\n",
    "from sklearn.pipeline import FeatureUnion"
   ],
   "metadata": {
    "collapsed": false,
    "pycharm": {
     "name": "#%%\n"
    }
   }
  },
  {
   "cell_type": "code",
   "execution_count": 3,
   "outputs": [
    {
     "name": "stdout",
     "output_type": "stream",
     "text": [
      "<class 'pandas.core.frame.DataFrame'>\n",
      "RangeIndex: 5800 entries, 0 to 5799\n",
      "Data columns (total 3 columns):\n",
      " #   Column        Non-Null Count  Dtype  \n",
      "---  ------        --------------  -----  \n",
      " 0   index         5800 non-null   int64  \n",
      " 1   formal_date   5800 non-null   object \n",
      " 2   locked_percn  5800 non-null   float64\n",
      "dtypes: float64(1), int64(1), object(1)\n",
      "memory usage: 136.1+ KB\n"
     ]
    }
   ],
   "source": [
    "daily_df = pd.read_csv('../../../data/main_data/DateDistric.csv')\n",
    "info_df = pd.read_csv('../../../data/main_data/Info.csv')\n",
    "district_dt_df = pd.read_csv('../../../data/geo_mode_data/test.csv')\n",
    "police_df = pd.read_csv('../../../data/main_data/police_report.csv')\n",
    "\n",
    "police_df.info()"
   ],
   "metadata": {
    "collapsed": false,
    "pycharm": {
     "name": "#%%\n"
    }
   }
  },
  {
   "cell_type": "code",
   "execution_count": 4,
   "outputs": [],
   "source": [
    "class DateEncoder(BaseEstimator,TransformerMixin):\n",
    "\n",
    "    def __init__(self,col_name='Date',year='2020'):\n",
    "        self.col_name = col_name\n",
    "        self.year = year\n",
    "\n",
    "    def fit(self,X,y=None):\n",
    "        return self\n",
    "\n",
    "    def transform(self,X):\n",
    "        x = X.copy()\n",
    "        x['formal_date']= x.loc[:,'Date'].apply(lambda x: self.date_converter(x))\n",
    "        x['quarter'] = x['formal_date'].dt.quarter\n",
    "        x['date'] = x['formal_date'].dt.day\n",
    "        x['day_of_week'] = x['formal_date'].dt.dayofweek\n",
    "        x['month'] = x['formal_date'].dt.month\n",
    "        return x\n",
    "\n",
    "\n",
    "    def date_converter(self,x,year='2020'):\n",
    "        dt = str(x).split('-')\n",
    "        date = year+'/'+dt[0]+'/'+dt[1]\n",
    "        date_obj = datetime.strptime(date,'%Y/%m/%d')\n",
    "        return date_obj"
   ],
   "metadata": {
    "collapsed": false,
    "pycharm": {
     "name": "#%%\n"
    }
   }
  },
  {
   "cell_type": "code",
   "execution_count": 5,
   "outputs": [],
   "source": [
    "class DatasetTuner(BaseEstimator,TransformerMixin):\n",
    "    \n",
    "    def __init__(self):\n",
    "        self.col_order = ['index','formal_date','quarter','date','day_of_week','month','Suspected_Local','Suspected_Foreign','TotalInfected']\n",
    "        pass\n",
    "    \n",
    "    def fit(self,X,y=None):\n",
    "        return self\n",
    "    \n",
    "    def transform(self,X):\n",
    "        x = X.copy()\n",
    "        x = x.rename(columns={'Unnamed: 0':'index'})\n",
    "        x = x.drop(['ID', 'Date', 'District'],axis=1)\n",
    "        #x = x.loc[:,self.col_order]\n",
    "        return x"
   ],
   "metadata": {
    "collapsed": false,
    "pycharm": {
     "name": "#%%\n"
    }
   }
  },
  {
   "cell_type": "code",
   "execution_count": 6,
   "outputs": [],
   "source": [
    "class WeatherTuner(BaseEstimator,TransformerMixin):\n",
    "\n",
    "    def __init__(self):\n",
    "        self.col_order = ['index','formal_date','quarter','date','day_of_week',\n",
    "                          'month','Suspected_Local','Suspected_Foreign',\n",
    "                          'temp','humidity','sun_hours','TotalInfected']\n",
    "        pass\n",
    "\n",
    "    def fit(self,X,y=None):\n",
    "        return self\n",
    "\n",
    "    def transform(self,X):\n",
    "        x = X.copy()\n",
    "        x = x.merge(info_df, on=[\"month\",\"index\"])\n",
    "        #x = x.loc[:,self.col_order]\n",
    "        return x"
   ],
   "metadata": {
    "collapsed": false,
    "pycharm": {
     "name": "#%%\n"
    }
   }
  },
  {
   "cell_type": "code",
   "execution_count": 7,
   "outputs": [],
   "source": [
    "tuning_pipe = Pipeline([\n",
    "    ('date_adder',DateEncoder()),\n",
    "    ('pre-tuner',DatasetTuner()),\n",
    "    ('weather-tuner', WeatherTuner())\n",
    "])\n",
    "\n",
    "inter_res_1 = tuning_pipe.fit_transform(daily_df)"
   ],
   "metadata": {
    "collapsed": false,
    "pycharm": {
     "name": "#%%\n"
    }
   }
  },
  {
   "cell_type": "code",
   "execution_count": 8,
   "outputs": [],
   "source": [
    "class ProvinceTuner(BaseEstimator,TransformerMixin):\n",
    "    \n",
    "    def __init__(self):\n",
    "        self.province_dist_map = [1,1,1,2,2,2,3,3,4,4,4,5,5,6,6,6,7,7,8,8,9,9,9,9,9]\n",
    "        \n",
    "    def fit(self,X,y=None):\n",
    "        return self\n",
    "    \n",
    "    def transform(self,X):\n",
    "        x = X.copy()\n",
    "        x['province'] = x['index'].apply(lambda x: self.pr_ds_mapper(x))\n",
    "        return x\n",
    "\n",
    "    def pr_ds_mapper(self,x):\n",
    "        return self.province_dist_map[int(x)-1]"
   ],
   "metadata": {
    "collapsed": false,
    "pycharm": {
     "name": "#%%\n"
    }
   }
  },
  {
   "cell_type": "code",
   "execution_count": 9,
   "outputs": [],
   "source": [
    "class NeighbourTuner(BaseEstimator,TransformerMixin):\n",
    "\n",
    "    def __init__(self):\n",
    "        self.srr = {1:[2,3,7,8],2:[1,3,8,17,18],3:[1,4,7],4:[3,5,7],5:[4,6,7],\n",
    "           6:[5,7,13,15],7:[1,3,4,5,6,8,10,12,13],8:[1,2,7,9,10,17],\n",
    "           9:[8,10,11,12,17],10:[7,8,9,12],11:[9,12,15,17,19,20],\n",
    "           12:[7,9,10,11,15,13],13:[6,7,12,15],14:[15,16,20],15:[6,11,12,13,14,20],\n",
    "           16:[14,19,20,22,25],17:[2,8,9,11,18,19],18:[2,17,19,24],\n",
    "           19:[11,16,17,18,20,22,24],20:[5,14,15,16,19],21:[23],\n",
    "           22:[16,19,24,25],23:[21,24,25],24:[18,19,22,23,25],25:[16,22,23,24]}\n",
    "\n",
    "    def fit(self,X,y=None):\n",
    "        return self\n",
    "\n",
    "    def transform(self,X):\n",
    "        self.x = X.copy()\n",
    "        dates = self.x['formal_date'].unique()\n",
    "        count_ser = self.repeater(dates)\n",
    "        new_lis = count_ser.values\n",
    "        if (self.x.shape[0] != len(count_ser.values)):\n",
    "            diff = self.x.shape[0]-len(count_ser.values)\n",
    "            new_lis = [0,]*diff\n",
    "            new_lis = new_lis + list(count_ser.values)\n",
    "\n",
    "        self.x['neir_infected_cases'] = new_lis\n",
    "        return self.x\n",
    "\n",
    "\n",
    "    \n",
    "    def get_date_infected(self,date):\n",
    "        date_inf = [0]+list(self.x[(self.x.loc[:,'formal_date'] == date)]['TotalInfected'].values)\n",
    "        if (len(date_inf) != 26):\n",
    "            date_inf = [0,]*26\n",
    "        return date_inf\n",
    "\n",
    "    def coverted_infected(self,date):\n",
    "        infs_day_before = self.get_date_infected(date)\n",
    "\n",
    "        inf_lis = []\n",
    "        for i in range(1,26):\n",
    "            nei_lis = self.srr[i]\n",
    "            c = 0\n",
    "            for j in nei_lis:\n",
    "                c += infs_day_before[j]\n",
    "            inf_lis.append(c)\n",
    "        inf_ser = pd.Series(data=inf_lis,index=range(1,26))\n",
    "        return inf_ser\n",
    "\n",
    "    def repeater(self,dates):\n",
    "        for j in range(len(dates)):\n",
    "            if(j == 0):\n",
    "                fin_ser = self.coverted_infected(dates[j])\n",
    "            else:\n",
    "                fin_ser = pd.concat([fin_ser,self.coverted_infected(dates[j])])\n",
    "        return fin_ser"
   ],
   "metadata": {
    "collapsed": false,
    "pycharm": {
     "name": "#%%\n"
    }
   }
  },
  {
   "cell_type": "code",
   "execution_count": 10,
   "outputs": [],
   "source": [
    "class PoliceTuner(BaseEstimator,TransformerMixin):\n",
    "\n",
    "    def __init__(self):\n",
    "        self.col_order = ['index','formal_date','quarter','date','day_of_week',\n",
    "                          'month','Suspected_Local','Suspected_Foreign',\n",
    "                          'temp','humidity','sun_hours','province',\n",
    "                          'neir_infected_cases','locked_percn','TotalInfected']\n",
    "        pass\n",
    "\n",
    "    def fit(self,X,y=None):\n",
    "        return self\n",
    "\n",
    "    def transform(self,X):\n",
    "        x = X.copy()\n",
    "        police_df['formal_date'] = police_df['formal_date'].astype(x['formal_date'].dtype)\n",
    "        x = x.merge(police_df, on=[\"index\",\"formal_date\"])\n",
    "        x['locked_percn'].fillna(0)\n",
    "        x = x.loc[:,self.col_order]\n",
    "        return x"
   ],
   "metadata": {
    "collapsed": false,
    "pycharm": {
     "name": "#%%\n"
    }
   }
  },
  {
   "cell_type": "code",
   "execution_count": 11,
   "outputs": [],
   "source": [
    "dist_pipe = Pipeline([\n",
    "    ('province_tuner',ProvinceTuner()),\n",
    "    ('neighbour_tuner',NeighbourTuner()),\n",
    "    ('police_tuner',PoliceTuner()),\n",
    "])\n",
    "inter_res_2 = dist_pipe.fit_transform(inter_res_1)"
   ],
   "metadata": {
    "collapsed": false,
    "pycharm": {
     "name": "#%%\n"
    }
   }
  },
  {
   "cell_type": "code",
   "execution_count": 12,
   "outputs": [
    {
     "data": {
      "text/plain": "   index formal_date  quarter  date  day_of_week  month  Suspected_Local  \\\n0      1  2020-03-31        1    31            1      3               41   \n1     25  2020-03-31        1    31            1      3                0   \n2     24  2020-03-31        1    31            1      3                0   \n3     23  2020-03-31        1    31            1      3                0   \n4     22  2020-03-31        1    31            1      3                0   \n\n   Suspected_Foreign  temp  humidity  sun_hours  province  \\\n0                  1  28.5      81.0       7.15         1   \n1                  0  30.0      78.0       6.15         9   \n2                  0  29.5      82.0       5.74         9   \n3                  0  30.0      81.0       4.58         9   \n4                  0  31.0      81.0       4.87         9   \n\n   neir_infected_cases  locked_percn  TotalInfected  \n0                   34           1.0             11  \n1                    1           1.0              0  \n2                    1           1.0              0  \n3                    0           1.0              0  \n4                    1           1.0              0  ",
      "text/html": "<div>\n<style scoped>\n    .dataframe tbody tr th:only-of-type {\n        vertical-align: middle;\n    }\n\n    .dataframe tbody tr th {\n        vertical-align: top;\n    }\n\n    .dataframe thead th {\n        text-align: right;\n    }\n</style>\n<table border=\"1\" class=\"dataframe\">\n  <thead>\n    <tr style=\"text-align: right;\">\n      <th></th>\n      <th>index</th>\n      <th>formal_date</th>\n      <th>quarter</th>\n      <th>date</th>\n      <th>day_of_week</th>\n      <th>month</th>\n      <th>Suspected_Local</th>\n      <th>Suspected_Foreign</th>\n      <th>temp</th>\n      <th>humidity</th>\n      <th>sun_hours</th>\n      <th>province</th>\n      <th>neir_infected_cases</th>\n      <th>locked_percn</th>\n      <th>TotalInfected</th>\n    </tr>\n  </thead>\n  <tbody>\n    <tr>\n      <th>0</th>\n      <td>1</td>\n      <td>2020-03-31</td>\n      <td>1</td>\n      <td>31</td>\n      <td>1</td>\n      <td>3</td>\n      <td>41</td>\n      <td>1</td>\n      <td>28.5</td>\n      <td>81.0</td>\n      <td>7.15</td>\n      <td>1</td>\n      <td>34</td>\n      <td>1.0</td>\n      <td>11</td>\n    </tr>\n    <tr>\n      <th>1</th>\n      <td>25</td>\n      <td>2020-03-31</td>\n      <td>1</td>\n      <td>31</td>\n      <td>1</td>\n      <td>3</td>\n      <td>0</td>\n      <td>0</td>\n      <td>30.0</td>\n      <td>78.0</td>\n      <td>6.15</td>\n      <td>9</td>\n      <td>1</td>\n      <td>1.0</td>\n      <td>0</td>\n    </tr>\n    <tr>\n      <th>2</th>\n      <td>24</td>\n      <td>2020-03-31</td>\n      <td>1</td>\n      <td>31</td>\n      <td>1</td>\n      <td>3</td>\n      <td>0</td>\n      <td>0</td>\n      <td>29.5</td>\n      <td>82.0</td>\n      <td>5.74</td>\n      <td>9</td>\n      <td>1</td>\n      <td>1.0</td>\n      <td>0</td>\n    </tr>\n    <tr>\n      <th>3</th>\n      <td>23</td>\n      <td>2020-03-31</td>\n      <td>1</td>\n      <td>31</td>\n      <td>1</td>\n      <td>3</td>\n      <td>0</td>\n      <td>0</td>\n      <td>30.0</td>\n      <td>81.0</td>\n      <td>4.58</td>\n      <td>9</td>\n      <td>0</td>\n      <td>1.0</td>\n      <td>0</td>\n    </tr>\n    <tr>\n      <th>4</th>\n      <td>22</td>\n      <td>2020-03-31</td>\n      <td>1</td>\n      <td>31</td>\n      <td>1</td>\n      <td>3</td>\n      <td>0</td>\n      <td>0</td>\n      <td>31.0</td>\n      <td>81.0</td>\n      <td>4.87</td>\n      <td>9</td>\n      <td>1</td>\n      <td>1.0</td>\n      <td>0</td>\n    </tr>\n  </tbody>\n</table>\n</div>"
     },
     "execution_count": 12,
     "metadata": {},
     "output_type": "execute_result"
    },
    {
     "data": {
      "text/plain": "index                  0\nformal_date            0\nquarter                0\ndate                   0\nday_of_week            0\nmonth                  0\nSuspected_Local        0\nSuspected_Foreign      0\ntemp                   0\nhumidity               0\nsun_hours              0\nprovince               0\nneir_infected_cases    0\nlocked_percn           0\nTotalInfected          0\ndtype: int64"
     },
     "execution_count": 12,
     "metadata": {},
     "output_type": "execute_result"
    }
   ],
   "source": [
    "inter_res_2=inter_res_2.sort_values(by='formal_date',ascending=True)\n",
    "inter_res_2.reset_index(inplace=True)\n",
    "inter_res_2.drop('level_0',axis=1,inplace=True)\n",
    "inter_res_2.head()\n",
    "\n",
    "inter_res_2=inter_res_2.fillna(0.5)\n",
    "inter_res_2.isna().sum()"
   ],
   "metadata": {
    "collapsed": false,
    "pycharm": {
     "name": "#%%\n"
    }
   }
  },
  {
   "cell_type": "code",
   "execution_count": 13,
   "outputs": [],
   "source": [
    "inter_res_2.to_csv('../../../data/main_data/final.csv',index=False)"
   ],
   "metadata": {
    "collapsed": false,
    "pycharm": {
     "name": "#%%\n"
    }
   }
  },
  {
   "cell_type": "markdown",
   "source": [
    "testset generating code"
   ],
   "metadata": {
    "collapsed": false,
    "pycharm": {
     "name": "#%% md\n"
    }
   }
  },
  {
   "cell_type": "code",
   "execution_count": 14,
   "outputs": [
    {
     "data": {
      "text/plain": "   index                formal_date  quarter  date  day_of_week  month\n0      1 2020-10-23 10:32:56.822982        4    23            4     10\n1      2 2020-10-23 10:32:56.822982        4    23            4     10\n2      3 2020-10-23 10:32:56.822982        4    23            4     10\n3      4 2020-10-23 10:32:56.822982        4    23            4     10\n4      5 2020-10-23 10:32:56.822982        4    23            4     10",
      "text/html": "<div>\n<style scoped>\n    .dataframe tbody tr th:only-of-type {\n        vertical-align: middle;\n    }\n\n    .dataframe tbody tr th {\n        vertical-align: top;\n    }\n\n    .dataframe thead th {\n        text-align: right;\n    }\n</style>\n<table border=\"1\" class=\"dataframe\">\n  <thead>\n    <tr style=\"text-align: right;\">\n      <th></th>\n      <th>index</th>\n      <th>formal_date</th>\n      <th>quarter</th>\n      <th>date</th>\n      <th>day_of_week</th>\n      <th>month</th>\n    </tr>\n  </thead>\n  <tbody>\n    <tr>\n      <th>0</th>\n      <td>1</td>\n      <td>2020-10-23 10:32:56.822982</td>\n      <td>4</td>\n      <td>23</td>\n      <td>4</td>\n      <td>10</td>\n    </tr>\n    <tr>\n      <th>1</th>\n      <td>2</td>\n      <td>2020-10-23 10:32:56.822982</td>\n      <td>4</td>\n      <td>23</td>\n      <td>4</td>\n      <td>10</td>\n    </tr>\n    <tr>\n      <th>2</th>\n      <td>3</td>\n      <td>2020-10-23 10:32:56.822982</td>\n      <td>4</td>\n      <td>23</td>\n      <td>4</td>\n      <td>10</td>\n    </tr>\n    <tr>\n      <th>3</th>\n      <td>4</td>\n      <td>2020-10-23 10:32:56.822982</td>\n      <td>4</td>\n      <td>23</td>\n      <td>4</td>\n      <td>10</td>\n    </tr>\n    <tr>\n      <th>4</th>\n      <td>5</td>\n      <td>2020-10-23 10:32:56.822982</td>\n      <td>4</td>\n      <td>23</td>\n      <td>4</td>\n      <td>10</td>\n    </tr>\n  </tbody>\n</table>\n</div>"
     },
     "execution_count": 14,
     "metadata": {},
     "output_type": "execute_result"
    }
   ],
   "source": [
    "test_df_1  = pd.DataFrame(data={\n",
    "    'index': range(1,26),\n",
    "    'formal_date' : datetime.now() - timedelta(days=10)\n",
    "})\n",
    "test_df_1['quarter'] = test_df_1['formal_date'].dt.quarter\n",
    "test_df_1['date'] = test_df_1['formal_date'].dt.day\n",
    "test_df_1['day_of_week'] = test_df_1['formal_date'].dt.dayofweek\n",
    "test_df_1['month'] = test_df_1['formal_date'].dt.month\n",
    "test_df_1.head()"
   ],
   "metadata": {
    "collapsed": false,
    "pycharm": {
     "name": "#%%\n"
    }
   }
  },
  {
   "cell_type": "code",
   "execution_count": 28,
   "outputs": [],
   "source": [
    "class TestTuner(BaseEstimator,TransformerMixin):\n",
    "\n",
    "    def __init__(self):\n",
    "        pass\n",
    "\n",
    "    def fit(self,X,y=None):\n",
    "        return self\n",
    "\n",
    "    def transform(self,X):\n",
    "        test_df_1  = pd.DataFrame(data={\n",
    "            'index': range(1,26),\n",
    "            'formal_date' : datetime.now() - timedelta(days=10)\n",
    "        })\n",
    "        test_df_1['quarter'] = test_df_1['formal_date'].dt.quarter\n",
    "        test_df_1['date'] = test_df_1['formal_date'].dt.day\n",
    "        test_df_1['day_of_week'] = test_df_1['formal_date'].dt.dayofweek\n",
    "        test_df_1['month'] = test_df_1['formal_date'].dt.month\n",
    "        return test_df_1"
   ],
   "metadata": {
    "collapsed": false,
    "pycharm": {
     "name": "#%%\n"
    }
   }
  },
  {
   "cell_type": "code",
   "execution_count": 29,
   "outputs": [],
   "source": [
    "class YesterdayTuner(BaseEstimator,TransformerMixin):\n",
    "\n",
    "    def __init__(self,source):\n",
    "        self.source = source\n",
    "\n",
    "    def fit(self,X,y=None):\n",
    "        x = X.copy()\n",
    "        day_before = x.at[0,'formal_date']\n",
    "        filtered_df = self.source[self.source['formal_date'] == day_before]\n",
    "\n",
    "\n",
    "    def tranform(self,X):\n",
    "        x = X.copy()\n",
    "        return x"
   ],
   "metadata": {
    "collapsed": false,
    "pycharm": {
     "name": "#%%\n"
    }
   }
  },
  {
   "cell_type": "code",
   "execution_count": 30,
   "outputs": [],
   "source": [
    "test_pipe = Pipeline([\n",
    "    ('test_tuner',TestTuner()),\n",
    "    ('weather-tuner', WeatherTuner()),\n",
    "    ('province_tuner',ProvinceTuner()),\n",
    "])"
   ],
   "metadata": {
    "collapsed": false,
    "pycharm": {
     "name": "#%%\n"
    }
   }
  },
  {
   "cell_type": "code",
   "execution_count": 31,
   "outputs": [
    {
     "data": {
      "text/plain": "    index                formal_date  quarter  date  day_of_week  month  temp  \\\n0       1 2020-10-23 10:37:04.366906        4    23            4     10  27.0   \n1       2 2020-10-23 10:37:04.366906        4    23            4     10  28.0   \n2       3 2020-10-23 10:37:04.366906        4    23            4     10  27.0   \n3       4 2020-10-23 10:37:04.366906        4    23            4     10  27.0   \n4       5 2020-10-23 10:37:04.366906        4    23            4     10  27.0   \n5       6 2020-10-23 10:37:04.366906        4    23            4     10  27.0   \n6       7 2020-10-23 10:37:04.366906        4    23            4     10  27.0   \n7       8 2020-10-23 10:37:04.366906        4    23            4     10  26.0   \n8       9 2020-10-23 10:37:04.366906        4    23            4     10  25.0   \n9      10 2020-10-23 10:37:04.366906        4    23            4     10  16.0   \n10     11 2020-10-23 10:37:04.366906        4    23            4     10  25.0   \n11     12 2020-10-23 10:37:04.366906        4    23            4     10  23.5   \n12     13 2020-10-23 10:37:04.366906        4    23            4     10  22.0   \n13     14 2020-10-23 10:37:04.366906        4    23            4     10  26.5   \n14     15 2020-10-23 10:37:04.366906        4    23            4     10  28.0   \n15     16 2020-10-23 10:37:04.366906        4    23            4     10  27.0   \n16     17 2020-10-23 10:37:04.366906        4    23            4     10  26.0   \n17     18 2020-10-23 10:37:04.366906        4    23            4     10  27.0   \n18     19 2020-10-23 10:37:04.366906        4    23            4     10  27.0   \n19     20 2020-10-23 10:37:04.366906        4    23            4     10  27.0   \n20     21 2020-10-23 10:37:04.366906        4    23            4     10  26.0   \n21     22 2020-10-23 10:37:04.366906        4    23            4     10  27.0   \n22     23 2020-10-23 10:37:04.366906        4    23            4     10  28.0   \n23     24 2020-10-23 10:37:04.366906        4    23            4     10  27.5   \n24     25 2020-10-23 10:37:04.366906        4    23            4     10  28.0   \n\n    humidity  sun_hours  province  \n0        NaN       4.35         1  \n1        NaN       5.03         1  \n2        NaN       4.35         1  \n3        NaN       4.30         2  \n4        NaN       4.35         2  \n5        NaN       5.95         2  \n6        NaN       6.04         3  \n7        NaN       6.08         3  \n8        NaN       5.32         4  \n9        NaN       5.77         4  \n10       NaN       4.50         4  \n11       NaN       5.15         5  \n12       NaN       4.85         5  \n13       NaN       4.85         6  \n14       NaN       4.45         6  \n15       NaN       4.47         6  \n16       NaN       4.45         7  \n17       NaN       4.45         7  \n18       NaN       3.60         8  \n19       NaN       3.60         8  \n20       NaN       3.35         9  \n21       NaN       4.47         9  \n22       NaN       4.81         9  \n23       NaN       4.00         9  \n24       NaN       3.35         9  ",
      "text/html": "<div>\n<style scoped>\n    .dataframe tbody tr th:only-of-type {\n        vertical-align: middle;\n    }\n\n    .dataframe tbody tr th {\n        vertical-align: top;\n    }\n\n    .dataframe thead th {\n        text-align: right;\n    }\n</style>\n<table border=\"1\" class=\"dataframe\">\n  <thead>\n    <tr style=\"text-align: right;\">\n      <th></th>\n      <th>index</th>\n      <th>formal_date</th>\n      <th>quarter</th>\n      <th>date</th>\n      <th>day_of_week</th>\n      <th>month</th>\n      <th>temp</th>\n      <th>humidity</th>\n      <th>sun_hours</th>\n      <th>province</th>\n    </tr>\n  </thead>\n  <tbody>\n    <tr>\n      <th>0</th>\n      <td>1</td>\n      <td>2020-10-23 10:37:04.366906</td>\n      <td>4</td>\n      <td>23</td>\n      <td>4</td>\n      <td>10</td>\n      <td>27.0</td>\n      <td>NaN</td>\n      <td>4.35</td>\n      <td>1</td>\n    </tr>\n    <tr>\n      <th>1</th>\n      <td>2</td>\n      <td>2020-10-23 10:37:04.366906</td>\n      <td>4</td>\n      <td>23</td>\n      <td>4</td>\n      <td>10</td>\n      <td>28.0</td>\n      <td>NaN</td>\n      <td>5.03</td>\n      <td>1</td>\n    </tr>\n    <tr>\n      <th>2</th>\n      <td>3</td>\n      <td>2020-10-23 10:37:04.366906</td>\n      <td>4</td>\n      <td>23</td>\n      <td>4</td>\n      <td>10</td>\n      <td>27.0</td>\n      <td>NaN</td>\n      <td>4.35</td>\n      <td>1</td>\n    </tr>\n    <tr>\n      <th>3</th>\n      <td>4</td>\n      <td>2020-10-23 10:37:04.366906</td>\n      <td>4</td>\n      <td>23</td>\n      <td>4</td>\n      <td>10</td>\n      <td>27.0</td>\n      <td>NaN</td>\n      <td>4.30</td>\n      <td>2</td>\n    </tr>\n    <tr>\n      <th>4</th>\n      <td>5</td>\n      <td>2020-10-23 10:37:04.366906</td>\n      <td>4</td>\n      <td>23</td>\n      <td>4</td>\n      <td>10</td>\n      <td>27.0</td>\n      <td>NaN</td>\n      <td>4.35</td>\n      <td>2</td>\n    </tr>\n    <tr>\n      <th>5</th>\n      <td>6</td>\n      <td>2020-10-23 10:37:04.366906</td>\n      <td>4</td>\n      <td>23</td>\n      <td>4</td>\n      <td>10</td>\n      <td>27.0</td>\n      <td>NaN</td>\n      <td>5.95</td>\n      <td>2</td>\n    </tr>\n    <tr>\n      <th>6</th>\n      <td>7</td>\n      <td>2020-10-23 10:37:04.366906</td>\n      <td>4</td>\n      <td>23</td>\n      <td>4</td>\n      <td>10</td>\n      <td>27.0</td>\n      <td>NaN</td>\n      <td>6.04</td>\n      <td>3</td>\n    </tr>\n    <tr>\n      <th>7</th>\n      <td>8</td>\n      <td>2020-10-23 10:37:04.366906</td>\n      <td>4</td>\n      <td>23</td>\n      <td>4</td>\n      <td>10</td>\n      <td>26.0</td>\n      <td>NaN</td>\n      <td>6.08</td>\n      <td>3</td>\n    </tr>\n    <tr>\n      <th>8</th>\n      <td>9</td>\n      <td>2020-10-23 10:37:04.366906</td>\n      <td>4</td>\n      <td>23</td>\n      <td>4</td>\n      <td>10</td>\n      <td>25.0</td>\n      <td>NaN</td>\n      <td>5.32</td>\n      <td>4</td>\n    </tr>\n    <tr>\n      <th>9</th>\n      <td>10</td>\n      <td>2020-10-23 10:37:04.366906</td>\n      <td>4</td>\n      <td>23</td>\n      <td>4</td>\n      <td>10</td>\n      <td>16.0</td>\n      <td>NaN</td>\n      <td>5.77</td>\n      <td>4</td>\n    </tr>\n    <tr>\n      <th>10</th>\n      <td>11</td>\n      <td>2020-10-23 10:37:04.366906</td>\n      <td>4</td>\n      <td>23</td>\n      <td>4</td>\n      <td>10</td>\n      <td>25.0</td>\n      <td>NaN</td>\n      <td>4.50</td>\n      <td>4</td>\n    </tr>\n    <tr>\n      <th>11</th>\n      <td>12</td>\n      <td>2020-10-23 10:37:04.366906</td>\n      <td>4</td>\n      <td>23</td>\n      <td>4</td>\n      <td>10</td>\n      <td>23.5</td>\n      <td>NaN</td>\n      <td>5.15</td>\n      <td>5</td>\n    </tr>\n    <tr>\n      <th>12</th>\n      <td>13</td>\n      <td>2020-10-23 10:37:04.366906</td>\n      <td>4</td>\n      <td>23</td>\n      <td>4</td>\n      <td>10</td>\n      <td>22.0</td>\n      <td>NaN</td>\n      <td>4.85</td>\n      <td>5</td>\n    </tr>\n    <tr>\n      <th>13</th>\n      <td>14</td>\n      <td>2020-10-23 10:37:04.366906</td>\n      <td>4</td>\n      <td>23</td>\n      <td>4</td>\n      <td>10</td>\n      <td>26.5</td>\n      <td>NaN</td>\n      <td>4.85</td>\n      <td>6</td>\n    </tr>\n    <tr>\n      <th>14</th>\n      <td>15</td>\n      <td>2020-10-23 10:37:04.366906</td>\n      <td>4</td>\n      <td>23</td>\n      <td>4</td>\n      <td>10</td>\n      <td>28.0</td>\n      <td>NaN</td>\n      <td>4.45</td>\n      <td>6</td>\n    </tr>\n    <tr>\n      <th>15</th>\n      <td>16</td>\n      <td>2020-10-23 10:37:04.366906</td>\n      <td>4</td>\n      <td>23</td>\n      <td>4</td>\n      <td>10</td>\n      <td>27.0</td>\n      <td>NaN</td>\n      <td>4.47</td>\n      <td>6</td>\n    </tr>\n    <tr>\n      <th>16</th>\n      <td>17</td>\n      <td>2020-10-23 10:37:04.366906</td>\n      <td>4</td>\n      <td>23</td>\n      <td>4</td>\n      <td>10</td>\n      <td>26.0</td>\n      <td>NaN</td>\n      <td>4.45</td>\n      <td>7</td>\n    </tr>\n    <tr>\n      <th>17</th>\n      <td>18</td>\n      <td>2020-10-23 10:37:04.366906</td>\n      <td>4</td>\n      <td>23</td>\n      <td>4</td>\n      <td>10</td>\n      <td>27.0</td>\n      <td>NaN</td>\n      <td>4.45</td>\n      <td>7</td>\n    </tr>\n    <tr>\n      <th>18</th>\n      <td>19</td>\n      <td>2020-10-23 10:37:04.366906</td>\n      <td>4</td>\n      <td>23</td>\n      <td>4</td>\n      <td>10</td>\n      <td>27.0</td>\n      <td>NaN</td>\n      <td>3.60</td>\n      <td>8</td>\n    </tr>\n    <tr>\n      <th>19</th>\n      <td>20</td>\n      <td>2020-10-23 10:37:04.366906</td>\n      <td>4</td>\n      <td>23</td>\n      <td>4</td>\n      <td>10</td>\n      <td>27.0</td>\n      <td>NaN</td>\n      <td>3.60</td>\n      <td>8</td>\n    </tr>\n    <tr>\n      <th>20</th>\n      <td>21</td>\n      <td>2020-10-23 10:37:04.366906</td>\n      <td>4</td>\n      <td>23</td>\n      <td>4</td>\n      <td>10</td>\n      <td>26.0</td>\n      <td>NaN</td>\n      <td>3.35</td>\n      <td>9</td>\n    </tr>\n    <tr>\n      <th>21</th>\n      <td>22</td>\n      <td>2020-10-23 10:37:04.366906</td>\n      <td>4</td>\n      <td>23</td>\n      <td>4</td>\n      <td>10</td>\n      <td>27.0</td>\n      <td>NaN</td>\n      <td>4.47</td>\n      <td>9</td>\n    </tr>\n    <tr>\n      <th>22</th>\n      <td>23</td>\n      <td>2020-10-23 10:37:04.366906</td>\n      <td>4</td>\n      <td>23</td>\n      <td>4</td>\n      <td>10</td>\n      <td>28.0</td>\n      <td>NaN</td>\n      <td>4.81</td>\n      <td>9</td>\n    </tr>\n    <tr>\n      <th>23</th>\n      <td>24</td>\n      <td>2020-10-23 10:37:04.366906</td>\n      <td>4</td>\n      <td>23</td>\n      <td>4</td>\n      <td>10</td>\n      <td>27.5</td>\n      <td>NaN</td>\n      <td>4.00</td>\n      <td>9</td>\n    </tr>\n    <tr>\n      <th>24</th>\n      <td>25</td>\n      <td>2020-10-23 10:37:04.366906</td>\n      <td>4</td>\n      <td>23</td>\n      <td>4</td>\n      <td>10</td>\n      <td>28.0</td>\n      <td>NaN</td>\n      <td>3.35</td>\n      <td>9</td>\n    </tr>\n  </tbody>\n</table>\n</div>"
     },
     "execution_count": 31,
     "metadata": {},
     "output_type": "execute_result"
    }
   ],
   "source": [
    "test_pipe.fit_transform(pd.DataFrame())"
   ],
   "metadata": {
    "collapsed": false,
    "pycharm": {
     "name": "#%%\n"
    }
   }
  },
  {
   "cell_type": "code",
   "execution_count": null,
   "outputs": [],
   "source": [],
   "metadata": {
    "collapsed": false,
    "pycharm": {
     "name": "#%%\n"
    }
   }
  }
 ],
 "metadata": {
  "kernelspec": {
   "display_name": "Python 3",
   "language": "python",
   "name": "python3"
  },
  "language_info": {
   "codemirror_mode": {
    "name": "ipython",
    "version": 2
   },
   "file_extension": ".py",
   "mimetype": "text/x-python",
   "name": "python",
   "nbconvert_exporter": "python",
   "pygments_lexer": "ipython2",
   "version": "2.7.6"
  }
 },
 "nbformat": 4,
 "nbformat_minor": 0
}