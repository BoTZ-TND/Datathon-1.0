{
 "cells": [
  {
   "cell_type": "markdown",
   "metadata": {
    "collapsed": true,
    "pycharm": {
     "name": "#%% md\n"
    }
   },
   "source": [
    "#Main Fundermentle data pre-processing pipeline"
   ]
  },
  {
   "cell_type": "code",
   "execution_count": 1,
   "outputs": [],
   "source": [
    "import numpy as np\n",
    "import pandas as pd\n",
    "import itertools\n",
    "import sklearn\n",
    "from sklearn.ensemble import RandomForestRegressor\n",
    "from datetime import datetime,timedelta\n",
    "from sklearn.base import BaseEstimator,TransformerMixin\n",
    "from sklearn.pipeline import  Pipeline\n",
    "from sklearn.pipeline import FeatureUnion\n",
    "from statsmodels.tsa.arima_model import ARIMA\n",
    "import warnings\n",
    "warnings.simplefilter('ignore')\n",
    "\n",
    "import matplotlib.pyplot as plt\n",
    "%matplotlib inline"
   ],
   "metadata": {
    "collapsed": false,
    "pycharm": {
     "name": "#%%\n"
    }
   }
  },
  {
   "cell_type": "code",
   "execution_count": 2,
   "outputs": [
    {
     "name": "stdout",
     "output_type": "stream",
     "text": [
      "<class 'pandas.core.frame.DataFrame'>\n",
      "RangeIndex: 5800 entries, 0 to 5799\n",
      "Data columns (total 3 columns):\n",
      " #   Column        Non-Null Count  Dtype  \n",
      "---  ------        --------------  -----  \n",
      " 0   index         5800 non-null   int64  \n",
      " 1   formal_date   5800 non-null   object \n",
      " 2   locked_percn  5800 non-null   float64\n",
      "dtypes: float64(1), int64(1), object(1)\n",
      "memory usage: 136.1+ KB\n"
     ]
    }
   ],
   "source": [
    "daily_df = pd.read_csv('../../../data/main_data/DateDistric.csv')\n",
    "info_df = pd.read_csv('../../../data/main_data/Info.csv')\n",
    "district_dt_df = pd.read_csv('../../../data/geo_mode_data/test.csv')\n",
    "police_df = pd.read_csv('../../../data/main_data/police_report.csv')\n",
    "\n",
    "police_df.info()"
   ],
   "metadata": {
    "collapsed": false,
    "pycharm": {
     "name": "#%%\n"
    }
   }
  },
  {
   "cell_type": "code",
   "execution_count": 3,
   "outputs": [],
   "source": [
    "class DateEncoder(BaseEstimator,TransformerMixin):\n",
    "\n",
    "    def __init__(self,col_name='Date',year='2020'):\n",
    "        self.col_name = col_name\n",
    "        self.year = year\n",
    "\n",
    "    def fit(self,X,y=None):\n",
    "        return self\n",
    "\n",
    "    def transform(self,X):\n",
    "        x = X.copy()\n",
    "        x['formal_date']= x.loc[:,'Date'].apply(lambda x: self.date_converter(x))\n",
    "        x['quarter'] = x['formal_date'].dt.quarter\n",
    "        x['date'] = x['formal_date'].dt.day\n",
    "        x['day_of_week'] = x['formal_date'].dt.dayofweek\n",
    "        x['month'] = x['formal_date'].dt.month\n",
    "        return x\n",
    "\n",
    "\n",
    "    def date_converter(self,x,year='2020'):\n",
    "        dt = str(x).split('-')\n",
    "        date = year+'/'+dt[0]+'/'+dt[1]\n",
    "        date_obj = datetime.strptime(date,'%Y/%m/%d')\n",
    "        return date_obj"
   ],
   "metadata": {
    "collapsed": false,
    "pycharm": {
     "name": "#%%\n"
    }
   }
  },
  {
   "cell_type": "code",
   "execution_count": 4,
   "outputs": [],
   "source": [
    "class DatasetTuner(BaseEstimator,TransformerMixin):\n",
    "    \n",
    "    def __init__(self):\n",
    "        self.col_order = ['index','formal_date','quarter','date','day_of_week','month','Suspected_Local','Suspected_Foreign','TotalInfected']\n",
    "        pass\n",
    "    \n",
    "    def fit(self,X,y=None):\n",
    "        return self\n",
    "    \n",
    "    def transform(self,X):\n",
    "        x = X.copy()\n",
    "        x = x.rename(columns={'Unnamed: 0':'index'})\n",
    "        x = x.drop(['ID', 'Date', 'District'],axis=1)\n",
    "        #x = x.loc[:,self.col_order]\n",
    "        return x"
   ],
   "metadata": {
    "collapsed": false,
    "pycharm": {
     "name": "#%%\n"
    }
   }
  },
  {
   "cell_type": "code",
   "execution_count": 5,
   "outputs": [],
   "source": [
    "class WeatherTuner(BaseEstimator,TransformerMixin):\n",
    "\n",
    "    def __init__(self):\n",
    "        self.col_order = ['index','formal_date','quarter','date','day_of_week',\n",
    "                          'month','Suspected_Local','Suspected_Foreign',\n",
    "                          'temp','humidity','sun_hours','TotalInfected']\n",
    "        pass\n",
    "\n",
    "    def fit(self,X,y=None):\n",
    "        return self\n",
    "\n",
    "    def transform(self,X):\n",
    "        x = X.copy()\n",
    "        x = x.merge(info_df, on=[\"month\",\"index\"])\n",
    "        #x = x.loc[:,self.col_order]\n",
    "        return x"
   ],
   "metadata": {
    "collapsed": false,
    "pycharm": {
     "name": "#%%\n"
    }
   }
  },
  {
   "cell_type": "code",
   "execution_count": 6,
   "outputs": [],
   "source": [
    "tuning_pipe = Pipeline([\n",
    "    ('date_adder',DateEncoder()),\n",
    "    ('pre-tuner',DatasetTuner()),\n",
    "    ('weather-tuner', WeatherTuner())\n",
    "])\n",
    "\n",
    "inter_res_1 = tuning_pipe.fit_transform(daily_df)"
   ],
   "metadata": {
    "collapsed": false,
    "pycharm": {
     "name": "#%%\n"
    }
   }
  },
  {
   "cell_type": "code",
   "execution_count": 7,
   "outputs": [],
   "source": [
    "class ProvinceTuner(BaseEstimator,TransformerMixin):\n",
    "    \n",
    "    def __init__(self):\n",
    "        self.province_dist_map = [1,1,1,2,2,2,3,3,4,4,4,5,5,6,6,6,7,7,8,8,9,9,9,9,9]\n",
    "        \n",
    "    def fit(self,X,y=None):\n",
    "        return self\n",
    "    \n",
    "    def transform(self,X):\n",
    "        x = X.copy()\n",
    "        x['province'] = x['index'].apply(lambda x: self.pr_ds_mapper(x))\n",
    "        return x\n",
    "\n",
    "    def pr_ds_mapper(self,x):\n",
    "        return self.province_dist_map[int(x)-1]"
   ],
   "metadata": {
    "collapsed": false,
    "pycharm": {
     "name": "#%%\n"
    }
   }
  },
  {
   "cell_type": "code",
   "execution_count": 8,
   "outputs": [],
   "source": [
    "class NeighbourTuner(BaseEstimator,TransformerMixin):\n",
    "\n",
    "    def __init__(self):\n",
    "        self.srr = {1:[2,3,7,8],2:[1,3,8,17,18],3:[1,4,7],4:[3,5,7],5:[4,6,7],\n",
    "           6:[5,7,13,15],7:[1,3,4,5,6,8,10,12,13],8:[1,2,7,9,10,17],\n",
    "           9:[8,10,11,12,17],10:[7,8,9,12],11:[9,12,15,17,19,20],\n",
    "           12:[7,9,10,11,15,13],13:[6,7,12,15],14:[15,16,20],15:[6,11,12,13,14,20],\n",
    "           16:[14,19,20,22,25],17:[2,8,9,11,18,19],18:[2,17,19,24],\n",
    "           19:[11,16,17,18,20,22,24],20:[5,14,15,16,19],21:[23],\n",
    "           22:[16,19,24,25],23:[21,24,25],24:[18,19,22,23,25],25:[16,22,23,24]}\n",
    "\n",
    "    def fit(self,X,y=None):\n",
    "        return self\n",
    "\n",
    "    def transform(self,X):\n",
    "        self.x = X.copy()\n",
    "        dates = self.x['formal_date'].unique()\n",
    "        count_ser = self.repeater(dates)\n",
    "        new_lis = count_ser.values\n",
    "        if (self.x.shape[0] != len(count_ser.values)):\n",
    "            diff = self.x.shape[0]-len(count_ser.values)\n",
    "            new_lis = [0,]*diff\n",
    "            new_lis = new_lis + list(count_ser.values)\n",
    "\n",
    "        self.x['neir_infected_cases'] = new_lis\n",
    "        return self.x\n",
    "\n",
    "\n",
    "    \n",
    "    def get_date_infected(self,date):\n",
    "        date_inf = [0]+list(self.x[(self.x.loc[:,'formal_date'] == date)]['TotalInfected'].values)\n",
    "        if (len(date_inf) != 26):\n",
    "            date_inf = [0,]*26\n",
    "        return date_inf\n",
    "\n",
    "    def coverted_infected(self,date):\n",
    "        infs_day_before = self.get_date_infected(date)\n",
    "\n",
    "        inf_lis = []\n",
    "        for i in range(1,26):\n",
    "            nei_lis = self.srr[i]\n",
    "            c = 0\n",
    "            for j in nei_lis:\n",
    "                c += infs_day_before[j]\n",
    "            inf_lis.append(c)\n",
    "        inf_ser = pd.Series(data=inf_lis,index=range(1,26))\n",
    "        return inf_ser\n",
    "\n",
    "    def repeater(self,dates):\n",
    "        for j in range(len(dates)):\n",
    "            if(j == 0):\n",
    "                fin_ser = self.coverted_infected(dates[j])\n",
    "            else:\n",
    "                fin_ser = pd.concat([fin_ser,self.coverted_infected(dates[j])])\n",
    "        return fin_ser"
   ],
   "metadata": {
    "collapsed": false,
    "pycharm": {
     "name": "#%%\n"
    }
   }
  },
  {
   "cell_type": "code",
   "execution_count": 9,
   "outputs": [],
   "source": [
    "class PoliceTuner(BaseEstimator,TransformerMixin):\n",
    "\n",
    "    def __init__(self):\n",
    "        self.col_order = ['index','formal_date','quarter','date','day_of_week',\n",
    "                          'month','Suspected_Local','Suspected_Foreign',\n",
    "                          'temp','humidity','sun_hours','province',\n",
    "                          'neir_infected_cases','locked_percn','TotalInfected']\n",
    "        pass\n",
    "\n",
    "    def fit(self,X,y=None):\n",
    "        return self\n",
    "\n",
    "    def transform(self,X):\n",
    "        x = X.copy()\n",
    "        police_df['formal_date'] = police_df['formal_date'].astype(x['formal_date'].dtype)\n",
    "        x = x.merge(police_df, on=[\"index\",\"formal_date\"])\n",
    "        x['locked_percn'].fillna(0)\n",
    "        x = x.loc[:,self.col_order]\n",
    "        return x"
   ],
   "metadata": {
    "collapsed": false,
    "pycharm": {
     "name": "#%%\n"
    }
   }
  },
  {
   "cell_type": "code",
   "execution_count": 10,
   "outputs": [],
   "source": [
    "dist_pipe = Pipeline([\n",
    "    ('province_tuner',ProvinceTuner()),\n",
    "    ('neighbour_tuner',NeighbourTuner()),\n",
    "    ('police_tuner',PoliceTuner()),\n",
    "])\n",
    "inter_res_2 = dist_pipe.fit_transform(inter_res_1)"
   ],
   "metadata": {
    "collapsed": false,
    "pycharm": {
     "name": "#%%\n"
    }
   }
  },
  {
   "cell_type": "code",
   "execution_count": 11,
   "outputs": [],
   "source": [
    "class FinalTuner(BaseEstimator,TransformerMixin):\n",
    "\n",
    "    def __init__(self):\n",
    "        pass\n",
    "\n",
    "    def fit(self,X,y=None):\n",
    "        return self\n",
    "\n",
    "    def transform(self,X):\n",
    "        x = X.copy()\n",
    "        x=x.sort_values(by='formal_date',ascending=True)\n",
    "        x.reset_index(inplace=True)\n",
    "        x.drop('level_0',axis=1,inplace=True)\n",
    "        x=x.fillna(0.5)\n",
    "        return x\n",
    "\n",
    "\n",
    "\n",
    "# inter_res_2.isna().sum()"
   ],
   "metadata": {
    "collapsed": false,
    "pycharm": {
     "name": "#%%\n"
    }
   }
  },
  {
   "cell_type": "code",
   "execution_count": 12,
   "outputs": [],
   "source": [
    "# inter_res_2.to_csv('../../../data/main_data/final.csv',index=False)"
   ],
   "metadata": {
    "collapsed": false,
    "pycharm": {
     "name": "#%%\n"
    }
   }
  },
  {
   "cell_type": "markdown",
   "source": [
    "testset generating code"
   ],
   "metadata": {
    "collapsed": false,
    "pycharm": {
     "name": "#%% md\n"
    }
   }
  },
  {
   "cell_type": "code",
   "execution_count": 13,
   "outputs": [],
   "source": [
    "# test_df_1  = pd.DataFrame(data={\n",
    "#     'index': range(1,26),\n",
    "#     'formal_date' : datetime.now() - timedelta(days=10)\n",
    "# })\n",
    "# test_df_1['quarter'] = test_df_1['formal_date'].dt.quarter\n",
    "# test_df_1['date'] = test_df_1['formal_date'].dt.day\n",
    "# test_df_1['day_of_week'] = test_df_1['formal_date'].dt.dayofweek\n",
    "# test_df_1['month'] = test_df_1['formal_date'].dt.month\n",
    "# test_df_1.head()"
   ],
   "metadata": {
    "collapsed": false,
    "pycharm": {
     "name": "#%%\n"
    }
   }
  },
  {
   "cell_type": "code",
   "execution_count": 14,
   "outputs": [],
   "source": [
    "class TestTuner(BaseEstimator,TransformerMixin):\n",
    "\n",
    "    def __init__(self,date):\n",
    "        self.date = date\n",
    "        \n",
    "    def fit(self,X,y=None):\n",
    "        return self\n",
    "\n",
    "    def transform(self,X):\n",
    "        test_df_1  = pd.DataFrame(data={\n",
    "            'index': range(1,26),\n",
    "            'formal_date' : self.date_converter(self.date)\n",
    "        })\n",
    "        test_df_1['quarter'] = test_df_1['formal_date'].dt.quarter\n",
    "        test_df_1['date'] = test_df_1['formal_date'].dt.day\n",
    "        test_df_1['day_of_week'] = test_df_1['formal_date'].dt.dayofweek\n",
    "        test_df_1['month'] = test_df_1['formal_date'].dt.month\n",
    "        return test_df_1\n",
    "    \n",
    "    def date_converter(self,x,year='2020'):\n",
    "        dt = str(x).split('-')\n",
    "        date = year+'/'+dt[0]+'/'+dt[1]\n",
    "        date_obj = datetime.strptime(date,'%Y/%m/%d')\n",
    "        return date_obj"
   ],
   "metadata": {
    "collapsed": false,
    "pycharm": {
     "name": "#%%\n"
    }
   }
  },
  {
   "cell_type": "code",
   "execution_count": 15,
   "outputs": [],
   "source": [
    "class YesterdayTuner(BaseEstimator,TransformerMixin):\n",
    "\n",
    "    def __init__(self,source):\n",
    "        self.source = source\n",
    "\n",
    "    def fit(self,X,y=None):\n",
    "        x = X.copy()\n",
    "        day_before = x.at[0,'formal_date'] - timedelta(days=1)\n",
    "        filtered_df = self.source[self.source['formal_date'] == day_before]\n",
    "        self.merger = filtered_df.loc[:,['index','neir_infected_cases','locked_percn']]\n",
    "        return self\n",
    "\n",
    "    def transform(self,X):\n",
    "        x = X.copy()\n",
    "        x = x.merge(self.merger,on='index')\n",
    "        x = x.drop('formal_date',axis=1)\n",
    "        return x"
   ],
   "metadata": {
    "collapsed": false,
    "pycharm": {
     "name": "#%%\n"
    }
   }
  },
  {
   "cell_type": "code",
   "execution_count": 16,
   "outputs": [],
   "source": [
    "train_pipe = Pipeline([\n",
    "    ('date_adder',DateEncoder()),\n",
    "    ('pre-tuner',DatasetTuner()),\n",
    "    ('weather-tuner', WeatherTuner()),\n",
    "    ('province_tuner',ProvinceTuner()),\n",
    "    ('neighbour_tuner',NeighbourTuner()),\n",
    "    ('police_tuner',PoliceTuner()),\n",
    "    ('final_tuner',FinalTuner())\n",
    "])"
   ],
   "metadata": {
    "collapsed": false,
    "pycharm": {
     "name": "#%%\n"
    }
   }
  },
  {
   "cell_type": "code",
   "execution_count": 17,
   "outputs": [],
   "source": [
    "test_pipe = Pipeline([\n",
    "    ('test_tuner',TestTuner('05-23')),\n",
    "    ('weather-tuner', WeatherTuner()),\n",
    "    ('province_tuner',ProvinceTuner()),\n",
    "    ('yesterday_tuner',YesterdayTuner(inter_res_2))\n",
    "])"
   ],
   "metadata": {
    "collapsed": false,
    "pycharm": {
     "name": "#%%\n"
    }
   }
  },
  {
   "cell_type": "code",
   "execution_count": 18,
   "outputs": [],
   "source": [
    "train_df = train_pipe.fit_transform(daily_df)\n",
    "test_df = test_pipe.fit_transform(pd.DataFrame())"
   ],
   "metadata": {
    "collapsed": false,
    "pycharm": {
     "name": "#%%\n"
    }
   }
  },
  {
   "cell_type": "code",
   "execution_count": 19,
   "outputs": [],
   "source": [
    "class Arima:\n",
    "\n",
    "    def __init__(self,dataset):\n",
    "        self.df = dataset.copy()\n",
    "        self.pdq_dist = []\n",
    "        self.predictions = []\n",
    "\n",
    "    def train(self):\n",
    "        for i in range(1,26):\n",
    "            res = self.arima(i)\n",
    "            print(res)\n",
    "            self.predictions.append(res[0])\n",
    "            self.pdq_dist.append(res[1])\n",
    "        return self.predictions,self.pdq_dist\n",
    "\n",
    "    def custom_train(self):\n",
    "        return self.pdq_dist\n",
    "\n",
    "    def roll(self,district):\n",
    "        tmp_df = self.df.loc[self.df['index'] == district]\n",
    "        tmp_df = tmp_df.loc[:,['formal_date','TotalInfected']]\n",
    "        tmp_df = tmp_df.set_index('formal_date')\n",
    "        tmp_df.astype('int64')\n",
    "        res_df = tmp_df.rolling(window=4,center=False).mean().dropna()\n",
    "        return res_df\n",
    "\n",
    "    #Mean absolute percentage error.\n",
    "    def mape(self,y1,y_pred):\n",
    "        y1, y_pred = np.array(y1), np.array(y_pred)\n",
    "        return np.mean(np.abs((y1 - y_pred) / y1)) * 100\n",
    "\n",
    "\n",
    "    #Arima modeling for ts\n",
    "    def arima(self,district,params = (0,0,0),st=7):\n",
    "        ts = self.roll(district)\n",
    "        p=d=q=range(0,6)\n",
    "        a=99999\n",
    "        pdq=list(itertools.product(p,d,q))\n",
    "        #Determining the best parameters\n",
    "        if(params == (0,0,0)):\n",
    "            for var in pdq:\n",
    "                try:\n",
    "                    model = ARIMA(ts, order=var)\n",
    "                    result = model.fit()\n",
    "\n",
    "                    if (result.aic<=a) :\n",
    "                        a=result.aic\n",
    "                        param=var\n",
    "                except:\n",
    "                    continue\n",
    "\n",
    "        #Modeling\n",
    "        model = ARIMA(ts, order=param)\n",
    "        result = model.fit()\n",
    "        result.plot_predict(start=int(len(ts) * 0.7), end=int(len(ts) * 1.2))\n",
    "        pred=result.forecast(steps=st)[0]\n",
    "        #Plotting results\n",
    "        f,ax=plt.subplots()\n",
    "        plt.plot(pred,c='green', label= 'predictions')\n",
    "        #plt.plot(test, c='red',label='real values')\n",
    "        plt.legend()\n",
    "        plt.title('True vs predicted values')\n",
    "        #Printing the error metrics\n",
    "        print(result.summary())\n",
    "\n",
    "        #print('\\nMean absolute percentage error: %f'%self.mape(test,pred))\n",
    "        return result.forecast(steps=1)[0],param"
   ],
   "metadata": {
    "collapsed": false,
    "pycharm": {
     "name": "#%%\n"
    }
   }
  },
  {
   "cell_type": "code",
   "execution_count": null,
   "outputs": [],
   "source": [
    "class RFRWalkingForward:\n",
    "    \n",
    "    def __init__(self):\n",
    "        self.fixed_params = {'bootstrap':  False,\n",
    "             'n_estimators': 80,\n",
    "             'max_features':  0.65,\n",
    "             'min_samples_leaf':10,\n",
    "             'min_samples_split': 3 }\n",
    "\n",
    "# declare the classifier\n",
    "    def train(self,df):\n",
    "        mdl = RandomForestRegressor(bootstrap=self.fixed_params['bootstrap'],\n",
    "                                                          n_estimators=self.fixed_params['n_estimators'],\n",
    "                                                          max_features=sefl.fixed_params['max_features'],\n",
    "                                                          min_samples_leaf=self.fixed_params['min_samples_leaf'],\n",
    "                                                          min_samples_split=self.fixed_params['min_samples_split'])\n",
    "        RMSE = []\n",
    "        for sequence in range(2, (df.shape[0]//25)-2):\n",
    "                train = df.iloc[:sequence*25,:]\n",
    "                test = df.iloc[sequence*25:(sequence+1)*25,:]\n",
    "        \n",
    "                X_train, X_test = train.drop(['formal_date','TotalInfected'], axis=1), test.drop(['formal_date','TotalInfected'], axis=1)\n",
    "                y_train, y_test = train['TotalInfected'].values, test['TotalInfected'].values\n",
    "        \n",
    "                mdl.fit(X_train, y_train)\n",
    "                y_pred = mdl.predict(X_test)\n",
    "                error = sklearn.metrics.mean_squared_error(test['TotalInfected'].values, y_pred)\n",
    "                RMSE.append(error)\n",
    "        self.mdl = mdl\n",
    "        print('Mean RMSE = %.5f' % np.mean(RMSE))\n",
    "        \n",
    "    def predict(self,X):\n",
    "        x = X.copy()\n",
    "        return self.mdl.predict(x)"
   ],
   "metadata": {
    "collapsed": false,
    "pycharm": {
     "name": "#%%\n"
    }
   }
  },
  {
   "cell_type": "code",
   "execution_count": null,
   "outputs": [
    {
     "name": "stdout",
     "output_type": "stream",
     "text": [
      "                             ARIMA Model Results                              \n",
      "==============================================================================\n",
      "Dep. Variable:        D.TotalInfected   No. Observations:                  206\n",
      "Model:                 ARIMA(1, 1, 3)   Log Likelihood                 -54.371\n",
      "Method:                       css-mle   S.D. of innovations              0.309\n",
      "Date:                Mon, 02 Nov 2020   AIC                            120.742\n",
      "Time:                        11:34:36   BIC                            140.709\n",
      "Sample:                             1   HQIC                           128.817\n",
      "                                                                              \n",
      "=========================================================================================\n",
      "                            coef    std err          z      P>|z|      [0.025      0.975]\n",
      "-----------------------------------------------------------------------------------------\n",
      "const                     0.1332      0.122      1.096      0.273      -0.105       0.371\n",
      "ar.L1.D.TotalInfected     0.3171      0.072      4.434      0.000       0.177       0.457\n",
      "ma.L1.D.TotalInfected     1.0675      0.038     28.149      0.000       0.993       1.142\n",
      "ma.L2.D.TotalInfected     0.9448      0.045     20.915      0.000       0.856       1.033\n",
      "ma.L3.D.TotalInfected     0.8773      0.046     19.017      0.000       0.787       0.968\n",
      "                                    Roots                                    \n",
      "=============================================================================\n",
      "                  Real          Imaginary           Modulus         Frequency\n",
      "-----------------------------------------------------------------------------\n",
      "AR.1            3.1540           +0.0000j            3.1540            0.0000\n",
      "MA.1           -1.0000           -0.0000j            1.0000           -0.5000\n",
      "MA.2           -0.0385           -1.0670j            1.0677           -0.2557\n",
      "MA.3           -0.0385           +1.0670j            1.0677            0.2557\n",
      "-----------------------------------------------------------------------------\n",
      "(array([38.00379054]), (0, 0, 0))\n",
      "                             ARIMA Model Results                              \n",
      "==============================================================================\n",
      "Dep. Variable:       D2.TotalInfected   No. Observations:                  205\n",
      "Model:                 ARIMA(4, 2, 2)   Log Likelihood                  19.311\n",
      "Method:                       css-mle   S.D. of innovations              0.216\n",
      "Date:                Mon, 02 Nov 2020   AIC                            -22.622\n",
      "Time:                        11:38:19   BIC                              3.962\n",
      "Sample:                             2   HQIC                           -11.870\n",
      "                                                                              \n",
      "==========================================================================================\n",
      "                             coef    std err          z      P>|z|      [0.025      0.975]\n",
      "------------------------------------------------------------------------------------------\n",
      "const                     -0.0114      0.011     -1.051      0.293      -0.033       0.010\n",
      "ar.L1.D2.TotalInfected    -0.3685      0.126     -2.930      0.003      -0.615      -0.122\n",
      "ar.L2.D2.TotalInfected     0.6308      0.135      4.664      0.000       0.366       0.896\n",
      "ar.L3.D2.TotalInfected     0.0501      0.082      0.613      0.540      -0.110       0.210\n",
      "ar.L4.D2.TotalInfected    -0.6202      0.075     -8.266      0.000      -0.767      -0.473\n",
      "ma.L1.D2.TotalInfected     0.4631      0.165      2.801      0.005       0.139       0.787\n",
      "ma.L2.D2.TotalInfected    -0.5369      0.167     -3.223      0.001      -0.863      -0.210\n",
      "                                    Roots                                    \n",
      "=============================================================================\n",
      "                  Real          Imaginary           Modulus         Frequency\n",
      "-----------------------------------------------------------------------------\n",
      "AR.1           -0.9265           -0.4903j            1.0483           -0.4225\n",
      "AR.2           -0.9265           +0.4903j            1.0483            0.4225\n",
      "AR.3            0.9669           -0.7297j            1.2113           -0.1029\n",
      "AR.4            0.9669           +0.7297j            1.2113            0.1029\n",
      "MA.1           -1.0000           +0.0000j            1.0000            0.5000\n",
      "MA.2            1.8626           +0.0000j            1.8626            0.0000\n",
      "-----------------------------------------------------------------------------\n",
      "(array([34.9989099]), (0, 0, 0))\n",
      "                              ARMA Model Results                              \n",
      "==============================================================================\n",
      "Dep. Variable:          TotalInfected   No. Observations:                  207\n",
      "Model:                     ARMA(3, 5)   Log Likelihood                -180.108\n",
      "Method:                       css-mle   S.D. of innovations              0.541\n",
      "Date:                Mon, 02 Nov 2020   AIC                            380.216\n",
      "Time:                        11:40:17   BIC                            413.543\n",
      "Sample:                             0   HQIC                           393.693\n",
      "                                                                              \n",
      "=======================================================================================\n",
      "                          coef    std err          z      P>|z|      [0.025      0.975]\n",
      "---------------------------------------------------------------------------------------\n",
      "const                  34.7778      0.368     94.604      0.000      34.057      35.498\n",
      "ar.L1.TotalInfected     1.1582      0.028     41.948      0.000       1.104       1.212\n",
      "ar.L2.TotalInfected     0.5711      0.037     15.389      0.000       0.498       0.644\n",
      "ar.L3.TotalInfected    -0.7418      0.028    -26.883      0.000      -0.796      -0.688\n",
      "ma.L1.TotalInfected     1.0088      0.055     18.506      0.000       0.902       1.116\n",
      "ma.L2.TotalInfected     0.0165      0.018      0.935      0.350      -0.018       0.051\n",
      "ma.L3.TotalInfected    -0.0165      0.020     -0.842      0.400      -0.055       0.022\n",
      "ma.L4.TotalInfected    -1.0163      0.018    -57.053      0.000      -1.051      -0.981\n",
      "ma.L5.TotalInfected    -0.9923      0.041    -23.937      0.000      -1.074      -0.911\n",
      "                                    Roots                                    \n",
      "=============================================================================\n",
      "                  Real          Imaginary           Modulus         Frequency\n",
      "-----------------------------------------------------------------------------\n",
      "AR.1           -1.2777           -0.0000j            1.2777           -0.5000\n",
      "AR.2            1.0238           -0.0825j            1.0272           -0.0128\n",
      "AR.3            1.0238           +0.0825j            1.0272            0.0128\n",
      "MA.1            1.0000           -0.0000j            1.0000           -0.0000\n",
      "MA.2           -0.0083           -1.0000j            1.0000           -0.2513\n",
      "MA.3           -0.0083           +1.0000j            1.0000            0.2513\n",
      "MA.4           -1.0038           -0.0067j            1.0039           -0.4989\n",
      "MA.5           -1.0038           +0.0067j            1.0039            0.4989\n",
      "-----------------------------------------------------------------------------\n",
      "(array([34.12397637]), (0, 0, 0))\n",
      "                             ARIMA Model Results                              \n",
      "==============================================================================\n",
      "Dep. Variable:        D.TotalInfected   No. Observations:                  206\n",
      "Model:                 ARIMA(1, 1, 3)   Log Likelihood                 -18.014\n",
      "Method:                       css-mle   S.D. of innovations              0.257\n",
      "Date:                Mon, 02 Nov 2020   AIC                             48.028\n",
      "Time:                        11:42:47   BIC                             67.995\n",
      "Sample:                             1   HQIC                            56.104\n",
      "                                                                              \n",
      "=========================================================================================\n",
      "                            coef    std err          z      P>|z|      [0.025      0.975]\n",
      "-----------------------------------------------------------------------------------------\n",
      "const                     0.0952      0.098      0.968      0.333      -0.098       0.288\n",
      "ar.L1.D.TotalInfected     0.2872      0.071      4.050      0.000       0.148       0.426\n",
      "ma.L1.D.TotalInfected     0.9769      0.036     26.975      0.000       0.906       1.048\n",
      "ma.L2.D.TotalInfected     1.0057      0.039     25.579      0.000       0.929       1.083\n",
      "ma.L3.D.TotalInfected     0.9710      0.044     22.232      0.000       0.885       1.057\n",
      "                                    Roots                                    \n",
      "=============================================================================\n",
      "                  Real          Imaginary           Modulus         Frequency\n",
      "-----------------------------------------------------------------------------\n",
      "AR.1            3.4822           +0.0000j            3.4822            0.0000\n",
      "MA.1           -1.0299           -0.0000j            1.0299           -0.5000\n",
      "MA.2           -0.0030           -1.0000j            1.0000           -0.2505\n",
      "MA.3           -0.0030           +1.0000j            1.0000            0.2505\n",
      "-----------------------------------------------------------------------------\n",
      "(array([20.00650898]), (0, 0, 0))\n"
     ]
    }
   ],
   "source": [
    "arima_test = Arima(train_df)\n",
    "res_1 = arima_test.train()"
   ],
   "metadata": {
    "collapsed": false,
    "pycharm": {
     "name": "#%%\n",
     "is_executing": true
    }
   }
  },
  {
   "cell_type": "code",
   "execution_count": null,
   "outputs": [],
   "source": [
    "rfr = RFRWalkingForward()\n",
    "rfr.train(train_df)\n",
    "res_2 = rfr.predict(test_df)"
   ],
   "metadata": {
    "collapsed": false,
    "pycharm": {
     "name": "#%%\n"
    }
   }
  }
 ],
 "metadata": {
  "kernelspec": {
   "display_name": "Python 3",
   "language": "python",
   "name": "python3"
  },
  "language_info": {
   "codemirror_mode": {
    "name": "ipython",
    "version": 2
   },
   "file_extension": ".py",
   "mimetype": "text/x-python",
   "name": "python",
   "nbconvert_exporter": "python",
   "pygments_lexer": "ipython2",
   "version": "2.7.6"
  }
 },
 "nbformat": 4,
 "nbformat_minor": 0
}