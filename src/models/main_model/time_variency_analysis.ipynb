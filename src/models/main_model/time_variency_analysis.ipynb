{
 "cells": [
  {
   "cell_type": "code",
   "execution_count": 1,
   "metadata": {
    "collapsed": true
   },
   "outputs": [],
   "source": [
    "import pandas as pd\n",
    "import numpy as np\n",
    "import itertools\n",
    "import seaborn as sns\n",
    "import matplotlib.pyplot as plt\n",
    "%matplotlib inline\n",
    "import plotly.express as px\n",
    "import statsmodels.api as sm\n",
    "from statsmodels.tsa.stattools import adfuller, acf, pacf,arma_order_select_ic\n",
    "from statsmodels.graphics.tsaplots import plot_acf, plot_pacf\n",
    "from statsmodels.tsa.arima_model import ARIMA\n",
    "import warnings\n",
    "warnings.simplefilter('ignore')"
   ]
  },
  {
   "cell_type": "code",
   "execution_count": 2,
   "outputs": [
    {
     "data": {
      "text/plain": "   index formal_date  quarter  date  day_of_week  month  Suspected_Local  \\\n0      1  2020-03-31        1    31            1      3               41   \n1     25  2020-03-31        1    31            1      3                0   \n2     24  2020-03-31        1    31            1      3                0   \n3     23  2020-03-31        1    31            1      3                0   \n4     22  2020-03-31        1    31            1      3                0   \n\n   Suspected_Foreign  temp  humidity  sun_hours  province  \\\n0                  1  28.5      81.0       7.15         1   \n1                  0  30.0      78.0       6.15         9   \n2                  0  29.5      82.0       5.74         9   \n3                  0  30.0      81.0       4.58         9   \n4                  0  31.0      81.0       4.87         9   \n\n   neir_infected_cases  locked_percn  TotalInfected  \n0                   34           1.0             11  \n1                    1           1.0              0  \n2                    1           1.0              0  \n3                    0           1.0              0  \n4                    1           1.0              0  ",
      "text/html": "<div>\n<style scoped>\n    .dataframe tbody tr th:only-of-type {\n        vertical-align: middle;\n    }\n\n    .dataframe tbody tr th {\n        vertical-align: top;\n    }\n\n    .dataframe thead th {\n        text-align: right;\n    }\n</style>\n<table border=\"1\" class=\"dataframe\">\n  <thead>\n    <tr style=\"text-align: right;\">\n      <th></th>\n      <th>index</th>\n      <th>formal_date</th>\n      <th>quarter</th>\n      <th>date</th>\n      <th>day_of_week</th>\n      <th>month</th>\n      <th>Suspected_Local</th>\n      <th>Suspected_Foreign</th>\n      <th>temp</th>\n      <th>humidity</th>\n      <th>sun_hours</th>\n      <th>province</th>\n      <th>neir_infected_cases</th>\n      <th>locked_percn</th>\n      <th>TotalInfected</th>\n    </tr>\n  </thead>\n  <tbody>\n    <tr>\n      <th>0</th>\n      <td>1</td>\n      <td>2020-03-31</td>\n      <td>1</td>\n      <td>31</td>\n      <td>1</td>\n      <td>3</td>\n      <td>41</td>\n      <td>1</td>\n      <td>28.5</td>\n      <td>81.0</td>\n      <td>7.15</td>\n      <td>1</td>\n      <td>34</td>\n      <td>1.0</td>\n      <td>11</td>\n    </tr>\n    <tr>\n      <th>1</th>\n      <td>25</td>\n      <td>2020-03-31</td>\n      <td>1</td>\n      <td>31</td>\n      <td>1</td>\n      <td>3</td>\n      <td>0</td>\n      <td>0</td>\n      <td>30.0</td>\n      <td>78.0</td>\n      <td>6.15</td>\n      <td>9</td>\n      <td>1</td>\n      <td>1.0</td>\n      <td>0</td>\n    </tr>\n    <tr>\n      <th>2</th>\n      <td>24</td>\n      <td>2020-03-31</td>\n      <td>1</td>\n      <td>31</td>\n      <td>1</td>\n      <td>3</td>\n      <td>0</td>\n      <td>0</td>\n      <td>29.5</td>\n      <td>82.0</td>\n      <td>5.74</td>\n      <td>9</td>\n      <td>1</td>\n      <td>1.0</td>\n      <td>0</td>\n    </tr>\n    <tr>\n      <th>3</th>\n      <td>23</td>\n      <td>2020-03-31</td>\n      <td>1</td>\n      <td>31</td>\n      <td>1</td>\n      <td>3</td>\n      <td>0</td>\n      <td>0</td>\n      <td>30.0</td>\n      <td>81.0</td>\n      <td>4.58</td>\n      <td>9</td>\n      <td>0</td>\n      <td>1.0</td>\n      <td>0</td>\n    </tr>\n    <tr>\n      <th>4</th>\n      <td>22</td>\n      <td>2020-03-31</td>\n      <td>1</td>\n      <td>31</td>\n      <td>1</td>\n      <td>3</td>\n      <td>0</td>\n      <td>0</td>\n      <td>31.0</td>\n      <td>81.0</td>\n      <td>4.87</td>\n      <td>9</td>\n      <td>1</td>\n      <td>1.0</td>\n      <td>0</td>\n    </tr>\n  </tbody>\n</table>\n</div>"
     },
     "execution_count": 2,
     "metadata": {},
     "output_type": "execute_result"
    }
   ],
   "source": [
    "df = pd.read_csv('../../../data/main_data/final.csv')\n",
    "df.head()"
   ],
   "metadata": {
    "collapsed": false,
    "pycharm": {
     "name": "#%%\n"
    }
   }
  },
  {
   "cell_type": "code",
   "execution_count": 5,
   "outputs": [
    {
     "ename": "AttributeError",
     "evalue": "module 'plotly.express' has no attribute 'color'",
     "output_type": "error",
     "traceback": [
      "\u001B[1;31m---------------------------------------------------------------------------\u001B[0m",
      "\u001B[1;31mAttributeError\u001B[0m                            Traceback (most recent call last)",
      "\u001B[1;32m<ipython-input-5-7e0dcab560af>\u001B[0m in \u001B[0;36m<module>\u001B[1;34m()\u001B[0m\n\u001B[0;32m      3\u001B[0m fig = px.bar(df_by_date.loc[(df_by_date['index'] == 1)].sort_values('TotalInfected',ascending=False),\n\u001B[0;32m      4\u001B[0m              \u001B[0mx\u001B[0m\u001B[1;33m=\u001B[0m\u001B[1;34m'formal_date'\u001B[0m\u001B[1;33m,\u001B[0m\u001B[0my\u001B[0m\u001B[1;33m=\u001B[0m\u001B[1;34m'TotalInfected'\u001B[0m\u001B[1;33m,\u001B[0m\u001B[0mcolor\u001B[0m\u001B[1;33m=\u001B[0m\u001B[1;34m'TotalInfected'\u001B[0m\u001B[1;33m,\u001B[0m\u001B[1;33m\u001B[0m\u001B[1;33m\u001B[0m\u001B[0m\n\u001B[1;32m----> 5\u001B[1;33m              color_continuous_midpoint=px.color.RED)\n\u001B[0m\u001B[0;32m      6\u001B[0m \u001B[0mfig\u001B[0m\u001B[1;33m.\u001B[0m\u001B[0mupdate_layout\u001B[0m\u001B[1;33m(\u001B[0m\u001B[0mtitle\u001B[0m\u001B[1;33m=\u001B[0m\u001B[1;34m'COVID-19 confirmed case in Colombo'\u001B[0m\u001B[1;33m)\u001B[0m\u001B[1;33m\u001B[0m\u001B[1;33m\u001B[0m\u001B[0m\n\u001B[0;32m      7\u001B[0m \u001B[0mfig\u001B[0m\u001B[1;33m.\u001B[0m\u001B[0mshow\u001B[0m\u001B[1;33m(\u001B[0m\u001B[1;33m)\u001B[0m\u001B[1;33m\u001B[0m\u001B[1;33m\u001B[0m\u001B[0m\n",
      "\u001B[1;31mAttributeError\u001B[0m: module 'plotly.express' has no attribute 'color'"
     ]
    }
   ],
   "source": [
    "df_by_date = pd.DataFrame(df.fillna('NA').groupby(['index','formal_date'])['TotalInfected'].sum().sort_values().reset_index())\n",
    "fig = px.bar(df_by_date.loc[(df_by_date['index'] == 1)].sort_values('TotalInfected',ascending=False),\n",
    "             x='formal_date',y='TotalInfected',color='TotalInfected',\n",
    "             color_continuous_midpoint=px.color.RED)\n",
    "fig.update_layout(title='COVID-19 confirmed case in Colombo')\n",
    "fig.show()"
   ],
   "metadata": {
    "collapsed": false,
    "pycharm": {
     "name": "#%%\n"
    }
   }
  },
  {
   "cell_type": "code",
   "execution_count": null,
   "outputs": [],
   "source": [],
   "metadata": {
    "collapsed": false,
    "pycharm": {
     "name": "#%%\n"
    }
   }
  }
 ],
 "metadata": {
  "kernelspec": {
   "display_name": "Python 3",
   "language": "python",
   "name": "python3"
  },
  "language_info": {
   "codemirror_mode": {
    "name": "ipython",
    "version": 2
   },
   "file_extension": ".py",
   "mimetype": "text/x-python",
   "name": "python",
   "nbconvert_exporter": "python",
   "pygments_lexer": "ipython2",
   "version": "2.7.6"
  }
 },
 "nbformat": 4,
 "nbformat_minor": 0
}