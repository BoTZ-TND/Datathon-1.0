{
 "cells": [
  {
   "cell_type": "code",
   "execution_count": 1,
   "metadata": {
    "collapsed": true
   },
   "outputs": [],
   "source": [
    "import pandas as pd\n",
    "import numpy as np\n",
    "# import IPython\n",
    "# from IPython import display\n",
    "import sklearn\n",
    "\n",
    "from sklearn.base import BaseEstimator, TransformerMixin\n",
    "from sklearn.preprocessing import StandardScaler\n",
    "from sklearn.preprocessing import LabelBinarizer\n",
    "from sklearn.pipeline import Pipeline\n",
    "from sklearn.pipeline import FeatureUnion\n",
    "from sklearn.model_selection import GridSearchCV\n",
    "from sklearn.ensemble import RandomForestClassifier"
   ]
  },
  {
   "cell_type": "code",
   "execution_count": 2,
   "outputs": [
    {
     "data": {
      "text/plain": "   index  quarter  date  day_of_week  month  Suspected_Local  \\\n0     25        4    31            5     10                0   \n1      9        4    31            5     10                0   \n2      2        4    31            5     10               24   \n3      7        4    31            5     10                8   \n4     17        4    31            5     10                2   \n\n   Suspected_Foreign  temp  humidity  sun_hours  province  \\\n0                  0  28.0       0.5       3.35         9   \n1                  0  25.0       0.5       5.32         4   \n2                  0  28.0       0.5       5.03         1   \n3                  0  27.0       0.5       6.04         3   \n4                  0  26.0       0.5       4.45         7   \n\n   neir_infected_cases  locked_percn  TotalInfected  \n0                    1          0.00              0  \n1                   63          0.00              6  \n2                   31          1.00             35  \n3                   54          0.00             13  \n4                   81          0.28              1  ",
      "text/html": "<div>\n<style scoped>\n    .dataframe tbody tr th:only-of-type {\n        vertical-align: middle;\n    }\n\n    .dataframe tbody tr th {\n        vertical-align: top;\n    }\n\n    .dataframe thead th {\n        text-align: right;\n    }\n</style>\n<table border=\"1\" class=\"dataframe\">\n  <thead>\n    <tr style=\"text-align: right;\">\n      <th></th>\n      <th>index</th>\n      <th>quarter</th>\n      <th>date</th>\n      <th>day_of_week</th>\n      <th>month</th>\n      <th>Suspected_Local</th>\n      <th>Suspected_Foreign</th>\n      <th>temp</th>\n      <th>humidity</th>\n      <th>sun_hours</th>\n      <th>province</th>\n      <th>neir_infected_cases</th>\n      <th>locked_percn</th>\n      <th>TotalInfected</th>\n    </tr>\n  </thead>\n  <tbody>\n    <tr>\n      <th>0</th>\n      <td>25</td>\n      <td>4</td>\n      <td>31</td>\n      <td>5</td>\n      <td>10</td>\n      <td>0</td>\n      <td>0</td>\n      <td>28.0</td>\n      <td>0.5</td>\n      <td>3.35</td>\n      <td>9</td>\n      <td>1</td>\n      <td>0.00</td>\n      <td>0</td>\n    </tr>\n    <tr>\n      <th>1</th>\n      <td>9</td>\n      <td>4</td>\n      <td>31</td>\n      <td>5</td>\n      <td>10</td>\n      <td>0</td>\n      <td>0</td>\n      <td>25.0</td>\n      <td>0.5</td>\n      <td>5.32</td>\n      <td>4</td>\n      <td>63</td>\n      <td>0.00</td>\n      <td>6</td>\n    </tr>\n    <tr>\n      <th>2</th>\n      <td>2</td>\n      <td>4</td>\n      <td>31</td>\n      <td>5</td>\n      <td>10</td>\n      <td>24</td>\n      <td>0</td>\n      <td>28.0</td>\n      <td>0.5</td>\n      <td>5.03</td>\n      <td>1</td>\n      <td>31</td>\n      <td>1.00</td>\n      <td>35</td>\n    </tr>\n    <tr>\n      <th>3</th>\n      <td>7</td>\n      <td>4</td>\n      <td>31</td>\n      <td>5</td>\n      <td>10</td>\n      <td>8</td>\n      <td>0</td>\n      <td>27.0</td>\n      <td>0.5</td>\n      <td>6.04</td>\n      <td>3</td>\n      <td>54</td>\n      <td>0.00</td>\n      <td>13</td>\n    </tr>\n    <tr>\n      <th>4</th>\n      <td>17</td>\n      <td>4</td>\n      <td>31</td>\n      <td>5</td>\n      <td>10</td>\n      <td>2</td>\n      <td>0</td>\n      <td>26.0</td>\n      <td>0.5</td>\n      <td>4.45</td>\n      <td>7</td>\n      <td>81</td>\n      <td>0.28</td>\n      <td>1</td>\n    </tr>\n  </tbody>\n</table>\n</div>"
     },
     "execution_count": 2,
     "metadata": {},
     "output_type": "execute_result"
    }
   ],
   "source": [
    "train_df = pd.read_csv('../../../data/main_data/final.csv')\n",
    "\n",
    "train_df= train_df.drop(['formal_date'],axis=1)\n",
    "train_df.head()"
   ],
   "metadata": {
    "collapsed": false,
    "pycharm": {
     "name": "#%%\n"
    }
   }
  },
  {
   "cell_type": "code",
   "execution_count": null,
   "outputs": [
    {
     "name": "stderr",
     "output_type": "stream",
     "text": [
      "C:\\Users\\deela\\anaconda3\\envs\\Main\\lib\\site-packages\\sklearn\\model_selection\\_split.py:672: UserWarning: The least populated class in y has only 1 members, which is less than n_splits=5.\n",
      "  % (min_groups, self.n_splits)), UserWarning)\n"
     ]
    }
   ],
   "source": [
    "param_grid = [\n",
    "    {'bootstrap': [False, True],\n",
    "     'n_estimators': [80,90, 100, 110, 130],\n",
    "     'max_features': [0.6, 0.65, 0.7, 0.73, 0.7500000000000001, 0.78, 0.8],\n",
    "     'min_samples_leaf': [10, 12, 14],\n",
    "     'min_samples_split': [3, 5, 7]\n",
    "    },\n",
    "]\n",
    "\n",
    "# declare the classifier\n",
    "random_forest_classifier = RandomForestClassifier()\n",
    "\n",
    "# create the GridSearchCV object\n",
    "grid_search = GridSearchCV(random_forest_classifier, param_grid, cv=5,scoring='neg_mean_squared_error', refit=True)\n",
    "\n",
    "# fine-tune the hyperparameters\n",
    "grid_search.fit(train_df.iloc[25:,:-1], train_df.iloc[25:,-1])\n",
    "\n",
    "# get the best model\n",
    "final_model = grid_search.best_estimator_\n",
    "\n",
    "# predict using the test dataset\n",
    "final_predictions = final_model.predict(train_df.iloc[:25,:-1])"
   ],
   "metadata": {
    "collapsed": false,
    "pycharm": {
     "name": "#%%\n",
     "is_executing": true
    }
   }
  },
  {
   "cell_type": "code",
   "execution_count": null,
   "outputs": [],
   "source": [],
   "metadata": {
    "collapsed": false,
    "pycharm": {
     "name": "#%%\n"
    }
   }
  }
 ],
 "metadata": {
  "kernelspec": {
   "display_name": "Python 3",
   "language": "python",
   "name": "python3"
  },
  "language_info": {
   "codemirror_mode": {
    "name": "ipython",
    "version": 2
   },
   "file_extension": ".py",
   "mimetype": "text/x-python",
   "name": "python",
   "nbconvert_exporter": "python",
   "pygments_lexer": "ipython2",
   "version": "2.7.6"
  }
 },
 "nbformat": 4,
 "nbformat_minor": 0
}