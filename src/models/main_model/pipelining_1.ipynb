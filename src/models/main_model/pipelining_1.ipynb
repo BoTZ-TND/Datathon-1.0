{
 "cells": [
  {
   "cell_type": "code",
   "execution_count": 1,
   "metadata": {
    "collapsed": true
   },
   "outputs": [],
   "source": [
    "import pandas as pd\n",
    "import numpy as np\n",
    "from datetime import datetime"
   ]
  },
  {
   "cell_type": "code",
   "execution_count": 2,
   "outputs": [],
   "source": [
    "date_dist_df = pd.read_csv('../../../data/main_data/DateDistric.csv')\n",
    "districts_df = pd.read_csv('../../../data/main_data/districts.csv')\n",
    "weather_df = pd.read_csv('../../../data/main_data/weather_pattern.csv')"
   ],
   "metadata": {
    "collapsed": false,
    "pycharm": {
     "name": "#%%\n"
    }
   }
  },
  {
   "cell_type": "code",
   "execution_count": 3,
   "outputs": [
    {
     "name": "stdout",
     "output_type": "stream",
     "text": [
      "date-district-dataset \n",
      "\n",
      "district-feature-dataset\n",
      "weather-pattern-dataset\n"
     ]
    },
    {
     "data": {
      "text/plain": "   Unnamed: 0                 ID   Date      District  Suspected_Local  \\\n0           0       0331_Colombo  03-31       Colombo               12   \n1           1       0331_Gampaha  03-31       Gampaha               41   \n2           2      0331_Puttalam  03-31      Puttalam                1   \n3           3      0331_Kalutara  03-31      Kalutara                5   \n4           4  0331_Anuradhapura  03-31  Anuradhapura                2   \n\n   Suspected_Foreign  Suspected_Total  TotalInfected  \n0                  0               12             30  \n1                  1               42             11  \n2                  0                1             15  \n3                  0                5             18  \n4                  0                2              0  ",
      "text/html": "<div>\n<style scoped>\n    .dataframe tbody tr th:only-of-type {\n        vertical-align: middle;\n    }\n\n    .dataframe tbody tr th {\n        vertical-align: top;\n    }\n\n    .dataframe thead th {\n        text-align: right;\n    }\n</style>\n<table border=\"1\" class=\"dataframe\">\n  <thead>\n    <tr style=\"text-align: right;\">\n      <th></th>\n      <th>Unnamed: 0</th>\n      <th>ID</th>\n      <th>Date</th>\n      <th>District</th>\n      <th>Suspected_Local</th>\n      <th>Suspected_Foreign</th>\n      <th>Suspected_Total</th>\n      <th>TotalInfected</th>\n    </tr>\n  </thead>\n  <tbody>\n    <tr>\n      <th>0</th>\n      <td>0</td>\n      <td>0331_Colombo</td>\n      <td>03-31</td>\n      <td>Colombo</td>\n      <td>12</td>\n      <td>0</td>\n      <td>12</td>\n      <td>30</td>\n    </tr>\n    <tr>\n      <th>1</th>\n      <td>1</td>\n      <td>0331_Gampaha</td>\n      <td>03-31</td>\n      <td>Gampaha</td>\n      <td>41</td>\n      <td>1</td>\n      <td>42</td>\n      <td>11</td>\n    </tr>\n    <tr>\n      <th>2</th>\n      <td>2</td>\n      <td>0331_Puttalam</td>\n      <td>03-31</td>\n      <td>Puttalam</td>\n      <td>1</td>\n      <td>0</td>\n      <td>1</td>\n      <td>15</td>\n    </tr>\n    <tr>\n      <th>3</th>\n      <td>3</td>\n      <td>0331_Kalutara</td>\n      <td>03-31</td>\n      <td>Kalutara</td>\n      <td>5</td>\n      <td>0</td>\n      <td>5</td>\n      <td>18</td>\n    </tr>\n    <tr>\n      <th>4</th>\n      <td>4</td>\n      <td>0331_Anuradhapura</td>\n      <td>03-31</td>\n      <td>Anuradhapura</td>\n      <td>2</td>\n      <td>0</td>\n      <td>2</td>\n      <td>0</td>\n    </tr>\n  </tbody>\n</table>\n</div>"
     },
     "execution_count": 3,
     "metadata": {},
     "output_type": "execute_result"
    },
    {
     "data": {
      "text/plain": "  ProvinceNumber          Province Provincial Population  District Number  \\\n0              1  Western Province             6,149,000              1.0   \n1            NaN               NaN                   NaN              NaN   \n2            NaN               NaN                   NaN              NaN   \n3            NaN               NaN                   NaN              NaN   \n4            NaN               NaN                   NaN              NaN   \n\n           District  Elevation(m)  Neighbour district numbers  \\\n0  Colombo District           5.0                         2.0   \n1               NaN           NaN                         3.0   \n2               NaN           NaN                         7.0   \n3               NaN           NaN                         8.0   \n4               NaN           NaN                         NaN   \n\n  Neighbour District Names District Population Population density /km2  \\\n0                  Gampaha           2,448,000                   3,502   \n1                 Kalutara                 NaN                     NaN   \n2                Ratnapura                 NaN                     NaN   \n3                  Kegalle                 NaN                     NaN   \n4                      NaN                 NaN                     NaN   \n\n   No. of Police Stations     OIC division  Division Population  Unnamed: 13  \\\n0                    48.0  Colombo Central                  NaN          1.0   \n1                     NaN              NaN                  NaN          2.0   \n2                     NaN              NaN                  NaN          3.0   \n3                     NaN              NaN                  NaN          4.0   \n4                     NaN              NaN                  NaN          5.0   \n\n  Police station  Population  \n0         Pettah         NaN  \n1     Keselwatta         NaN  \n2     Dam Street         NaN  \n3     Woulfendal         NaN  \n4           Fort         NaN  ",
      "text/html": "<div>\n<style scoped>\n    .dataframe tbody tr th:only-of-type {\n        vertical-align: middle;\n    }\n\n    .dataframe tbody tr th {\n        vertical-align: top;\n    }\n\n    .dataframe thead th {\n        text-align: right;\n    }\n</style>\n<table border=\"1\" class=\"dataframe\">\n  <thead>\n    <tr style=\"text-align: right;\">\n      <th></th>\n      <th>ProvinceNumber</th>\n      <th>Province</th>\n      <th>Provincial Population</th>\n      <th>District Number</th>\n      <th>District</th>\n      <th>Elevation(m)</th>\n      <th>Neighbour district numbers</th>\n      <th>Neighbour District Names</th>\n      <th>District Population</th>\n      <th>Population density /km2</th>\n      <th>No. of Police Stations</th>\n      <th>OIC division</th>\n      <th>Division Population</th>\n      <th>Unnamed: 13</th>\n      <th>Police station</th>\n      <th>Population</th>\n    </tr>\n  </thead>\n  <tbody>\n    <tr>\n      <th>0</th>\n      <td>1</td>\n      <td>Western Province</td>\n      <td>6,149,000</td>\n      <td>1.0</td>\n      <td>Colombo District</td>\n      <td>5.0</td>\n      <td>2.0</td>\n      <td>Gampaha</td>\n      <td>2,448,000</td>\n      <td>3,502</td>\n      <td>48.0</td>\n      <td>Colombo Central</td>\n      <td>NaN</td>\n      <td>1.0</td>\n      <td>Pettah</td>\n      <td>NaN</td>\n    </tr>\n    <tr>\n      <th>1</th>\n      <td>NaN</td>\n      <td>NaN</td>\n      <td>NaN</td>\n      <td>NaN</td>\n      <td>NaN</td>\n      <td>NaN</td>\n      <td>3.0</td>\n      <td>Kalutara</td>\n      <td>NaN</td>\n      <td>NaN</td>\n      <td>NaN</td>\n      <td>NaN</td>\n      <td>NaN</td>\n      <td>2.0</td>\n      <td>Keselwatta</td>\n      <td>NaN</td>\n    </tr>\n    <tr>\n      <th>2</th>\n      <td>NaN</td>\n      <td>NaN</td>\n      <td>NaN</td>\n      <td>NaN</td>\n      <td>NaN</td>\n      <td>NaN</td>\n      <td>7.0</td>\n      <td>Ratnapura</td>\n      <td>NaN</td>\n      <td>NaN</td>\n      <td>NaN</td>\n      <td>NaN</td>\n      <td>NaN</td>\n      <td>3.0</td>\n      <td>Dam Street</td>\n      <td>NaN</td>\n    </tr>\n    <tr>\n      <th>3</th>\n      <td>NaN</td>\n      <td>NaN</td>\n      <td>NaN</td>\n      <td>NaN</td>\n      <td>NaN</td>\n      <td>NaN</td>\n      <td>8.0</td>\n      <td>Kegalle</td>\n      <td>NaN</td>\n      <td>NaN</td>\n      <td>NaN</td>\n      <td>NaN</td>\n      <td>NaN</td>\n      <td>4.0</td>\n      <td>Woulfendal</td>\n      <td>NaN</td>\n    </tr>\n    <tr>\n      <th>4</th>\n      <td>NaN</td>\n      <td>NaN</td>\n      <td>NaN</td>\n      <td>NaN</td>\n      <td>NaN</td>\n      <td>NaN</td>\n      <td>NaN</td>\n      <td>NaN</td>\n      <td>NaN</td>\n      <td>NaN</td>\n      <td>NaN</td>\n      <td>NaN</td>\n      <td>NaN</td>\n      <td>5.0</td>\n      <td>Fort</td>\n      <td>NaN</td>\n    </tr>\n  </tbody>\n</table>\n</div>"
     },
     "execution_count": 3,
     "metadata": {},
     "output_type": "execute_result"
    },
    {
     "data": {
      "text/plain": "   District Number  Unnamed: 1  District  Elevation to City(m)  Unnamed: 4  \\\n0              1.0         NaN   Colombo                   5.0         NaN   \n1              2.0         NaN   Gampaha                  15.0         NaN   \n2              3.0         NaN  Kalutara                  10.0         NaN   \n3              4.0         NaN     Galle                   8.0         NaN   \n4              5.0         NaN    Matara                  10.0         NaN   \n\n   Unnamed: 5   Jan   Feb  March   Apr   May   Jun   Jul   Aug   Sep   Oct  \\\n0         NaN    27  28.0   28.5  28.5  28.5  28.5  28.0  28.0  27.5  27.5   \n1         NaN    27  28.0   28.5  28.5  29.0  28.5  28.0  27.5  28.0  27.5   \n2         NaN  26.5  27.5   28.0  29.0  29.0  28.5  28.5  27.5  28.0  27.5   \n3         NaN    27  27.0   28.5  28.5  28.0  28.0  27.5  27.5  27.5  27.5   \n4         NaN    26  26.0   28.5  28.5  28.0  28.0  27.5  27.5  27.5  28.5   \n\n    Nov   Dec    Avg  \n0  27.0  27.5  27.88  \n1  28.0  28.0  28.04  \n2  27.0  27.0  27.83  \n3  27.0  27.0  27.58  \n4  27.0  27.0  27.50  ",
      "text/html": "<div>\n<style scoped>\n    .dataframe tbody tr th:only-of-type {\n        vertical-align: middle;\n    }\n\n    .dataframe tbody tr th {\n        vertical-align: top;\n    }\n\n    .dataframe thead th {\n        text-align: right;\n    }\n</style>\n<table border=\"1\" class=\"dataframe\">\n  <thead>\n    <tr style=\"text-align: right;\">\n      <th></th>\n      <th>District Number</th>\n      <th>Unnamed: 1</th>\n      <th>District</th>\n      <th>Elevation to City(m)</th>\n      <th>Unnamed: 4</th>\n      <th>Unnamed: 5</th>\n      <th>Jan</th>\n      <th>Feb</th>\n      <th>March</th>\n      <th>Apr</th>\n      <th>May</th>\n      <th>Jun</th>\n      <th>Jul</th>\n      <th>Aug</th>\n      <th>Sep</th>\n      <th>Oct</th>\n      <th>Nov</th>\n      <th>Dec</th>\n      <th>Avg</th>\n    </tr>\n  </thead>\n  <tbody>\n    <tr>\n      <th>0</th>\n      <td>1.0</td>\n      <td>NaN</td>\n      <td>Colombo</td>\n      <td>5.0</td>\n      <td>NaN</td>\n      <td>NaN</td>\n      <td>27</td>\n      <td>28.0</td>\n      <td>28.5</td>\n      <td>28.5</td>\n      <td>28.5</td>\n      <td>28.5</td>\n      <td>28.0</td>\n      <td>28.0</td>\n      <td>27.5</td>\n      <td>27.5</td>\n      <td>27.0</td>\n      <td>27.5</td>\n      <td>27.88</td>\n    </tr>\n    <tr>\n      <th>1</th>\n      <td>2.0</td>\n      <td>NaN</td>\n      <td>Gampaha</td>\n      <td>15.0</td>\n      <td>NaN</td>\n      <td>NaN</td>\n      <td>27</td>\n      <td>28.0</td>\n      <td>28.5</td>\n      <td>28.5</td>\n      <td>29.0</td>\n      <td>28.5</td>\n      <td>28.0</td>\n      <td>27.5</td>\n      <td>28.0</td>\n      <td>27.5</td>\n      <td>28.0</td>\n      <td>28.0</td>\n      <td>28.04</td>\n    </tr>\n    <tr>\n      <th>2</th>\n      <td>3.0</td>\n      <td>NaN</td>\n      <td>Kalutara</td>\n      <td>10.0</td>\n      <td>NaN</td>\n      <td>NaN</td>\n      <td>26.5</td>\n      <td>27.5</td>\n      <td>28.0</td>\n      <td>29.0</td>\n      <td>29.0</td>\n      <td>28.5</td>\n      <td>28.5</td>\n      <td>27.5</td>\n      <td>28.0</td>\n      <td>27.5</td>\n      <td>27.0</td>\n      <td>27.0</td>\n      <td>27.83</td>\n    </tr>\n    <tr>\n      <th>3</th>\n      <td>4.0</td>\n      <td>NaN</td>\n      <td>Galle</td>\n      <td>8.0</td>\n      <td>NaN</td>\n      <td>NaN</td>\n      <td>27</td>\n      <td>27.0</td>\n      <td>28.5</td>\n      <td>28.5</td>\n      <td>28.0</td>\n      <td>28.0</td>\n      <td>27.5</td>\n      <td>27.5</td>\n      <td>27.5</td>\n      <td>27.5</td>\n      <td>27.0</td>\n      <td>27.0</td>\n      <td>27.58</td>\n    </tr>\n    <tr>\n      <th>4</th>\n      <td>5.0</td>\n      <td>NaN</td>\n      <td>Matara</td>\n      <td>10.0</td>\n      <td>NaN</td>\n      <td>NaN</td>\n      <td>26</td>\n      <td>26.0</td>\n      <td>28.5</td>\n      <td>28.5</td>\n      <td>28.0</td>\n      <td>28.0</td>\n      <td>27.5</td>\n      <td>27.5</td>\n      <td>27.5</td>\n      <td>28.5</td>\n      <td>27.0</td>\n      <td>27.0</td>\n      <td>27.50</td>\n    </tr>\n  </tbody>\n</table>\n</div>"
     },
     "execution_count": 3,
     "metadata": {},
     "output_type": "execute_result"
    }
   ],
   "source": [
    "print(\"date-district-dataset \\n\")\n",
    "date_dist_df.head()\n",
    "print(\"district-feature-dataset\")\n",
    "districts_df.head()\n",
    "print(\"weather-pattern-dataset\")\n",
    "weather_df.head()"
   ],
   "metadata": {
    "collapsed": false,
    "pycharm": {
     "name": "#%%\n"
    }
   }
  },
  {
   "cell_type": "code",
   "execution_count": 4,
   "outputs": [],
   "source": [
    "# districts_df.set_index('District Number')\n",
    "weather_df = weather_df.set_index('District Number')"
   ],
   "metadata": {
    "collapsed": false,
    "pycharm": {
     "name": "#%%\n"
    }
   }
  },
  {
   "cell_type": "markdown",
   "source": [
    "district name encoder"
   ],
   "metadata": {
    "collapsed": false,
    "pycharm": {
     "name": "#%% md\n"
    }
   }
  },
  {
   "cell_type": "code",
   "execution_count": 5,
   "outputs": [],
   "source": [
    "dis_enc = districts_df.iloc[:,[3,4]]\n",
    "dis_enc = dis_enc.dropna(axis=0)\n",
    "# dis_enc.iloc[:,0]=dis_enc.iloc[:,0].astype(int)\n",
    "dis_enc.iloc[:,0]=dis_enc.iloc[:,0]"
   ],
   "metadata": {
    "collapsed": false,
    "pycharm": {
     "name": "#%%\n"
    }
   }
  },
  {
   "cell_type": "markdown",
   "source": [
    " get day, weekday, month from date\n"
   ],
   "metadata": {
    "collapsed": false,
    "pycharm": {
     "name": "#%% md\n"
    }
   }
  },
  {
   "cell_type": "code",
   "execution_count": 6,
   "outputs": [],
   "source": [
    "def date_converter(x,year='2020'):\n",
    "    dt = str(x).split('-')\n",
    "    date = year+'/'+dt[0]+'/'+dt[1]\n",
    "    date_obj = datetime.strptime(date,'%Y/%m/%d')\n",
    "    return date_obj\n",
    "\n",
    "date_dist_df['formal_date']= date_dist_df.loc[:,'Date'].apply(lambda x: date_converter(x))"
   ],
   "metadata": {
    "collapsed": false,
    "pycharm": {
     "name": "#%%\n"
    }
   }
  },
  {
   "cell_type": "code",
   "execution_count": 7,
   "outputs": [],
   "source": [
    "date_dist_df['quarter'] = date_dist_df['formal_date'].dt.quarter\n",
    "date_dist_df['date'] = date_dist_df['formal_date'].dt.day\n",
    "date_dist_df['day_of_week'] = date_dist_df['formal_date'].dt.dayofweek\n",
    "date_dist_df['month'] = date_dist_df['formal_date'].dt.month"
   ],
   "metadata": {
    "collapsed": false,
    "pycharm": {
     "name": "#%%\n"
    }
   }
  },
  {
   "cell_type": "markdown",
   "source": [
    "temperature from mount"
   ],
   "metadata": {
    "collapsed": false,
    "pycharm": {
     "name": "#%% md\n"
    }
   }
  },
  {
   "cell_type": "code",
   "execution_count": 8,
   "outputs": [],
   "source": [
    "def get_temp(month):\n",
    "    temp_ser = weather_df.iloc[:,int(month)+6]\n",
    "    return temp_ser\n",
    "    \n",
    "tmp = get_temp('06')"
   ],
   "metadata": {
    "collapsed": false,
    "pycharm": {
     "name": "#%%\n"
    }
   }
  },
  {
   "cell_type": "code",
   "execution_count": 9,
   "outputs": [],
   "source": [
    "date_dist_df['index'] = date_dist_df.iloc[:,0]"
   ],
   "metadata": {
    "collapsed": false,
    "pycharm": {
     "name": "#%%\n"
    }
   }
  },
  {
   "cell_type": "code",
   "execution_count": 10,
   "outputs": [
    {
     "data": {
      "text/plain": "   Unnamed: 0                 ID   Date      District  Suspected_Local  \\\n0           0       0331_Colombo  03-31       Colombo               12   \n1           1       0331_Gampaha  03-31       Gampaha               41   \n2           2      0331_Puttalam  03-31      Puttalam                1   \n3           3      0331_Kalutara  03-31      Kalutara                5   \n4           4  0331_Anuradhapura  03-31  Anuradhapura                2   \n\n   Suspected_Foreign  Suspected_Total  TotalInfected formal_date  quarter  \\\n0                  0               12             30  2020-03-31        1   \n1                  1               42             11  2020-03-31        1   \n2                  0                1             15  2020-03-31        1   \n3                  0                5             18  2020-03-31        1   \n4                  0                2              0  2020-03-31        1   \n\n   date  day_of_week  month  index  \n0    31            1      3      0  \n1    31            1      3      1  \n2    31            1      3      2  \n3    31            1      3      3  \n4    31            1      3      4  ",
      "text/html": "<div>\n<style scoped>\n    .dataframe tbody tr th:only-of-type {\n        vertical-align: middle;\n    }\n\n    .dataframe tbody tr th {\n        vertical-align: top;\n    }\n\n    .dataframe thead th {\n        text-align: right;\n    }\n</style>\n<table border=\"1\" class=\"dataframe\">\n  <thead>\n    <tr style=\"text-align: right;\">\n      <th></th>\n      <th>Unnamed: 0</th>\n      <th>ID</th>\n      <th>Date</th>\n      <th>District</th>\n      <th>Suspected_Local</th>\n      <th>Suspected_Foreign</th>\n      <th>Suspected_Total</th>\n      <th>TotalInfected</th>\n      <th>formal_date</th>\n      <th>quarter</th>\n      <th>date</th>\n      <th>day_of_week</th>\n      <th>month</th>\n      <th>index</th>\n    </tr>\n  </thead>\n  <tbody>\n    <tr>\n      <th>0</th>\n      <td>0</td>\n      <td>0331_Colombo</td>\n      <td>03-31</td>\n      <td>Colombo</td>\n      <td>12</td>\n      <td>0</td>\n      <td>12</td>\n      <td>30</td>\n      <td>2020-03-31</td>\n      <td>1</td>\n      <td>31</td>\n      <td>1</td>\n      <td>3</td>\n      <td>0</td>\n    </tr>\n    <tr>\n      <th>1</th>\n      <td>1</td>\n      <td>0331_Gampaha</td>\n      <td>03-31</td>\n      <td>Gampaha</td>\n      <td>41</td>\n      <td>1</td>\n      <td>42</td>\n      <td>11</td>\n      <td>2020-03-31</td>\n      <td>1</td>\n      <td>31</td>\n      <td>1</td>\n      <td>3</td>\n      <td>1</td>\n    </tr>\n    <tr>\n      <th>2</th>\n      <td>2</td>\n      <td>0331_Puttalam</td>\n      <td>03-31</td>\n      <td>Puttalam</td>\n      <td>1</td>\n      <td>0</td>\n      <td>1</td>\n      <td>15</td>\n      <td>2020-03-31</td>\n      <td>1</td>\n      <td>31</td>\n      <td>1</td>\n      <td>3</td>\n      <td>2</td>\n    </tr>\n    <tr>\n      <th>3</th>\n      <td>3</td>\n      <td>0331_Kalutara</td>\n      <td>03-31</td>\n      <td>Kalutara</td>\n      <td>5</td>\n      <td>0</td>\n      <td>5</td>\n      <td>18</td>\n      <td>2020-03-31</td>\n      <td>1</td>\n      <td>31</td>\n      <td>1</td>\n      <td>3</td>\n      <td>3</td>\n    </tr>\n    <tr>\n      <th>4</th>\n      <td>4</td>\n      <td>0331_Anuradhapura</td>\n      <td>03-31</td>\n      <td>Anuradhapura</td>\n      <td>2</td>\n      <td>0</td>\n      <td>2</td>\n      <td>0</td>\n      <td>2020-03-31</td>\n      <td>1</td>\n      <td>31</td>\n      <td>1</td>\n      <td>3</td>\n      <td>4</td>\n    </tr>\n  </tbody>\n</table>\n</div>"
     },
     "execution_count": 10,
     "metadata": {},
     "output_type": "execute_result"
    }
   ],
   "source": [
    "date_dist_df.head()"
   ],
   "metadata": {
    "collapsed": false,
    "pycharm": {
     "name": "#%%\n"
    }
   }
  },
  {
   "cell_type": "code",
   "execution_count": 11,
   "outputs": [],
   "source": [
    "# date_dist_df.columns\n",
    "date_dist_df = date_dist_df.drop(['Unnamed: 0', 'ID', 'Date', 'District'],axis=1)"
   ],
   "metadata": {
    "collapsed": false,
    "pycharm": {
     "name": "#%%\n"
    }
   }
  },
  {
   "cell_type": "code",
   "execution_count": 12,
   "outputs": [
    {
     "data": {
      "text/plain": "       Suspected_Local  Suspected_Foreign  Suspected_Total  TotalInfected  \\\nindex                                                                       \n0                   12                  0               12             30   \n1                   41                  1               42             11   \n2                    1                  0                1             15   \n3                    5                  0                5             18   \n4                    2                  0                2              0   \n\n      formal_date  quarter  date  day_of_week  month  \nindex                                                 \n0      2020-03-31        1    31            1      3  \n1      2020-03-31        1    31            1      3  \n2      2020-03-31        1    31            1      3  \n3      2020-03-31        1    31            1      3  \n4      2020-03-31        1    31            1      3  ",
      "text/html": "<div>\n<style scoped>\n    .dataframe tbody tr th:only-of-type {\n        vertical-align: middle;\n    }\n\n    .dataframe tbody tr th {\n        vertical-align: top;\n    }\n\n    .dataframe thead th {\n        text-align: right;\n    }\n</style>\n<table border=\"1\" class=\"dataframe\">\n  <thead>\n    <tr style=\"text-align: right;\">\n      <th></th>\n      <th>Suspected_Local</th>\n      <th>Suspected_Foreign</th>\n      <th>Suspected_Total</th>\n      <th>TotalInfected</th>\n      <th>formal_date</th>\n      <th>quarter</th>\n      <th>date</th>\n      <th>day_of_week</th>\n      <th>month</th>\n    </tr>\n    <tr>\n      <th>index</th>\n      <th></th>\n      <th></th>\n      <th></th>\n      <th></th>\n      <th></th>\n      <th></th>\n      <th></th>\n      <th></th>\n      <th></th>\n    </tr>\n  </thead>\n  <tbody>\n    <tr>\n      <th>0</th>\n      <td>12</td>\n      <td>0</td>\n      <td>12</td>\n      <td>30</td>\n      <td>2020-03-31</td>\n      <td>1</td>\n      <td>31</td>\n      <td>1</td>\n      <td>3</td>\n    </tr>\n    <tr>\n      <th>1</th>\n      <td>41</td>\n      <td>1</td>\n      <td>42</td>\n      <td>11</td>\n      <td>2020-03-31</td>\n      <td>1</td>\n      <td>31</td>\n      <td>1</td>\n      <td>3</td>\n    </tr>\n    <tr>\n      <th>2</th>\n      <td>1</td>\n      <td>0</td>\n      <td>1</td>\n      <td>15</td>\n      <td>2020-03-31</td>\n      <td>1</td>\n      <td>31</td>\n      <td>1</td>\n      <td>3</td>\n    </tr>\n    <tr>\n      <th>3</th>\n      <td>5</td>\n      <td>0</td>\n      <td>5</td>\n      <td>18</td>\n      <td>2020-03-31</td>\n      <td>1</td>\n      <td>31</td>\n      <td>1</td>\n      <td>3</td>\n    </tr>\n    <tr>\n      <th>4</th>\n      <td>2</td>\n      <td>0</td>\n      <td>2</td>\n      <td>0</td>\n      <td>2020-03-31</td>\n      <td>1</td>\n      <td>31</td>\n      <td>1</td>\n      <td>3</td>\n    </tr>\n  </tbody>\n</table>\n</div>"
     },
     "execution_count": 12,
     "metadata": {},
     "output_type": "execute_result"
    }
   ],
   "source": [
    "date_dist_df = date_dist_df.set_index('index')\n",
    "date_dist_df.head()"
   ],
   "metadata": {
    "collapsed": false,
    "pycharm": {
     "name": "#%%\n"
    }
   }
  },
  {
   "cell_type": "code",
   "execution_count": 13,
   "outputs": [],
   "source": [
    "# date_dist_df['temperature_of_month'] = date_dist_df['index'].map(tmp)"
   ],
   "metadata": {
    "collapsed": false,
    "pycharm": {
     "name": "#%%\n"
    }
   }
  },
  {
   "cell_type": "markdown",
   "source": [
    "melt and reconfigure weather pattern dataset"
   ],
   "metadata": {
    "collapsed": false,
    "pycharm": {
     "name": "#%% md\n"
    }
   }
  },
  {
   "cell_type": "code",
   "execution_count": 14,
   "outputs": [
    {
     "data": {
      "text/plain": "   District Number   Jan   Feb  March   Apr   May   Jun   Jul   Aug   Sep  \\\n0              1.0    27  28.0   28.5  28.5  28.5  28.5  28.0  28.0  27.5   \n1              2.0    27  28.0   28.5  28.5  29.0  28.5  28.0  27.5  28.0   \n2              3.0  26.5  27.5   28.0  29.0  29.0  28.5  28.5  27.5  28.0   \n3              4.0    27  27.0   28.5  28.5  28.0  28.0  27.5  27.5  27.5   \n4              5.0    26  26.0   28.5  28.5  28.0  28.0  27.5  27.5  27.5   \n\n    Oct   Nov   Dec  \n0  27.5  27.0  27.5  \n1  27.5  28.0  28.0  \n2  27.5  27.0  27.0  \n3  27.5  27.0  27.0  \n4  28.5  27.0  27.0  ",
      "text/html": "<div>\n<style scoped>\n    .dataframe tbody tr th:only-of-type {\n        vertical-align: middle;\n    }\n\n    .dataframe tbody tr th {\n        vertical-align: top;\n    }\n\n    .dataframe thead th {\n        text-align: right;\n    }\n</style>\n<table border=\"1\" class=\"dataframe\">\n  <thead>\n    <tr style=\"text-align: right;\">\n      <th></th>\n      <th>District Number</th>\n      <th>Jan</th>\n      <th>Feb</th>\n      <th>March</th>\n      <th>Apr</th>\n      <th>May</th>\n      <th>Jun</th>\n      <th>Jul</th>\n      <th>Aug</th>\n      <th>Sep</th>\n      <th>Oct</th>\n      <th>Nov</th>\n      <th>Dec</th>\n    </tr>\n  </thead>\n  <tbody>\n    <tr>\n      <th>0</th>\n      <td>1.0</td>\n      <td>27</td>\n      <td>28.0</td>\n      <td>28.5</td>\n      <td>28.5</td>\n      <td>28.5</td>\n      <td>28.5</td>\n      <td>28.0</td>\n      <td>28.0</td>\n      <td>27.5</td>\n      <td>27.5</td>\n      <td>27.0</td>\n      <td>27.5</td>\n    </tr>\n    <tr>\n      <th>1</th>\n      <td>2.0</td>\n      <td>27</td>\n      <td>28.0</td>\n      <td>28.5</td>\n      <td>28.5</td>\n      <td>29.0</td>\n      <td>28.5</td>\n      <td>28.0</td>\n      <td>27.5</td>\n      <td>28.0</td>\n      <td>27.5</td>\n      <td>28.0</td>\n      <td>28.0</td>\n    </tr>\n    <tr>\n      <th>2</th>\n      <td>3.0</td>\n      <td>26.5</td>\n      <td>27.5</td>\n      <td>28.0</td>\n      <td>29.0</td>\n      <td>29.0</td>\n      <td>28.5</td>\n      <td>28.5</td>\n      <td>27.5</td>\n      <td>28.0</td>\n      <td>27.5</td>\n      <td>27.0</td>\n      <td>27.0</td>\n    </tr>\n    <tr>\n      <th>3</th>\n      <td>4.0</td>\n      <td>27</td>\n      <td>27.0</td>\n      <td>28.5</td>\n      <td>28.5</td>\n      <td>28.0</td>\n      <td>28.0</td>\n      <td>27.5</td>\n      <td>27.5</td>\n      <td>27.5</td>\n      <td>27.5</td>\n      <td>27.0</td>\n      <td>27.0</td>\n    </tr>\n    <tr>\n      <th>4</th>\n      <td>5.0</td>\n      <td>26</td>\n      <td>26.0</td>\n      <td>28.5</td>\n      <td>28.5</td>\n      <td>28.0</td>\n      <td>28.0</td>\n      <td>27.5</td>\n      <td>27.5</td>\n      <td>27.5</td>\n      <td>28.5</td>\n      <td>27.0</td>\n      <td>27.0</td>\n    </tr>\n  </tbody>\n</table>\n</div>"
     },
     "execution_count": 14,
     "metadata": {},
     "output_type": "execute_result"
    }
   ],
   "source": [
    "filtered_w_df = weather_df.iloc[:,range(5,17)].reset_index()\n",
    "filtered_w_df.head()"
   ],
   "metadata": {
    "collapsed": false,
    "pycharm": {
     "name": "#%%\n"
    }
   }
  },
  {
   "cell_type": "code",
   "execution_count": 15,
   "outputs": [
    {
     "data": {
      "text/plain": "Index(['District Number', 'Jan', 'Feb', 'March', 'Apr', 'May', 'Jun', 'Jul',\n       'Aug', 'Sep', 'Oct', 'Nov', 'Dec'],\n      dtype='object')"
     },
     "execution_count": 15,
     "metadata": {},
     "output_type": "execute_result"
    }
   ],
   "source": [
    "filtered_w_df.columns"
   ],
   "metadata": {
    "collapsed": false,
    "pycharm": {
     "name": "#%%\n"
    }
   }
  },
  {
   "cell_type": "code",
   "execution_count": 16,
   "outputs": [],
   "source": [
    "melted_df = filtered_w_df.melt(id_vars=\"District Number\",\n",
    "                               var_name = \"mon\",\n",
    "                               value_name= \"temp\")"
   ],
   "metadata": {
    "collapsed": false,
    "pycharm": {
     "name": "#%%\n"
    }
   }
  },
  {
   "cell_type": "code",
   "execution_count": 17,
   "outputs": [],
   "source": [
    "def month_converter(x):\n",
    "    mon_lis = ['Jan', 'Feb', 'March', 'Apr', 'May', 'Jun', 'Jul',\n",
    "       'Aug', 'Sep', 'Oct', 'Nov', 'Dec']\n",
    "    return mon_lis.index(x)\n",
    "\n",
    "melted_df['month'] = melted_df.loc[:,'mon'].apply(lambda x: month_converter(x))\n",
    "melted_df = melted_df.rename(columns={'District Number':'index'})\n",
    "melted_df = melted_df.drop('mon',axis=1)\n",
    "melted_df = melted_df.loc[:,['index','month','temp']]"
   ],
   "metadata": {
    "collapsed": false,
    "pycharm": {
     "name": "#%%\n"
    }
   }
  },
  {
   "cell_type": "code",
   "execution_count": 18,
   "outputs": [],
   "source": [
    "melted_df.to_csv('../../../data/main_data/melted_weather.csv',index=False)"
   ],
   "metadata": {
    "collapsed": false,
    "pycharm": {
     "name": "#%%\n"
    }
   }
  },
  {
   "cell_type": "code",
   "execution_count": 19,
   "outputs": [],
   "source": [
    "date_dist_df = date_dist_df.merge(melted_df, on=[\"index\",\"month\"])"
   ],
   "metadata": {
    "collapsed": false,
    "pycharm": {
     "name": "#%%\n"
    }
   }
  },
  {
   "cell_type": "code",
   "execution_count": 20,
   "outputs": [
    {
     "data": {
      "text/plain": "   index  Suspected_Local  Suspected_Foreign  Suspected_Total  TotalInfected  \\\n0      1               41                  1               42             11   \n1      2                1                  0                1             15   \n2      3                5                  0                5             18   \n3      4                2                  0                2              0   \n4      5                7                  0                7              1   \n\n  formal_date  quarter  date  day_of_week  month  temp  \n0  2020-03-31        1    31            1      3  28.5  \n1  2020-03-31        1    31            1      3  28.5  \n2  2020-03-31        1    31            1      3    29  \n3  2020-03-31        1    31            1      3  28.5  \n4  2020-03-31        1    31            1      3  28.5  ",
      "text/html": "<div>\n<style scoped>\n    .dataframe tbody tr th:only-of-type {\n        vertical-align: middle;\n    }\n\n    .dataframe tbody tr th {\n        vertical-align: top;\n    }\n\n    .dataframe thead th {\n        text-align: right;\n    }\n</style>\n<table border=\"1\" class=\"dataframe\">\n  <thead>\n    <tr style=\"text-align: right;\">\n      <th></th>\n      <th>index</th>\n      <th>Suspected_Local</th>\n      <th>Suspected_Foreign</th>\n      <th>Suspected_Total</th>\n      <th>TotalInfected</th>\n      <th>formal_date</th>\n      <th>quarter</th>\n      <th>date</th>\n      <th>day_of_week</th>\n      <th>month</th>\n      <th>temp</th>\n    </tr>\n  </thead>\n  <tbody>\n    <tr>\n      <th>0</th>\n      <td>1</td>\n      <td>41</td>\n      <td>1</td>\n      <td>42</td>\n      <td>11</td>\n      <td>2020-03-31</td>\n      <td>1</td>\n      <td>31</td>\n      <td>1</td>\n      <td>3</td>\n      <td>28.5</td>\n    </tr>\n    <tr>\n      <th>1</th>\n      <td>2</td>\n      <td>1</td>\n      <td>0</td>\n      <td>1</td>\n      <td>15</td>\n      <td>2020-03-31</td>\n      <td>1</td>\n      <td>31</td>\n      <td>1</td>\n      <td>3</td>\n      <td>28.5</td>\n    </tr>\n    <tr>\n      <th>2</th>\n      <td>3</td>\n      <td>5</td>\n      <td>0</td>\n      <td>5</td>\n      <td>18</td>\n      <td>2020-03-31</td>\n      <td>1</td>\n      <td>31</td>\n      <td>1</td>\n      <td>3</td>\n      <td>29</td>\n    </tr>\n    <tr>\n      <th>3</th>\n      <td>4</td>\n      <td>2</td>\n      <td>0</td>\n      <td>2</td>\n      <td>0</td>\n      <td>2020-03-31</td>\n      <td>1</td>\n      <td>31</td>\n      <td>1</td>\n      <td>3</td>\n      <td>28.5</td>\n    </tr>\n    <tr>\n      <th>4</th>\n      <td>5</td>\n      <td>7</td>\n      <td>0</td>\n      <td>7</td>\n      <td>1</td>\n      <td>2020-03-31</td>\n      <td>1</td>\n      <td>31</td>\n      <td>1</td>\n      <td>3</td>\n      <td>28.5</td>\n    </tr>\n  </tbody>\n</table>\n</div>"
     },
     "execution_count": 20,
     "metadata": {},
     "output_type": "execute_result"
    }
   ],
   "source": [
    "date_dist_df.head()"
   ],
   "metadata": {
    "collapsed": false,
    "pycharm": {
     "name": "#%%\n"
    }
   }
  },
  {
   "cell_type": "code",
   "execution_count": 21,
   "outputs": [
    {
     "data": {
      "text/plain": "   District Number  Unnamed: 1  District  Unnamed: 3  Jan  Feb  March  Apr  \\\n0                1         NaN   Colombo         NaN   77   74     76   77   \n1                2         NaN   Gampaha         NaN   75   71     75   77   \n2                3         NaN  Kalutara         NaN   78   76     76   77   \n3                4         NaN     Galle         NaN   79   76     75   77   \n4                5         NaN    Matara         NaN   76   73     75   77   \n\n   May  Jun  Jul  Aug  Sep  Oct  Nov  Dec  Avg  \n0   82   82   83   82   85   82   81   82  NaN  \n1   82   82   83   83   84   82   81   81  NaN  \n2   81   81   83   82   84   81   80   82  NaN  \n3   81   81   83   82   83   80   80   81  NaN  \n4   82   81   82   80   83   82   81   81  NaN  ",
      "text/html": "<div>\n<style scoped>\n    .dataframe tbody tr th:only-of-type {\n        vertical-align: middle;\n    }\n\n    .dataframe tbody tr th {\n        vertical-align: top;\n    }\n\n    .dataframe thead th {\n        text-align: right;\n    }\n</style>\n<table border=\"1\" class=\"dataframe\">\n  <thead>\n    <tr style=\"text-align: right;\">\n      <th></th>\n      <th>District Number</th>\n      <th>Unnamed: 1</th>\n      <th>District</th>\n      <th>Unnamed: 3</th>\n      <th>Jan</th>\n      <th>Feb</th>\n      <th>March</th>\n      <th>Apr</th>\n      <th>May</th>\n      <th>Jun</th>\n      <th>Jul</th>\n      <th>Aug</th>\n      <th>Sep</th>\n      <th>Oct</th>\n      <th>Nov</th>\n      <th>Dec</th>\n      <th>Avg</th>\n    </tr>\n  </thead>\n  <tbody>\n    <tr>\n      <th>0</th>\n      <td>1</td>\n      <td>NaN</td>\n      <td>Colombo</td>\n      <td>NaN</td>\n      <td>77</td>\n      <td>74</td>\n      <td>76</td>\n      <td>77</td>\n      <td>82</td>\n      <td>82</td>\n      <td>83</td>\n      <td>82</td>\n      <td>85</td>\n      <td>82</td>\n      <td>81</td>\n      <td>82</td>\n      <td>NaN</td>\n    </tr>\n    <tr>\n      <th>1</th>\n      <td>2</td>\n      <td>NaN</td>\n      <td>Gampaha</td>\n      <td>NaN</td>\n      <td>75</td>\n      <td>71</td>\n      <td>75</td>\n      <td>77</td>\n      <td>82</td>\n      <td>82</td>\n      <td>83</td>\n      <td>83</td>\n      <td>84</td>\n      <td>82</td>\n      <td>81</td>\n      <td>81</td>\n      <td>NaN</td>\n    </tr>\n    <tr>\n      <th>2</th>\n      <td>3</td>\n      <td>NaN</td>\n      <td>Kalutara</td>\n      <td>NaN</td>\n      <td>78</td>\n      <td>76</td>\n      <td>76</td>\n      <td>77</td>\n      <td>81</td>\n      <td>81</td>\n      <td>83</td>\n      <td>82</td>\n      <td>84</td>\n      <td>81</td>\n      <td>80</td>\n      <td>82</td>\n      <td>NaN</td>\n    </tr>\n    <tr>\n      <th>3</th>\n      <td>4</td>\n      <td>NaN</td>\n      <td>Galle</td>\n      <td>NaN</td>\n      <td>79</td>\n      <td>76</td>\n      <td>75</td>\n      <td>77</td>\n      <td>81</td>\n      <td>81</td>\n      <td>83</td>\n      <td>82</td>\n      <td>83</td>\n      <td>80</td>\n      <td>80</td>\n      <td>81</td>\n      <td>NaN</td>\n    </tr>\n    <tr>\n      <th>4</th>\n      <td>5</td>\n      <td>NaN</td>\n      <td>Matara</td>\n      <td>NaN</td>\n      <td>76</td>\n      <td>73</td>\n      <td>75</td>\n      <td>77</td>\n      <td>82</td>\n      <td>81</td>\n      <td>82</td>\n      <td>80</td>\n      <td>83</td>\n      <td>82</td>\n      <td>81</td>\n      <td>81</td>\n      <td>NaN</td>\n    </tr>\n  </tbody>\n</table>\n</div>"
     },
     "execution_count": 21,
     "metadata": {},
     "output_type": "execute_result"
    }
   ],
   "source": [
    "humidity_df = pd.read_csv('../../../data/main_data/humidity.csv')\n",
    "humidity_df.head()"
   ],
   "metadata": {
    "collapsed": false,
    "pycharm": {
     "name": "#%%\n"
    }
   }
  },
  {
   "cell_type": "code",
   "execution_count": 22,
   "outputs": [
    {
     "name": "stderr",
     "output_type": "stream",
     "text": [
      "C:\\Users\\deela\\anaconda3\\envs\\Main\\lib\\site-packages\\ipykernel_launcher.py:3: SettingWithCopyWarning: \n",
      "A value is trying to be set on a copy of a slice from a DataFrame.\n",
      "Try using .loc[row_indexer,col_indexer] = value instead\n",
      "\n",
      "See the caveats in the documentation: https://pandas.pydata.org/pandas-docs/stable/user_guide/indexing.html#returning-a-view-versus-a-copy\n",
      "  This is separate from the ipykernel package so we can avoid doing imports until\n"
     ]
    }
   ],
   "source": [
    "hum_df = humidity_df.iloc[:,range(4,14)]\n",
    "hum_df['index'] = humidity_df['District Number']\n",
    "hum_df = hum_df.set_index('index')\n",
    "hum_df = hum_df.reset_index()"
   ],
   "metadata": {
    "collapsed": false,
    "pycharm": {
     "name": "#%%\n"
    }
   }
  },
  {
   "cell_type": "code",
   "execution_count": 23,
   "outputs": [],
   "source": [
    "melted_df = hum_df.melt(id_vars=\"index\",\n",
    "                               var_name = \"mon\",\n",
    "                               value_name= \"humidity\")\n",
    "def month_converter(x):\n",
    "    mon_lis = ['Jan', 'Feb', 'March', 'Apr', 'May', 'Jun', 'Jul',\n",
    "       'Aug', 'Sep', 'Oct', 'Nov', 'Dec']\n",
    "    return mon_lis.index(x)\n",
    "\n",
    "melted_df['month'] = melted_df.loc[:,'mon'].apply(lambda x: month_converter(x))\n",
    "melted_df = melted_df.rename(columns={'District Number':'index'})\n",
    "melted_df = melted_df.drop('mon',axis=1)\n",
    "melted_df = melted_df.loc[:,['index','month','humidity']]"
   ],
   "metadata": {
    "collapsed": false,
    "pycharm": {
     "name": "#%%\n"
    }
   }
  },
  {
   "cell_type": "code",
   "execution_count": 24,
   "outputs": [
    {
     "data": {
      "text/plain": "   index  month  humidity\n0      1      0        77\n1      2      0        75\n2      3      0        78\n3      4      0        79\n4      5      0        76",
      "text/html": "<div>\n<style scoped>\n    .dataframe tbody tr th:only-of-type {\n        vertical-align: middle;\n    }\n\n    .dataframe tbody tr th {\n        vertical-align: top;\n    }\n\n    .dataframe thead th {\n        text-align: right;\n    }\n</style>\n<table border=\"1\" class=\"dataframe\">\n  <thead>\n    <tr style=\"text-align: right;\">\n      <th></th>\n      <th>index</th>\n      <th>month</th>\n      <th>humidity</th>\n    </tr>\n  </thead>\n  <tbody>\n    <tr>\n      <th>0</th>\n      <td>1</td>\n      <td>0</td>\n      <td>77</td>\n    </tr>\n    <tr>\n      <th>1</th>\n      <td>2</td>\n      <td>0</td>\n      <td>75</td>\n    </tr>\n    <tr>\n      <th>2</th>\n      <td>3</td>\n      <td>0</td>\n      <td>78</td>\n    </tr>\n    <tr>\n      <th>3</th>\n      <td>4</td>\n      <td>0</td>\n      <td>79</td>\n    </tr>\n    <tr>\n      <th>4</th>\n      <td>5</td>\n      <td>0</td>\n      <td>76</td>\n    </tr>\n  </tbody>\n</table>\n</div>"
     },
     "execution_count": 24,
     "metadata": {},
     "output_type": "execute_result"
    }
   ],
   "source": [
    "melted_df.head()"
   ],
   "metadata": {
    "collapsed": false,
    "pycharm": {
     "name": "#%%\n"
    }
   }
  },
  {
   "cell_type": "code",
   "execution_count": 25,
   "outputs": [],
   "source": [
    "melted_df.to_csv('../../../data/main_data/melted_humidity.csv',index=False)"
   ],
   "metadata": {
    "collapsed": false,
    "pycharm": {
     "name": "#%%\n"
    }
   }
  },
  {
   "cell_type": "code",
   "execution_count": 26,
   "outputs": [
    {
     "data": {
      "text/plain": "   District Number  Unnamed: 1  District  Elevation to City(m)  Unnamed: 4  \\\n0                1         NaN   Colombo                     5         NaN   \n1                2         NaN   Gampaha                    15         NaN   \n2                3         NaN  Kalutara                    10         NaN   \n3                4         NaN     Galle                     8         NaN   \n4                5         NaN    Matara                    10         NaN   \n\n   Unnamed: 5   Jan    Feb  March   Apr   May   Jun   Jul   Aug   Sep   Oct  \\\n0         NaN  8.79   9.18   8.40  7.10  5.15  4.45  4.35  4.87  4.33  4.94   \n1         NaN  9.46  10.00   8.16  7.65  5.06  4.70  4.44  5.48  4.73  5.30   \n2         NaN  8.88   8.80   7.77  7.10  4.87  4.60  4.68  5.02  4.50  5.21   \n3         NaN  8.50   9.27   8.69  6.65  4.58  4.60  4.98  6.42  4.68  4.74   \n4         NaN  9.18   9.89   8.94  7.35  5.74  6.28  5.31  7.45  6.18  5.16   \n\n    Nov   Dec   Avg  \n0  5.67  5.95  6.10  \n1  6.10  6.04  6.43  \n2  5.57  6.08  6.09  \n3  5.83  5.32  6.19  \n4  6.17  5.77  6.95  ",
      "text/html": "<div>\n<style scoped>\n    .dataframe tbody tr th:only-of-type {\n        vertical-align: middle;\n    }\n\n    .dataframe tbody tr th {\n        vertical-align: top;\n    }\n\n    .dataframe thead th {\n        text-align: right;\n    }\n</style>\n<table border=\"1\" class=\"dataframe\">\n  <thead>\n    <tr style=\"text-align: right;\">\n      <th></th>\n      <th>District Number</th>\n      <th>Unnamed: 1</th>\n      <th>District</th>\n      <th>Elevation to City(m)</th>\n      <th>Unnamed: 4</th>\n      <th>Unnamed: 5</th>\n      <th>Jan</th>\n      <th>Feb</th>\n      <th>March</th>\n      <th>Apr</th>\n      <th>May</th>\n      <th>Jun</th>\n      <th>Jul</th>\n      <th>Aug</th>\n      <th>Sep</th>\n      <th>Oct</th>\n      <th>Nov</th>\n      <th>Dec</th>\n      <th>Avg</th>\n    </tr>\n  </thead>\n  <tbody>\n    <tr>\n      <th>0</th>\n      <td>1</td>\n      <td>NaN</td>\n      <td>Colombo</td>\n      <td>5</td>\n      <td>NaN</td>\n      <td>NaN</td>\n      <td>8.79</td>\n      <td>9.18</td>\n      <td>8.40</td>\n      <td>7.10</td>\n      <td>5.15</td>\n      <td>4.45</td>\n      <td>4.35</td>\n      <td>4.87</td>\n      <td>4.33</td>\n      <td>4.94</td>\n      <td>5.67</td>\n      <td>5.95</td>\n      <td>6.10</td>\n    </tr>\n    <tr>\n      <th>1</th>\n      <td>2</td>\n      <td>NaN</td>\n      <td>Gampaha</td>\n      <td>15</td>\n      <td>NaN</td>\n      <td>NaN</td>\n      <td>9.46</td>\n      <td>10.00</td>\n      <td>8.16</td>\n      <td>7.65</td>\n      <td>5.06</td>\n      <td>4.70</td>\n      <td>4.44</td>\n      <td>5.48</td>\n      <td>4.73</td>\n      <td>5.30</td>\n      <td>6.10</td>\n      <td>6.04</td>\n      <td>6.43</td>\n    </tr>\n    <tr>\n      <th>2</th>\n      <td>3</td>\n      <td>NaN</td>\n      <td>Kalutara</td>\n      <td>10</td>\n      <td>NaN</td>\n      <td>NaN</td>\n      <td>8.88</td>\n      <td>8.80</td>\n      <td>7.77</td>\n      <td>7.10</td>\n      <td>4.87</td>\n      <td>4.60</td>\n      <td>4.68</td>\n      <td>5.02</td>\n      <td>4.50</td>\n      <td>5.21</td>\n      <td>5.57</td>\n      <td>6.08</td>\n      <td>6.09</td>\n    </tr>\n    <tr>\n      <th>3</th>\n      <td>4</td>\n      <td>NaN</td>\n      <td>Galle</td>\n      <td>8</td>\n      <td>NaN</td>\n      <td>NaN</td>\n      <td>8.50</td>\n      <td>9.27</td>\n      <td>8.69</td>\n      <td>6.65</td>\n      <td>4.58</td>\n      <td>4.60</td>\n      <td>4.98</td>\n      <td>6.42</td>\n      <td>4.68</td>\n      <td>4.74</td>\n      <td>5.83</td>\n      <td>5.32</td>\n      <td>6.19</td>\n    </tr>\n    <tr>\n      <th>4</th>\n      <td>5</td>\n      <td>NaN</td>\n      <td>Matara</td>\n      <td>10</td>\n      <td>NaN</td>\n      <td>NaN</td>\n      <td>9.18</td>\n      <td>9.89</td>\n      <td>8.94</td>\n      <td>7.35</td>\n      <td>5.74</td>\n      <td>6.28</td>\n      <td>5.31</td>\n      <td>7.45</td>\n      <td>6.18</td>\n      <td>5.16</td>\n      <td>6.17</td>\n      <td>5.77</td>\n      <td>6.95</td>\n    </tr>\n  </tbody>\n</table>\n</div>"
     },
     "execution_count": 26,
     "metadata": {},
     "output_type": "execute_result"
    }
   ],
   "source": [
    "sun_hours_df  = pd.read_csv('../../../data/main_data/sun_hours.csv')\n",
    "sun_hours_df.head()"
   ],
   "metadata": {
    "collapsed": false,
    "pycharm": {
     "name": "#%%\n"
    }
   }
  },
  {
   "cell_type": "code",
   "execution_count": 27,
   "outputs": [
    {
     "name": "stderr",
     "output_type": "stream",
     "text": [
      "C:\\Users\\deela\\anaconda3\\envs\\Main\\lib\\site-packages\\ipykernel_launcher.py:3: SettingWithCopyWarning: \n",
      "A value is trying to be set on a copy of a slice from a DataFrame.\n",
      "Try using .loc[row_indexer,col_indexer] = value instead\n",
      "\n",
      "See the caveats in the documentation: https://pandas.pydata.org/pandas-docs/stable/user_guide/indexing.html#returning-a-view-versus-a-copy\n",
      "  This is separate from the ipykernel package so we can avoid doing imports until\n"
     ]
    }
   ],
   "source": [
    "sun_df = sun_hours_df.iloc[:,range(6,18)]\n",
    "sun_df['index'] = sun_hours_df['District Number']\n",
    "sun_df = sun_df.set_index('index')\n",
    "sun_df = sun_df.reset_index()\n",
    "\n",
    "melted_df = sun_df.melt(id_vars=\"index\",\n",
    "                               var_name = \"mon\",\n",
    "                               value_name= \"sun_hours\")\n",
    "def month_converter(x):\n",
    "    mon_lis = ['Jan', 'Feb', 'March', 'Apr', 'May', 'Jun', 'Jul',\n",
    "       'Aug', 'Sep', 'Oct', 'Nov', 'Dec']\n",
    "    return mon_lis.index(x)\n",
    "\n",
    "melted_df['month'] = melted_df.loc[:,'mon'].apply(lambda x: month_converter(x))\n",
    "melted_df = melted_df.rename(columns={'District Number':'index'})\n",
    "melted_df = melted_df.drop('mon',axis=1)\n",
    "melted_df = melted_df.loc[:,['index','month','sun_hours']]"
   ],
   "metadata": {
    "collapsed": false,
    "pycharm": {
     "name": "#%%\n"
    }
   }
  },
  {
   "cell_type": "code",
   "execution_count": 28,
   "outputs": [
    {
     "data": {
      "text/plain": "   index  month  sun_hours\n0      1      0       8.79\n1      2      0       9.46\n2      3      0       8.88\n3      4      0       8.50\n4      5      0       9.18",
      "text/html": "<div>\n<style scoped>\n    .dataframe tbody tr th:only-of-type {\n        vertical-align: middle;\n    }\n\n    .dataframe tbody tr th {\n        vertical-align: top;\n    }\n\n    .dataframe thead th {\n        text-align: right;\n    }\n</style>\n<table border=\"1\" class=\"dataframe\">\n  <thead>\n    <tr style=\"text-align: right;\">\n      <th></th>\n      <th>index</th>\n      <th>month</th>\n      <th>sun_hours</th>\n    </tr>\n  </thead>\n  <tbody>\n    <tr>\n      <th>0</th>\n      <td>1</td>\n      <td>0</td>\n      <td>8.79</td>\n    </tr>\n    <tr>\n      <th>1</th>\n      <td>2</td>\n      <td>0</td>\n      <td>9.46</td>\n    </tr>\n    <tr>\n      <th>2</th>\n      <td>3</td>\n      <td>0</td>\n      <td>8.88</td>\n    </tr>\n    <tr>\n      <th>3</th>\n      <td>4</td>\n      <td>0</td>\n      <td>8.50</td>\n    </tr>\n    <tr>\n      <th>4</th>\n      <td>5</td>\n      <td>0</td>\n      <td>9.18</td>\n    </tr>\n  </tbody>\n</table>\n</div>"
     },
     "execution_count": 28,
     "metadata": {},
     "output_type": "execute_result"
    }
   ],
   "source": [
    "melted_df.head()"
   ],
   "metadata": {
    "collapsed": false,
    "pycharm": {
     "name": "#%%\n"
    }
   }
  },
  {
   "cell_type": "code",
   "execution_count": 29,
   "outputs": [],
   "source": [
    "melted_df.to_csv('../../../data/main_data/melted_sun_hours.csv',index=False)\n"
   ],
   "metadata": {
    "collapsed": false,
    "pycharm": {
     "name": "#%%\n"
    }
   }
  },
  {
   "cell_type": "markdown",
   "source": [
    "lockdown history melting\n"
   ],
   "metadata": {
    "collapsed": false
   }
  },
  {
   "cell_type": "code",
   "execution_count": 30,
   "outputs": [
    {
     "data": {
      "text/plain": "   index  1-Feb  2-Feb  3-Feb  4-Feb  1-Mar  2-Mar  20-Mar  21-Mar  22-Mar  \\\n0      1      0      0      0      0      0      0       1       1       1   \n1      2      0      0      0      0      0      0       1       1       1   \n2      3      0      0      0      0      0      0       1       1       1   \n3      4      0      0      0      0      0      0       1       1       1   \n4      5      0      0      0      0      0      0       1       1       1   \n\n   ...  22-Oct  23-Oct  24-Oct  25-Oct  26-Oct  27-Oct  28-Oct  29-Oct  \\\n0  ...    0.13    0.15    0.29    0.42    0.44    0.44    0.48    0.48   \n1  ...    1.00    1.00    1.00    1.00    1.00    1.00    1.00    1.00   \n2  ...    0.00    0.12    0.12    0.12    0.12    0.12    0.19    0.19   \n3  ...    0.00    0.00    0.00    0.00    0.00    0.00    0.00    0.00   \n4  ...    0.00    0.00    0.00    0.00    0.00    0.00    0.00    0.00   \n\n   30-Oct  31-Oct  \n0     1.0     1.0  \n1     1.0     1.0  \n2     1.0     1.0  \n3     0.0     0.0  \n4     0.0     0.0  \n\n[5 rows x 233 columns]",
      "text/html": "<div>\n<style scoped>\n    .dataframe tbody tr th:only-of-type {\n        vertical-align: middle;\n    }\n\n    .dataframe tbody tr th {\n        vertical-align: top;\n    }\n\n    .dataframe thead th {\n        text-align: right;\n    }\n</style>\n<table border=\"1\" class=\"dataframe\">\n  <thead>\n    <tr style=\"text-align: right;\">\n      <th></th>\n      <th>index</th>\n      <th>1-Feb</th>\n      <th>2-Feb</th>\n      <th>3-Feb</th>\n      <th>4-Feb</th>\n      <th>1-Mar</th>\n      <th>2-Mar</th>\n      <th>20-Mar</th>\n      <th>21-Mar</th>\n      <th>22-Mar</th>\n      <th>...</th>\n      <th>22-Oct</th>\n      <th>23-Oct</th>\n      <th>24-Oct</th>\n      <th>25-Oct</th>\n      <th>26-Oct</th>\n      <th>27-Oct</th>\n      <th>28-Oct</th>\n      <th>29-Oct</th>\n      <th>30-Oct</th>\n      <th>31-Oct</th>\n    </tr>\n  </thead>\n  <tbody>\n    <tr>\n      <th>0</th>\n      <td>1</td>\n      <td>0</td>\n      <td>0</td>\n      <td>0</td>\n      <td>0</td>\n      <td>0</td>\n      <td>0</td>\n      <td>1</td>\n      <td>1</td>\n      <td>1</td>\n      <td>...</td>\n      <td>0.13</td>\n      <td>0.15</td>\n      <td>0.29</td>\n      <td>0.42</td>\n      <td>0.44</td>\n      <td>0.44</td>\n      <td>0.48</td>\n      <td>0.48</td>\n      <td>1.0</td>\n      <td>1.0</td>\n    </tr>\n    <tr>\n      <th>1</th>\n      <td>2</td>\n      <td>0</td>\n      <td>0</td>\n      <td>0</td>\n      <td>0</td>\n      <td>0</td>\n      <td>0</td>\n      <td>1</td>\n      <td>1</td>\n      <td>1</td>\n      <td>...</td>\n      <td>1.00</td>\n      <td>1.00</td>\n      <td>1.00</td>\n      <td>1.00</td>\n      <td>1.00</td>\n      <td>1.00</td>\n      <td>1.00</td>\n      <td>1.00</td>\n      <td>1.0</td>\n      <td>1.0</td>\n    </tr>\n    <tr>\n      <th>2</th>\n      <td>3</td>\n      <td>0</td>\n      <td>0</td>\n      <td>0</td>\n      <td>0</td>\n      <td>0</td>\n      <td>0</td>\n      <td>1</td>\n      <td>1</td>\n      <td>1</td>\n      <td>...</td>\n      <td>0.00</td>\n      <td>0.12</td>\n      <td>0.12</td>\n      <td>0.12</td>\n      <td>0.12</td>\n      <td>0.12</td>\n      <td>0.19</td>\n      <td>0.19</td>\n      <td>1.0</td>\n      <td>1.0</td>\n    </tr>\n    <tr>\n      <th>3</th>\n      <td>4</td>\n      <td>0</td>\n      <td>0</td>\n      <td>0</td>\n      <td>0</td>\n      <td>0</td>\n      <td>0</td>\n      <td>1</td>\n      <td>1</td>\n      <td>1</td>\n      <td>...</td>\n      <td>0.00</td>\n      <td>0.00</td>\n      <td>0.00</td>\n      <td>0.00</td>\n      <td>0.00</td>\n      <td>0.00</td>\n      <td>0.00</td>\n      <td>0.00</td>\n      <td>0.0</td>\n      <td>0.0</td>\n    </tr>\n    <tr>\n      <th>4</th>\n      <td>5</td>\n      <td>0</td>\n      <td>0</td>\n      <td>0</td>\n      <td>0</td>\n      <td>0</td>\n      <td>0</td>\n      <td>1</td>\n      <td>1</td>\n      <td>1</td>\n      <td>...</td>\n      <td>0.00</td>\n      <td>0.00</td>\n      <td>0.00</td>\n      <td>0.00</td>\n      <td>0.00</td>\n      <td>0.00</td>\n      <td>0.00</td>\n      <td>0.00</td>\n      <td>0.0</td>\n      <td>0.0</td>\n    </tr>\n  </tbody>\n</table>\n<p>5 rows × 233 columns</p>\n</div>"
     },
     "execution_count": 30,
     "metadata": {},
     "output_type": "execute_result"
    }
   ],
   "source": [
    "lock_df = pd.read_csv('../../../data/main_data/lockdown_history.csv')\n",
    "lock_df.head()"
   ],
   "metadata": {
    "collapsed": false,
    "pycharm": {
     "name": "#%%\n"
    }
   }
  },
  {
   "cell_type": "code",
   "execution_count": 31,
   "outputs": [],
   "source": [
    "melted_lock_df = lock_df.melt(id_vars=\"index\",\n",
    "                               var_name = \"date\",\n",
    "                               value_name= \"locked_percn\")"
   ],
   "metadata": {
    "collapsed": false,
    "pycharm": {
     "name": "#%%\n"
    }
   }
  },
  {
   "cell_type": "code",
   "execution_count": 32,
   "outputs": [
    {
     "data": {
      "text/plain": "   index   date  locked_percn\n0      1  1-Feb           0.0\n1      2  1-Feb           0.0\n2      3  1-Feb           0.0\n3      4  1-Feb           0.0\n4      5  1-Feb           0.0",
      "text/html": "<div>\n<style scoped>\n    .dataframe tbody tr th:only-of-type {\n        vertical-align: middle;\n    }\n\n    .dataframe tbody tr th {\n        vertical-align: top;\n    }\n\n    .dataframe thead th {\n        text-align: right;\n    }\n</style>\n<table border=\"1\" class=\"dataframe\">\n  <thead>\n    <tr style=\"text-align: right;\">\n      <th></th>\n      <th>index</th>\n      <th>date</th>\n      <th>locked_percn</th>\n    </tr>\n  </thead>\n  <tbody>\n    <tr>\n      <th>0</th>\n      <td>1</td>\n      <td>1-Feb</td>\n      <td>0.0</td>\n    </tr>\n    <tr>\n      <th>1</th>\n      <td>2</td>\n      <td>1-Feb</td>\n      <td>0.0</td>\n    </tr>\n    <tr>\n      <th>2</th>\n      <td>3</td>\n      <td>1-Feb</td>\n      <td>0.0</td>\n    </tr>\n    <tr>\n      <th>3</th>\n      <td>4</td>\n      <td>1-Feb</td>\n      <td>0.0</td>\n    </tr>\n    <tr>\n      <th>4</th>\n      <td>5</td>\n      <td>1-Feb</td>\n      <td>0.0</td>\n    </tr>\n  </tbody>\n</table>\n</div>"
     },
     "execution_count": 32,
     "metadata": {},
     "output_type": "execute_result"
    }
   ],
   "source": [
    "melted_lock_df.head()"
   ],
   "metadata": {
    "collapsed": false,
    "pycharm": {
     "name": "#%%\n"
    }
   }
  },
  {
   "cell_type": "code",
   "execution_count": 33,
   "outputs": [],
   "source": [
    "def date_converter(x,year='2020'):\n",
    "    date,mon = str(x).split('-')\n",
    "    mon_lis = ['Jan', 'Feb', 'Mar', 'Apr', 'May', 'Jun', 'Jul',\n",
    "       'Aug', 'Sep', 'Oct', 'Nov', 'Dec']\n",
    "\n",
    "    mon = mon_lis.index(mon)+1\n",
    "    date = '{:s}/{:02d}/{:02d}'.format(year,mon,int(date))\n",
    "    date_obj = datetime.strptime(date,'%Y/%m/%d')\n",
    "    #date_obj = datetime(int(year),mon,int(date))\n",
    "    return date_obj\n",
    "\n",
    "melted_lock_df['formal_date'] = melted_lock_df.loc[:,'date'].apply(lambda x: date_converter(x))"
   ],
   "metadata": {
    "collapsed": false,
    "pycharm": {
     "name": "#%%\n"
    }
   }
  },
  {
   "cell_type": "code",
   "execution_count": 34,
   "outputs": [
    {
     "data": {
      "text/plain": "   index   date  locked_percn formal_date\n0      1  1-Feb           0.0  2020-02-01\n1      2  1-Feb           0.0  2020-02-01\n2      3  1-Feb           0.0  2020-02-01\n3      4  1-Feb           0.0  2020-02-01\n4      5  1-Feb           0.0  2020-02-01",
      "text/html": "<div>\n<style scoped>\n    .dataframe tbody tr th:only-of-type {\n        vertical-align: middle;\n    }\n\n    .dataframe tbody tr th {\n        vertical-align: top;\n    }\n\n    .dataframe thead th {\n        text-align: right;\n    }\n</style>\n<table border=\"1\" class=\"dataframe\">\n  <thead>\n    <tr style=\"text-align: right;\">\n      <th></th>\n      <th>index</th>\n      <th>date</th>\n      <th>locked_percn</th>\n      <th>formal_date</th>\n    </tr>\n  </thead>\n  <tbody>\n    <tr>\n      <th>0</th>\n      <td>1</td>\n      <td>1-Feb</td>\n      <td>0.0</td>\n      <td>2020-02-01</td>\n    </tr>\n    <tr>\n      <th>1</th>\n      <td>2</td>\n      <td>1-Feb</td>\n      <td>0.0</td>\n      <td>2020-02-01</td>\n    </tr>\n    <tr>\n      <th>2</th>\n      <td>3</td>\n      <td>1-Feb</td>\n      <td>0.0</td>\n      <td>2020-02-01</td>\n    </tr>\n    <tr>\n      <th>3</th>\n      <td>4</td>\n      <td>1-Feb</td>\n      <td>0.0</td>\n      <td>2020-02-01</td>\n    </tr>\n    <tr>\n      <th>4</th>\n      <td>5</td>\n      <td>1-Feb</td>\n      <td>0.0</td>\n      <td>2020-02-01</td>\n    </tr>\n  </tbody>\n</table>\n</div>"
     },
     "execution_count": 34,
     "metadata": {},
     "output_type": "execute_result"
    }
   ],
   "source": [
    "melted_lock_df.head()"
   ],
   "metadata": {
    "collapsed": false,
    "pycharm": {
     "name": "#%%\n"
    }
   }
  },
  {
   "cell_type": "code",
   "execution_count": 40,
   "outputs": [
    {
     "data": {
      "text/plain": "   index formal_date  locked_percn\n0      1  2020-02-01           0.0\n1      2  2020-02-01           0.0\n2      3  2020-02-01           0.0\n3      4  2020-02-01           0.0\n4      5  2020-02-01           0.0",
      "text/html": "<div>\n<style scoped>\n    .dataframe tbody tr th:only-of-type {\n        vertical-align: middle;\n    }\n\n    .dataframe tbody tr th {\n        vertical-align: top;\n    }\n\n    .dataframe thead th {\n        text-align: right;\n    }\n</style>\n<table border=\"1\" class=\"dataframe\">\n  <thead>\n    <tr style=\"text-align: right;\">\n      <th></th>\n      <th>index</th>\n      <th>formal_date</th>\n      <th>locked_percn</th>\n    </tr>\n  </thead>\n  <tbody>\n    <tr>\n      <th>0</th>\n      <td>1</td>\n      <td>2020-02-01</td>\n      <td>0.0</td>\n    </tr>\n    <tr>\n      <th>1</th>\n      <td>2</td>\n      <td>2020-02-01</td>\n      <td>0.0</td>\n    </tr>\n    <tr>\n      <th>2</th>\n      <td>3</td>\n      <td>2020-02-01</td>\n      <td>0.0</td>\n    </tr>\n    <tr>\n      <th>3</th>\n      <td>4</td>\n      <td>2020-02-01</td>\n      <td>0.0</td>\n    </tr>\n    <tr>\n      <th>4</th>\n      <td>5</td>\n      <td>2020-02-01</td>\n      <td>0.0</td>\n    </tr>\n  </tbody>\n</table>\n</div>"
     },
     "execution_count": 40,
     "metadata": {},
     "output_type": "execute_result"
    },
    {
     "data": {
      "text/plain": "Index(['index', 'formal_date', 'locked_percn'], dtype='object')"
     },
     "execution_count": 40,
     "metadata": {},
     "output_type": "execute_result"
    },
    {
     "name": "stdout",
     "output_type": "stream",
     "text": [
      "<class 'pandas.core.frame.DataFrame'>\n",
      "RangeIndex: 5800 entries, 0 to 5799\n",
      "Data columns (total 3 columns):\n",
      " #   Column        Non-Null Count  Dtype         \n",
      "---  ------        --------------  -----         \n",
      " 0   index         5800 non-null   int64         \n",
      " 1   formal_date   5800 non-null   datetime64[ns]\n",
      " 2   locked_percn  5800 non-null   float64       \n",
      "dtypes: datetime64[ns](1), float64(1), int64(1)\n",
      "memory usage: 136.1 KB\n"
     ]
    }
   ],
   "source": [
    "fin_ml_lock_df  = melted_lock_df.loc[:,['index','formal_date','locked_percn']]\n",
    "fin_ml_lock_df['formal_date'] = fin_ml_lock_df['formal_date'].astype(np.datetime64)\n",
    "#fin_ml_lock_df = fin_ml_lock_df.iloc[::-1]\n",
    "fin_ml_lock_df.head()\n",
    "fin_ml_lock_df.columns\n",
    "fin_ml_lock_df.info()"
   ],
   "metadata": {
    "collapsed": false,
    "pycharm": {
     "name": "#%%\n"
    }
   }
  },
  {
   "cell_type": "code",
   "execution_count": 36,
   "outputs": [],
   "source": [
    "#fin_ml_lock_df.to_csv('../../../data/main_data/police_report.csv',index=False)"
   ],
   "metadata": {
    "collapsed": false,
    "pycharm": {
     "name": "#%%\n"
    }
   }
  },
  {
   "cell_type": "code",
   "execution_count": 36,
   "outputs": [],
   "source": [],
   "metadata": {
    "collapsed": false,
    "pycharm": {
     "name": "#%%\n"
    }
   }
  }
 ],
 "metadata": {
  "kernelspec": {
   "display_name": "Python 3",
   "language": "python",
   "name": "python3"
  },
  "language_info": {
   "codemirror_mode": {
    "name": "ipython",
    "version": 2
   },
   "file_extension": ".py",
   "mimetype": "text/x-python",
   "name": "python",
   "nbconvert_exporter": "python",
   "pygments_lexer": "ipython2",
   "version": "2.7.6"
  }
 },
 "nbformat": 4,
 "nbformat_minor": 0
}