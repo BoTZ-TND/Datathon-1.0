{
 "cells": [
  {
   "cell_type": "markdown",
   "metadata": {
    "collapsed": true,
    "pycharm": {
     "name": "#%% md\n"
    }
   },
   "source": [
    "## Random Forrest Regressor validation by walking forward machenism."
   ]
  },
  {
   "cell_type": "code",
   "execution_count": 9,
   "outputs": [],
   "source": [
    "import pandas as pd\n",
    "import numpy as np\n",
    "# import IPython\n",
    "# from IPython import display\n",
    "import sklearn\n",
    "\n",
    "from sklearn.base import BaseEstimator, TransformerMixin\n",
    "from sklearn.preprocessing import StandardScaler\n",
    "from sklearn.preprocessing import LabelBinarizer\n",
    "from sklearn.pipeline import Pipeline\n",
    "from sklearn.pipeline import FeatureUnion\n",
    "from sklearn.model_selection import GridSearchCV\n",
    "from sklearn.ensemble import RandomForestRegressor"
   ],
   "metadata": {
    "collapsed": false,
    "pycharm": {
     "name": "#%%\n"
    }
   }
  },
  {
   "cell_type": "code",
   "execution_count": 10,
   "outputs": [
    {
     "data": {
      "text/plain": "   index formal_date  quarter  date  day_of_week  month  Suspected_Local  \\\n0     25  2020-10-31        4    31            5     10                0   \n1      9  2020-10-31        4    31            5     10                0   \n2      2  2020-10-31        4    31            5     10               24   \n3      7  2020-10-31        4    31            5     10                8   \n4     17  2020-10-31        4    31            5     10                2   \n\n   Suspected_Foreign  temp  humidity  sun_hours  province  \\\n0                  0  28.0       0.5       3.35         9   \n1                  0  25.0       0.5       5.32         4   \n2                  0  28.0       0.5       5.03         1   \n3                  0  27.0       0.5       6.04         3   \n4                  0  26.0       0.5       4.45         7   \n\n   neir_infected_cases  locked_percn  TotalInfected  \n0                    1          0.00              0  \n1                   63          0.00              6  \n2                   31          1.00             35  \n3                   54          0.00             13  \n4                   81          0.28              1  ",
      "text/html": "<div>\n<style scoped>\n    .dataframe tbody tr th:only-of-type {\n        vertical-align: middle;\n    }\n\n    .dataframe tbody tr th {\n        vertical-align: top;\n    }\n\n    .dataframe thead th {\n        text-align: right;\n    }\n</style>\n<table border=\"1\" class=\"dataframe\">\n  <thead>\n    <tr style=\"text-align: right;\">\n      <th></th>\n      <th>index</th>\n      <th>formal_date</th>\n      <th>quarter</th>\n      <th>date</th>\n      <th>day_of_week</th>\n      <th>month</th>\n      <th>Suspected_Local</th>\n      <th>Suspected_Foreign</th>\n      <th>temp</th>\n      <th>humidity</th>\n      <th>sun_hours</th>\n      <th>province</th>\n      <th>neir_infected_cases</th>\n      <th>locked_percn</th>\n      <th>TotalInfected</th>\n    </tr>\n  </thead>\n  <tbody>\n    <tr>\n      <th>0</th>\n      <td>25</td>\n      <td>2020-10-31</td>\n      <td>4</td>\n      <td>31</td>\n      <td>5</td>\n      <td>10</td>\n      <td>0</td>\n      <td>0</td>\n      <td>28.0</td>\n      <td>0.5</td>\n      <td>3.35</td>\n      <td>9</td>\n      <td>1</td>\n      <td>0.00</td>\n      <td>0</td>\n    </tr>\n    <tr>\n      <th>1</th>\n      <td>9</td>\n      <td>2020-10-31</td>\n      <td>4</td>\n      <td>31</td>\n      <td>5</td>\n      <td>10</td>\n      <td>0</td>\n      <td>0</td>\n      <td>25.0</td>\n      <td>0.5</td>\n      <td>5.32</td>\n      <td>4</td>\n      <td>63</td>\n      <td>0.00</td>\n      <td>6</td>\n    </tr>\n    <tr>\n      <th>2</th>\n      <td>2</td>\n      <td>2020-10-31</td>\n      <td>4</td>\n      <td>31</td>\n      <td>5</td>\n      <td>10</td>\n      <td>24</td>\n      <td>0</td>\n      <td>28.0</td>\n      <td>0.5</td>\n      <td>5.03</td>\n      <td>1</td>\n      <td>31</td>\n      <td>1.00</td>\n      <td>35</td>\n    </tr>\n    <tr>\n      <th>3</th>\n      <td>7</td>\n      <td>2020-10-31</td>\n      <td>4</td>\n      <td>31</td>\n      <td>5</td>\n      <td>10</td>\n      <td>8</td>\n      <td>0</td>\n      <td>27.0</td>\n      <td>0.5</td>\n      <td>6.04</td>\n      <td>3</td>\n      <td>54</td>\n      <td>0.00</td>\n      <td>13</td>\n    </tr>\n    <tr>\n      <th>4</th>\n      <td>17</td>\n      <td>2020-10-31</td>\n      <td>4</td>\n      <td>31</td>\n      <td>5</td>\n      <td>10</td>\n      <td>2</td>\n      <td>0</td>\n      <td>26.0</td>\n      <td>0.5</td>\n      <td>4.45</td>\n      <td>7</td>\n      <td>81</td>\n      <td>0.28</td>\n      <td>1</td>\n    </tr>\n  </tbody>\n</table>\n</div>"
     },
     "execution_count": 10,
     "metadata": {},
     "output_type": "execute_result"
    }
   ],
   "source": [
    "df = pd.read_csv('../../../data/main_data/final.csv')\n",
    "df.head()"
   ],
   "metadata": {
    "collapsed": false,
    "pycharm": {
     "name": "#%%\n"
    }
   }
  },
  {
   "cell_type": "code",
   "execution_count": 11,
   "outputs": [],
   "source": [
    "# sequence = 5\n",
    "# test = df[(df.index > sequence*25) & (df.index <= (sequence+1)*25)]\n",
    "\n",
    "# df.iloc[3*25:(3+1)*25,:]"
   ],
   "metadata": {
    "collapsed": false,
    "pycharm": {
     "name": "#%%\n"
    }
   }
  },
  {
   "cell_type": "code",
   "execution_count": 12,
   "outputs": [
    {
     "data": {
      "text/plain": "RandomForestRegressor(max_features=0.7, min_samples_leaf=12,\n                      min_samples_split=3, n_estimators=90)"
     },
     "execution_count": 12,
     "metadata": {},
     "output_type": "execute_result"
    },
    {
     "data": {
      "text/plain": "RandomForestRegressor(max_features=0.7, min_samples_leaf=12,\n                      min_samples_split=3, n_estimators=90)"
     },
     "execution_count": 12,
     "metadata": {},
     "output_type": "execute_result"
    },
    {
     "data": {
      "text/plain": "RandomForestRegressor(max_features=0.7, min_samples_leaf=12,\n                      min_samples_split=3, n_estimators=90)"
     },
     "execution_count": 12,
     "metadata": {},
     "output_type": "execute_result"
    },
    {
     "data": {
      "text/plain": "RandomForestRegressor(max_features=0.7, min_samples_leaf=12,\n                      min_samples_split=3, n_estimators=90)"
     },
     "execution_count": 12,
     "metadata": {},
     "output_type": "execute_result"
    },
    {
     "data": {
      "text/plain": "RandomForestRegressor(max_features=0.7, min_samples_leaf=12,\n                      min_samples_split=3, n_estimators=90)"
     },
     "execution_count": 12,
     "metadata": {},
     "output_type": "execute_result"
    },
    {
     "data": {
      "text/plain": "RandomForestRegressor(max_features=0.7, min_samples_leaf=12,\n                      min_samples_split=3, n_estimators=90)"
     },
     "execution_count": 12,
     "metadata": {},
     "output_type": "execute_result"
    },
    {
     "data": {
      "text/plain": "RandomForestRegressor(max_features=0.7, min_samples_leaf=12,\n                      min_samples_split=3, n_estimators=90)"
     },
     "execution_count": 12,
     "metadata": {},
     "output_type": "execute_result"
    },
    {
     "data": {
      "text/plain": "RandomForestRegressor(max_features=0.7, min_samples_leaf=12,\n                      min_samples_split=3, n_estimators=90)"
     },
     "execution_count": 12,
     "metadata": {},
     "output_type": "execute_result"
    },
    {
     "data": {
      "text/plain": "RandomForestRegressor(max_features=0.7, min_samples_leaf=12,\n                      min_samples_split=3, n_estimators=90)"
     },
     "execution_count": 12,
     "metadata": {},
     "output_type": "execute_result"
    },
    {
     "data": {
      "text/plain": "RandomForestRegressor(max_features=0.7, min_samples_leaf=12,\n                      min_samples_split=3, n_estimators=90)"
     },
     "execution_count": 12,
     "metadata": {},
     "output_type": "execute_result"
    },
    {
     "data": {
      "text/plain": "RandomForestRegressor(max_features=0.7, min_samples_leaf=12,\n                      min_samples_split=3, n_estimators=90)"
     },
     "execution_count": 12,
     "metadata": {},
     "output_type": "execute_result"
    },
    {
     "data": {
      "text/plain": "RandomForestRegressor(max_features=0.7, min_samples_leaf=12,\n                      min_samples_split=3, n_estimators=90)"
     },
     "execution_count": 12,
     "metadata": {},
     "output_type": "execute_result"
    },
    {
     "data": {
      "text/plain": "RandomForestRegressor(max_features=0.7, min_samples_leaf=12,\n                      min_samples_split=3, n_estimators=90)"
     },
     "execution_count": 12,
     "metadata": {},
     "output_type": "execute_result"
    },
    {
     "data": {
      "text/plain": "RandomForestRegressor(max_features=0.7, min_samples_leaf=12,\n                      min_samples_split=3, n_estimators=90)"
     },
     "execution_count": 12,
     "metadata": {},
     "output_type": "execute_result"
    },
    {
     "data": {
      "text/plain": "RandomForestRegressor(max_features=0.7, min_samples_leaf=12,\n                      min_samples_split=3, n_estimators=90)"
     },
     "execution_count": 12,
     "metadata": {},
     "output_type": "execute_result"
    },
    {
     "data": {
      "text/plain": "RandomForestRegressor(max_features=0.7, min_samples_leaf=12,\n                      min_samples_split=3, n_estimators=90)"
     },
     "execution_count": 12,
     "metadata": {},
     "output_type": "execute_result"
    },
    {
     "data": {
      "text/plain": "RandomForestRegressor(max_features=0.7, min_samples_leaf=12,\n                      min_samples_split=3, n_estimators=90)"
     },
     "execution_count": 12,
     "metadata": {},
     "output_type": "execute_result"
    },
    {
     "data": {
      "text/plain": "RandomForestRegressor(max_features=0.7, min_samples_leaf=12,\n                      min_samples_split=3, n_estimators=90)"
     },
     "execution_count": 12,
     "metadata": {},
     "output_type": "execute_result"
    },
    {
     "data": {
      "text/plain": "RandomForestRegressor(max_features=0.7, min_samples_leaf=12,\n                      min_samples_split=3, n_estimators=90)"
     },
     "execution_count": 12,
     "metadata": {},
     "output_type": "execute_result"
    },
    {
     "data": {
      "text/plain": "RandomForestRegressor(max_features=0.7, min_samples_leaf=12,\n                      min_samples_split=3, n_estimators=90)"
     },
     "execution_count": 12,
     "metadata": {},
     "output_type": "execute_result"
    },
    {
     "data": {
      "text/plain": "RandomForestRegressor(max_features=0.7, min_samples_leaf=12,\n                      min_samples_split=3, n_estimators=90)"
     },
     "execution_count": 12,
     "metadata": {},
     "output_type": "execute_result"
    },
    {
     "data": {
      "text/plain": "RandomForestRegressor(max_features=0.7, min_samples_leaf=12,\n                      min_samples_split=3, n_estimators=90)"
     },
     "execution_count": 12,
     "metadata": {},
     "output_type": "execute_result"
    },
    {
     "data": {
      "text/plain": "RandomForestRegressor(max_features=0.7, min_samples_leaf=12,\n                      min_samples_split=3, n_estimators=90)"
     },
     "execution_count": 12,
     "metadata": {},
     "output_type": "execute_result"
    },
    {
     "data": {
      "text/plain": "RandomForestRegressor(max_features=0.7, min_samples_leaf=12,\n                      min_samples_split=3, n_estimators=90)"
     },
     "execution_count": 12,
     "metadata": {},
     "output_type": "execute_result"
    },
    {
     "data": {
      "text/plain": "RandomForestRegressor(max_features=0.7, min_samples_leaf=12,\n                      min_samples_split=3, n_estimators=90)"
     },
     "execution_count": 12,
     "metadata": {},
     "output_type": "execute_result"
    },
    {
     "data": {
      "text/plain": "RandomForestRegressor(max_features=0.7, min_samples_leaf=12,\n                      min_samples_split=3, n_estimators=90)"
     },
     "execution_count": 12,
     "metadata": {},
     "output_type": "execute_result"
    },
    {
     "data": {
      "text/plain": "RandomForestRegressor(max_features=0.7, min_samples_leaf=12,\n                      min_samples_split=3, n_estimators=90)"
     },
     "execution_count": 12,
     "metadata": {},
     "output_type": "execute_result"
    },
    {
     "data": {
      "text/plain": "RandomForestRegressor(max_features=0.7, min_samples_leaf=12,\n                      min_samples_split=3, n_estimators=90)"
     },
     "execution_count": 12,
     "metadata": {},
     "output_type": "execute_result"
    },
    {
     "data": {
      "text/plain": "RandomForestRegressor(max_features=0.7, min_samples_leaf=12,\n                      min_samples_split=3, n_estimators=90)"
     },
     "execution_count": 12,
     "metadata": {},
     "output_type": "execute_result"
    },
    {
     "data": {
      "text/plain": "RandomForestRegressor(max_features=0.7, min_samples_leaf=12,\n                      min_samples_split=3, n_estimators=90)"
     },
     "execution_count": 12,
     "metadata": {},
     "output_type": "execute_result"
    },
    {
     "data": {
      "text/plain": "RandomForestRegressor(max_features=0.7, min_samples_leaf=12,\n                      min_samples_split=3, n_estimators=90)"
     },
     "execution_count": 12,
     "metadata": {},
     "output_type": "execute_result"
    },
    {
     "data": {
      "text/plain": "RandomForestRegressor(max_features=0.7, min_samples_leaf=12,\n                      min_samples_split=3, n_estimators=90)"
     },
     "execution_count": 12,
     "metadata": {},
     "output_type": "execute_result"
    },
    {
     "data": {
      "text/plain": "RandomForestRegressor(max_features=0.7, min_samples_leaf=12,\n                      min_samples_split=3, n_estimators=90)"
     },
     "execution_count": 12,
     "metadata": {},
     "output_type": "execute_result"
    },
    {
     "data": {
      "text/plain": "RandomForestRegressor(max_features=0.7, min_samples_leaf=12,\n                      min_samples_split=3, n_estimators=90)"
     },
     "execution_count": 12,
     "metadata": {},
     "output_type": "execute_result"
    },
    {
     "data": {
      "text/plain": "RandomForestRegressor(max_features=0.7, min_samples_leaf=12,\n                      min_samples_split=3, n_estimators=90)"
     },
     "execution_count": 12,
     "metadata": {},
     "output_type": "execute_result"
    },
    {
     "data": {
      "text/plain": "RandomForestRegressor(max_features=0.7, min_samples_leaf=12,\n                      min_samples_split=3, n_estimators=90)"
     },
     "execution_count": 12,
     "metadata": {},
     "output_type": "execute_result"
    },
    {
     "data": {
      "text/plain": "RandomForestRegressor(max_features=0.7, min_samples_leaf=12,\n                      min_samples_split=3, n_estimators=90)"
     },
     "execution_count": 12,
     "metadata": {},
     "output_type": "execute_result"
    },
    {
     "data": {
      "text/plain": "RandomForestRegressor(max_features=0.7, min_samples_leaf=12,\n                      min_samples_split=3, n_estimators=90)"
     },
     "execution_count": 12,
     "metadata": {},
     "output_type": "execute_result"
    },
    {
     "data": {
      "text/plain": "RandomForestRegressor(max_features=0.7, min_samples_leaf=12,\n                      min_samples_split=3, n_estimators=90)"
     },
     "execution_count": 12,
     "metadata": {},
     "output_type": "execute_result"
    },
    {
     "data": {
      "text/plain": "RandomForestRegressor(max_features=0.7, min_samples_leaf=12,\n                      min_samples_split=3, n_estimators=90)"
     },
     "execution_count": 12,
     "metadata": {},
     "output_type": "execute_result"
    },
    {
     "data": {
      "text/plain": "RandomForestRegressor(max_features=0.7, min_samples_leaf=12,\n                      min_samples_split=3, n_estimators=90)"
     },
     "execution_count": 12,
     "metadata": {},
     "output_type": "execute_result"
    },
    {
     "data": {
      "text/plain": "RandomForestRegressor(max_features=0.7, min_samples_leaf=12,\n                      min_samples_split=3, n_estimators=90)"
     },
     "execution_count": 12,
     "metadata": {},
     "output_type": "execute_result"
    },
    {
     "data": {
      "text/plain": "RandomForestRegressor(max_features=0.7, min_samples_leaf=12,\n                      min_samples_split=3, n_estimators=90)"
     },
     "execution_count": 12,
     "metadata": {},
     "output_type": "execute_result"
    },
    {
     "data": {
      "text/plain": "RandomForestRegressor(max_features=0.7, min_samples_leaf=12,\n                      min_samples_split=3, n_estimators=90)"
     },
     "execution_count": 12,
     "metadata": {},
     "output_type": "execute_result"
    },
    {
     "data": {
      "text/plain": "RandomForestRegressor(max_features=0.7, min_samples_leaf=12,\n                      min_samples_split=3, n_estimators=90)"
     },
     "execution_count": 12,
     "metadata": {},
     "output_type": "execute_result"
    },
    {
     "data": {
      "text/plain": "RandomForestRegressor(max_features=0.7, min_samples_leaf=12,\n                      min_samples_split=3, n_estimators=90)"
     },
     "execution_count": 12,
     "metadata": {},
     "output_type": "execute_result"
    },
    {
     "data": {
      "text/plain": "RandomForestRegressor(max_features=0.7, min_samples_leaf=12,\n                      min_samples_split=3, n_estimators=90)"
     },
     "execution_count": 12,
     "metadata": {},
     "output_type": "execute_result"
    },
    {
     "data": {
      "text/plain": "RandomForestRegressor(max_features=0.7, min_samples_leaf=12,\n                      min_samples_split=3, n_estimators=90)"
     },
     "execution_count": 12,
     "metadata": {},
     "output_type": "execute_result"
    },
    {
     "data": {
      "text/plain": "RandomForestRegressor(max_features=0.7, min_samples_leaf=12,\n                      min_samples_split=3, n_estimators=90)"
     },
     "execution_count": 12,
     "metadata": {},
     "output_type": "execute_result"
    },
    {
     "data": {
      "text/plain": "RandomForestRegressor(max_features=0.7, min_samples_leaf=12,\n                      min_samples_split=3, n_estimators=90)"
     },
     "execution_count": 12,
     "metadata": {},
     "output_type": "execute_result"
    },
    {
     "data": {
      "text/plain": "RandomForestRegressor(max_features=0.7, min_samples_leaf=12,\n                      min_samples_split=3, n_estimators=90)"
     },
     "execution_count": 12,
     "metadata": {},
     "output_type": "execute_result"
    },
    {
     "data": {
      "text/plain": "RandomForestRegressor(max_features=0.7, min_samples_leaf=12,\n                      min_samples_split=3, n_estimators=90)"
     },
     "execution_count": 12,
     "metadata": {},
     "output_type": "execute_result"
    },
    {
     "data": {
      "text/plain": "RandomForestRegressor(max_features=0.7, min_samples_leaf=12,\n                      min_samples_split=3, n_estimators=90)"
     },
     "execution_count": 12,
     "metadata": {},
     "output_type": "execute_result"
    },
    {
     "data": {
      "text/plain": "RandomForestRegressor(max_features=0.7, min_samples_leaf=12,\n                      min_samples_split=3, n_estimators=90)"
     },
     "execution_count": 12,
     "metadata": {},
     "output_type": "execute_result"
    },
    {
     "data": {
      "text/plain": "RandomForestRegressor(max_features=0.7, min_samples_leaf=12,\n                      min_samples_split=3, n_estimators=90)"
     },
     "execution_count": 12,
     "metadata": {},
     "output_type": "execute_result"
    },
    {
     "data": {
      "text/plain": "RandomForestRegressor(max_features=0.7, min_samples_leaf=12,\n                      min_samples_split=3, n_estimators=90)"
     },
     "execution_count": 12,
     "metadata": {},
     "output_type": "execute_result"
    },
    {
     "data": {
      "text/plain": "RandomForestRegressor(max_features=0.7, min_samples_leaf=12,\n                      min_samples_split=3, n_estimators=90)"
     },
     "execution_count": 12,
     "metadata": {},
     "output_type": "execute_result"
    },
    {
     "data": {
      "text/plain": "RandomForestRegressor(max_features=0.7, min_samples_leaf=12,\n                      min_samples_split=3, n_estimators=90)"
     },
     "execution_count": 12,
     "metadata": {},
     "output_type": "execute_result"
    },
    {
     "data": {
      "text/plain": "RandomForestRegressor(max_features=0.7, min_samples_leaf=12,\n                      min_samples_split=3, n_estimators=90)"
     },
     "execution_count": 12,
     "metadata": {},
     "output_type": "execute_result"
    },
    {
     "data": {
      "text/plain": "RandomForestRegressor(max_features=0.7, min_samples_leaf=12,\n                      min_samples_split=3, n_estimators=90)"
     },
     "execution_count": 12,
     "metadata": {},
     "output_type": "execute_result"
    },
    {
     "data": {
      "text/plain": "RandomForestRegressor(max_features=0.7, min_samples_leaf=12,\n                      min_samples_split=3, n_estimators=90)"
     },
     "execution_count": 12,
     "metadata": {},
     "output_type": "execute_result"
    },
    {
     "data": {
      "text/plain": "RandomForestRegressor(max_features=0.7, min_samples_leaf=12,\n                      min_samples_split=3, n_estimators=90)"
     },
     "execution_count": 12,
     "metadata": {},
     "output_type": "execute_result"
    },
    {
     "data": {
      "text/plain": "RandomForestRegressor(max_features=0.7, min_samples_leaf=12,\n                      min_samples_split=3, n_estimators=90)"
     },
     "execution_count": 12,
     "metadata": {},
     "output_type": "execute_result"
    },
    {
     "data": {
      "text/plain": "RandomForestRegressor(max_features=0.7, min_samples_leaf=12,\n                      min_samples_split=3, n_estimators=90)"
     },
     "execution_count": 12,
     "metadata": {},
     "output_type": "execute_result"
    },
    {
     "data": {
      "text/plain": "RandomForestRegressor(max_features=0.7, min_samples_leaf=12,\n                      min_samples_split=3, n_estimators=90)"
     },
     "execution_count": 12,
     "metadata": {},
     "output_type": "execute_result"
    },
    {
     "data": {
      "text/plain": "RandomForestRegressor(max_features=0.7, min_samples_leaf=12,\n                      min_samples_split=3, n_estimators=90)"
     },
     "execution_count": 12,
     "metadata": {},
     "output_type": "execute_result"
    },
    {
     "data": {
      "text/plain": "RandomForestRegressor(max_features=0.7, min_samples_leaf=12,\n                      min_samples_split=3, n_estimators=90)"
     },
     "execution_count": 12,
     "metadata": {},
     "output_type": "execute_result"
    },
    {
     "data": {
      "text/plain": "RandomForestRegressor(max_features=0.7, min_samples_leaf=12,\n                      min_samples_split=3, n_estimators=90)"
     },
     "execution_count": 12,
     "metadata": {},
     "output_type": "execute_result"
    },
    {
     "data": {
      "text/plain": "RandomForestRegressor(max_features=0.7, min_samples_leaf=12,\n                      min_samples_split=3, n_estimators=90)"
     },
     "execution_count": 12,
     "metadata": {},
     "output_type": "execute_result"
    },
    {
     "data": {
      "text/plain": "RandomForestRegressor(max_features=0.7, min_samples_leaf=12,\n                      min_samples_split=3, n_estimators=90)"
     },
     "execution_count": 12,
     "metadata": {},
     "output_type": "execute_result"
    },
    {
     "data": {
      "text/plain": "RandomForestRegressor(max_features=0.7, min_samples_leaf=12,\n                      min_samples_split=3, n_estimators=90)"
     },
     "execution_count": 12,
     "metadata": {},
     "output_type": "execute_result"
    },
    {
     "data": {
      "text/plain": "RandomForestRegressor(max_features=0.7, min_samples_leaf=12,\n                      min_samples_split=3, n_estimators=90)"
     },
     "execution_count": 12,
     "metadata": {},
     "output_type": "execute_result"
    },
    {
     "data": {
      "text/plain": "RandomForestRegressor(max_features=0.7, min_samples_leaf=12,\n                      min_samples_split=3, n_estimators=90)"
     },
     "execution_count": 12,
     "metadata": {},
     "output_type": "execute_result"
    },
    {
     "data": {
      "text/plain": "RandomForestRegressor(max_features=0.7, min_samples_leaf=12,\n                      min_samples_split=3, n_estimators=90)"
     },
     "execution_count": 12,
     "metadata": {},
     "output_type": "execute_result"
    },
    {
     "data": {
      "text/plain": "RandomForestRegressor(max_features=0.7, min_samples_leaf=12,\n                      min_samples_split=3, n_estimators=90)"
     },
     "execution_count": 12,
     "metadata": {},
     "output_type": "execute_result"
    },
    {
     "data": {
      "text/plain": "RandomForestRegressor(max_features=0.7, min_samples_leaf=12,\n                      min_samples_split=3, n_estimators=90)"
     },
     "execution_count": 12,
     "metadata": {},
     "output_type": "execute_result"
    },
    {
     "data": {
      "text/plain": "RandomForestRegressor(max_features=0.7, min_samples_leaf=12,\n                      min_samples_split=3, n_estimators=90)"
     },
     "execution_count": 12,
     "metadata": {},
     "output_type": "execute_result"
    },
    {
     "data": {
      "text/plain": "RandomForestRegressor(max_features=0.7, min_samples_leaf=12,\n                      min_samples_split=3, n_estimators=90)"
     },
     "execution_count": 12,
     "metadata": {},
     "output_type": "execute_result"
    },
    {
     "data": {
      "text/plain": "RandomForestRegressor(max_features=0.7, min_samples_leaf=12,\n                      min_samples_split=3, n_estimators=90)"
     },
     "execution_count": 12,
     "metadata": {},
     "output_type": "execute_result"
    },
    {
     "data": {
      "text/plain": "RandomForestRegressor(max_features=0.7, min_samples_leaf=12,\n                      min_samples_split=3, n_estimators=90)"
     },
     "execution_count": 12,
     "metadata": {},
     "output_type": "execute_result"
    },
    {
     "data": {
      "text/plain": "RandomForestRegressor(max_features=0.7, min_samples_leaf=12,\n                      min_samples_split=3, n_estimators=90)"
     },
     "execution_count": 12,
     "metadata": {},
     "output_type": "execute_result"
    },
    {
     "data": {
      "text/plain": "RandomForestRegressor(max_features=0.7, min_samples_leaf=12,\n                      min_samples_split=3, n_estimators=90)"
     },
     "execution_count": 12,
     "metadata": {},
     "output_type": "execute_result"
    },
    {
     "data": {
      "text/plain": "RandomForestRegressor(max_features=0.7, min_samples_leaf=12,\n                      min_samples_split=3, n_estimators=90)"
     },
     "execution_count": 12,
     "metadata": {},
     "output_type": "execute_result"
    },
    {
     "data": {
      "text/plain": "RandomForestRegressor(max_features=0.7, min_samples_leaf=12,\n                      min_samples_split=3, n_estimators=90)"
     },
     "execution_count": 12,
     "metadata": {},
     "output_type": "execute_result"
    },
    {
     "data": {
      "text/plain": "RandomForestRegressor(max_features=0.7, min_samples_leaf=12,\n                      min_samples_split=3, n_estimators=90)"
     },
     "execution_count": 12,
     "metadata": {},
     "output_type": "execute_result"
    },
    {
     "data": {
      "text/plain": "RandomForestRegressor(max_features=0.7, min_samples_leaf=12,\n                      min_samples_split=3, n_estimators=90)"
     },
     "execution_count": 12,
     "metadata": {},
     "output_type": "execute_result"
    },
    {
     "data": {
      "text/plain": "RandomForestRegressor(max_features=0.7, min_samples_leaf=12,\n                      min_samples_split=3, n_estimators=90)"
     },
     "execution_count": 12,
     "metadata": {},
     "output_type": "execute_result"
    },
    {
     "data": {
      "text/plain": "RandomForestRegressor(max_features=0.7, min_samples_leaf=12,\n                      min_samples_split=3, n_estimators=90)"
     },
     "execution_count": 12,
     "metadata": {},
     "output_type": "execute_result"
    },
    {
     "data": {
      "text/plain": "RandomForestRegressor(max_features=0.7, min_samples_leaf=12,\n                      min_samples_split=3, n_estimators=90)"
     },
     "execution_count": 12,
     "metadata": {},
     "output_type": "execute_result"
    },
    {
     "data": {
      "text/plain": "RandomForestRegressor(max_features=0.7, min_samples_leaf=12,\n                      min_samples_split=3, n_estimators=90)"
     },
     "execution_count": 12,
     "metadata": {},
     "output_type": "execute_result"
    },
    {
     "data": {
      "text/plain": "RandomForestRegressor(max_features=0.7, min_samples_leaf=12,\n                      min_samples_split=3, n_estimators=90)"
     },
     "execution_count": 12,
     "metadata": {},
     "output_type": "execute_result"
    },
    {
     "data": {
      "text/plain": "RandomForestRegressor(max_features=0.7, min_samples_leaf=12,\n                      min_samples_split=3, n_estimators=90)"
     },
     "execution_count": 12,
     "metadata": {},
     "output_type": "execute_result"
    },
    {
     "data": {
      "text/plain": "RandomForestRegressor(max_features=0.7, min_samples_leaf=12,\n                      min_samples_split=3, n_estimators=90)"
     },
     "execution_count": 12,
     "metadata": {},
     "output_type": "execute_result"
    },
    {
     "data": {
      "text/plain": "RandomForestRegressor(max_features=0.7, min_samples_leaf=12,\n                      min_samples_split=3, n_estimators=90)"
     },
     "execution_count": 12,
     "metadata": {},
     "output_type": "execute_result"
    },
    {
     "data": {
      "text/plain": "RandomForestRegressor(max_features=0.7, min_samples_leaf=12,\n                      min_samples_split=3, n_estimators=90)"
     },
     "execution_count": 12,
     "metadata": {},
     "output_type": "execute_result"
    },
    {
     "data": {
      "text/plain": "RandomForestRegressor(max_features=0.7, min_samples_leaf=12,\n                      min_samples_split=3, n_estimators=90)"
     },
     "execution_count": 12,
     "metadata": {},
     "output_type": "execute_result"
    },
    {
     "data": {
      "text/plain": "RandomForestRegressor(max_features=0.7, min_samples_leaf=12,\n                      min_samples_split=3, n_estimators=90)"
     },
     "execution_count": 12,
     "metadata": {},
     "output_type": "execute_result"
    },
    {
     "data": {
      "text/plain": "RandomForestRegressor(max_features=0.7, min_samples_leaf=12,\n                      min_samples_split=3, n_estimators=90)"
     },
     "execution_count": 12,
     "metadata": {},
     "output_type": "execute_result"
    },
    {
     "data": {
      "text/plain": "RandomForestRegressor(max_features=0.7, min_samples_leaf=12,\n                      min_samples_split=3, n_estimators=90)"
     },
     "execution_count": 12,
     "metadata": {},
     "output_type": "execute_result"
    },
    {
     "data": {
      "text/plain": "RandomForestRegressor(max_features=0.7, min_samples_leaf=12,\n                      min_samples_split=3, n_estimators=90)"
     },
     "execution_count": 12,
     "metadata": {},
     "output_type": "execute_result"
    },
    {
     "data": {
      "text/plain": "RandomForestRegressor(max_features=0.7, min_samples_leaf=12,\n                      min_samples_split=3, n_estimators=90)"
     },
     "execution_count": 12,
     "metadata": {},
     "output_type": "execute_result"
    },
    {
     "data": {
      "text/plain": "RandomForestRegressor(max_features=0.7, min_samples_leaf=12,\n                      min_samples_split=3, n_estimators=90)"
     },
     "execution_count": 12,
     "metadata": {},
     "output_type": "execute_result"
    },
    {
     "data": {
      "text/plain": "RandomForestRegressor(max_features=0.7, min_samples_leaf=12,\n                      min_samples_split=3, n_estimators=90)"
     },
     "execution_count": 12,
     "metadata": {},
     "output_type": "execute_result"
    },
    {
     "data": {
      "text/plain": "RandomForestRegressor(max_features=0.7, min_samples_leaf=12,\n                      min_samples_split=3, n_estimators=90)"
     },
     "execution_count": 12,
     "metadata": {},
     "output_type": "execute_result"
    },
    {
     "data": {
      "text/plain": "RandomForestRegressor(max_features=0.7, min_samples_leaf=12,\n                      min_samples_split=3, n_estimators=90)"
     },
     "execution_count": 12,
     "metadata": {},
     "output_type": "execute_result"
    },
    {
     "data": {
      "text/plain": "RandomForestRegressor(max_features=0.7, min_samples_leaf=12,\n                      min_samples_split=3, n_estimators=90)"
     },
     "execution_count": 12,
     "metadata": {},
     "output_type": "execute_result"
    },
    {
     "data": {
      "text/plain": "RandomForestRegressor(max_features=0.7, min_samples_leaf=12,\n                      min_samples_split=3, n_estimators=90)"
     },
     "execution_count": 12,
     "metadata": {},
     "output_type": "execute_result"
    },
    {
     "data": {
      "text/plain": "RandomForestRegressor(max_features=0.7, min_samples_leaf=12,\n                      min_samples_split=3, n_estimators=90)"
     },
     "execution_count": 12,
     "metadata": {},
     "output_type": "execute_result"
    },
    {
     "data": {
      "text/plain": "RandomForestRegressor(max_features=0.7, min_samples_leaf=12,\n                      min_samples_split=3, n_estimators=90)"
     },
     "execution_count": 12,
     "metadata": {},
     "output_type": "execute_result"
    },
    {
     "data": {
      "text/plain": "RandomForestRegressor(max_features=0.7, min_samples_leaf=12,\n                      min_samples_split=3, n_estimators=90)"
     },
     "execution_count": 12,
     "metadata": {},
     "output_type": "execute_result"
    },
    {
     "data": {
      "text/plain": "RandomForestRegressor(max_features=0.7, min_samples_leaf=12,\n                      min_samples_split=3, n_estimators=90)"
     },
     "execution_count": 12,
     "metadata": {},
     "output_type": "execute_result"
    },
    {
     "data": {
      "text/plain": "RandomForestRegressor(max_features=0.7, min_samples_leaf=12,\n                      min_samples_split=3, n_estimators=90)"
     },
     "execution_count": 12,
     "metadata": {},
     "output_type": "execute_result"
    },
    {
     "data": {
      "text/plain": "RandomForestRegressor(max_features=0.7, min_samples_leaf=12,\n                      min_samples_split=3, n_estimators=90)"
     },
     "execution_count": 12,
     "metadata": {},
     "output_type": "execute_result"
    },
    {
     "data": {
      "text/plain": "RandomForestRegressor(max_features=0.7, min_samples_leaf=12,\n                      min_samples_split=3, n_estimators=90)"
     },
     "execution_count": 12,
     "metadata": {},
     "output_type": "execute_result"
    },
    {
     "data": {
      "text/plain": "RandomForestRegressor(max_features=0.7, min_samples_leaf=12,\n                      min_samples_split=3, n_estimators=90)"
     },
     "execution_count": 12,
     "metadata": {},
     "output_type": "execute_result"
    },
    {
     "data": {
      "text/plain": "RandomForestRegressor(max_features=0.7, min_samples_leaf=12,\n                      min_samples_split=3, n_estimators=90)"
     },
     "execution_count": 12,
     "metadata": {},
     "output_type": "execute_result"
    },
    {
     "data": {
      "text/plain": "RandomForestRegressor(max_features=0.7, min_samples_leaf=12,\n                      min_samples_split=3, n_estimators=90)"
     },
     "execution_count": 12,
     "metadata": {},
     "output_type": "execute_result"
    },
    {
     "data": {
      "text/plain": "RandomForestRegressor(max_features=0.7, min_samples_leaf=12,\n                      min_samples_split=3, n_estimators=90)"
     },
     "execution_count": 12,
     "metadata": {},
     "output_type": "execute_result"
    },
    {
     "data": {
      "text/plain": "RandomForestRegressor(max_features=0.7, min_samples_leaf=12,\n                      min_samples_split=3, n_estimators=90)"
     },
     "execution_count": 12,
     "metadata": {},
     "output_type": "execute_result"
    },
    {
     "data": {
      "text/plain": "RandomForestRegressor(max_features=0.7, min_samples_leaf=12,\n                      min_samples_split=3, n_estimators=90)"
     },
     "execution_count": 12,
     "metadata": {},
     "output_type": "execute_result"
    },
    {
     "data": {
      "text/plain": "RandomForestRegressor(max_features=0.7, min_samples_leaf=12,\n                      min_samples_split=3, n_estimators=90)"
     },
     "execution_count": 12,
     "metadata": {},
     "output_type": "execute_result"
    },
    {
     "data": {
      "text/plain": "RandomForestRegressor(max_features=0.7, min_samples_leaf=12,\n                      min_samples_split=3, n_estimators=90)"
     },
     "execution_count": 12,
     "metadata": {},
     "output_type": "execute_result"
    },
    {
     "data": {
      "text/plain": "RandomForestRegressor(max_features=0.7, min_samples_leaf=12,\n                      min_samples_split=3, n_estimators=90)"
     },
     "execution_count": 12,
     "metadata": {},
     "output_type": "execute_result"
    },
    {
     "data": {
      "text/plain": "RandomForestRegressor(max_features=0.7, min_samples_leaf=12,\n                      min_samples_split=3, n_estimators=90)"
     },
     "execution_count": 12,
     "metadata": {},
     "output_type": "execute_result"
    },
    {
     "data": {
      "text/plain": "RandomForestRegressor(max_features=0.7, min_samples_leaf=12,\n                      min_samples_split=3, n_estimators=90)"
     },
     "execution_count": 12,
     "metadata": {},
     "output_type": "execute_result"
    },
    {
     "data": {
      "text/plain": "RandomForestRegressor(max_features=0.7, min_samples_leaf=12,\n                      min_samples_split=3, n_estimators=90)"
     },
     "execution_count": 12,
     "metadata": {},
     "output_type": "execute_result"
    },
    {
     "data": {
      "text/plain": "RandomForestRegressor(max_features=0.7, min_samples_leaf=12,\n                      min_samples_split=3, n_estimators=90)"
     },
     "execution_count": 12,
     "metadata": {},
     "output_type": "execute_result"
    },
    {
     "data": {
      "text/plain": "RandomForestRegressor(max_features=0.7, min_samples_leaf=12,\n                      min_samples_split=3, n_estimators=90)"
     },
     "execution_count": 12,
     "metadata": {},
     "output_type": "execute_result"
    },
    {
     "data": {
      "text/plain": "RandomForestRegressor(max_features=0.7, min_samples_leaf=12,\n                      min_samples_split=3, n_estimators=90)"
     },
     "execution_count": 12,
     "metadata": {},
     "output_type": "execute_result"
    },
    {
     "data": {
      "text/plain": "RandomForestRegressor(max_features=0.7, min_samples_leaf=12,\n                      min_samples_split=3, n_estimators=90)"
     },
     "execution_count": 12,
     "metadata": {},
     "output_type": "execute_result"
    },
    {
     "data": {
      "text/plain": "RandomForestRegressor(max_features=0.7, min_samples_leaf=12,\n                      min_samples_split=3, n_estimators=90)"
     },
     "execution_count": 12,
     "metadata": {},
     "output_type": "execute_result"
    },
    {
     "data": {
      "text/plain": "RandomForestRegressor(max_features=0.7, min_samples_leaf=12,\n                      min_samples_split=3, n_estimators=90)"
     },
     "execution_count": 12,
     "metadata": {},
     "output_type": "execute_result"
    },
    {
     "data": {
      "text/plain": "RandomForestRegressor(max_features=0.7, min_samples_leaf=12,\n                      min_samples_split=3, n_estimators=90)"
     },
     "execution_count": 12,
     "metadata": {},
     "output_type": "execute_result"
    },
    {
     "data": {
      "text/plain": "RandomForestRegressor(max_features=0.7, min_samples_leaf=12,\n                      min_samples_split=3, n_estimators=90)"
     },
     "execution_count": 12,
     "metadata": {},
     "output_type": "execute_result"
    },
    {
     "data": {
      "text/plain": "RandomForestRegressor(max_features=0.7, min_samples_leaf=12,\n                      min_samples_split=3, n_estimators=90)"
     },
     "execution_count": 12,
     "metadata": {},
     "output_type": "execute_result"
    },
    {
     "data": {
      "text/plain": "RandomForestRegressor(max_features=0.7, min_samples_leaf=12,\n                      min_samples_split=3, n_estimators=90)"
     },
     "execution_count": 12,
     "metadata": {},
     "output_type": "execute_result"
    },
    {
     "data": {
      "text/plain": "RandomForestRegressor(max_features=0.7, min_samples_leaf=12,\n                      min_samples_split=3, n_estimators=90)"
     },
     "execution_count": 12,
     "metadata": {},
     "output_type": "execute_result"
    },
    {
     "data": {
      "text/plain": "RandomForestRegressor(max_features=0.7, min_samples_leaf=12,\n                      min_samples_split=3, n_estimators=90)"
     },
     "execution_count": 12,
     "metadata": {},
     "output_type": "execute_result"
    },
    {
     "data": {
      "text/plain": "RandomForestRegressor(max_features=0.7, min_samples_leaf=12,\n                      min_samples_split=3, n_estimators=90)"
     },
     "execution_count": 12,
     "metadata": {},
     "output_type": "execute_result"
    },
    {
     "data": {
      "text/plain": "RandomForestRegressor(max_features=0.7, min_samples_leaf=12,\n                      min_samples_split=3, n_estimators=90)"
     },
     "execution_count": 12,
     "metadata": {},
     "output_type": "execute_result"
    },
    {
     "data": {
      "text/plain": "RandomForestRegressor(max_features=0.7, min_samples_leaf=12,\n                      min_samples_split=3, n_estimators=90)"
     },
     "execution_count": 12,
     "metadata": {},
     "output_type": "execute_result"
    },
    {
     "data": {
      "text/plain": "RandomForestRegressor(max_features=0.7, min_samples_leaf=12,\n                      min_samples_split=3, n_estimators=90)"
     },
     "execution_count": 12,
     "metadata": {},
     "output_type": "execute_result"
    },
    {
     "data": {
      "text/plain": "RandomForestRegressor(max_features=0.7, min_samples_leaf=12,\n                      min_samples_split=3, n_estimators=90)"
     },
     "execution_count": 12,
     "metadata": {},
     "output_type": "execute_result"
    },
    {
     "data": {
      "text/plain": "RandomForestRegressor(max_features=0.7, min_samples_leaf=12,\n                      min_samples_split=3, n_estimators=90)"
     },
     "execution_count": 12,
     "metadata": {},
     "output_type": "execute_result"
    },
    {
     "data": {
      "text/plain": "RandomForestRegressor(max_features=0.7, min_samples_leaf=12,\n                      min_samples_split=3, n_estimators=90)"
     },
     "execution_count": 12,
     "metadata": {},
     "output_type": "execute_result"
    },
    {
     "data": {
      "text/plain": "RandomForestRegressor(max_features=0.7, min_samples_leaf=12,\n                      min_samples_split=3, n_estimators=90)"
     },
     "execution_count": 12,
     "metadata": {},
     "output_type": "execute_result"
    },
    {
     "data": {
      "text/plain": "RandomForestRegressor(max_features=0.7, min_samples_leaf=12,\n                      min_samples_split=3, n_estimators=90)"
     },
     "execution_count": 12,
     "metadata": {},
     "output_type": "execute_result"
    },
    {
     "data": {
      "text/plain": "RandomForestRegressor(max_features=0.7, min_samples_leaf=12,\n                      min_samples_split=3, n_estimators=90)"
     },
     "execution_count": 12,
     "metadata": {},
     "output_type": "execute_result"
    },
    {
     "data": {
      "text/plain": "RandomForestRegressor(max_features=0.7, min_samples_leaf=12,\n                      min_samples_split=3, n_estimators=90)"
     },
     "execution_count": 12,
     "metadata": {},
     "output_type": "execute_result"
    },
    {
     "data": {
      "text/plain": "RandomForestRegressor(max_features=0.7, min_samples_leaf=12,\n                      min_samples_split=3, n_estimators=90)"
     },
     "execution_count": 12,
     "metadata": {},
     "output_type": "execute_result"
    },
    {
     "data": {
      "text/plain": "RandomForestRegressor(max_features=0.7, min_samples_leaf=12,\n                      min_samples_split=3, n_estimators=90)"
     },
     "execution_count": 12,
     "metadata": {},
     "output_type": "execute_result"
    },
    {
     "data": {
      "text/plain": "RandomForestRegressor(max_features=0.7, min_samples_leaf=12,\n                      min_samples_split=3, n_estimators=90)"
     },
     "execution_count": 12,
     "metadata": {},
     "output_type": "execute_result"
    },
    {
     "data": {
      "text/plain": "RandomForestRegressor(max_features=0.7, min_samples_leaf=12,\n                      min_samples_split=3, n_estimators=90)"
     },
     "execution_count": 12,
     "metadata": {},
     "output_type": "execute_result"
    },
    {
     "data": {
      "text/plain": "RandomForestRegressor(max_features=0.7, min_samples_leaf=12,\n                      min_samples_split=3, n_estimators=90)"
     },
     "execution_count": 12,
     "metadata": {},
     "output_type": "execute_result"
    },
    {
     "data": {
      "text/plain": "RandomForestRegressor(max_features=0.7, min_samples_leaf=12,\n                      min_samples_split=3, n_estimators=90)"
     },
     "execution_count": 12,
     "metadata": {},
     "output_type": "execute_result"
    },
    {
     "data": {
      "text/plain": "RandomForestRegressor(max_features=0.7, min_samples_leaf=12,\n                      min_samples_split=3, n_estimators=90)"
     },
     "execution_count": 12,
     "metadata": {},
     "output_type": "execute_result"
    },
    {
     "data": {
      "text/plain": "RandomForestRegressor(max_features=0.7, min_samples_leaf=12,\n                      min_samples_split=3, n_estimators=90)"
     },
     "execution_count": 12,
     "metadata": {},
     "output_type": "execute_result"
    },
    {
     "data": {
      "text/plain": "RandomForestRegressor(max_features=0.7, min_samples_leaf=12,\n                      min_samples_split=3, n_estimators=90)"
     },
     "execution_count": 12,
     "metadata": {},
     "output_type": "execute_result"
    },
    {
     "data": {
      "text/plain": "RandomForestRegressor(max_features=0.7, min_samples_leaf=12,\n                      min_samples_split=3, n_estimators=90)"
     },
     "execution_count": 12,
     "metadata": {},
     "output_type": "execute_result"
    },
    {
     "data": {
      "text/plain": "RandomForestRegressor(max_features=0.7, min_samples_leaf=12,\n                      min_samples_split=3, n_estimators=90)"
     },
     "execution_count": 12,
     "metadata": {},
     "output_type": "execute_result"
    },
    {
     "data": {
      "text/plain": "RandomForestRegressor(max_features=0.7, min_samples_leaf=12,\n                      min_samples_split=3, n_estimators=90)"
     },
     "execution_count": 12,
     "metadata": {},
     "output_type": "execute_result"
    },
    {
     "data": {
      "text/plain": "RandomForestRegressor(max_features=0.7, min_samples_leaf=12,\n                      min_samples_split=3, n_estimators=90)"
     },
     "execution_count": 12,
     "metadata": {},
     "output_type": "execute_result"
    },
    {
     "data": {
      "text/plain": "RandomForestRegressor(max_features=0.7, min_samples_leaf=12,\n                      min_samples_split=3, n_estimators=90)"
     },
     "execution_count": 12,
     "metadata": {},
     "output_type": "execute_result"
    },
    {
     "data": {
      "text/plain": "RandomForestRegressor(max_features=0.7, min_samples_leaf=12,\n                      min_samples_split=3, n_estimators=90)"
     },
     "execution_count": 12,
     "metadata": {},
     "output_type": "execute_result"
    },
    {
     "data": {
      "text/plain": "RandomForestRegressor(max_features=0.7, min_samples_leaf=12,\n                      min_samples_split=3, n_estimators=90)"
     },
     "execution_count": 12,
     "metadata": {},
     "output_type": "execute_result"
    },
    {
     "data": {
      "text/plain": "RandomForestRegressor(max_features=0.7, min_samples_leaf=12,\n                      min_samples_split=3, n_estimators=90)"
     },
     "execution_count": 12,
     "metadata": {},
     "output_type": "execute_result"
    },
    {
     "data": {
      "text/plain": "RandomForestRegressor(max_features=0.7, min_samples_leaf=12,\n                      min_samples_split=3, n_estimators=90)"
     },
     "execution_count": 12,
     "metadata": {},
     "output_type": "execute_result"
    },
    {
     "data": {
      "text/plain": "RandomForestRegressor(max_features=0.7, min_samples_leaf=12,\n                      min_samples_split=3, n_estimators=90)"
     },
     "execution_count": 12,
     "metadata": {},
     "output_type": "execute_result"
    },
    {
     "data": {
      "text/plain": "RandomForestRegressor(max_features=0.7, min_samples_leaf=12,\n                      min_samples_split=3, n_estimators=90)"
     },
     "execution_count": 12,
     "metadata": {},
     "output_type": "execute_result"
    },
    {
     "data": {
      "text/plain": "RandomForestRegressor(max_features=0.7, min_samples_leaf=12,\n                      min_samples_split=3, n_estimators=90)"
     },
     "execution_count": 12,
     "metadata": {},
     "output_type": "execute_result"
    },
    {
     "data": {
      "text/plain": "RandomForestRegressor(max_features=0.7, min_samples_leaf=12,\n                      min_samples_split=3, n_estimators=90)"
     },
     "execution_count": 12,
     "metadata": {},
     "output_type": "execute_result"
    },
    {
     "data": {
      "text/plain": "RandomForestRegressor(max_features=0.7, min_samples_leaf=12,\n                      min_samples_split=3, n_estimators=90)"
     },
     "execution_count": 12,
     "metadata": {},
     "output_type": "execute_result"
    },
    {
     "data": {
      "text/plain": "RandomForestRegressor(max_features=0.7, min_samples_leaf=12,\n                      min_samples_split=3, n_estimators=90)"
     },
     "execution_count": 12,
     "metadata": {},
     "output_type": "execute_result"
    },
    {
     "data": {
      "text/plain": "RandomForestRegressor(max_features=0.7, min_samples_leaf=12,\n                      min_samples_split=3, n_estimators=90)"
     },
     "execution_count": 12,
     "metadata": {},
     "output_type": "execute_result"
    },
    {
     "data": {
      "text/plain": "RandomForestRegressor(max_features=0.7, min_samples_leaf=12,\n                      min_samples_split=3, n_estimators=90)"
     },
     "execution_count": 12,
     "metadata": {},
     "output_type": "execute_result"
    },
    {
     "data": {
      "text/plain": "RandomForestRegressor(max_features=0.7, min_samples_leaf=12,\n                      min_samples_split=3, n_estimators=90)"
     },
     "execution_count": 12,
     "metadata": {},
     "output_type": "execute_result"
    },
    {
     "data": {
      "text/plain": "RandomForestRegressor(max_features=0.7, min_samples_leaf=12,\n                      min_samples_split=3, n_estimators=90)"
     },
     "execution_count": 12,
     "metadata": {},
     "output_type": "execute_result"
    },
    {
     "data": {
      "text/plain": "RandomForestRegressor(max_features=0.7, min_samples_leaf=12,\n                      min_samples_split=3, n_estimators=90)"
     },
     "execution_count": 12,
     "metadata": {},
     "output_type": "execute_result"
    },
    {
     "data": {
      "text/plain": "RandomForestRegressor(max_features=0.7, min_samples_leaf=12,\n                      min_samples_split=3, n_estimators=90)"
     },
     "execution_count": 12,
     "metadata": {},
     "output_type": "execute_result"
    },
    {
     "data": {
      "text/plain": "RandomForestRegressor(max_features=0.7, min_samples_leaf=12,\n                      min_samples_split=3, n_estimators=90)"
     },
     "execution_count": 12,
     "metadata": {},
     "output_type": "execute_result"
    },
    {
     "data": {
      "text/plain": "RandomForestRegressor(max_features=0.7, min_samples_leaf=12,\n                      min_samples_split=3, n_estimators=90)"
     },
     "execution_count": 12,
     "metadata": {},
     "output_type": "execute_result"
    },
    {
     "data": {
      "text/plain": "RandomForestRegressor(max_features=0.7, min_samples_leaf=12,\n                      min_samples_split=3, n_estimators=90)"
     },
     "execution_count": 12,
     "metadata": {},
     "output_type": "execute_result"
    },
    {
     "data": {
      "text/plain": "RandomForestRegressor(max_features=0.7, min_samples_leaf=12,\n                      min_samples_split=3, n_estimators=90)"
     },
     "execution_count": 12,
     "metadata": {},
     "output_type": "execute_result"
    },
    {
     "data": {
      "text/plain": "RandomForestRegressor(max_features=0.7, min_samples_leaf=12,\n                      min_samples_split=3, n_estimators=90)"
     },
     "execution_count": 12,
     "metadata": {},
     "output_type": "execute_result"
    },
    {
     "data": {
      "text/plain": "RandomForestRegressor(max_features=0.7, min_samples_leaf=12,\n                      min_samples_split=3, n_estimators=90)"
     },
     "execution_count": 12,
     "metadata": {},
     "output_type": "execute_result"
    },
    {
     "data": {
      "text/plain": "RandomForestRegressor(max_features=0.7, min_samples_leaf=12,\n                      min_samples_split=3, n_estimators=90)"
     },
     "execution_count": 12,
     "metadata": {},
     "output_type": "execute_result"
    },
    {
     "data": {
      "text/plain": "RandomForestRegressor(max_features=0.7, min_samples_leaf=12,\n                      min_samples_split=3, n_estimators=90)"
     },
     "execution_count": 12,
     "metadata": {},
     "output_type": "execute_result"
    },
    {
     "data": {
      "text/plain": "RandomForestRegressor(max_features=0.7, min_samples_leaf=12,\n                      min_samples_split=3, n_estimators=90)"
     },
     "execution_count": 12,
     "metadata": {},
     "output_type": "execute_result"
    },
    {
     "data": {
      "text/plain": "RandomForestRegressor(max_features=0.7, min_samples_leaf=12,\n                      min_samples_split=3, n_estimators=90)"
     },
     "execution_count": 12,
     "metadata": {},
     "output_type": "execute_result"
    },
    {
     "data": {
      "text/plain": "RandomForestRegressor(max_features=0.7, min_samples_leaf=12,\n                      min_samples_split=3, n_estimators=90)"
     },
     "execution_count": 12,
     "metadata": {},
     "output_type": "execute_result"
    },
    {
     "data": {
      "text/plain": "RandomForestRegressor(max_features=0.7, min_samples_leaf=12,\n                      min_samples_split=3, n_estimators=90)"
     },
     "execution_count": 12,
     "metadata": {},
     "output_type": "execute_result"
    },
    {
     "data": {
      "text/plain": "RandomForestRegressor(max_features=0.7, min_samples_leaf=12,\n                      min_samples_split=3, n_estimators=90)"
     },
     "execution_count": 12,
     "metadata": {},
     "output_type": "execute_result"
    },
    {
     "data": {
      "text/plain": "RandomForestRegressor(max_features=0.7, min_samples_leaf=12,\n                      min_samples_split=3, n_estimators=90)"
     },
     "execution_count": 12,
     "metadata": {},
     "output_type": "execute_result"
    },
    {
     "data": {
      "text/plain": "RandomForestRegressor(max_features=0.7, min_samples_leaf=12,\n                      min_samples_split=3, n_estimators=90)"
     },
     "execution_count": 12,
     "metadata": {},
     "output_type": "execute_result"
    },
    {
     "data": {
      "text/plain": "RandomForestRegressor(max_features=0.7, min_samples_leaf=12,\n                      min_samples_split=3, n_estimators=90)"
     },
     "execution_count": 12,
     "metadata": {},
     "output_type": "execute_result"
    },
    {
     "data": {
      "text/plain": "RandomForestRegressor(max_features=0.7, min_samples_leaf=12,\n                      min_samples_split=3, n_estimators=90)"
     },
     "execution_count": 12,
     "metadata": {},
     "output_type": "execute_result"
    },
    {
     "data": {
      "text/plain": "RandomForestRegressor(max_features=0.7, min_samples_leaf=12,\n                      min_samples_split=3, n_estimators=90)"
     },
     "execution_count": 12,
     "metadata": {},
     "output_type": "execute_result"
    },
    {
     "data": {
      "text/plain": "RandomForestRegressor(max_features=0.7, min_samples_leaf=12,\n                      min_samples_split=3, n_estimators=90)"
     },
     "execution_count": 12,
     "metadata": {},
     "output_type": "execute_result"
    },
    {
     "data": {
      "text/plain": "RandomForestRegressor(max_features=0.7, min_samples_leaf=12,\n                      min_samples_split=3, n_estimators=90)"
     },
     "execution_count": 12,
     "metadata": {},
     "output_type": "execute_result"
    },
    {
     "data": {
      "text/plain": "RandomForestRegressor(max_features=0.7, min_samples_leaf=12,\n                      min_samples_split=3, n_estimators=90)"
     },
     "execution_count": 12,
     "metadata": {},
     "output_type": "execute_result"
    },
    {
     "data": {
      "text/plain": "RandomForestRegressor(max_features=0.7, min_samples_leaf=12,\n                      min_samples_split=3, n_estimators=90)"
     },
     "execution_count": 12,
     "metadata": {},
     "output_type": "execute_result"
    },
    {
     "data": {
      "text/plain": "RandomForestRegressor(max_features=0.7, min_samples_leaf=12,\n                      min_samples_split=3, n_estimators=90)"
     },
     "execution_count": 12,
     "metadata": {},
     "output_type": "execute_result"
    },
    {
     "data": {
      "text/plain": "RandomForestRegressor(max_features=0.7, min_samples_leaf=12,\n                      min_samples_split=3, n_estimators=90)"
     },
     "execution_count": 12,
     "metadata": {},
     "output_type": "execute_result"
    },
    {
     "data": {
      "text/plain": "RandomForestRegressor(max_features=0.7, min_samples_leaf=12,\n                      min_samples_split=3, n_estimators=90)"
     },
     "execution_count": 12,
     "metadata": {},
     "output_type": "execute_result"
    },
    {
     "data": {
      "text/plain": "RandomForestRegressor(max_features=0.7, min_samples_leaf=12,\n                      min_samples_split=3, n_estimators=90)"
     },
     "execution_count": 12,
     "metadata": {},
     "output_type": "execute_result"
    },
    {
     "data": {
      "text/plain": "RandomForestRegressor(max_features=0.7, min_samples_leaf=12,\n                      min_samples_split=3, n_estimators=90)"
     },
     "execution_count": 12,
     "metadata": {},
     "output_type": "execute_result"
    },
    {
     "name": "stdout",
     "output_type": "stream",
     "text": [
      "Mean RMSE = 5.46709\n"
     ]
    },
    {
     "ename": "ValueError",
     "evalue": "could not convert string to float: '2020-10-31'",
     "output_type": "error",
     "traceback": [
      "\u001B[1;31m---------------------------------------------------------------------------\u001B[0m",
      "\u001B[1;31mValueError\u001B[0m                                Traceback (most recent call last)",
      "\u001B[1;32m<ipython-input-12-af73efb62d3b>\u001B[0m in \u001B[0;36m<module>\u001B[1;34m()\u001B[0m\n\u001B[0;32m     29\u001B[0m \u001B[1;33m\u001B[0m\u001B[0m\n\u001B[0;32m     30\u001B[0m \u001B[1;31m# predict using the test dataset\u001B[0m\u001B[1;33m\u001B[0m\u001B[1;33m\u001B[0m\u001B[1;33m\u001B[0m\u001B[0m\n\u001B[1;32m---> 31\u001B[1;33m \u001B[0mfinal_predictions\u001B[0m \u001B[1;33m=\u001B[0m \u001B[0mmdl\u001B[0m\u001B[1;33m.\u001B[0m\u001B[0mpredict\u001B[0m\u001B[1;33m(\u001B[0m\u001B[0mdf\u001B[0m\u001B[1;33m.\u001B[0m\u001B[0miloc\u001B[0m\u001B[1;33m[\u001B[0m\u001B[1;33m:\u001B[0m\u001B[1;36m25\u001B[0m\u001B[1;33m,\u001B[0m\u001B[1;33m:\u001B[0m\u001B[1;33m-\u001B[0m\u001B[1;36m1\u001B[0m\u001B[1;33m]\u001B[0m\u001B[1;33m)\u001B[0m\u001B[1;33m\u001B[0m\u001B[1;33m\u001B[0m\u001B[0m\n\u001B[0m\u001B[0;32m     32\u001B[0m \u001B[1;33m\u001B[0m\u001B[0m\n\u001B[0;32m     33\u001B[0m \u001B[1;33m\u001B[0m\u001B[0m\n",
      "\u001B[1;32mC:\\Users\\deela\\anaconda3\\envs\\Main\\lib\\site-packages\\sklearn\\ensemble\\_forest.py\u001B[0m in \u001B[0;36mpredict\u001B[1;34m(self, X)\u001B[0m\n\u001B[0;32m    781\u001B[0m         \u001B[0mcheck_is_fitted\u001B[0m\u001B[1;33m(\u001B[0m\u001B[0mself\u001B[0m\u001B[1;33m)\u001B[0m\u001B[1;33m\u001B[0m\u001B[1;33m\u001B[0m\u001B[0m\n\u001B[0;32m    782\u001B[0m         \u001B[1;31m# Check data\u001B[0m\u001B[1;33m\u001B[0m\u001B[1;33m\u001B[0m\u001B[1;33m\u001B[0m\u001B[0m\n\u001B[1;32m--> 783\u001B[1;33m         \u001B[0mX\u001B[0m \u001B[1;33m=\u001B[0m \u001B[0mself\u001B[0m\u001B[1;33m.\u001B[0m\u001B[0m_validate_X_predict\u001B[0m\u001B[1;33m(\u001B[0m\u001B[0mX\u001B[0m\u001B[1;33m)\u001B[0m\u001B[1;33m\u001B[0m\u001B[1;33m\u001B[0m\u001B[0m\n\u001B[0m\u001B[0;32m    784\u001B[0m \u001B[1;33m\u001B[0m\u001B[0m\n\u001B[0;32m    785\u001B[0m         \u001B[1;31m# Assign chunk of trees to jobs\u001B[0m\u001B[1;33m\u001B[0m\u001B[1;33m\u001B[0m\u001B[1;33m\u001B[0m\u001B[0m\n",
      "\u001B[1;32mC:\\Users\\deela\\anaconda3\\envs\\Main\\lib\\site-packages\\sklearn\\ensemble\\_forest.py\u001B[0m in \u001B[0;36m_validate_X_predict\u001B[1;34m(self, X)\u001B[0m\n\u001B[0;32m    419\u001B[0m         \u001B[0mcheck_is_fitted\u001B[0m\u001B[1;33m(\u001B[0m\u001B[0mself\u001B[0m\u001B[1;33m)\u001B[0m\u001B[1;33m\u001B[0m\u001B[1;33m\u001B[0m\u001B[0m\n\u001B[0;32m    420\u001B[0m \u001B[1;33m\u001B[0m\u001B[0m\n\u001B[1;32m--> 421\u001B[1;33m         \u001B[1;32mreturn\u001B[0m \u001B[0mself\u001B[0m\u001B[1;33m.\u001B[0m\u001B[0mestimators_\u001B[0m\u001B[1;33m[\u001B[0m\u001B[1;36m0\u001B[0m\u001B[1;33m]\u001B[0m\u001B[1;33m.\u001B[0m\u001B[0m_validate_X_predict\u001B[0m\u001B[1;33m(\u001B[0m\u001B[0mX\u001B[0m\u001B[1;33m,\u001B[0m \u001B[0mcheck_input\u001B[0m\u001B[1;33m=\u001B[0m\u001B[1;32mTrue\u001B[0m\u001B[1;33m)\u001B[0m\u001B[1;33m\u001B[0m\u001B[1;33m\u001B[0m\u001B[0m\n\u001B[0m\u001B[0;32m    422\u001B[0m \u001B[1;33m\u001B[0m\u001B[0m\n\u001B[0;32m    423\u001B[0m     \u001B[1;33m@\u001B[0m\u001B[0mproperty\u001B[0m\u001B[1;33m\u001B[0m\u001B[1;33m\u001B[0m\u001B[0m\n",
      "\u001B[1;32mC:\\Users\\deela\\anaconda3\\envs\\Main\\lib\\site-packages\\sklearn\\tree\\_classes.py\u001B[0m in \u001B[0;36m_validate_X_predict\u001B[1;34m(self, X, check_input)\u001B[0m\n\u001B[0;32m    386\u001B[0m         \u001B[1;34m\"\"\"Validate X whenever one tries to predict, apply, predict_proba\"\"\"\u001B[0m\u001B[1;33m\u001B[0m\u001B[1;33m\u001B[0m\u001B[0m\n\u001B[0;32m    387\u001B[0m         \u001B[1;32mif\u001B[0m \u001B[0mcheck_input\u001B[0m\u001B[1;33m:\u001B[0m\u001B[1;33m\u001B[0m\u001B[1;33m\u001B[0m\u001B[0m\n\u001B[1;32m--> 388\u001B[1;33m             \u001B[0mX\u001B[0m \u001B[1;33m=\u001B[0m \u001B[0mcheck_array\u001B[0m\u001B[1;33m(\u001B[0m\u001B[0mX\u001B[0m\u001B[1;33m,\u001B[0m \u001B[0mdtype\u001B[0m\u001B[1;33m=\u001B[0m\u001B[0mDTYPE\u001B[0m\u001B[1;33m,\u001B[0m \u001B[0maccept_sparse\u001B[0m\u001B[1;33m=\u001B[0m\u001B[1;34m\"csr\"\u001B[0m\u001B[1;33m)\u001B[0m\u001B[1;33m\u001B[0m\u001B[1;33m\u001B[0m\u001B[0m\n\u001B[0m\u001B[0;32m    389\u001B[0m             if issparse(X) and (X.indices.dtype != np.intc or\n\u001B[0;32m    390\u001B[0m                                 X.indptr.dtype != np.intc):\n",
      "\u001B[1;32mC:\\Users\\deela\\anaconda3\\envs\\Main\\lib\\site-packages\\sklearn\\utils\\validation.py\u001B[0m in \u001B[0;36minner_f\u001B[1;34m(*args, **kwargs)\u001B[0m\n\u001B[0;32m     70\u001B[0m                           FutureWarning)\n\u001B[0;32m     71\u001B[0m         \u001B[0mkwargs\u001B[0m\u001B[1;33m.\u001B[0m\u001B[0mupdate\u001B[0m\u001B[1;33m(\u001B[0m\u001B[1;33m{\u001B[0m\u001B[0mk\u001B[0m\u001B[1;33m:\u001B[0m \u001B[0marg\u001B[0m \u001B[1;32mfor\u001B[0m \u001B[0mk\u001B[0m\u001B[1;33m,\u001B[0m \u001B[0marg\u001B[0m \u001B[1;32min\u001B[0m \u001B[0mzip\u001B[0m\u001B[1;33m(\u001B[0m\u001B[0msig\u001B[0m\u001B[1;33m.\u001B[0m\u001B[0mparameters\u001B[0m\u001B[1;33m,\u001B[0m \u001B[0margs\u001B[0m\u001B[1;33m)\u001B[0m\u001B[1;33m}\u001B[0m\u001B[1;33m)\u001B[0m\u001B[1;33m\u001B[0m\u001B[1;33m\u001B[0m\u001B[0m\n\u001B[1;32m---> 72\u001B[1;33m         \u001B[1;32mreturn\u001B[0m \u001B[0mf\u001B[0m\u001B[1;33m(\u001B[0m\u001B[1;33m**\u001B[0m\u001B[0mkwargs\u001B[0m\u001B[1;33m)\u001B[0m\u001B[1;33m\u001B[0m\u001B[1;33m\u001B[0m\u001B[0m\n\u001B[0m\u001B[0;32m     73\u001B[0m     \u001B[1;32mreturn\u001B[0m \u001B[0minner_f\u001B[0m\u001B[1;33m\u001B[0m\u001B[1;33m\u001B[0m\u001B[0m\n\u001B[0;32m     74\u001B[0m \u001B[1;33m\u001B[0m\u001B[0m\n",
      "\u001B[1;32mC:\\Users\\deela\\anaconda3\\envs\\Main\\lib\\site-packages\\sklearn\\utils\\validation.py\u001B[0m in \u001B[0;36mcheck_array\u001B[1;34m(array, accept_sparse, accept_large_sparse, dtype, order, copy, force_all_finite, ensure_2d, allow_nd, ensure_min_samples, ensure_min_features, estimator)\u001B[0m\n\u001B[0;32m    596\u001B[0m                     \u001B[0marray\u001B[0m \u001B[1;33m=\u001B[0m \u001B[0marray\u001B[0m\u001B[1;33m.\u001B[0m\u001B[0mastype\u001B[0m\u001B[1;33m(\u001B[0m\u001B[0mdtype\u001B[0m\u001B[1;33m,\u001B[0m \u001B[0mcasting\u001B[0m\u001B[1;33m=\u001B[0m\u001B[1;34m\"unsafe\"\u001B[0m\u001B[1;33m,\u001B[0m \u001B[0mcopy\u001B[0m\u001B[1;33m=\u001B[0m\u001B[1;32mFalse\u001B[0m\u001B[1;33m)\u001B[0m\u001B[1;33m\u001B[0m\u001B[1;33m\u001B[0m\u001B[0m\n\u001B[0;32m    597\u001B[0m                 \u001B[1;32melse\u001B[0m\u001B[1;33m:\u001B[0m\u001B[1;33m\u001B[0m\u001B[1;33m\u001B[0m\u001B[0m\n\u001B[1;32m--> 598\u001B[1;33m                     \u001B[0marray\u001B[0m \u001B[1;33m=\u001B[0m \u001B[0mnp\u001B[0m\u001B[1;33m.\u001B[0m\u001B[0masarray\u001B[0m\u001B[1;33m(\u001B[0m\u001B[0marray\u001B[0m\u001B[1;33m,\u001B[0m \u001B[0morder\u001B[0m\u001B[1;33m=\u001B[0m\u001B[0morder\u001B[0m\u001B[1;33m,\u001B[0m \u001B[0mdtype\u001B[0m\u001B[1;33m=\u001B[0m\u001B[0mdtype\u001B[0m\u001B[1;33m)\u001B[0m\u001B[1;33m\u001B[0m\u001B[1;33m\u001B[0m\u001B[0m\n\u001B[0m\u001B[0;32m    599\u001B[0m             \u001B[1;32mexcept\u001B[0m \u001B[0mComplexWarning\u001B[0m\u001B[1;33m:\u001B[0m\u001B[1;33m\u001B[0m\u001B[1;33m\u001B[0m\u001B[0m\n\u001B[0;32m    600\u001B[0m                 raise ValueError(\"Complex data not supported\\n\"\n",
      "\u001B[1;32mC:\\Users\\deela\\anaconda3\\envs\\Main\\lib\\site-packages\\numpy\\core\\_asarray.py\u001B[0m in \u001B[0;36masarray\u001B[1;34m(a, dtype, order)\u001B[0m\n\u001B[0;32m     81\u001B[0m \u001B[1;33m\u001B[0m\u001B[0m\n\u001B[0;32m     82\u001B[0m     \"\"\"\n\u001B[1;32m---> 83\u001B[1;33m     \u001B[1;32mreturn\u001B[0m \u001B[0marray\u001B[0m\u001B[1;33m(\u001B[0m\u001B[0ma\u001B[0m\u001B[1;33m,\u001B[0m \u001B[0mdtype\u001B[0m\u001B[1;33m,\u001B[0m \u001B[0mcopy\u001B[0m\u001B[1;33m=\u001B[0m\u001B[1;32mFalse\u001B[0m\u001B[1;33m,\u001B[0m \u001B[0morder\u001B[0m\u001B[1;33m=\u001B[0m\u001B[0morder\u001B[0m\u001B[1;33m)\u001B[0m\u001B[1;33m\u001B[0m\u001B[1;33m\u001B[0m\u001B[0m\n\u001B[0m\u001B[0;32m     84\u001B[0m \u001B[1;33m\u001B[0m\u001B[0m\n\u001B[0;32m     85\u001B[0m \u001B[1;33m\u001B[0m\u001B[0m\n",
      "\u001B[1;32mC:\\Users\\deela\\anaconda3\\envs\\Main\\lib\\site-packages\\pandas\\core\\generic.py\u001B[0m in \u001B[0;36m__array__\u001B[1;34m(self, dtype)\u001B[0m\n\u001B[0;32m   1779\u001B[0m \u001B[1;33m\u001B[0m\u001B[0m\n\u001B[0;32m   1780\u001B[0m     \u001B[1;32mdef\u001B[0m \u001B[0m__array__\u001B[0m\u001B[1;33m(\u001B[0m\u001B[0mself\u001B[0m\u001B[1;33m,\u001B[0m \u001B[0mdtype\u001B[0m\u001B[1;33m=\u001B[0m\u001B[1;32mNone\u001B[0m\u001B[1;33m)\u001B[0m \u001B[1;33m->\u001B[0m \u001B[0mnp\u001B[0m\u001B[1;33m.\u001B[0m\u001B[0mndarray\u001B[0m\u001B[1;33m:\u001B[0m\u001B[1;33m\u001B[0m\u001B[1;33m\u001B[0m\u001B[0m\n\u001B[1;32m-> 1781\u001B[1;33m         \u001B[1;32mreturn\u001B[0m \u001B[0mnp\u001B[0m\u001B[1;33m.\u001B[0m\u001B[0masarray\u001B[0m\u001B[1;33m(\u001B[0m\u001B[0mself\u001B[0m\u001B[1;33m.\u001B[0m\u001B[0m_values\u001B[0m\u001B[1;33m,\u001B[0m \u001B[0mdtype\u001B[0m\u001B[1;33m=\u001B[0m\u001B[0mdtype\u001B[0m\u001B[1;33m)\u001B[0m\u001B[1;33m\u001B[0m\u001B[1;33m\u001B[0m\u001B[0m\n\u001B[0m\u001B[0;32m   1782\u001B[0m \u001B[1;33m\u001B[0m\u001B[0m\n\u001B[0;32m   1783\u001B[0m     \u001B[1;32mdef\u001B[0m \u001B[0m__array_wrap__\u001B[0m\u001B[1;33m(\u001B[0m\u001B[0mself\u001B[0m\u001B[1;33m,\u001B[0m \u001B[0mresult\u001B[0m\u001B[1;33m,\u001B[0m \u001B[0mcontext\u001B[0m\u001B[1;33m=\u001B[0m\u001B[1;32mNone\u001B[0m\u001B[1;33m)\u001B[0m\u001B[1;33m:\u001B[0m\u001B[1;33m\u001B[0m\u001B[1;33m\u001B[0m\u001B[0m\n",
      "\u001B[1;32mC:\\Users\\deela\\anaconda3\\envs\\Main\\lib\\site-packages\\numpy\\core\\_asarray.py\u001B[0m in \u001B[0;36masarray\u001B[1;34m(a, dtype, order)\u001B[0m\n\u001B[0;32m     81\u001B[0m \u001B[1;33m\u001B[0m\u001B[0m\n\u001B[0;32m     82\u001B[0m     \"\"\"\n\u001B[1;32m---> 83\u001B[1;33m     \u001B[1;32mreturn\u001B[0m \u001B[0marray\u001B[0m\u001B[1;33m(\u001B[0m\u001B[0ma\u001B[0m\u001B[1;33m,\u001B[0m \u001B[0mdtype\u001B[0m\u001B[1;33m,\u001B[0m \u001B[0mcopy\u001B[0m\u001B[1;33m=\u001B[0m\u001B[1;32mFalse\u001B[0m\u001B[1;33m,\u001B[0m \u001B[0morder\u001B[0m\u001B[1;33m=\u001B[0m\u001B[0morder\u001B[0m\u001B[1;33m)\u001B[0m\u001B[1;33m\u001B[0m\u001B[1;33m\u001B[0m\u001B[0m\n\u001B[0m\u001B[0;32m     84\u001B[0m \u001B[1;33m\u001B[0m\u001B[0m\n\u001B[0;32m     85\u001B[0m \u001B[1;33m\u001B[0m\u001B[0m\n",
      "\u001B[1;31mValueError\u001B[0m: could not convert string to float: '2020-10-31'"
     ]
    }
   ],
   "source": [
    "\n",
    "fixed_params = {'bootstrap':  False,\n",
    "     'n_estimators': 80,\n",
    "     'max_features':  0.65,\n",
    "     'min_samples_leaf':10,\n",
    "     'min_samples_split': 3 }\n",
    "\n",
    "# declare the classifier\n",
    "mdl = RandomForestRegressor(bootstrap=fixed_params['bootstrap'],\n",
    "                                                  n_estimators=fixed_params['n_estimators'],\n",
    "                                                  max_features=fixed_params['max_features'],\n",
    "                                                  min_samples_leaf=fixed_params['min_samples_leaf'],\n",
    "                                                  min_samples_split=fixed_params['min_samples_split'])\n",
    "RMSE = []\n",
    "for sequence in range(2, (df.shape[0]//25)-2):\n",
    "        train = df.iloc[:sequence*25,:]\n",
    "        test = df.iloc[sequence*25:(sequence+1)*25,:]\n",
    "\n",
    "        X_train, X_test = train.drop(['formal_date','TotalInfected'], axis=1), test.drop(['formal_date','TotalInfected'], axis=1)\n",
    "        y_train, y_test = train['TotalInfected'].values, test['TotalInfected'].values\n",
    "\n",
    "        mdl.fit(X_train, y_train)\n",
    "        y_pred = mdl.predict(X_test)\n",
    "        error = sklearn.metrics.mean_squared_error(test['TotalInfected'].values, y_pred)\n",
    "        RMSE.append(error)\n",
    "print('Mean RMSE = %.5f' % np.mean(RMSE))\n",
    "\n",
    "\n",
    "# predict using the test dataset\n",
    "#final_predictions = mdl.predict(df.iloc[:25,:-1])\n"
   ],
   "metadata": {
    "collapsed": false,
    "pycharm": {
     "name": "#%%\n"
    }
   }
  },
  {
   "cell_type": "code",
   "execution_count": null,
   "outputs": [],
   "source": [],
   "metadata": {
    "collapsed": false,
    "pycharm": {
     "name": "#%%\n"
    }
   }
  }
 ],
 "metadata": {
  "kernelspec": {
   "display_name": "Python 3",
   "language": "python",
   "name": "python3"
  },
  "language_info": {
   "codemirror_mode": {
    "name": "ipython",
    "version": 2
   },
   "file_extension": ".py",
   "mimetype": "text/x-python",
   "name": "python",
   "nbconvert_exporter": "python",
   "pygments_lexer": "ipython2",
   "version": "2.7.6"
  }
 },
 "nbformat": 4,
 "nbformat_minor": 0
}