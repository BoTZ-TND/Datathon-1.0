{
 "cells": [
  {
   "cell_type": "markdown",
   "metadata": {
    "collapsed": true,
    "pycharm": {
     "name": "#%% md\n"
    }
   },
   "source": [
    "create .csv file to all district depndent features\n"
   ]
  },
  {
   "cell_type": "code",
   "execution_count": 1,
   "outputs": [],
   "source": [
    "import numpy as np\n",
    "import pandas as pd\n",
    "from datetime import datetime"
   ],
   "metadata": {
    "collapsed": false,
    "pycharm": {
     "name": "#%%\n"
    }
   }
  },
  {
   "cell_type": "code",
   "execution_count": 2,
   "outputs": [],
   "source": [
    "dist_gdp = pd.read_csv('../../../data/main_data/dist_gdp.csv')\n",
    "dist_hosp = pd.read_csv('../../../data/main_data/dist_hosp.csv')\n",
    "dist_human = pd.read_csv('../../../data/main_data/dist_human.csv')\n",
    "dist_bed = pd.read_csv('../../../data/main_data/Hospital Beds Detailed.csv')\n",
    "dist = pd.read_csv('../../../data/main_data/districts.csv')"
   ],
   "metadata": {
    "collapsed": false,
    "pycharm": {
     "name": "#%%\n"
    }
   }
  },
  {
   "cell_type": "code",
   "execution_count": 4,
   "outputs": [
    {
     "data": {
      "text/plain": "  District Number  Unnamed: 1  District  Unnamed: 3  GDP per capita ($)  \\\n0               1         NaN   Colombo         NaN             5743.47   \n1               2         NaN   Gampaha         NaN             5725.22   \n2               3         NaN  Kalutara         NaN             5725.22   \n3               4         NaN     Galle         NaN             3383.03   \n4               5         NaN    Matara         NaN             3383.03   \n\n   Ratio from National GDP  (taking 1 USD= 180LKR)  \n0                     1.40                     NaN  \n1                     1.40                     NaN  \n2                     1.40                     NaN  \n3                     0.82                     NaN  \n4                     0.82                     NaN  ",
      "text/html": "<div>\n<style scoped>\n    .dataframe tbody tr th:only-of-type {\n        vertical-align: middle;\n    }\n\n    .dataframe tbody tr th {\n        vertical-align: top;\n    }\n\n    .dataframe thead th {\n        text-align: right;\n    }\n</style>\n<table border=\"1\" class=\"dataframe\">\n  <thead>\n    <tr style=\"text-align: right;\">\n      <th></th>\n      <th>District Number</th>\n      <th>Unnamed: 1</th>\n      <th>District</th>\n      <th>Unnamed: 3</th>\n      <th>GDP per capita ($)</th>\n      <th>Ratio from National GDP</th>\n      <th>(taking 1 USD= 180LKR)</th>\n    </tr>\n  </thead>\n  <tbody>\n    <tr>\n      <th>0</th>\n      <td>1</td>\n      <td>NaN</td>\n      <td>Colombo</td>\n      <td>NaN</td>\n      <td>5743.47</td>\n      <td>1.40</td>\n      <td>NaN</td>\n    </tr>\n    <tr>\n      <th>1</th>\n      <td>2</td>\n      <td>NaN</td>\n      <td>Gampaha</td>\n      <td>NaN</td>\n      <td>5725.22</td>\n      <td>1.40</td>\n      <td>NaN</td>\n    </tr>\n    <tr>\n      <th>2</th>\n      <td>3</td>\n      <td>NaN</td>\n      <td>Kalutara</td>\n      <td>NaN</td>\n      <td>5725.22</td>\n      <td>1.40</td>\n      <td>NaN</td>\n    </tr>\n    <tr>\n      <th>3</th>\n      <td>4</td>\n      <td>NaN</td>\n      <td>Galle</td>\n      <td>NaN</td>\n      <td>3383.03</td>\n      <td>0.82</td>\n      <td>NaN</td>\n    </tr>\n    <tr>\n      <th>4</th>\n      <td>5</td>\n      <td>NaN</td>\n      <td>Matara</td>\n      <td>NaN</td>\n      <td>3383.03</td>\n      <td>0.82</td>\n      <td>NaN</td>\n    </tr>\n  </tbody>\n</table>\n</div>"
     },
     "execution_count": 4,
     "metadata": {},
     "output_type": "execute_result"
    },
    {
     "data": {
      "text/plain": "Index(['District Number', 'Unnamed: 1', 'District', 'Unnamed: 3',\n       'GDP per capita ($)', 'Ratio from National GDP',\n       '(taking 1 USD= 180LKR)'],\n      dtype='object')"
     },
     "execution_count": 4,
     "metadata": {},
     "output_type": "execute_result"
    }
   ],
   "source": [
    "dist_gdp.head()\n",
    "dist_gdp.columns"
   ],
   "metadata": {
    "collapsed": false,
    "pycharm": {
     "name": "#%%\n"
    }
   }
  },
  {
   "cell_type": "code",
   "execution_count": 5,
   "outputs": [],
   "source": [
    "district_df = pd.DataFrame()\n",
    "district_df['index'] = dist_gdp['District Number']\n",
    "district_df['gdp_per_capita'] = dist_gdp['GDP per capita ($)']\n"
   ],
   "metadata": {
    "collapsed": false,
    "pycharm": {
     "name": "#%%\n"
    }
   }
  },
  {
   "cell_type": "code",
   "execution_count": 6,
   "outputs": [
    {
     "data": {
      "text/plain": "   District Number  Unnamed: 1  District  Unnamed: 3  Hospital Inpatient Beds  \\\n0              1.0         NaN   Colombo         NaN                  13498.0   \n1              2.0         NaN   Gampaha         NaN                   5685.0   \n2              3.0         NaN  Kalutara         NaN                   2780.0   \n3              4.0         NaN     Galle         NaN                   4057.0   \n4              5.0         NaN    Matara         NaN                   2312.0   \n\n   Unnamed: 5  Population  Unnamed: 7  Hospital Beds per 1000  \n0         NaN   2448000.0         NaN                    5.51  \n1         NaN   2417000.0         NaN                    2.35  \n2         NaN   1284000.0         NaN                    2.17  \n3         NaN   1130000.0         NaN                    3.59  \n4         NaN    863000.0         NaN                    2.68  ",
      "text/html": "<div>\n<style scoped>\n    .dataframe tbody tr th:only-of-type {\n        vertical-align: middle;\n    }\n\n    .dataframe tbody tr th {\n        vertical-align: top;\n    }\n\n    .dataframe thead th {\n        text-align: right;\n    }\n</style>\n<table border=\"1\" class=\"dataframe\">\n  <thead>\n    <tr style=\"text-align: right;\">\n      <th></th>\n      <th>District Number</th>\n      <th>Unnamed: 1</th>\n      <th>District</th>\n      <th>Unnamed: 3</th>\n      <th>Hospital Inpatient Beds</th>\n      <th>Unnamed: 5</th>\n      <th>Population</th>\n      <th>Unnamed: 7</th>\n      <th>Hospital Beds per 1000</th>\n    </tr>\n  </thead>\n  <tbody>\n    <tr>\n      <th>0</th>\n      <td>1.0</td>\n      <td>NaN</td>\n      <td>Colombo</td>\n      <td>NaN</td>\n      <td>13498.0</td>\n      <td>NaN</td>\n      <td>2448000.0</td>\n      <td>NaN</td>\n      <td>5.51</td>\n    </tr>\n    <tr>\n      <th>1</th>\n      <td>2.0</td>\n      <td>NaN</td>\n      <td>Gampaha</td>\n      <td>NaN</td>\n      <td>5685.0</td>\n      <td>NaN</td>\n      <td>2417000.0</td>\n      <td>NaN</td>\n      <td>2.35</td>\n    </tr>\n    <tr>\n      <th>2</th>\n      <td>3.0</td>\n      <td>NaN</td>\n      <td>Kalutara</td>\n      <td>NaN</td>\n      <td>2780.0</td>\n      <td>NaN</td>\n      <td>1284000.0</td>\n      <td>NaN</td>\n      <td>2.17</td>\n    </tr>\n    <tr>\n      <th>3</th>\n      <td>4.0</td>\n      <td>NaN</td>\n      <td>Galle</td>\n      <td>NaN</td>\n      <td>4057.0</td>\n      <td>NaN</td>\n      <td>1130000.0</td>\n      <td>NaN</td>\n      <td>3.59</td>\n    </tr>\n    <tr>\n      <th>4</th>\n      <td>5.0</td>\n      <td>NaN</td>\n      <td>Matara</td>\n      <td>NaN</td>\n      <td>2312.0</td>\n      <td>NaN</td>\n      <td>863000.0</td>\n      <td>NaN</td>\n      <td>2.68</td>\n    </tr>\n  </tbody>\n</table>\n</div>"
     },
     "execution_count": 6,
     "metadata": {},
     "output_type": "execute_result"
    },
    {
     "data": {
      "text/plain": "Index(['District Number', 'Unnamed: 1', 'District', 'Unnamed: 3',\n       'Hospital Inpatient Beds', 'Unnamed: 5', 'Population', 'Unnamed: 7',\n       'Hospital Beds per 1000'],\n      dtype='object')"
     },
     "execution_count": 6,
     "metadata": {},
     "output_type": "execute_result"
    }
   ],
   "source": [
    "dist_hosp.head()\n",
    "dist_hosp.columns"
   ],
   "metadata": {
    "collapsed": false,
    "pycharm": {
     "name": "#%%\n"
    }
   }
  },
  {
   "cell_type": "code",
   "execution_count": 7,
   "outputs": [],
   "source": [
    "district_df['hospital_beds_per_thousand'] = dist_hosp['Hospital Beds per 1000']"
   ],
   "metadata": {
    "collapsed": false,
    "pycharm": {
     "name": "#%%\n"
    }
   }
  },
  {
   "cell_type": "code",
   "execution_count": 8,
   "outputs": [
    {
     "data": {
      "text/plain": "  District Number  Unnamed: 1  District  Unnamed: 3      TH  PGH     DGH  \\\n0               1         NaN   Colombo         NaN  7657.0  NaN     NaN   \n1               2         NaN   Gampaha         NaN  1477.0  NaN  1360.0   \n2               3         NaN  Kalutara         NaN     NaN  NaN   865.0   \n3               4         NaN     Galle         NaN  2188.0  NaN     NaN   \n4               5         NaN    Matara         NaN     NaN  NaN  1166.0   \n\n     BH-A   BH-B   DH-A   DH-B   DH-C  PMCU  Other Hospitals  \\\n0  1226.0  272.0   87.0  353.0   52.0  60.0           3791.0   \n1   615.0  279.0  578.0   66.0  182.0   NaN           1128.0   \n2   966.0  179.0  174.0  433.0  163.0   NaN              NaN   \n3   828.0  115.0  190.0  430.0  288.0  10.0              8.0   \n4     NaN  386.0  177.0  466.0  117.0   NaN              NaN   \n\n   Total Inpatient Beds  Inpatient Beds per 1000 Population for 2017  \\\n0               13498.0                                          5.6   \n1                5685.0                                          2.4   \n2                2780.0                                          2.2   \n3                4057.0                                          3.6   \n4                2312.0                                          2.7   \n\n   Hospital Beds per 1000 for 2019 population  \n0                                        5.51  \n1                                        2.35  \n2                                        2.17  \n3                                        3.59  \n4                                        2.68  ",
      "text/html": "<div>\n<style scoped>\n    .dataframe tbody tr th:only-of-type {\n        vertical-align: middle;\n    }\n\n    .dataframe tbody tr th {\n        vertical-align: top;\n    }\n\n    .dataframe thead th {\n        text-align: right;\n    }\n</style>\n<table border=\"1\" class=\"dataframe\">\n  <thead>\n    <tr style=\"text-align: right;\">\n      <th></th>\n      <th>District Number</th>\n      <th>Unnamed: 1</th>\n      <th>District</th>\n      <th>Unnamed: 3</th>\n      <th>TH</th>\n      <th>PGH</th>\n      <th>DGH</th>\n      <th>BH-A</th>\n      <th>BH-B</th>\n      <th>DH-A</th>\n      <th>DH-B</th>\n      <th>DH-C</th>\n      <th>PMCU</th>\n      <th>Other Hospitals</th>\n      <th>Total Inpatient Beds</th>\n      <th>Inpatient Beds per 1000 Population for 2017</th>\n      <th>Hospital Beds per 1000 for 2019 population</th>\n    </tr>\n  </thead>\n  <tbody>\n    <tr>\n      <th>0</th>\n      <td>1</td>\n      <td>NaN</td>\n      <td>Colombo</td>\n      <td>NaN</td>\n      <td>7657.0</td>\n      <td>NaN</td>\n      <td>NaN</td>\n      <td>1226.0</td>\n      <td>272.0</td>\n      <td>87.0</td>\n      <td>353.0</td>\n      <td>52.0</td>\n      <td>60.0</td>\n      <td>3791.0</td>\n      <td>13498.0</td>\n      <td>5.6</td>\n      <td>5.51</td>\n    </tr>\n    <tr>\n      <th>1</th>\n      <td>2</td>\n      <td>NaN</td>\n      <td>Gampaha</td>\n      <td>NaN</td>\n      <td>1477.0</td>\n      <td>NaN</td>\n      <td>1360.0</td>\n      <td>615.0</td>\n      <td>279.0</td>\n      <td>578.0</td>\n      <td>66.0</td>\n      <td>182.0</td>\n      <td>NaN</td>\n      <td>1128.0</td>\n      <td>5685.0</td>\n      <td>2.4</td>\n      <td>2.35</td>\n    </tr>\n    <tr>\n      <th>2</th>\n      <td>3</td>\n      <td>NaN</td>\n      <td>Kalutara</td>\n      <td>NaN</td>\n      <td>NaN</td>\n      <td>NaN</td>\n      <td>865.0</td>\n      <td>966.0</td>\n      <td>179.0</td>\n      <td>174.0</td>\n      <td>433.0</td>\n      <td>163.0</td>\n      <td>NaN</td>\n      <td>NaN</td>\n      <td>2780.0</td>\n      <td>2.2</td>\n      <td>2.17</td>\n    </tr>\n    <tr>\n      <th>3</th>\n      <td>4</td>\n      <td>NaN</td>\n      <td>Galle</td>\n      <td>NaN</td>\n      <td>2188.0</td>\n      <td>NaN</td>\n      <td>NaN</td>\n      <td>828.0</td>\n      <td>115.0</td>\n      <td>190.0</td>\n      <td>430.0</td>\n      <td>288.0</td>\n      <td>10.0</td>\n      <td>8.0</td>\n      <td>4057.0</td>\n      <td>3.6</td>\n      <td>3.59</td>\n    </tr>\n    <tr>\n      <th>4</th>\n      <td>5</td>\n      <td>NaN</td>\n      <td>Matara</td>\n      <td>NaN</td>\n      <td>NaN</td>\n      <td>NaN</td>\n      <td>1166.0</td>\n      <td>NaN</td>\n      <td>386.0</td>\n      <td>177.0</td>\n      <td>466.0</td>\n      <td>117.0</td>\n      <td>NaN</td>\n      <td>NaN</td>\n      <td>2312.0</td>\n      <td>2.7</td>\n      <td>2.68</td>\n    </tr>\n  </tbody>\n</table>\n</div>"
     },
     "execution_count": 8,
     "metadata": {},
     "output_type": "execute_result"
    },
    {
     "data": {
      "text/plain": "Index(['District Number', 'Unnamed: 1', 'District', 'Unnamed: 3', 'TH', 'PGH',\n       'DGH', 'BH-A', 'BH-B', 'DH-A', 'DH-B', 'DH-C', 'PMCU',\n       'Other Hospitals', 'Total Inpatient Beds',\n       'Inpatient Beds per 1000 Population for 2017',\n       'Hospital Beds per 1000 for 2019 population'],\n      dtype='object')"
     },
     "execution_count": 8,
     "metadata": {},
     "output_type": "execute_result"
    }
   ],
   "source": [
    "dist_bed.head()\n",
    "dist_bed.columns"
   ],
   "metadata": {
    "collapsed": false,
    "pycharm": {
     "name": "#%%\n"
    }
   }
  },
  {
   "cell_type": "code",
   "execution_count": 9,
   "outputs": [
    {
     "data": {
      "text/plain": "  District Number  Unnamed: 1  District  Unnamed: 3    HDI  Unnamed: 5   HHI  \\\n0               1         NaN   Colombo         NaN  0.710         NaN  0.75   \n1               2         NaN   Gampaha         NaN  0.752         NaN  0.90   \n2               3         NaN  Kalutara         NaN  0.733         NaN  0.91   \n3               4         NaN     Galle         NaN  0.688         NaN  0.85   \n4               5         NaN    Matara         NaN  0.690         NaN  0.93   \n\n   Unnamed: 7  Life Expectancy(Male) in years  \n0         NaN                            73.0  \n1         NaN                            73.2  \n2         NaN                            73.2  \n3         NaN                            73.1  \n4         NaN                            73.9  ",
      "text/html": "<div>\n<style scoped>\n    .dataframe tbody tr th:only-of-type {\n        vertical-align: middle;\n    }\n\n    .dataframe tbody tr th {\n        vertical-align: top;\n    }\n\n    .dataframe thead th {\n        text-align: right;\n    }\n</style>\n<table border=\"1\" class=\"dataframe\">\n  <thead>\n    <tr style=\"text-align: right;\">\n      <th></th>\n      <th>District Number</th>\n      <th>Unnamed: 1</th>\n      <th>District</th>\n      <th>Unnamed: 3</th>\n      <th>HDI</th>\n      <th>Unnamed: 5</th>\n      <th>HHI</th>\n      <th>Unnamed: 7</th>\n      <th>Life Expectancy(Male) in years</th>\n    </tr>\n  </thead>\n  <tbody>\n    <tr>\n      <th>0</th>\n      <td>1</td>\n      <td>NaN</td>\n      <td>Colombo</td>\n      <td>NaN</td>\n      <td>0.710</td>\n      <td>NaN</td>\n      <td>0.75</td>\n      <td>NaN</td>\n      <td>73.0</td>\n    </tr>\n    <tr>\n      <th>1</th>\n      <td>2</td>\n      <td>NaN</td>\n      <td>Gampaha</td>\n      <td>NaN</td>\n      <td>0.752</td>\n      <td>NaN</td>\n      <td>0.90</td>\n      <td>NaN</td>\n      <td>73.2</td>\n    </tr>\n    <tr>\n      <th>2</th>\n      <td>3</td>\n      <td>NaN</td>\n      <td>Kalutara</td>\n      <td>NaN</td>\n      <td>0.733</td>\n      <td>NaN</td>\n      <td>0.91</td>\n      <td>NaN</td>\n      <td>73.2</td>\n    </tr>\n    <tr>\n      <th>3</th>\n      <td>4</td>\n      <td>NaN</td>\n      <td>Galle</td>\n      <td>NaN</td>\n      <td>0.688</td>\n      <td>NaN</td>\n      <td>0.85</td>\n      <td>NaN</td>\n      <td>73.1</td>\n    </tr>\n    <tr>\n      <th>4</th>\n      <td>5</td>\n      <td>NaN</td>\n      <td>Matara</td>\n      <td>NaN</td>\n      <td>0.690</td>\n      <td>NaN</td>\n      <td>0.93</td>\n      <td>NaN</td>\n      <td>73.9</td>\n    </tr>\n  </tbody>\n</table>\n</div>"
     },
     "execution_count": 9,
     "metadata": {},
     "output_type": "execute_result"
    },
    {
     "data": {
      "text/plain": "Index(['District Number', 'Unnamed: 1', 'District', 'Unnamed: 3', 'HDI',\n       'Unnamed: 5', 'HHI', 'Unnamed: 7', 'Life Expectancy(Male) in years'],\n      dtype='object')"
     },
     "execution_count": 9,
     "metadata": {},
     "output_type": "execute_result"
    }
   ],
   "source": [
    "dist_human.head()\n",
    "dist_human.columns"
   ],
   "metadata": {
    "collapsed": false,
    "pycharm": {
     "name": "#%%\n"
    }
   }
  },
  {
   "cell_type": "code",
   "execution_count": 10,
   "outputs": [],
   "source": [
    "district_df['human_development_index'] = dist_human['HDI']\n",
    "district_df['life_expectancy'] = dist_human['Life Expectancy(Male) in years']"
   ],
   "metadata": {
    "collapsed": false,
    "pycharm": {
     "name": "#%%\n"
    }
   }
  },
  {
   "cell_type": "code",
   "execution_count": 11,
   "outputs": [
    {
     "data": {
      "text/plain": "  ProvinceNumber          Province Provincial Population  District Number  \\\n0              1  Western Province             6,149,000              1.0   \n1            NaN               NaN                   NaN              NaN   \n2            NaN               NaN                   NaN              NaN   \n3            NaN               NaN                   NaN              NaN   \n4            NaN               NaN                   NaN              NaN   \n\n           District  Elevation(m)  Neighbour district numbers  \\\n0  Colombo District           5.0                         2.0   \n1               NaN           NaN                         3.0   \n2               NaN           NaN                         7.0   \n3               NaN           NaN                         8.0   \n4               NaN           NaN                         NaN   \n\n  Neighbour District Names District Population Population density /km2  \\\n0                  Gampaha           2,448,000                   3,502   \n1                 Kalutara                 NaN                     NaN   \n2                Ratnapura                 NaN                     NaN   \n3                  Kegalle                 NaN                     NaN   \n4                      NaN                 NaN                     NaN   \n\n   No. of Police Stations     OIC division  Division Population  Unnamed: 13  \\\n0                    48.0  Colombo Central                  NaN          1.0   \n1                     NaN              NaN                  NaN          2.0   \n2                     NaN              NaN                  NaN          3.0   \n3                     NaN              NaN                  NaN          4.0   \n4                     NaN              NaN                  NaN          5.0   \n\n  Police station  Population  \n0         Pettah         NaN  \n1     Keselwatta         NaN  \n2     Dam Street         NaN  \n3     Woulfendal         NaN  \n4           Fort         NaN  ",
      "text/html": "<div>\n<style scoped>\n    .dataframe tbody tr th:only-of-type {\n        vertical-align: middle;\n    }\n\n    .dataframe tbody tr th {\n        vertical-align: top;\n    }\n\n    .dataframe thead th {\n        text-align: right;\n    }\n</style>\n<table border=\"1\" class=\"dataframe\">\n  <thead>\n    <tr style=\"text-align: right;\">\n      <th></th>\n      <th>ProvinceNumber</th>\n      <th>Province</th>\n      <th>Provincial Population</th>\n      <th>District Number</th>\n      <th>District</th>\n      <th>Elevation(m)</th>\n      <th>Neighbour district numbers</th>\n      <th>Neighbour District Names</th>\n      <th>District Population</th>\n      <th>Population density /km2</th>\n      <th>No. of Police Stations</th>\n      <th>OIC division</th>\n      <th>Division Population</th>\n      <th>Unnamed: 13</th>\n      <th>Police station</th>\n      <th>Population</th>\n    </tr>\n  </thead>\n  <tbody>\n    <tr>\n      <th>0</th>\n      <td>1</td>\n      <td>Western Province</td>\n      <td>6,149,000</td>\n      <td>1.0</td>\n      <td>Colombo District</td>\n      <td>5.0</td>\n      <td>2.0</td>\n      <td>Gampaha</td>\n      <td>2,448,000</td>\n      <td>3,502</td>\n      <td>48.0</td>\n      <td>Colombo Central</td>\n      <td>NaN</td>\n      <td>1.0</td>\n      <td>Pettah</td>\n      <td>NaN</td>\n    </tr>\n    <tr>\n      <th>1</th>\n      <td>NaN</td>\n      <td>NaN</td>\n      <td>NaN</td>\n      <td>NaN</td>\n      <td>NaN</td>\n      <td>NaN</td>\n      <td>3.0</td>\n      <td>Kalutara</td>\n      <td>NaN</td>\n      <td>NaN</td>\n      <td>NaN</td>\n      <td>NaN</td>\n      <td>NaN</td>\n      <td>2.0</td>\n      <td>Keselwatta</td>\n      <td>NaN</td>\n    </tr>\n    <tr>\n      <th>2</th>\n      <td>NaN</td>\n      <td>NaN</td>\n      <td>NaN</td>\n      <td>NaN</td>\n      <td>NaN</td>\n      <td>NaN</td>\n      <td>7.0</td>\n      <td>Ratnapura</td>\n      <td>NaN</td>\n      <td>NaN</td>\n      <td>NaN</td>\n      <td>NaN</td>\n      <td>NaN</td>\n      <td>3.0</td>\n      <td>Dam Street</td>\n      <td>NaN</td>\n    </tr>\n    <tr>\n      <th>3</th>\n      <td>NaN</td>\n      <td>NaN</td>\n      <td>NaN</td>\n      <td>NaN</td>\n      <td>NaN</td>\n      <td>NaN</td>\n      <td>8.0</td>\n      <td>Kegalle</td>\n      <td>NaN</td>\n      <td>NaN</td>\n      <td>NaN</td>\n      <td>NaN</td>\n      <td>NaN</td>\n      <td>4.0</td>\n      <td>Woulfendal</td>\n      <td>NaN</td>\n    </tr>\n    <tr>\n      <th>4</th>\n      <td>NaN</td>\n      <td>NaN</td>\n      <td>NaN</td>\n      <td>NaN</td>\n      <td>NaN</td>\n      <td>NaN</td>\n      <td>NaN</td>\n      <td>NaN</td>\n      <td>NaN</td>\n      <td>NaN</td>\n      <td>NaN</td>\n      <td>NaN</td>\n      <td>NaN</td>\n      <td>5.0</td>\n      <td>Fort</td>\n      <td>NaN</td>\n    </tr>\n  </tbody>\n</table>\n</div>"
     },
     "execution_count": 11,
     "metadata": {},
     "output_type": "execute_result"
    }
   ],
   "source": [
    "dist.head()"
   ],
   "metadata": {
    "collapsed": false,
    "pycharm": {
     "name": "#%%\n"
    }
   }
  },
  {
   "cell_type": "code",
   "execution_count": 13,
   "outputs": [],
   "source": [
    "district_df['population'] = dist['District Population'].dropna(axis=0)\n",
    "district_df['population_density'] = dist['Population density /km2'].dropna(axis=0)"
   ],
   "metadata": {
    "collapsed": false,
    "pycharm": {
     "name": "#%%\n"
    }
   }
  },
  {
   "cell_type": "code",
   "execution_count": 15,
   "outputs": [
    {
     "data": {
      "text/plain": "   index  gdp_per_capita  hospital_beds_per_thousand  human_development_index  \\\n20    21         3285.16                        4.60                    0.625   \n21    22         3285.16                        4.08                    0.625   \n22    23         3285.16                        3.82                    0.625   \n23    24         3285.16                        5.61                    0.625   \n24    25         3285.16                        4.74                    0.625   \n\n    life_expectancy population population_density  \n20             69.8        NaN                NaN  \n21             67.8        NaN                NaN  \n22             64.5        NaN                NaN  \n23             70.0        NaN                NaN  \n24             60.9        NaN                NaN  ",
      "text/html": "<div>\n<style scoped>\n    .dataframe tbody tr th:only-of-type {\n        vertical-align: middle;\n    }\n\n    .dataframe tbody tr th {\n        vertical-align: top;\n    }\n\n    .dataframe thead th {\n        text-align: right;\n    }\n</style>\n<table border=\"1\" class=\"dataframe\">\n  <thead>\n    <tr style=\"text-align: right;\">\n      <th></th>\n      <th>index</th>\n      <th>gdp_per_capita</th>\n      <th>hospital_beds_per_thousand</th>\n      <th>human_development_index</th>\n      <th>life_expectancy</th>\n      <th>population</th>\n      <th>population_density</th>\n    </tr>\n  </thead>\n  <tbody>\n    <tr>\n      <th>20</th>\n      <td>21</td>\n      <td>3285.16</td>\n      <td>4.60</td>\n      <td>0.625</td>\n      <td>69.8</td>\n      <td>NaN</td>\n      <td>NaN</td>\n    </tr>\n    <tr>\n      <th>21</th>\n      <td>22</td>\n      <td>3285.16</td>\n      <td>4.08</td>\n      <td>0.625</td>\n      <td>67.8</td>\n      <td>NaN</td>\n      <td>NaN</td>\n    </tr>\n    <tr>\n      <th>22</th>\n      <td>23</td>\n      <td>3285.16</td>\n      <td>3.82</td>\n      <td>0.625</td>\n      <td>64.5</td>\n      <td>NaN</td>\n      <td>NaN</td>\n    </tr>\n    <tr>\n      <th>23</th>\n      <td>24</td>\n      <td>3285.16</td>\n      <td>5.61</td>\n      <td>0.625</td>\n      <td>70.0</td>\n      <td>NaN</td>\n      <td>NaN</td>\n    </tr>\n    <tr>\n      <th>24</th>\n      <td>25</td>\n      <td>3285.16</td>\n      <td>4.74</td>\n      <td>0.625</td>\n      <td>60.9</td>\n      <td>NaN</td>\n      <td>NaN</td>\n    </tr>\n  </tbody>\n</table>\n</div>"
     },
     "execution_count": 15,
     "metadata": {},
     "output_type": "execute_result"
    }
   ],
   "source": [
    "district_df = district_df.iloc[:25,:]\n",
    "district_df.tail()"
   ],
   "metadata": {
    "collapsed": false,
    "pycharm": {
     "name": "#%%\n"
    }
   }
  },
  {
   "cell_type": "code",
   "execution_count": 16,
   "outputs": [],
   "source": [
    "district_df.to_csv('../../../data/geo_mode_data/test.csv')"
   ],
   "metadata": {
    "collapsed": false,
    "pycharm": {
     "name": "#%%\n"
    }
   }
  },
  {
   "cell_type": "code",
   "execution_count": null,
   "outputs": [],
   "source": [],
   "metadata": {
    "collapsed": false,
    "pycharm": {
     "name": "#%%\n"
    }
   }
  }
 ],
 "metadata": {
  "kernelspec": {
   "display_name": "Python 3",
   "language": "python",
   "name": "python3"
  },
  "language_info": {
   "codemirror_mode": {
    "name": "ipython",
    "version": 2
   },
   "file_extension": ".py",
   "mimetype": "text/x-python",
   "name": "python",
   "nbconvert_exporter": "python",
   "pygments_lexer": "ipython2",
   "version": "2.7.6"
  }
 },
 "nbformat": 4,
 "nbformat_minor": 0
}