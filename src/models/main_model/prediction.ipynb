{
 "metadata": {
  "language_info": {
   "codemirror_mode": {
    "name": "ipython",
    "version": 3
   },
   "file_extension": ".py",
   "mimetype": "text/x-python",
   "name": "python",
   "nbconvert_exporter": "python",
   "pygments_lexer": "ipython3",
   "version": "3.7.7-final"
  },
  "orig_nbformat": 2,
  "kernelspec": {
   "name": "python3",
   "display_name": "Python 3",
   "language": "python"
  }
 },
 "nbformat": 4,
 "nbformat_minor": 2,
 "cells": [
  {
   "source": [
    "## Generate predictions under :\n",
    " - district\n",
    " - province\n",
    " - age group\n",
    " - profession\n",
    " "
   ],
   "cell_type": "markdown",
   "metadata": {}
  },
  {
   "cell_type": "code",
   "execution_count": 29,
   "metadata": {},
   "outputs": [],
   "source": [
    "import numpy as np \n",
    "import pandas as pd \n",
    "import sklearn\n",
    "import pickle"
   ]
  },
  {
   "source": [
    "_general test data pre-processing_"
   ],
   "cell_type": "markdown",
   "metadata": {}
  },
  {
   "cell_type": "code",
   "execution_count": 30,
   "metadata": {},
   "outputs": [],
   "source": [
    "minmax_scaler = pickle.load(open('../../../data/models/minMax_lsmt_1.pkl', 'rb'))"
   ]
  },
  {
   "cell_type": "code",
   "execution_count": 31,
   "metadata": {},
   "outputs": [],
   "source": [
    "test_df = pd.read_csv('../../../data/main_data/final_test.csv')\n",
    "test_df.sort_values(by=['index','formal_date'], inplace=True)\n",
    "uniq_dist = test_df['index'].unique().tolist()\n",
    "num_dists = len(uniq_dist)\n"
   ]
  },
  {
   "cell_type": "code",
   "execution_count": 32,
   "metadata": {},
   "outputs": [],
   "source": [
    "dist_df_list = []\n",
    "for i in uniq_dist:\n",
    "    sub_df = test_df.loc[test_df['index'] == i, :]\n",
    "    dist_df_list.append(sub_df)"
   ]
  },
  {
   "cell_type": "code",
   "execution_count": 33,
   "metadata": {},
   "outputs": [],
   "source": [
    "def series_to_supervised(data, n_in=1, n_out=1, dropnan=True):\n",
    "\tn_vars = 1 if type(data) is list else data.shape[1]\n",
    "\tdf = pd.DataFrame(data)\n",
    "\tcols, names = list(), list()\n",
    "\t# input sequence (t-n, ... t-1)\n",
    "\tfor i in range(n_in, 0, -1):\n",
    "\t\tcols.append(df.shift(i))\n",
    "\t\tnames += [('var%d(t-%d)' % (j+1, i)) for j in range(n_vars)]\n",
    "\t# forecast sequence (t, t+1, ... t+n)\n",
    "\tfor i in range(0, n_out):\n",
    "\t\tcols.append(df.shift(-i))\n",
    "\t\tif i == 0:\n",
    "\t\t\tnames += [('var%d(t)' % (j+1)) for j in range(n_vars)]\n",
    "\t\telse:\n",
    "\t\t\tnames += [('var%d(t+%d)' % (j+1, i)) for j in range(n_vars)]\n",
    "\t# put it all together\n",
    "\tagg = pd.concat(cols, axis=1)\n",
    "\tagg.columns = names\n",
    "\t# drop rows with NaN values\n",
    "\tif dropnan:\n",
    "\t\tagg.dropna(inplace=True)\n",
    "\treturn agg"
   ]
  },
  {
   "cell_type": "code",
   "execution_count": 34,
   "metadata": {},
   "outputs": [],
   "source": [
    "def preProcess(df):\n",
    "    df.drop('formal_date', axis=1, inplace=True)\n",
    "    df_value = df.values\n",
    "    df_value.astype('float32')\n",
    "    scaled_df = minmax_scaler.transform(df_value)\n",
    "    reframed_df = series_to_supervised(scaled_df, 1, 1)\n",
    "    reframed_df = reframed_df.values\n",
    "    test_X, test_y = reframed_df[:, :-1], reframed_df[:, -1]\n",
    "    test_X = test_X.reshape((test_X.shape[0], 1, test_X.shape[1]))\n",
    "    return test_X\n",
    "\n"
   ]
  },
  {
   "cell_type": "code",
   "execution_count": 35,
   "metadata": {},
   "outputs": [],
   "source": [
    "pre_processed_data = []\n",
    "for t_df in dist_df_list:\n",
    "    pre_processed_data.append(preProcess(t_df))"
   ]
  },
  {
   "source": [
    "Predicting"
   ],
   "cell_type": "markdown",
   "metadata": {}
  },
  {
   "cell_type": "code",
   "execution_count": 36,
   "metadata": {},
   "outputs": [],
   "source": [
    "from tensorflow.keras.models import load_model\n",
    "model = load_model('../../../data/models/LSTM_1.h5')"
   ]
  },
  {
   "cell_type": "code",
   "execution_count": 38,
   "metadata": {},
   "outputs": [],
   "source": [
    "yhat_list = []\n",
    "for dat in pre_processed_data:\n",
    "    yhat = model.predict(dat)\n",
    "    yhat_list.append(yhat)"
   ]
  },
  {
   "cell_type": "code",
   "execution_count": 50,
   "metadata": {},
   "outputs": [],
   "source": [
    "def inversePreProcess(df, test_x):\n",
    "    test_X = test_x.reshape((test_x.shape[0], test_x.shape[2]))\n",
    "    inv_yhat = np.concatenate((test_X[:, :14], yhat), axis=1)\n",
    "    inv_yhat = minmax_scaler.inverse_transform(inv_yhat)\n",
    "    inv_yhat = inv_yhat[:,-1]\n",
    "    return inv_yhat\n"
   ]
  },
  {
   "cell_type": "code",
   "execution_count": 51,
   "metadata": {},
   "outputs": [],
   "source": [
    "res_list = []\n",
    "for i in range(0,len(yhat_list)):\n",
    "    res_list.append(inversePreProcess(yhat_list[i], pre_processed_data[i]))\n"
   ]
  },
  {
   "cell_type": "code",
   "execution_count": 56,
   "metadata": {},
   "outputs": [
    {
     "output_type": "execute_result",
     "data": {
      "text/plain": [
       "[0.036300468457582905,\n",
       " 0.036300468457582905,\n",
       " 0.036300468457582905,\n",
       " 0.036300468457582905,\n",
       " 0.036300468457582905,\n",
       " 0.036300468457582905,\n",
       " 0.036300468457582905,\n",
       " 0.036300468457582905,\n",
       " 0.036300468457582905,\n",
       " 0.036300468457582905,\n",
       " 0.036300468457582905,\n",
       " 0.036300468457582905,\n",
       " 0.036300468457582905,\n",
       " 0.036300468457582905,\n",
       " 0.036300468457582905,\n",
       " 0.036300468457582905,\n",
       " 0.036300468457582905,\n",
       " 0.036300468457582905,\n",
       " 0.036300468457582905,\n",
       " 0.036300468457582905,\n",
       " 0.036300468457582905,\n",
       " 0.036300468457582905,\n",
       " 0.036300468457582905,\n",
       " 0.036300468457582905,\n",
       " 0.036300468457582905]"
      ]
     },
     "metadata": {},
     "execution_count": 56
    }
   ],
   "source": [
    "dist_result = [j[-1] for j in res_list]\n",
    "dist_result"
   ]
  },
  {
   "cell_type": "code",
   "execution_count": null,
   "metadata": {},
   "outputs": [],
   "source": [
    "w"
   ]
  }
 ]
}